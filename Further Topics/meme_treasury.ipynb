{
 "cells": [
  {
   "cell_type": "markdown",
   "metadata": {
    "Collapsed": "false"
   },
   "source": [
    "# Debugging"
   ]
  },
  {
   "cell_type": "markdown",
   "metadata": {
    "Collapsed": "false"
   },
   "source": [
    "<img src=\"https://i.redd.it/ytitd72wz2b11.jpg\" width=\"400\">"
   ]
  },
  {
   "cell_type": "code",
   "execution_count": null,
   "metadata": {
    "Collapsed": "false"
   },
   "outputs": [],
   "source": []
  },
  {
   "cell_type": "markdown",
   "metadata": {
    "Collapsed": "false"
   },
   "source": [
    "# Commenting your code is important\n",
    "\n",
    "<img src=\"https://preview.redd.it/a5skfy5y88x11.jpg?width=640&crop=smart&auto=webp&s=edee581af2812ad4f4469d13e79e38d9b2dd3f06\" width=300>"
   ]
  },
  {
   "cell_type": "code",
   "execution_count": null,
   "metadata": {
    "Collapsed": "false"
   },
   "outputs": [],
   "source": []
  },
  {
   "cell_type": "markdown",
   "metadata": {
    "Collapsed": "false"
   },
   "source": [
    "Why this is needed\n",
    "\n",
    "<img src=\"https://external-preview.redd.it/2htFTGm3vrPB41z1b_jHeZ122-lGhMK6aKphMGwShXA.jpg?width=640&crop=smart&auto=webp&s=1b05de40142c59d22e42463b1804e187e550f46a\" width=\"400\">"
   ]
  },
  {
   "cell_type": "code",
   "execution_count": null,
   "metadata": {
    "Collapsed": "false"
   },
   "outputs": [],
   "source": []
  },
  {
   "cell_type": "markdown",
   "metadata": {
    "Collapsed": "false"
   },
   "source": [
    "why git is important\n",
    "\n",
    "<img src=\"https://external-preview.redd.it/u1_S5Vu4FztMR72c9pfl086wbmdlZYVjK77i1IEvTjg.jpg?width=640&crop=smart&auto=webp&s=310af21a5b237f4b53a982afc2077fcdb4b1839c\" width=\"400\">"
   ]
  },
  {
   "cell_type": "code",
   "execution_count": null,
   "metadata": {
    "Collapsed": "false"
   },
   "outputs": [],
   "source": []
  },
  {
   "cell_type": "markdown",
   "metadata": {
    "Collapsed": "false"
   },
   "source": [
    "Why containers are important\n",
    "\n",
    "<img src=\"https://i.redd.it/ygjaybp2l5c21.jpg\">"
   ]
  },
  {
   "cell_type": "markdown",
   "metadata": {
    "Collapsed": "false"
   },
   "source": [
    "<img src=\"https://preview.redd.it/rkczpah5u2c41.jpg?width=640&crop=smart&auto=webp&s=0d8f791f7e40f34e5e03f1c6302a0efe584988e7\" width=400 />"
   ]
  },
  {
   "cell_type": "markdown",
   "metadata": {
    "Collapsed": "false"
   },
   "source": [
    "<img src=\"https://preview.redd.it/e8k3k4u0nqv41.png?width=640&crop=smart&auto=webp&s=f317522dedcf1023458447633f51b3394add283c\" width=400 />"
   ]
  },
  {
   "cell_type": "markdown",
   "metadata": {
    "Collapsed": "false"
   },
   "source": [
    "<img src=\"https://preview.redd.it/rh977vd6pvb41.jpg?width=640&crop=smart&auto=webp&s=6063b50ecc7b4b13edd1fb2adb51a76547c54cd2\" width=400 />"
   ]
  },
  {
   "cell_type": "markdown",
   "metadata": {
    "Collapsed": "false"
   },
   "source": [
    "<img src=\"https://preview.redd.it/nvrpt44due141.jpg?width=640&crop=smart&auto=webp&s=29fc90a3faf4f4bbcbbbbbfd2aa94b306255695b\" width=400 />"
   ]
  },
  {
   "cell_type": "markdown",
   "metadata": {
    "Collapsed": "false"
   },
   "source": [
    "<img src=\"https://preview.redd.it/mar8p5zhhm131.jpg?width=640&crop=smart&auto=webp&s=957cfba55d8fbd56cdf08be5600cdda3f7073a3f\" width=400 />"
   ]
  },
  {
   "cell_type": "markdown",
   "metadata": {
    "Collapsed": "false"
   },
   "source": [
    "<img src=\"https://preview.redd.it/78wm8uwn5xz31.jpg?width=640&crop=smart&auto=webp&s=3d41720241fe52c072ddde6f09b39356b2420c3c\" width=400 />"
   ]
  },
  {
   "cell_type": "markdown",
   "metadata": {
    "Collapsed": "false"
   },
   "source": [
    "<img src=\"https://i.redd.it/uxs5wnj01ev41.jpg\" width=400 />"
   ]
  },
  {
   "cell_type": "markdown",
   "metadata": {
    "Collapsed": "false"
   },
   "source": [
    "<img src=\"https://preview.redd.it/hb2n8l3yogb41.jpg?width=640&crop=smart&auto=webp&s=cbf9a4d90a06d88cba3139f780045c42fa99800f\" width=400 />"
   ]
  },
  {
   "cell_type": "markdown",
   "metadata": {
    "Collapsed": "false"
   },
   "source": [
    "<img src=\"https://preview.redd.it/wvh152fq18c31.png?width=640&crop=smart&auto=webp&s=05be4abc9d85f9370d8ed8fb3ff484bbe39899fd\" width=400 />"
   ]
  }
 ],
 "metadata": {
  "kernelspec": {
   "display_name": "Python 3",
   "language": "python",
   "name": "python3"
  },
  "language_info": {
   "codemirror_mode": {
    "name": "ipython",
    "version": 3
   },
   "file_extension": ".py",
   "mimetype": "text/x-python",
   "name": "python",
   "nbconvert_exporter": "python",
   "pygments_lexer": "ipython3",
   "version": "3.7.7"
  }
 },
 "nbformat": 4,
 "nbformat_minor": 4
}
