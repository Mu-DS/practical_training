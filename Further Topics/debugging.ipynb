{
 "cells": [
  {
   "cell_type": "markdown",
   "metadata": {
    "Collapsed": "false"
   },
   "source": [
    "# Debugging in Python"
   ]
  },
  {
   "cell_type": "markdown",
   "metadata": {
    "Collapsed": "false"
   },
   "source": [
    "<img src=\"https://i.redd.it/ytitd72wz2b11.jpg\" width=\"400\">"
   ]
  },
  {
   "cell_type": "markdown",
   "metadata": {
    "Collapsed": "false"
   },
   "source": [
    "## pdb - The Python Debugger"
   ]
  },
  {
   "cell_type": "markdown",
   "metadata": {
    "Collapsed": "false"
   },
   "source": [
    "part of the core library\n",
    "\n",
    "allows interactive as well as whole script runs\n",
    "\n",
    "```python\n",
    "import pdb\n",
    "import mymodule\n",
    "pdf.run('mymodule.some_function()')\n",
    "```\n",
    "\n",
    "```bash\n",
    "python -m pdb myscript.py\n",
    "```"
   ]
  },
  {
   "cell_type": "markdown",
   "metadata": {
    "Collapsed": "false"
   },
   "source": [
    "Python 3.2:  `-c` option allows executing commands as if a `.pdbrc` config file was given\n",
    "\n",
    "Python 3.7:  \n",
    "- built-in `breakpoint()` to set a trace instead of `import pdb; pdb.set_trace()`\n",
    "- `-m` option executes modules similar to the way `python -m` does"
   ]
  },
  {
   "cell_type": "markdown",
   "metadata": {
    "Collapsed": "false"
   },
   "source": [
    "Upon `breakpoint()`, execution enters `debug mode`"
   ]
  },
  {
   "cell_type": "markdown",
   "metadata": {
    "Collapsed": "false"
   },
   "source": [
    "### Debugger Commands"
   ]
  },
  {
   "cell_type": "markdown",
   "metadata": {
    "Collapsed": "false"
   },
   "source": []
  },
  {
   "cell_type": "markdown",
   "metadata": {
    "Collapsed": "false"
   },
   "source": [
    "## Callgraphs"
   ]
  },
  {
   "cell_type": "markdown",
   "metadata": {
    "Collapsed": "false"
   },
   "source": [
    "https://github.com/osteele/callgraph"
   ]
  },
  {
   "cell_type": "markdown",
   "metadata": {
    "Collapsed": "false"
   },
   "source": [
    "```\n",
    "pip install callgraph\n",
    "```"
   ]
  },
  {
   "cell_type": "markdown",
   "metadata": {
    "Collapsed": "false"
   },
   "source": [
    "### In Code (Decorator)\n",
    "\n",
    "```python\n",
    "from functools import lru_cache\n",
    "import callgraph.decorator as callgraph\n",
    "\n",
    "@callgraph()\n",
    "@lru_cache()\n",
    "def nchoosek(n, k):\n",
    "    if k == 0:\n",
    "        return 1\n",
    "    if n == k:\n",
    "        return 1\n",
    "    return nchoosek(n - 1, k - 1) + nchoosek(n - 1, k)\n",
    "\n",
    "nchoosek(5, 2)\n",
    "\n",
    "nchoosek.__callgraph__.view()\n",
    "```"
   ]
  },
  {
   "cell_type": "markdown",
   "metadata": {
    "Collapsed": "false"
   },
   "source": [
    "### Callgraph Magic (Jupyter)\n",
    "\n",
    "```python\n",
    "from functools import lru_cache\n",
    "\n",
    "@lru_cache()\n",
    "def lev(a, b):\n",
    "    if \"\" in (a, b):\n",
    "        return len(a) + len(b)\n",
    "\n",
    "    candidates = []\n",
    "    if a[0] == b[0]:\n",
    "        candidates.append(lev(a[1:], b[1:]))\n",
    "    else:\n",
    "        candidates.append(lev(a[1:], b[1:]) + 1)\n",
    "    candidates.append(lev(a, b[1:]) + 1)\n",
    "    candidates.append(lev(a[1:], b) + 1)\n",
    "    return min(candidates)\n",
    "\n",
    "%callgraph -w10 lev(\"big\", \"dog\"); lev(\"dig\", \"dog\")\n",
    "```"
   ]
  },
  {
   "cell_type": "markdown",
   "metadata": {
    "Collapsed": "false"
   },
   "source": []
  },
  {
   "cell_type": "markdown",
   "metadata": {
    "Collapsed": "false"
   },
   "source": []
  },
  {
   "cell_type": "markdown",
   "metadata": {
    "Collapsed": "false"
   },
   "source": []
  }
 ],
 "metadata": {
  "kernelspec": {
   "display_name": "Python 3",
   "language": "python",
   "name": "python3"
  },
  "language_info": {
   "codemirror_mode": {
    "name": "ipython",
    "version": 3
   },
   "file_extension": ".py",
   "mimetype": "text/x-python",
   "name": "python",
   "nbconvert_exporter": "python",
   "pygments_lexer": "ipython3",
   "version": "3.7.7"
  }
 },
 "nbformat": 4,
 "nbformat_minor": 4
}
