{
 "cells": [
  {
   "cell_type": "markdown",
   "metadata": {
    "Collapsed": "false"
   },
   "source": [
    "# Why Practical Training is Crucial"
   ]
  },
  {
   "cell_type": "markdown",
   "metadata": {
    "Collapsed": "false"
   },
   "source": [
    "## Why bridging the gap is important\n",
    "\n",
    "<img src=\"https://preview.redd.it/zj4noiwbf7g31.jpg?width=640&crop=smart&auto=webp&s=75069427a53b85daa79284f096329d5a70c34719\" width=300>\n",
    "\n",
    "<img src=\"https://external-preview.redd.it/2htFTGm3vrPB41z1b_jHeZ122-lGhMK6aKphMGwShXA.jpg?width=640&crop=smart&auto=webp&s=1b05de40142c59d22e42463b1804e187e550f46a\" width=300>"
   ]
  },
  {
   "cell_type": "markdown",
   "metadata": {
    "Collapsed": "false"
   },
   "source": [
    "## Gap between theoretical knowledge and being able to do it\n",
    "\n",
    "It all sounds easy enough, but how do I actually do this?\n",
    "\n",
    "How do you build a piece of code that should be used by other people?"
   ]
  },
  {
   "cell_type": "code",
   "execution_count": null,
   "metadata": {
    "Collapsed": "false"
   },
   "outputs": [],
   "source": []
  },
  {
   "cell_type": "markdown",
   "metadata": {
    "Collapsed": "false"
   },
   "source": [
    "# Research Software Projects\n",
    "https://swcarpentry.github.io/managing-research-software-projects/"
   ]
  },
  {
   "cell_type": "code",
   "execution_count": null,
   "metadata": {
    "Collapsed": "false"
   },
   "outputs": [],
   "source": []
  },
  {
   "cell_type": "code",
   "execution_count": null,
   "metadata": {
    "Collapsed": "false"
   },
   "outputs": [],
   "source": []
  },
  {
   "cell_type": "markdown",
   "metadata": {
    "Collapsed": "false"
   },
   "source": [
    "# Overview"
   ]
  },
  {
   "cell_type": "markdown",
   "metadata": {
    "Collapsed": "false"
   },
   "source": [
    "1. Fundamentals of Production Code\n",
    "   - Environments\n",
    "   - Code Style\n",
    "   - Design Patterns\n",
    "   - Thinking Functionally\n",
    "2. Data Management Fundamentals\n",
    "    - Pre-SQL\n",
    "    - SQL\n",
    "    - NoSQL\n",
    "3. Continuous Integration Pipeline\n",
    "    - Git\n",
    "    - Unit Tests\n",
    "    - Dockers\n",
    "    - APIs\n",
    "4. Best Practices in Data Science\n",
    "    - Machine Learning \n",
    "    - Coding\n",
    "5. Processing Data Efficiently\n",
    "    - Tensorflow\n",
    "    - Numba\n",
    "    - Dask"
   ]
  },
  {
   "cell_type": "code",
   "execution_count": null,
   "metadata": {
    "Collapsed": "false"
   },
   "outputs": [],
   "source": []
  }
 ],
 "metadata": {
  "kernelspec": {
   "display_name": "Python 3",
   "language": "python",
   "name": "python3"
  },
  "language_info": {
   "codemirror_mode": {
    "name": "ipython",
    "version": 3
   },
   "file_extension": ".py",
   "mimetype": "text/x-python",
   "name": "python",
   "nbconvert_exporter": "python",
   "pygments_lexer": "ipython3",
   "version": "3.7.6"
  }
 },
 "nbformat": 4,
 "nbformat_minor": 4
}
