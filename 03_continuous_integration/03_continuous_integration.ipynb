{
 "cells": [
  {
   "cell_type": "markdown",
   "metadata": {
    "Collapsed": "false"
   },
   "source": [
    "# The Continuous Integration Course "
   ]
  },
  {
   "cell_type": "markdown",
   "metadata": {
    "Collapsed": "false",
    "tags": []
   },
   "source": [
    "In this session, we try to implement an API using Docker and python. The code shall be documented and stored on git. We will talk about testing scenarios and continous integration\n",
    "\n",
    "Project: The goal of the project is to create an API which recived inputs a form of lists, and predicts the target value and sends back the results. For example as the input\n",
    "\n",
    "```\n",
    "curl -d '{\"x1\":1, \"x2\":2, \"x3\":3, \"x4\":4}' \\\n",
    "    -H \"Content-Type: application/json\" \\\n",
    "    -X POST http://localhost:3000/iris_api\n",
    "```"
   ]
  },
  {
   "cell_type": "markdown",
   "metadata": {
    "Collapsed": "false"
   },
   "source": [
    "\n",
    "For this part, you need to have a GitHub acount. I highly recommend to use GitKraken as your UI for git commands.\n",
    "\n",
    "### Part 1: repository setup\n",
    "\n",
    "1. Create a GitHub repository name `iris-api`\n",
    "2. Add a .gitignore for python codes\n",
    "3. Clone the repository on your computer\n",
    "4. Create a README.md file in the main folder with small explanation\n",
    "5. Push the codes\n"
   ]
  },
  {
   "cell_type": "markdown",
   "metadata": {
    "Collapsed": "false"
   },
   "source": [
    "### Part 2: Functions for prediction\n",
    "\n",
    "For creating the api, we need these functions\n",
    "\n",
    "1. function that check the correctness of the input dict\n",
    "2. function that pass the data to the model to and received the prediction\n",
    "\n",
    "Each function has to be have docstrings as well as a test."
   ]
  },
  {
   "cell_type": "markdown",
   "metadata": {
    "Collapsed": "false"
   },
   "source": [
    "### Part 3: Python package\n",
    "\n",
    "For this part, we create a python package which will be used for the docker later\n",
    "\n",
    "1. create a folder called `resources`\n",
    "3. create a folder called `tests`. From now on, we put all the tests there.\n",
    "4. create a folder called `docker`\n",
    "\n",
    "The structure of the root folder should look like this:\n",
    "\n",
    "```\n",
    "root/\n",
    "├── resources/                 \n",
    "│\n",
    "├── tests/\n",
    "│\n",
    "├── docker/ \n",
    "│\n",
    "├── .gitignore   \n",
    "│\n",
    "├── .gitattributes     \n",
    "│\n",
    "├── LICENSE   \n",
    "│ \n",
    "└── README.md                    \n",
    "```\n",
    "\n"
   ]
  },
  {
   "cell_type": "markdown",
   "metadata": {
    "Collapsed": "false"
   },
   "source": [
    "### resources\n",
    "\n",
    "Create a resource file called IrisPredictor. It should have such structure"
   ]
  },
  {
   "cell_type": "code",
   "execution_count": null,
   "metadata": {
    "Collapsed": "false"
   },
   "outputs": [],
   "source": [
    "\n",
    "### resource\n",
    "class IrisPredictor():\n",
    "    def __init__(self):\n",
    "        pass\n",
    "    \n",
    "    def on_post(self, req, resp):\n",
    "        pass\n"
   ]
  },
  {
   "cell_type": "markdown",
   "metadata": {},
   "source": [
    "In the `on_post` method, you should receive the HTTP request and send back the results."
   ]
  },
  {
   "cell_type": "markdown",
   "metadata": {},
   "source": [
    "Also, create file called `main.py` and initialize the IrisPredictor with falcon"
   ]
  },
  {
   "cell_type": "markdown",
   "metadata": {
    "Collapsed": "false"
   },
   "source": [
    "### Part 4: Docker"
   ]
  },
  {
   "cell_type": "markdown",
   "metadata": {
    "Collapsed": "false"
   },
   "source": [
    "We use Docker as our container. Also, we use gunicorn for handling the calls.\n",
    "\n",
    "1. Create a requirments.txt file and add all the libraries used \n",
    "2. Create a Docker file and add the necessary requirments there. \n",
    "3. Install the Docker\n",
    "4. Run the Docker\n",
    "5. Write the documentation for the Docker"
   ]
  },
  {
   "cell_type": "code",
   "execution_count": null,
   "metadata": {
    "Collapsed": "false"
   },
   "outputs": [],
   "source": []
  },
  {
   "cell_type": "markdown",
   "metadata": {
    "Collapsed": "false"
   },
   "source": [
    "### Part 5: APIs"
   ]
  },
  {
   "cell_type": "markdown",
   "metadata": {
    "Collapsed": "false"
   },
   "source": [
    "Call the API using curl :)"
   ]
  },
  {
   "cell_type": "markdown",
   "metadata": {},
   "source": [
    "# Travis"
   ]
  },
  {
   "cell_type": "code",
   "execution_count": null,
   "metadata": {},
   "outputs": [],
   "source": []
  }
 ],
 "metadata": {
  "jupytext": {
   "formats": "ipynb,py"
  },
  "kernelspec": {
   "display_name": "Python 3",
   "language": "python",
   "name": "python3"
  },
  "language_info": {
   "codemirror_mode": {
    "name": "ipython",
    "version": 3
   },
   "file_extension": ".py",
   "mimetype": "text/x-python",
   "name": "python",
   "nbconvert_exporter": "python",
   "pygments_lexer": "ipython3",
   "version": "3.7.4-final"
  }
 },
 "nbformat": 4,
 "nbformat_minor": 4
}