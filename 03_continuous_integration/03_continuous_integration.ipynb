{
 "cells": [
  {
   "cell_type": "markdown",
   "metadata": {
    "Collapsed": "false",
    "slideshow": {
     "slide_type": "slide"
    }
   },
   "source": [
    "# The Continuous Integration Course "
   ]
  },
  {
   "cell_type": "markdown",
   "metadata": {
    "Collapsed": "false",
    "slideshow": {
     "slide_type": "slide"
    },
    "tags": []
   },
   "source": [
    "In this session, we try to implement an API using Docker and python. The code shall be documented and stored on git. We will talk about testing scenarios and continous integration\n",
    "\n",
    "Project: The goal of the project is to create an API which recived inputs a form of lists, and predicts the target value and sends back the results. For example as the input\n",
    "\n",
    "```bash\n",
    "     curl -d '{\"features\":[1,2,3,4]}' \\\n",
    "     -H \"Content-Type: application/json\" \\\n",
    "     -X POST http://localhost:8000/iris_api\n",
    "```"
   ]
  },
  {
   "cell_type": "markdown",
   "metadata": {
    "Collapsed": "false",
    "slideshow": {
     "slide_type": "slide"
    }
   },
   "source": [
    "\n",
    "For this part, you need to have a GitHub acount. I highly recommend to use GitKraken as your UI for git commands.\n",
    "\n",
    "## Part 1: repository setup\n",
    "\n",
    "1. Create a GitHub repository name `iris-api`\n",
    "2. Add a .gitignore for python codes\n",
    "3. Clone the repository on your computer\n",
    "4. copy the content of the iris-api to your folder\n",
    "5. commit and push\n",
    "\n",
    "\n",
    "https://github.github.com/training-kit/downloads/github-git-cheat-sheet.pdf"
   ]
  },
  {
   "cell_type": "code",
   "execution_count": null,
   "metadata": {},
   "outputs": [],
   "source": []
  },
  {
   "cell_type": "markdown",
   "metadata": {
    "slideshow": {
     "slide_type": "slide"
    }
   },
   "source": [
    "## HTTP Request Methods\n",
    "\n",
    "\n",
    "What is HTTP?\n",
    "The Hypertext Transfer Protocol (HTTP) is designed to enable communications between clients and servers.\n",
    "\n",
    "HTTP works as a request-response protocol between a client and server.\n",
    "\n",
    "Example: A client (browser) sends an HTTP request to the server; then the server returns a response to the client. The response contains status information about the request and may also contain the requested content.\n",
    "\n",
    "\n",
    "https://www.w3schools.com/tags/ref_httpmethods.asp"
   ]
  },
  {
   "cell_type": "markdown",
   "metadata": {
    "slideshow": {
     "slide_type": "slide"
    }
   },
   "source": [
    "## The GET Method\n",
    "\n",
    "GET is used to request data from a specified resource.\n",
    "\n",
    "GET is one of the most common HTTP methods.\n",
    "\n",
    "Note that the query string (name/value pairs) is sent in the URL of a GET request:\n",
    "\n",
    "/test/demo_form.php?name1=value1&name2=value2\n",
    "Some other notes on GET requests:\n",
    "\n",
    "GET requests can be cached\n",
    "GET requests remain in the browser history\n",
    "GET requests can be bookmarked\n",
    "GET requests should never be used when dealing with sensitive data\n",
    "GET requests have length restrictions\n",
    "GET requests are only used to request data (not modify)\n"
   ]
  },
  {
   "cell_type": "markdown",
   "metadata": {
    "slideshow": {
     "slide_type": "slide"
    }
   },
   "source": [
    "## The POST Method\n",
    "\n",
    "POST is used to send data to a server to create/update a resource.\n",
    "\n",
    "The data sent to the server with POST is stored in the request body of the HTTP request:\n",
    "\n",
    "POST /test/demo_form.php HTTP/1.1\n",
    "Host: w3schools.com\n",
    "name1=value1&name2=value2\n",
    "POST is one of the most common HTTP methods.\n",
    "\n",
    "Some other notes on POST requests:\n",
    "\n",
    "POST requests are never cached\n",
    "POST requests do not remain in the browser history\n",
    "POST requests cannot be bookmarked\n",
    "POST requests have no restrictions on data length"
   ]
  },
  {
   "cell_type": "markdown",
   "metadata": {
    "Collapsed": "false",
    "slideshow": {
     "slide_type": "slide"
    }
   },
   "source": [
    "## Part 2: Functions for prediction\n",
    "\n",
    "For creating the api, we need these functions\n",
    "\n",
    "1. function that check the correctness of the input dict\n",
    "2. function that pass the data to the model to and received the prediction\n",
    "\n",
    "Each function has to be have docstrings as well as a test."
   ]
  },
  {
   "cell_type": "markdown",
   "metadata": {
    "Collapsed": "false",
    "slideshow": {
     "slide_type": "slide"
    }
   },
   "source": [
    "### Part 3: code structure\n",
    "\n",
    "For this part, we create a python package which will be used for the docker later\n",
    "\n",
    "1. create a folder called `resources`\n",
    "3. create a folder called `tests`. From now on, we put all the tests there.\n",
    "4. create a folder called `bin`\n",
    "\n",
    "The structure of the root folder should look like this:\n",
    "\n",
    "```\n",
    "root/\n",
    "    ├── resources/                 \n",
    "    │\n",
    "    ├── tests/\n",
    "    │\n",
    "    ├── bin/ \n",
    "    │\n",
    "    ├── models/ \n",
    "    │\n",
    "    ├── .gitignore   \n",
    "    │\n",
    "    ├── Dockerfile  \n",
    "    │\n",
    "    ├── main.py     \n",
    "    │\n",
    "    ├── LICENSE     \n",
    "    │\n",
    "    ├── service.yaml   \n",
    "    │ \n",
    "    └── README.md                    \n",
    "```\n",
    "\n"
   ]
  },
  {
   "cell_type": "markdown",
   "metadata": {
    "Collapsed": "false",
    "slideshow": {
     "slide_type": "slide"
    }
   },
   "source": [
    "## Web-framework for open science access\n",
    "\n",
    "Frameworks:\n",
    "\n",
    "- Flask\n",
    "- Django\n",
    "- Bottle\n",
    "- Falcon (we use this one!) [https://falcon.readthedocs.io/en/stable/]"
   ]
  },
  {
   "cell_type": "code",
   "execution_count": null,
   "metadata": {
    "Collapsed": "false"
   },
   "outputs": [],
   "source": []
  },
  {
   "cell_type": "markdown",
   "metadata": {},
   "source": [
    "In the `on_post` method, you should receive the HTTP request and send back the results."
   ]
  },
  {
   "cell_type": "markdown",
   "metadata": {},
   "source": [
    "Also, create file called `main.py` and initialize the IrisPredictor with falcon"
   ]
  },
  {
   "cell_type": "markdown",
   "metadata": {
    "Collapsed": "false",
    "slideshow": {
     "slide_type": "slide"
    }
   },
   "source": [
    "## Docker\n",
    "\n",
    "Developing apps today requires so much more than writing code. Multiple languages, frameworks, architectures, and discontinuous interfaces between tools for each lifecycle stage creates enormous complexity. Docker simplifies and accelerates your workflow, while giving developers the freedom to innovate with their choice of tools, application stacks, and deployment environments for each project.\n",
    "\n",
    "https://www.docker.com/sites/default/files/d8/2019-09/docker-cheat-sheet.pdf"
   ]
  },
  {
   "cell_type": "markdown",
   "metadata": {
    "Collapsed": "false",
    "slideshow": {
     "slide_type": "slide"
    }
   },
   "source": [
    "## Docker\n",
    "\n",
    "We use Docker as our container. Also, we use gunicorn for handling the calls.\n",
    "\n",
    "1. Create a Docker file and add the necessary requirments there. \n",
    "2. Install the Docker\n",
    "3. Run the Docker\n",
    "4. Write the documentation for the Docker"
   ]
  },
  {
   "cell_type": "markdown",
   "metadata": {
    "Collapsed": "false",
    "slideshow": {
     "slide_type": "slide"
    }
   },
   "source": [
    "## API\n",
    "\n",
    "Now test the API"
   ]
  }
 ],
 "metadata": {
  "celltoolbar": "Slideshow",
  "jupytext": {
   "formats": "ipynb,py"
  },
  "kernelspec": {
   "display_name": "Python 3",
   "language": "python",
   "name": "python3"
  },
  "language_info": {
   "codemirror_mode": {
    "name": "ipython",
    "version": 3
   },
   "file_extension": ".py",
   "mimetype": "text/x-python",
   "name": "python",
   "nbconvert_exporter": "python",
   "pygments_lexer": "ipython3",
   "version": "3.7.4"
  }
 },
 "nbformat": 4,
 "nbformat_minor": 4
}
