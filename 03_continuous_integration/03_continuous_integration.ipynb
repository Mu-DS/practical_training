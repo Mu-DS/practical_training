{
 "cells": [
  {
   "cell_type": "markdown",
   "metadata": {
    "Collapsed": "false",
    "slideshow": {
     "slide_type": "slide"
    }
   },
   "source": [
    "# The API & Docker course"
   ]
  },
  {
   "cell_type": "markdown",
   "metadata": {
    "Collapsed": "false",
    "slideshow": {
     "slide_type": "slide"
    },
    "tags": []
   },
   "source": [
    "In this session, we try to implement an API using Docker and python. The code shall be documented and stored on git. We will talk about testing scenarios and continous integration\n",
    "\n",
    "Project: The goal of the project is to create an API which recived inputs a form of lists, and predicts the target value and sends back the results. For example as the input\n",
    "\n",
    "```bash\n",
    "     curl -d '{\"features\":[1,2,3,4]}' \\\n",
    "     -H \"Content-Type: application/json\" \\\n",
    "     -X POST http://localhost:8000/iris_api\n",
    "```"
   ]
  },
  {
   "cell_type": "markdown",
   "metadata": {
    "Collapsed": "false",
    "slideshow": {
     "slide_type": "slide"
    }
   },
   "source": [
    "\n",
    "For this part, you need to have a GitHub acount. I highly recommend to use GitKraken as your UI for git commands.\n",
    "\n",
    "## Implementation Part 1: repository setup\n",
    "\n",
    "1. Create a GitHub repository name `iris-api`\n",
    "2. Add a .gitignore for python codes\n",
    "3. Clone the repository on your computer\n",
    "4. copy the content of the iris-api to your folder https://github.com/Mu-DS/practical_training/tree/master/03_continuous_integration/iris-api\n",
    "5. commit and push\n",
    "\n",
    "\n",
    "https://github.github.com/training-kit/downloads/github-git-cheat-sheet.pdf"
   ]
  },
  {
   "cell_type": "code",
   "execution_count": null,
   "metadata": {},
   "outputs": [],
   "source": []
  },
  {
   "cell_type": "markdown",
   "metadata": {
    "slideshow": {
     "slide_type": "slide"
    }
   },
   "source": [
    "## HTTP Request Methods\n",
    "\n",
    "\n",
    "What is HTTP?\n",
    "The Hypertext Transfer Protocol (HTTP) is designed to enable communications between clients and servers.\n",
    "\n",
    "HTTP works as a request-response protocol between a client and server.\n",
    "\n",
    "Example: A client (browser) sends an HTTP request to the server; then the server returns a response to the client. The response contains status information about the request and may also contain the requested content.\n",
    "\n",
    "\n",
    "https://www.w3schools.com/tags/ref_httpmethods.asp\n",
    "\n",
    "## HTTP Status codes\n",
    "\n",
    "- 200 OK\n",
    "- 400 Bad request\n",
    "- 500 Internal Server Error\n",
    "\n",
    "https://en.wikipedia.org/wiki/List_of_HTTP_status_codes"
   ]
  },
  {
   "cell_type": "markdown",
   "metadata": {
    "Collapsed": "false",
    "slideshow": {
     "slide_type": "slide"
    }
   },
   "source": [
    "## Web-framework for open science access\n",
    "\n",
    "Frameworks:\n",
    "\n",
    "- Flask\n",
    "- Django\n",
    "- Bottle\n",
    "- Falcon (we use this one!) [https://falcon.readthedocs.io/en/stable/]"
   ]
  },
  {
   "cell_type": "markdown",
   "metadata": {
    "slideshow": {
     "slide_type": "slide"
    }
   },
   "source": [
    "## The GET Method\n",
    "\n",
    "GET is used to request data from a specified resource.\n",
    "\n",
    "GET is one of the most common HTTP methods.\n",
    "\n",
    "Note that the query string (name/value pairs) is sent in the URL of a GET request:\n",
    "\n",
    "/test/demo_form.php?name1=value1&name2=value2\n",
    "Some other notes on GET requests:\n",
    "\n",
    "GET requests can be cached\n",
    "GET requests remain in the browser history\n",
    "GET requests can be bookmarked\n",
    "GET requests should never be used when dealing with sensitive data\n",
    "GET requests have length restrictions\n",
    "GET requests are only used to request data (not modify)\n"
   ]
  },
  {
   "cell_type": "markdown",
   "metadata": {
    "slideshow": {
     "slide_type": "slide"
    }
   },
   "source": [
    "## The POST Method\n",
    "\n",
    "POST is used to send data to a server to create/update a resource.\n",
    "\n",
    "The data sent to the server with POST is stored in the request body of the HTTP request:\n",
    "\n",
    "POST /test/demo_form.php HTTP/1.1\n",
    "Host: w3schools.com\n",
    "name1=value1&name2=value2\n",
    "POST is one of the most common HTTP methods.\n",
    "\n",
    "Some other notes on POST requests:\n",
    "\n",
    "POST requests are never cached\n",
    "POST requests do not remain in the browser history\n",
    "POST requests cannot be bookmarked\n",
    "POST requests have no restrictions on data length"
   ]
  },
  {
   "cell_type": "markdown",
   "metadata": {
    "Collapsed": "false",
    "slideshow": {
     "slide_type": "slide"
    }
   },
   "source": [
    "## Implementation 2: Coding part\n",
    "\n",
    "There are missing parts in '/resources/IrisPredictorResource.py'.\n",
    "\n",
    "Finish the code with your teammate"
   ]
  },
  {
   "cell_type": "markdown",
   "metadata": {
    "Collapsed": "false",
    "slideshow": {
     "slide_type": "slide"
    }
   },
   "source": [
    "### API structure\n",
    "\n",
    "\n",
    "The structure of the root folder should look like this:\n",
    "\n",
    "```\n",
    "root/\n",
    "    ├── resources/                 \n",
    "    │\n",
    "    ├── tests/\n",
    "    │\n",
    "    ├── bin/ \n",
    "    │\n",
    "    ├── models/ \n",
    "    │\n",
    "    ├── .gitignore   \n",
    "    │\n",
    "    ├── Dockerfile  \n",
    "    │\n",
    "    ├── main.py     \n",
    "    │\n",
    "    ├── LICENSE     \n",
    "    │\n",
    "    ├── service.yaml   \n",
    "    │ \n",
    "    └── README.md                    \n",
    "```\n",
    "\n"
   ]
  },
  {
   "cell_type": "markdown",
   "metadata": {
    "Collapsed": "false",
    "slideshow": {
     "slide_type": "slide"
    }
   },
   "source": [
    "## Docker\n",
    "\n",
    "Developing apps today requires so much more than writing code. Multiple languages, frameworks, architectures, and discontinuous interfaces between tools for each lifecycle stage creates enormous complexity. Docker simplifies and accelerates your workflow, while giving developers the freedom to innovate with their choice of tools, application stacks, and deployment environments for each project.\n",
    "\n",
    "https://www.docker.com/sites/default/files/d8/2019-09/docker-cheat-sheet.pdf"
   ]
  },
  {
   "cell_type": "markdown",
   "metadata": {
    "Collapsed": "false",
    "slideshow": {
     "slide_type": "slide"
    }
   },
   "source": [
    "## Implementation 3: Docker part\n",
    "\n",
    "We use Docker as our container. Also, we use gunicorn for handling the calls.\n",
    "https://gunicorn.org/\n",
    "\n",
    "1. Finilize the docker file '/Dockerfile'.\n",
    "2. Install the Docker using the readme\n",
    "3. Run the Docker\n",
    "4. test the docker using curl command\n"
   ]
  },
  {
   "cell_type": "markdown",
   "metadata": {
    "slideshow": {
     "slide_type": "slide"
    }
   },
   "source": [
    "## GitHub Apps for CI\n",
    "\n",
    "You can use different github apps for your code quality\n",
    "\n",
    "here we use Travis & Codacy Production\n",
    "\n",
    "Travis CI: https://travis-ci.org/\n",
    "\n",
    "Codacy: https://codacy.com"
   ]
  },
  {
   "cell_type": "markdown",
   "metadata": {
    "slideshow": {
     "slide_type": "slide"
    }
   },
   "source": [
    "## Implementation 4: Add unit testing\n",
    "\n",
    "Add different test scenarios for your functions to check if everything is alright\n",
    "\n",
    "Add this unittests in '/tests/' folder"
   ]
  },
  {
   "cell_type": "markdown",
   "metadata": {
    "slideshow": {
     "slide_type": "slide"
    }
   },
   "source": [
    "## Implementation 5: CI apps\n",
    "\n",
    "Log in to Travis and Codacy and connect them to your github account"
   ]
  },
  {
   "cell_type": "markdown",
   "metadata": {
    "slideshow": {
     "slide_type": "slide"
    }
   },
   "source": [
    "## Implementation 6: travis\n",
    "\n",
    "add this content to '.travis.yml' file\n",
    "\n",
    "'''yaml\n",
    "os:\n",
    "  - linux\n",
    "\n",
    "language: python\n",
    "\n",
    "python:\n",
    "  - \"3.6\"\n",
    "  - \"3.7\"\n",
    "\n",
    "script:\n",
    "  - pytest\n",
    "'''"
   ]
  }
 ],
 "metadata": {
  "celltoolbar": "Slideshow",
  "jupytext": {
   "formats": "ipynb,py"
  },
  "kernelspec": {
   "display_name": "Python 3",
   "language": "python",
   "name": "python3"
  },
  "language_info": {
   "codemirror_mode": {
    "name": "ipython",
    "version": 3
   },
   "file_extension": ".py",
   "mimetype": "text/x-python",
   "name": "python",
   "nbconvert_exporter": "python",
   "pygments_lexer": "ipython3",
   "version": "3.7.4"
  }
 },
 "nbformat": 4,
 "nbformat_minor": 4
}
