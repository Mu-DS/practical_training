{
 "cells": [
  {
   "cell_type": "markdown",
   "metadata": {},
   "source": [
    "# Why Practical Training is Crucial"
   ]
  },
  {
   "cell_type": "markdown",
   "metadata": {},
   "source": [
    "## Why bridging the gap is important"
   ]
  },
  {
   "cell_type": "markdown",
   "metadata": {},
   "source": [
    "<img src=\"https://preview.redd.it/zj4noiwbf7g31.jpg?width=640&crop=smart&auto=webp&s=75069427a53b85daa79284f096329d5a70c34719\" width=300>"
   ]
  },
  {
   "cell_type": "markdown",
   "metadata": {},
   "source": [
    "<img src=\"https://external-preview.redd.it/2htFTGm3vrPB41z1b_jHeZ122-lGhMK6aKphMGwShXA.jpg?width=640&crop=smart&auto=webp&s=1b05de40142c59d22e42463b1804e187e550f46a\" width=300>"
   ]
  },
  {
   "cell_type": "markdown",
   "metadata": {},
   "source": [
    "### How to bridge the gap"
   ]
  },
  {
   "cell_type": "markdown",
   "metadata": {},
   "source": [
    "There are plenty of expensive courses, thick books, and jaded postdocs telling you how to do things in theory - and that's great! "
   ]
  },
  {
   "cell_type": "markdown",
   "metadata": {},
   "source": [
    "But... how do you get there?"
   ]
  },
  {
   "cell_type": "markdown",
   "metadata": {},
   "source": [
    "Let's play a little game, can you tell me how to do each of these?"
   ]
  },
  {
   "cell_type": "markdown",
   "metadata": {},
   "source": [
    "| Problem                                                | Implementation |\n",
    "|--------------------------------------------------------|----------------|\n",
    "| Develop this new framework over the next 6 months      | ? |\n",
    "| Adding this feature will take a while                  | ? |\n",
    "| The code you're writing is turnign into a monster      | ? |\n",
    "| Hmmm this Jupyter notebook is gettign too long         | ? |\n",
    "| Writing documentation is too troublesome               | ? |\n",
    "| The code of the other developer looks terrible         | ? |\n",
    "| \"Why is there a super() in here???\"                    | ? |\n",
    "| \"You know, you should make this script run with a CLI\" | ? |\n",
    "| \"How are these objects related?\"                       | ? |\n",
    "| Chart the structure of your project                    | ? |\n",
    "| Figure out which part is slowing down the code         | ? |\n",
    "| Speed up this NumPy code                               | ? |\n",
    "| This loop is really slow... |  |"
   ]
  },
  {
   "cell_type": "markdown",
   "metadata": {},
   "source": [
    "Solution:"
   ]
  },
  {
   "cell_type": "markdown",
   "metadata": {},
   "source": [
    "| Problem                                                | Implementation |\n",
    "|--------------------------------------------------------|----------------|\n",
    "| Develop this new framework over the next 6 months      | Agile, Sprint planning, etc. |\n",
    "| Adding this feature will take a while                  | Sprint planning, review process |\n",
    "| The code you're writing is turnign into a monster      | Code architecture, refactoring |\n",
    "| Hmmm this Jupyter notebook is gettign too long         | module architecture |\n",
    "| Writing documentation is too troublesome               | AutoDoc, Docstring creator, etc |\n",
    "| The code of the other developer looks terrible         | code formatter, linting |\n",
    "| \"Why is there a super() in here???\"                    | Java Developers |\n",
    "| \"What are these properties?\"                           | Setters and Getters |\n",
    "| \"You know, you should make this script run with a CLI\" | click |\n",
    "| \"How are these objects related?\"                       | Coda Analytzr |\n",
    "| \"Can you show me how this project is structured?\"      | UML, Code Analyzer |\n",
    "| Figure out which part is slowing down the code         | Dynamic Code Analyzer / Profiler |\n",
    "| Speed up this NumPy code                               | Numba |\n",
    "| This loop is really slow....                           | Map(), Numba, Dask |\n",
    "| I should run this in parallel...                       | Multiprocessing, Dask |"
   ]
  },
  {
   "cell_type": "markdown",
   "metadata": {},
   "source": [
    "# Is this Course for you?"
   ]
  },
  {
   "cell_type": "markdown",
   "metadata": {},
   "source": [
    "<img src=\"https://blog.codinghorror.com/content/images/uploads/2009/02/6a0120a85dcdae970b012877707a45970c-pi.png\" width=320>"
   ]
  },
  {
   "cell_type": "markdown",
   "metadata": {},
   "source": [
    "Have you ever gotten..."
   ]
  },
  {
   "cell_type": "markdown",
   "metadata": {
    "jupyter": {
     "outputs_hidden": true
    },
    "lines_to_next_cell": 2
   },
   "source": [
    "- a shared project in your group, but couldn't figure out what 80\\% of the functions or objects did?"
   ]
  },
  {
   "cell_type": "markdown",
   "metadata": {},
   "source": [
    "- a code from a previous student/phd/postdoc and though -- WHAT THE F- is this?!"
   ]
  },
  {
   "cell_type": "markdown",
   "metadata": {},
   "source": [
    "- a bachelor student to use your code and only gotten stupid questions from them?"
   ]
  },
  {
   "cell_type": "markdown",
   "metadata": {},
   "source": [
    "I hate to break it to you, but you also write bad code"
   ]
  },
  {
   "cell_type": "markdown",
   "metadata": {},
   "source": [
    "We all write bad code, and the point is not to write perfect code, but to write less bad code.\n",
    "\n",
    "Just a world with less bad code. That's the dream."
   ]
  },
  {
   "cell_type": "markdown",
   "metadata": {},
   "source": [
    "# Exercise"
   ]
  },
  {
   "cell_type": "markdown",
   "metadata": {},
   "source": [
    "- Pair up in groups of 2 or 3\n",
    "- Show the other person your last opened python code you wrote\n",
    "- Spend 5 minutes trying to unsderstand it\n",
    "- Discuss the code"
   ]
  },
  {
   "cell_type": "markdown",
   "metadata": {},
   "source": [
    "# Overview of the Course"
   ]
  },
  {
   "cell_type": "markdown",
   "metadata": {},
   "source": [
    "1. Fundamentals of Production Code\n",
    "   - Workflow Organization\n",
    "   - Environments\n",
    "   - Code Style and Formatters\n",
    "   - Design Patterns\n",
    "   - Thinking Functionally\n",
    "   - Module Architecture\n",
    "   - CLI Interfaces"
   ]
  },
  {
   "cell_type": "markdown",
   "metadata": {},
   "source": [
    "2. Data Management Fundamentals\n",
    "    - Pre-SQL\n",
    "    - SQL\n",
    "    - NoSQL\n",
    "    - Graph Databases"
   ]
  },
  {
   "cell_type": "markdown",
   "metadata": {},
   "source": [
    "3. Continuous Integration Pipeline\n",
    "    - Git\n",
    "    - Unit Tests\n",
    "    - Dockers\n",
    "    - APIs"
   ]
  },
  {
   "cell_type": "markdown",
   "metadata": {},
   "source": [
    "4. Best Practices in Data Science\n",
    "    - Machine Learning \n",
    "    - Coding"
   ]
  },
  {
   "cell_type": "markdown",
   "metadata": {},
   "source": [
    "5. Processing Data Efficiently\n",
    "    - Tensorflow\n",
    "    - Network Architeictures & Applications\n",
    "    - Slurm\n",
    "    - Numba\n",
    "    - Dask"
   ]
  }
 ],
 "metadata": {
  "jupytext": {
   "formats": "ipynb,py"
  },
  "kernelspec": {
   "display_name": "Python 3",
   "language": "python",
   "name": "python3"
  },
  "language_info": {
   "codemirror_mode": {
    "name": "ipython",
    "version": 3
   },
   "file_extension": ".py",
   "mimetype": "text/x-python",
   "name": "python",
   "nbconvert_exporter": "python",
   "pygments_lexer": "ipython3",
   "version": "3.7.7"
  }
 },
 "nbformat": 4,
 "nbformat_minor": 4
}
