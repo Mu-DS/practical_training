{
 "cells": [
  {
   "cell_type": "markdown",
   "metadata": {
    "Collapsed": "false"
   },
   "source": [
    "# Data Management and Database Basics"
   ]
  },
  {
   "cell_type": "markdown",
   "metadata": {
    "Collapsed": "false"
   },
   "source": [
    "## Motivation"
   ]
  },
  {
   "cell_type": "markdown",
   "metadata": {
    "Collapsed": "false"
   },
   "source": [
    "<img src=\"https://preview.redd.it/gph4rp6drvo41.jpg?width=640&crop=smart&auto=webp&s=a407a7be1da73ba010f0295a6351ab9d14471b2a\" width=400 />"
   ]
  },
  {
   "cell_type": "markdown",
   "metadata": {
    "Collapsed": "false"
   },
   "source": [
    "## Overview"
   ]
  },
  {
   "cell_type": "markdown",
   "metadata": {
    "Collapsed": "false"
   },
   "source": [
    "1. Pre-SQL  (Robin)\n",
    "2. SQL databases  (Ali/Emilio)\n",
    "3. Non-SQL databases  (Ali)\n",
    "4. Simple graph database introduction  (Robin?)"
   ]
  },
  {
   "cell_type": "markdown",
   "metadata": {
    "Collapsed": "false"
   },
   "source": [
    "# Pre-SQL"
   ]
  },
  {
   "cell_type": "markdown",
   "metadata": {
    "Collapsed": "false"
   },
   "source": [
    "- You kind of have data, but not really that much.\n",
    "- You want to organize it better,  but keep things lightweight to share."
   ]
  },
  {
   "cell_type": "markdown",
   "metadata": {
    "Collapsed": "false"
   },
   "source": [
    "## Working with CSV files"
   ]
  },
  {
   "cell_type": "code",
   "execution_count": null,
   "metadata": {
    "Collapsed": "false",
    "lines_to_next_cell": 2
   },
   "outputs": [],
   "source": []
  },
  {
   "cell_type": "markdown",
   "metadata": {
    "Collapsed": "false"
   },
   "source": [
    "### Efficiently reading last lines"
   ]
  },
  {
   "cell_type": "code",
   "execution_count": 140,
   "metadata": {
    "Collapsed": "false",
    "lines_to_next_cell": 2
   },
   "outputs": [],
   "source": [
    "import random\n",
    "import pandas as pd\n",
    "import itertools\n",
    "\n",
    "cnt = int(4)\n",
    "xxs = list(range(cnt))\n",
    "aas = list(range(cnt))\n",
    "\n",
    "df_complete = pd.DataFrame(list(itertools.product(xxs, aas)), columns=['X', 'A'])\n",
    "df_complete['Y'] = [random.randint(-25, 26) for _ in range(len(df_complete))]\n",
    "mask = np.array([random.random() < 0.5 for _ in range(len(df_complete))])\n",
    "df_complete.loc[~mask, 'Y'] = 0\n",
    "TableA = df_complete[mask]"
   ]
  },
  {
   "cell_type": "code",
   "execution_count": 141,
   "metadata": {},
   "outputs": [
    {
     "data": {
      "text/plain": [
       "(8, 16)"
      ]
     },
     "execution_count": 141,
     "metadata": {},
     "output_type": "execute_result"
    }
   ],
   "source": [
    "len(TableA), len(df_complete)"
   ]
  },
  {
   "cell_type": "code",
   "execution_count": 142,
   "metadata": {},
   "outputs": [
    {
     "data": {
      "text/html": [
       "<div>\n",
       "<style scoped>\n",
       "    .dataframe tbody tr th:only-of-type {\n",
       "        vertical-align: middle;\n",
       "    }\n",
       "\n",
       "    .dataframe tbody tr th {\n",
       "        vertical-align: top;\n",
       "    }\n",
       "\n",
       "    .dataframe thead th {\n",
       "        text-align: right;\n",
       "    }\n",
       "</style>\n",
       "<table border=\"1\" class=\"dataframe\">\n",
       "  <thead>\n",
       "    <tr style=\"text-align: right;\">\n",
       "      <th></th>\n",
       "      <th>X</th>\n",
       "      <th>A</th>\n",
       "      <th>Y</th>\n",
       "    </tr>\n",
       "  </thead>\n",
       "  <tbody>\n",
       "    <tr>\n",
       "      <th>1</th>\n",
       "      <td>0</td>\n",
       "      <td>1</td>\n",
       "      <td>3</td>\n",
       "    </tr>\n",
       "    <tr>\n",
       "      <th>2</th>\n",
       "      <td>0</td>\n",
       "      <td>2</td>\n",
       "      <td>-16</td>\n",
       "    </tr>\n",
       "    <tr>\n",
       "      <th>5</th>\n",
       "      <td>1</td>\n",
       "      <td>1</td>\n",
       "      <td>-15</td>\n",
       "    </tr>\n",
       "    <tr>\n",
       "      <th>6</th>\n",
       "      <td>1</td>\n",
       "      <td>2</td>\n",
       "      <td>-10</td>\n",
       "    </tr>\n",
       "    <tr>\n",
       "      <th>8</th>\n",
       "      <td>2</td>\n",
       "      <td>0</td>\n",
       "      <td>-17</td>\n",
       "    </tr>\n",
       "    <tr>\n",
       "      <th>13</th>\n",
       "      <td>3</td>\n",
       "      <td>1</td>\n",
       "      <td>20</td>\n",
       "    </tr>\n",
       "    <tr>\n",
       "      <th>14</th>\n",
       "      <td>3</td>\n",
       "      <td>2</td>\n",
       "      <td>-5</td>\n",
       "    </tr>\n",
       "    <tr>\n",
       "      <th>15</th>\n",
       "      <td>3</td>\n",
       "      <td>3</td>\n",
       "      <td>15</td>\n",
       "    </tr>\n",
       "  </tbody>\n",
       "</table>\n",
       "</div>"
      ],
      "text/plain": [
       "    X  A   Y\n",
       "1   0  1   3\n",
       "2   0  2 -16\n",
       "5   1  1 -15\n",
       "6   1  2 -10\n",
       "8   2  0 -17\n",
       "13  3  1  20\n",
       "14  3  2  -5\n",
       "15  3  3  15"
      ]
     },
     "execution_count": 142,
     "metadata": {},
     "output_type": "execute_result"
    }
   ],
   "source": [
    "TableA"
   ]
  },
  {
   "cell_type": "code",
   "execution_count": 143,
   "metadata": {},
   "outputs": [
    {
     "data": {
      "text/html": [
       "<div>\n",
       "<style scoped>\n",
       "    .dataframe tbody tr th:only-of-type {\n",
       "        vertical-align: middle;\n",
       "    }\n",
       "\n",
       "    .dataframe tbody tr th {\n",
       "        vertical-align: top;\n",
       "    }\n",
       "\n",
       "    .dataframe thead th {\n",
       "        text-align: right;\n",
       "    }\n",
       "</style>\n",
       "<table border=\"1\" class=\"dataframe\">\n",
       "  <thead>\n",
       "    <tr style=\"text-align: right;\">\n",
       "      <th></th>\n",
       "      <th>Y</th>\n",
       "    </tr>\n",
       "    <tr>\n",
       "      <th>X</th>\n",
       "      <th></th>\n",
       "    </tr>\n",
       "  </thead>\n",
       "  <tbody>\n",
       "    <tr>\n",
       "      <th>0</th>\n",
       "      <td>74.250000</td>\n",
       "    </tr>\n",
       "    <tr>\n",
       "      <th>1</th>\n",
       "      <td>56.250000</td>\n",
       "    </tr>\n",
       "    <tr>\n",
       "      <th>2</th>\n",
       "      <td>72.250000</td>\n",
       "    </tr>\n",
       "    <tr>\n",
       "      <th>3</th>\n",
       "      <td>141.666667</td>\n",
       "    </tr>\n",
       "  </tbody>\n",
       "</table>\n",
       "</div>"
      ],
      "text/plain": [
       "            Y\n",
       "X            \n",
       "0   74.250000\n",
       "1   56.250000\n",
       "2   72.250000\n",
       "3  141.666667"
      ]
     },
     "execution_count": 143,
     "metadata": {},
     "output_type": "execute_result"
    }
   ],
   "source": [
    "choices = len(TableA['A'].unique())\n",
    "def variance_with_missing(vals):\n",
    "    mean_with_missing = np.sum(vals) / choices\n",
    "    ss_present = np.sum((vals - mean_with_missing)**2)\n",
    "    ss_missing = (choices - len(vals)) * mean_with_missing**2\n",
    "    return (ss_present + ss_missing) / (choices - 1)\n",
    "\n",
    "TableA.groupby('X').agg({'Y': variance_with_missing})"
   ]
  },
  {
   "cell_type": "code",
   "execution_count": 144,
   "metadata": {},
   "outputs": [
    {
     "data": {
      "text/html": [
       "<div>\n",
       "<style scoped>\n",
       "    .dataframe tbody tr th:only-of-type {\n",
       "        vertical-align: middle;\n",
       "    }\n",
       "\n",
       "    .dataframe tbody tr th {\n",
       "        vertical-align: top;\n",
       "    }\n",
       "\n",
       "    .dataframe thead th {\n",
       "        text-align: right;\n",
       "    }\n",
       "</style>\n",
       "<table border=\"1\" class=\"dataframe\">\n",
       "  <thead>\n",
       "    <tr style=\"text-align: right;\">\n",
       "      <th></th>\n",
       "      <th>Y</th>\n",
       "    </tr>\n",
       "    <tr>\n",
       "      <th>X</th>\n",
       "      <th></th>\n",
       "    </tr>\n",
       "  </thead>\n",
       "  <tbody>\n",
       "    <tr>\n",
       "      <th>0</th>\n",
       "      <td>74.250000</td>\n",
       "    </tr>\n",
       "    <tr>\n",
       "      <th>1</th>\n",
       "      <td>56.250000</td>\n",
       "    </tr>\n",
       "    <tr>\n",
       "      <th>2</th>\n",
       "      <td>72.250000</td>\n",
       "    </tr>\n",
       "    <tr>\n",
       "      <th>3</th>\n",
       "      <td>141.666667</td>\n",
       "    </tr>\n",
       "  </tbody>\n",
       "</table>\n",
       "</div>"
      ],
      "text/plain": [
       "            Y\n",
       "X            \n",
       "0   74.250000\n",
       "1   56.250000\n",
       "2   72.250000\n",
       "3  141.666667"
      ]
     },
     "execution_count": 144,
     "metadata": {},
     "output_type": "execute_result"
    }
   ],
   "source": [
    "df_complete.groupby('X').agg({'Y': 'var'})"
   ]
  },
  {
   "cell_type": "code",
   "execution_count": 103,
   "metadata": {},
   "outputs": [
    {
     "name": "stdout",
     "output_type": "stream",
     "text": [
      "10.8 s ± 209 ms per loop (mean ± std. dev. of 7 runs, 1 loop each)\n"
     ]
    }
   ],
   "source": [
    "def test(TableA):\n",
    "    for i in range(1,TableA.X.max()+1):\n",
    "        for j in TableA.A.unique():\n",
    "            if not (TableA[(TableA.X==i) & (TableA.A==j)]['Y']).any():\n",
    "                TableA = TableA.append(pd.DataFrame({'A':[j],'X':[i],'Y':[0]}),ignore_index=True)\n",
    "\n",
    "\n",
    "    return TableA.groupby('X').agg({'Y':np.var})\n",
    "\n",
    "%timeit test(TableA)"
   ]
  },
  {
   "cell_type": "code",
   "execution_count": 104,
   "metadata": {},
   "outputs": [
    {
     "name": "stdout",
     "output_type": "stream",
     "text": [
      "34.5 ms ± 380 µs per loop (mean ± std. dev. of 7 runs, 10 loops each)\n"
     ]
    }
   ],
   "source": [
    "def test2(TableA):\n",
    "    choices = len(TableA['A'].unique())\n",
    "    def variance_with_missing(vals):\n",
    "        mean_with_missing = np.sum(vals) / choices\n",
    "        ss_present = np.sum((vals - mean_with_missing)**2)\n",
    "        ss_missing = (choices - len(vals)) * mean_with_missing**2\n",
    "        return (ss_present + ss_missing) / (choices - 1)\n",
    "\n",
    "    return TableA.groupby('X').agg({'Y': variance_with_missing})\n",
    "\n",
    "%timeit test2(TableA)"
   ]
  },
  {
   "cell_type": "markdown",
   "metadata": {
    "Collapsed": "false"
   },
   "source": [
    "# SQL"
   ]
  },
  {
   "cell_type": "markdown",
   "metadata": {},
   "source": [
    "## intro\n",
    " - sql is a declarative programming language to manipulate tables\n",
    " - declarative: no functions or loops, just _declare_ what you need and the runtime will figure out how to compute it\n",
    " - sql queries can be used to\n",
    "   - insert new rows into a table\n",
    "   - delete rows from a table\n",
    "   - update one or more attributes of one or more rows in a table\n",
    "   - retrieve and possibly transform rows combing from one or more tables\n",
    " - this section will mostly focus on reading data (last point)"
   ]
  },
  {
   "cell_type": "markdown",
   "metadata": {},
   "source": [
    "\n",
    "## main abstraction: tables\n",
    " - a table is a _set_ of tuples (rows)\n",
    "   - no two rows are the same\n",
    " - rows are distinguished by _primary keys_\n",
    "   - primary key: smallest set of attributes that uniquely identifies a row, examples:\n",
    "     - student ID (one attribute)\n",
    "     - first name, last name, birth date, place of birth (four attributes)\n",
    "   - the primary key is a property of each table\n",
    "     - all rows in a table use the same attributes as primary key\n",
    "     - but different tables can have different primary keys\n",
    "   - cannot have two rows with the same primary key\n",
    " - _foreign keys_ are used to refer to rows of other tables\n",
    "   - e.g. a table with grades will have foreign keys that point to the student and the course"
   ]
  },
  {
   "cell_type": "markdown",
   "metadata": {},
   "source": [
    "## domain\n",
    " - good database design has\n",
    "   - one table for each \"entity\" in the domain\n",
    "   - relationships between entities\n",
    " - types of binary relationships:\n",
    "   - 1 to 1 (can be stored in either entity, but NOT BOTH, or in a separate talbe)\n",
    "   - 1 to n (must be stored in the entity with cardinality \"1\", or in a separate table)\n",
    "   - m to n (requires a separate table)  \n",
    " - possible to have relationships between more than two entities\n",
    " - example:\n",
    "   - entities\n",
    "     - students (id, name, degree)\n",
    "     - courses (id, faculty, semester)\n",
    "     - professors (id, name, chair)\n",
    "   - relationships\n",
    "     - \"mentor\" between students (suppose 1 to 1), three possibilities\n",
    "       - have a column \"mentor\"\n",
    "       - have a column \"mentee\"\n",
    "       - having both is not ideal: more work to ensure consistency\n",
    "       - have a new table (mentor, mentee)\n",
    "     -  grades (entity student, entity course, attribute grade)\n",
    "       - m to n -> requires a table\n",
    "     - teaches (professors, courses)\n",
    "       - m to n -> requires a table\n",
    "       - only one professor per course -> store professor in course table or create separate table\n",
    " - sql shines when \"navigating\" across relationships, for example:\n",
    "   - for each student, find the professor that gave them the highest grade\n",
    "   - for each professor, find courses taught last semester"
   ]
  },
  {
   "cell_type": "markdown",
   "metadata": {},
   "source": [
    "## anatomy of a select query\n",
    " - \"select\" queries are used to retrieve data from the database\n",
    "   \n",
    "    ```\n",
    "SELECT <columns and transformation>\n",
    "FROM <source table(s)>\n",
    "[WHERE <filter rows coming from source table(s)>]\n",
    "[GROUP BY <create groups of rows>\n",
    "[HAVING <filter groups>]]\n",
    "    ```\n",
    "    \n",
    " - must have SELECT+FROM\n",
    " - WHERE and GROUPBY optional\n",
    " - HAVING optional, must be used with GROUP BY\n",
    " - note on GROUP BY: eventually you must have only one row per group"
   ]
  },
  {
   "cell_type": "markdown",
   "metadata": {},
   "source": [
    "## select query untangled\n",
    " - confusingly, order of execution is different than order of writing:\n",
    "   1. FROM: first, gather all input rows from all tables\n",
    "   2. WHERE: next, remove all rows not matching the predicate\n",
    "   3. GROUP BY: now, if needed, create groups of rows\n",
    "   4. HAVING: then, remove all groups that do not match the predicate\n",
    "   5. SELECT: finally, produce output rows"
   ]
  },
  {
   "cell_type": "markdown",
   "metadata": {},
   "source": [
    "## FROM: source tables\n",
    " - you can specify one or more tables in the from clause\n",
    " - FROM will do a cross-product of all tuples of all tables\n",
    " - in almost all cases, you only want a small subset of the cross-product\n",
    "   - use WHERE to remove tuples that do not make sense - possible to give aliases to tables that can be used in the remainder of the query\n",
    " - possible to give aliases to tables and use that alias in the rest of the query\n",
    "   - useful to keep query short and when the same table is used several times in the same query"
   ]
  },
  {
   "cell_type": "markdown",
   "metadata": {},
   "source": [
    "## WHERE: tuple filter\n",
    " - specify a boolean condition that is evaluated for each row produced by the FROM\n",
    " - all rows where this evaluates to false are discarded\n",
    " - handling of null values"
   ]
  },
  {
   "cell_type": "markdown",
   "metadata": {},
   "source": [
    "## JOIN: a special case of FROM+WHERE\n",
    " - in most cases, we are not interested in the cross-product\n",
    " - we actually want tuples that match primary/foreign keys\n",
    " - example `SELECT * FROM students, grades WHERE students.id = grade.student`\n",
    "   - associates to each student all its grades (one per row)\n",
    " - this operation is so common that it has a special name to distinguish it from the general case\n",
    " - `SELECT * FROM students JOIN grades ON student.id = grade.student`\n",
    " - options to handle non-matches:\n",
    "   - inner join: `FROM students [INNER] JOIN grades ON student.id = grade.student`\n",
    "     - `WHERE students.id = grade.student`\n",
    "     - only keep matches\n",
    "   - left join: `FROM students LEFT JOIN grades ON student.id = grade.student`\n",
    "     - `WHERE students.id = grade.student OR grade.student IS NULL`\n",
    "     - keep matches and un-matched records from _left_ table\n",
    "   - right join: `FROM students RIGHT JOIN grades ON student.id = grade.student`\n",
    "     - `WHERE students.id = grade.student OR stude=nt.id IS NULL`\n",
    "     - keep matches and un-matched records from _right_ table\n",
    "   - outer join: `FROM students OUTER JOIN grades ON student.id = grade.student`\n",
    "     - `WHERE students.id = grade.student OR grade.student IS NULL OR student.id IS NULL`\n",
    "     - keep matches, cross-product between un-matched records\n",
    " - other possibilities:\n",
    "    - natural join: `FROM students JOIN grades`\n",
    "      - `ON` is missing -> match all columns with the same name\n",
    "    - self join: `FROM stdudents s JOIN students t`\n",
    "      - better to use aliases"
   ]
  },
  {
   "cell_type": "markdown",
   "metadata": {},
   "source": [
    "## GROUP BY: create groups of rows\n",
    " - must specify one or more columns, possibly with transformation\n",
    " - all rows that have the same values for all (transformed) column(s) end up in the same group"
   ]
  },
  {
   "cell_type": "markdown",
   "metadata": {},
   "source": [
    "## HAVING: filter groups\n",
    " - another boolean condition applied to each group\n",
    " - example: filter by group size, min/max/mean of something.."
   ]
  },
  {
   "cell_type": "markdown",
   "metadata": {},
   "source": [
    "## SELECT: produce output columns\n",
    " - all the surviving groups/rows are transformed\n",
    " - select only a subset of attributes, or transform values\n",
    " - careful: each group must be collapsed into a row"
   ]
  },
  {
   "cell_type": "markdown",
   "metadata": {},
   "source": [
    "## subqueries and CTE\n",
    " - to make things messy\n",
    " - too many CTE's can make query slower, sometimes better to create temporary table\n",
    " - jww's usecase:\n",
    "    ```sql\n",
    "select t.id, (\n",
    "  select u.status\n",
    "  from tbl u\n",
    "  where t.id == u.id and t.timestamp >= u.timestamp\n",
    "  order by desc u.timestamp\n",
    "  limit 1\n",
    ") as status\n",
    "from tbl t\n",
    "```\n",
    "\n",
    "   - tbl has columns id, timestamp, status, where status can be null.\n",
    "   - goal is to fill null status with most recent non-null status (of the same id)\n",
    "   - need index on (id, timestamp) to be quick"
   ]
  },
  {
   "cell_type": "markdown",
   "metadata": {},
   "source": [
    "## examples of complex queries\n",
    " - TODO"
   ]
  },
  {
   "cell_type": "markdown",
   "metadata": {},
   "source": [
    "## programmatically interfacing to a RDBMS\n",
    " - connections\n",
    " - cursors\n",
    " - sql injection and proper escaping"
   ]
  },
  {
   "cell_type": "markdown",
   "metadata": {},
   "source": [
    "## transactions and ACID\n",
    " - heh"
   ]
  },
  {
   "cell_type": "markdown",
   "metadata": {},
   "source": [
    "## advanced: indexing\n",
    " - depending on your query and how you express it, it may be quite slow\n",
    " - the DBMS tries to optimize every query, but sometimes it fails\n",
    " - when most of the time is spent on joins and lookups, creating _indices_ can greatly speed up the query\n",
    " - an index is just a mapping from values to rows that contain that value in one or more columns\n",
    " - this makes it much faster to find rows that contain a given value\n",
    "   - instead of checking row by row, simply look in the index\n",
    "   - think about books!\n",
    " - an index is always relative to a table and one or more columns\n",
    "   - `CREATE INDEX <index name> ON <table name>(<list of columns>)`\n",
    " - a table can have many indices, but one is always created automatically for primary keys\n",
    "   - all otherunique keys must also have an index\n",
    "   - joins are much faster when there is an index on one of the columns\n",
    " - if a query is slow and/or executed very frequently, consider adding an index on columns used in the WHERE/JOIN\n",
    " - types of index:\n",
    "   - tree-based: O(NlogN) access, can be used to quickly answer queries like `WHERE L < column < U`\n",
    "   - hash-based: O(1) access, cannot answer range queries\n",
    "   - clustered index: table is physically sorted by the columns"
   ]
  },
  {
   "cell_type": "markdown",
   "metadata": {},
   "source": [
    "## advanced: query plans\n",
    " - understanding why a query is slow is not trivial\n",
    " - the query plan is produced by the optimizer and shows exactly what and how is done to execute the query\n",
    " - it contains an estimated cost and can be augmented with the actual cost measured when executing the query\n",
    " - estimated cost:\n",
    "   - computed from statistics about rows/values that the DBMS maintains internally\n",
    "   - these statistics can become inaccurate after lots of operations\n",
    "   - useful to periodically recompute these statistics\n",
    "   - also useful to periodically clear the space allocated to deleted rows and defragment table data\n",
    " - (show example of plans before/after adding an index)"
   ]
  },
  {
   "cell_type": "markdown",
   "metadata": {
    "Collapsed": "false"
   },
   "source": [
    "# Non-SQL"
   ]
  },
  {
   "cell_type": "code",
   "execution_count": null,
   "metadata": {
    "Collapsed": "false",
    "lines_to_next_cell": 2
   },
   "outputs": [],
   "source": []
  },
  {
   "cell_type": "markdown",
   "metadata": {
    "Collapsed": "false"
   },
   "source": [
    "# Graph Databases"
   ]
  },
  {
   "cell_type": "markdown",
   "metadata": {
    "Collapsed": "false"
   },
   "source": [
    "## Graph Theory"
   ]
  },
  {
   "cell_type": "code",
   "execution_count": null,
   "metadata": {
    "Collapsed": "false",
    "lines_to_next_cell": 2
   },
   "outputs": [],
   "source": []
  },
  {
   "cell_type": "markdown",
   "metadata": {
    "Collapsed": "false"
   },
   "source": [
    "## Neo4j"
   ]
  },
  {
   "cell_type": "code",
   "execution_count": null,
   "metadata": {
    "Collapsed": "false"
   },
   "outputs": [],
   "source": []
  }
 ],
 "metadata": {
  "jupytext": {
   "formats": "ipynb,py"
  },
  "kernelspec": {
   "display_name": "Python 3",
   "language": "python",
   "name": "python3"
  },
  "language_info": {
   "codemirror_mode": {
    "name": "ipython",
    "version": 3
   },
   "file_extension": ".py",
   "mimetype": "text/x-python",
   "name": "python",
   "nbconvert_exporter": "python",
   "pygments_lexer": "ipython3",
   "version": "3.7.7"
  }
 },
 "nbformat": 4,
 "nbformat_minor": 4
}
