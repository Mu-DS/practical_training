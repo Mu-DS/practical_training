{
 "cells": [
  {
   "cell_type": "markdown",
   "metadata": {
    "Collapsed": "false"
   },
   "source": [
    "# Data Management and Database Basics"
   ]
  },
  {
   "cell_type": "markdown",
   "metadata": {
    "Collapsed": "false"
   },
   "source": [
    "## Motivation"
   ]
  },
  {
   "cell_type": "markdown",
   "metadata": {
    "Collapsed": "false"
   },
   "source": [
    "<img src=\"https://preview.redd.it/gph4rp6drvo41.jpg?width=640&crop=smart&auto=webp&s=a407a7be1da73ba010f0295a6351ab9d14471b2a\" width=400 />"
   ]
  },
  {
   "cell_type": "markdown",
   "metadata": {
    "Collapsed": "false"
   },
   "source": [
    "## Overview"
   ]
  },
  {
   "cell_type": "markdown",
   "metadata": {
    "Collapsed": "false"
   },
   "source": [
    "1. Pre-SQL  (Robin)\n",
    "2. SQL databases  (Ali/Emilio)\n",
    "3. Non-SQL databases  (Ali)\n",
    "4. Simple graph database introduction  (Robin?)"
   ]
  },
  {
   "cell_type": "markdown",
   "metadata": {
    "Collapsed": "false"
   },
   "source": [
    "# Pre-SQL"
   ]
  },
  {
   "cell_type": "markdown",
   "metadata": {
    "Collapsed": "false"
   },
   "source": [
    "- You kind of have data, but not really that much.\n",
    "- You want to organize it better,  but keep things lightweight to share."
   ]
  },
  {
   "cell_type": "markdown",
   "metadata": {
    "Collapsed": "false"
   },
   "source": [
    "## Working with CSV files"
   ]
  },
  {
   "cell_type": "code",
   "execution_count": null,
   "metadata": {
    "Collapsed": "false",
    "lines_to_next_cell": 2
   },
   "outputs": [],
   "source": []
  },
  {
   "cell_type": "markdown",
   "metadata": {
    "Collapsed": "false"
   },
   "source": [
    "### Efficiently reading last lines"
   ]
  },
  {
   "cell_type": "code",
   "execution_count": null,
   "metadata": {
    "Collapsed": "false",
    "lines_to_next_cell": 2
   },
   "outputs": [],
   "source": []
  },
  {
   "cell_type": "markdown",
   "metadata": {
    "Collapsed": "false"
   },
   "source": [
    "# SQL"
   ]
  },
  {
   "cell_type": "markdown",
   "metadata": {},
   "source": [
    "## intro\n",
    " - sql is a declarative programming language to manipulate tables\n",
    " - declarative: no functions or loops, just _declare_ what you need and the runtime will figure out how to compute it\n",
    " - sql queries can be used to\n",
    "   - insert new rows into a table\n",
    "   - delete rows from a table\n",
    "   - update one or more attributes of one or more rows in a table\n",
    "   - retrieve and possibly transform rows combing from one or more tables"
   ]
  },
  {
   "cell_type": "markdown",
   "metadata": {},
   "source": [
    "\n",
    "## main abstraction: tables\n",
    " - a table is a _set_ of tuples (rows)\n",
    "   - no two rows are the same\n",
    " - rows are distinguished by _primary keys_\n",
    "   - primary key: smallest set of attributes that uniquely identifies a row, examples:\n",
    "     - student ID (one attribute)\n",
    "     - first name, last name, birth date, place of birth (four attributes)\n",
    "   - the primary key is a property of each table\n",
    "     - all rows in a table use the same attributes as primary key\n",
    "     - but different tables can have different primary keys\n",
    "   - cannot have two rows with the same primary key\n",
    " - _foreign keys_ are used to refer to rows of other tables\n",
    "   - e.g. a table with grades will have foreign keys that point to the student and the course"
   ]
  },
  {
   "cell_type": "markdown",
   "metadata": {},
   "source": [
    "## anatomy of a select query\n",
    " - \"select\" queries are used to retrieve data from the database\n",
    " - must have SELECT+FROM\n",
    " - WHERE and GROUPBY optional\n",
    " - HAVING optional, must be used with GROUP BY\n",
    " - note on GROUP BY: eventually you must have only one row per group\n",
    "\n",
    "```\n",
    "SELECT <columns and transformation>\n",
    "FROM <source table(s)>\n",
    "[WHERE <filter rows coming from source table(s)>]\n",
    "[GROUP BY <create groups of rows>\n",
    "[HAVING <filter groups>]]\n",
    "```"
   ]
  },
  {
   "cell_type": "markdown",
   "metadata": {},
   "source": [
    "## select query untangled\n",
    " - confusingly, order of execution is different than order of writing:\n",
    "   1. FROM: first, gather all input rows from all tables\n",
    "   2. WHERE: next, remove all rows not matching the predicate\n",
    "   3. GROUP BY: now, if needed, create groups of rows\n",
    "   4. HAVING: then, remove all groups that do not match the predicate\n",
    "   5. SELECT: finally, produce output rows"
   ]
  },
  {
   "cell_type": "markdown",
   "metadata": {},
   "source": [
    "## FROM: source tables\n",
    " - you can specify one or more tables in the from clause\n",
    " - FROM will do a cross-product of all tuples of all tables\n",
    " - in almost all cases, you only want a small subset of the cross-product\n",
    "   - use WHERE to remove tuples that do not make sense\n",
    " - special case: JOIN\n",
    "   - inner/left/right/outer\n",
    " - possible to give aliases to tables that can be used in the remainder of the query"
   ]
  },
  {
   "cell_type": "markdown",
   "metadata": {},
   "source": [
    "## WHERE: tuple filter\n",
    " - specify a boolean condition that is evaluated for each row produced by the FROM\n",
    " - all rows where this evaluates to false are discarded"
   ]
  },
  {
   "cell_type": "markdown",
   "metadata": {},
   "source": [
    "## GROUP BY: create groups of rows\n",
    " - must specify one or more columns, possibly with transformation\n",
    " - all rows that have the same values for all (transformed) column(s) end up in the same group"
   ]
  },
  {
   "cell_type": "markdown",
   "metadata": {},
   "source": [
    "## HAVING: filter groups\n",
    " - another boolean condition applied to each group\n",
    " - example: filter by group size, min/max/mean of something.."
   ]
  },
  {
   "cell_type": "markdown",
   "metadata": {},
   "source": [
    "## SELECT: produce output columns\n",
    " - all the surviving groups/rows are transformed\n",
    " - select only a subset of attributes, or transform values\n",
    " - careful: each group must be collapsed into a row"
   ]
  },
  {
   "cell_type": "markdown",
   "metadata": {},
   "source": [
    "## subqueries and CTE\n",
    " - to make things messy"
   ]
  },
  {
   "cell_type": "markdown",
   "metadata": {},
   "source": [
    "## examples of complex queries\n",
    " - TODO"
   ]
  },
  {
   "cell_type": "markdown",
   "metadata": {},
   "source": [
    "## transactions and ACID\n",
    " - heh"
   ]
  },
  {
   "cell_type": "markdown",
   "metadata": {},
   "source": [
    "## advanced: query plans and indexing\n",
    " - why"
   ]
  },
  {
   "cell_type": "markdown",
   "metadata": {
    "Collapsed": "false"
   },
   "source": [
    "# Non-SQL"
   ]
  },
  {
   "cell_type": "code",
   "execution_count": null,
   "metadata": {
    "Collapsed": "false",
    "lines_to_next_cell": 2
   },
   "outputs": [],
   "source": []
  },
  {
   "cell_type": "markdown",
   "metadata": {
    "Collapsed": "false"
   },
   "source": [
    "# Graph Databases"
   ]
  },
  {
   "cell_type": "markdown",
   "metadata": {
    "Collapsed": "false"
   },
   "source": [
    "## Graph Theory"
   ]
  },
  {
   "cell_type": "code",
   "execution_count": null,
   "metadata": {
    "Collapsed": "false",
    "lines_to_next_cell": 2
   },
   "outputs": [],
   "source": []
  },
  {
   "cell_type": "markdown",
   "metadata": {
    "Collapsed": "false"
   },
   "source": [
    "## Neo4j"
   ]
  },
  {
   "cell_type": "code",
   "execution_count": null,
   "metadata": {
    "Collapsed": "false"
   },
   "outputs": [],
   "source": []
  }
 ],
 "metadata": {
  "jupytext": {
   "formats": "ipynb,py"
  },
  "kernelspec": {
   "display_name": "Python 3",
   "language": "python",
   "name": "python3"
  },
  "language_info": {
   "codemirror_mode": {
    "name": "ipython",
    "version": 3
   },
   "file_extension": ".py",
   "mimetype": "text/x-python",
   "name": "python",
   "nbconvert_exporter": "python",
   "pygments_lexer": "ipython3",
   "version": "3.7.7"
  }
 },
 "nbformat": 4,
 "nbformat_minor": 4
}
