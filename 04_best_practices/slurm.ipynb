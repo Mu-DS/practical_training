{
 "cells": [
  {
   "cell_type": "markdown",
   "metadata": {},
   "source": [
    "# Slurm\n",
    "Slurm is a widely used cluster manager and job scheduling system. It's used to submit jobs in an HPC system.  "
   ]
  },
  {
   "cell_type": "markdown",
   "metadata": {},
   "source": [
    "### First contact with Slurm\n",
    "Basic commands to communicate with the cluster are:\n",
    "- `srun` to directly run a command on a computing node. This is usually used to have interactive sessions slurm\n",
    "- `sinfo` to get info on specific jobs (selected by jobid, user etc.). Useful to monitor your jobs\n",
    "- `sbatch` to submit jobs to the cluster. This is useful if you want to submit scripts etc. "
   ]
  },
  {
   "cell_type": "markdown",
   "metadata": {},
   "source": [
    "## How does the cluster look like\n",
    "We can use `sinfo` to get a glimpse of the cluster structure:\n",
    "```bash\n",
    "PARTITION       AVAIL  TIMELIMIT  NODES  STATE NODELIST\n",
    "icb_cpu*           up 7-00:00:00     15    mix ibis216-010-[022-023,034-035,051,064,071],ibis216-224-[010-011],icb-neu-[001-003],icb-rsrv[05-06,08]\n",
    "icb_cpu*           up 7-00:00:00     22  alloc ibis-ceph-[002-006,008-019],ibis216-010-[011-012,020-021,033]\n",
    "icb_cpu*           up 7-00:00:00     19   idle ibis216-010-[001-004,007,024-032,036-037,068-070]\n",
    "icb_gpu            up 7-00:00:00      9    mix icb-gpusrv[02-08],supergpu02pxe,supergpu03pxe\n",
    "icb_gpu            up 7-00:00:00      1   idle icb-gpusrv01\n",
    "icb_interactive    up   12:00:00      9  down* clara,fonsi,heidi,hias,icb-lisa,icb-mona,icb-sarah,sepp,wastl\n",
    "icb_interactive    up   12:00:00      1    mix icb-iris\n",
    "icb_rstrct         up 5-00:00:00      1    mix icb-neu-003\n",
    "bcf                up 12-00:00:0      1    mix ibis216-010-005\n",
    "bcf                up 12-00:00:0      1   idle ibis216-010-006\n",
    "```"
   ]
  },
  {
   "cell_type": "markdown",
   "metadata": {},
   "source": [
    "## What are the running jobs?\n",
    "We can use `squeue` to get that info\n",
    "```bash\n",
    "            535882   icb_cpu nf-Veloc thomas.w  R 1-00:59:00      1 ibis216-224-010\n",
    "            538003   icb_cpu rhapsody emilio.d  R   22:16:26      1 ibis216-010-071\n",
    "            541083   icb_gpu EMBEDDIN leander.  R      51:45      1 supergpu03pxe\n",
    "            541090   icb_gpu EMBEDDIN leander.  R      42:29      1 supergpu03pxe\n",
    "            541091   icb_gpu EMBEDDIN leander.  R      41:46      1 supergpu03pxe\n",
    "```"
   ]
  },
  {
   "cell_type": "markdown",
   "metadata": {},
   "source": [
    "## How about a specific job?\n",
    "We can look at specific jobs with `scontrol show jobid [JOBID]`\n",
    "```bash\n",
    "(base) [giovanni.palla@vicb-submit-02 cpu_interactive]$ sbatch submit_interactive.sh\n",
    "Submitted batch job 543650\n",
    "(base) [giovanni.palla@vicb-submit-02 cpu_interactive]$ sq\n",
    "            543650   icb_cpu interact giovanni  R       0:00      1 ibis216-010-051\n",
    "(base) [giovanni.palla@vicb-submit-02 cpu_interactive]$ scontrol show jobid 543650\n",
    "JobId=543650 JobName=interactive\n",
    "   UserId=giovanni.palla(138707) GroupId=OG-ICB-User(20000) MCS_label=N/A\n",
    "   Priority=4294048901 Nice=1000 Account=icb-user QOS=icb_stndrd\n",
    "   JobState=RUNNING Reason=None Dependency=(null)\n",
    "   Requeue=1 Restarts=0 BatchFlag=1 Reboot=0 ExitCode=0:0\n",
    "   RunTime=00:00:12 TimeLimit=10:00:00 TimeMin=N/A\n",
    "   SubmitTime=2020-09-10T12:01:00 EligibleTime=2020-09-10T12:01:00\n",
    "   AccrueTime=2020-09-10T12:01:01\n",
    "   StartTime=2020-09-10T12:01:01 EndTime=2020-09-10T22:01:01 Deadline=N/A\n",
    "   SuspendTime=None SecsPreSuspend=0 LastSchedEval=2020-09-10T12:01:01\n",
    "   Partition=icb_cpu AllocNode:Sid=vicb-submit-02.scidom.de:24925\n",
    "   ReqNodeList=(null) ExcNodeList=(null)\n",
    "   NodeList=ibis216-010-051\n",
    "   BatchHost=ibis216-010-051\n",
    "   NumNodes=1 NumCPUs=8 NumTasks=1 CPUs/Task=8 ReqB:S:C:T=0:0:*:*\n",
    "   TRES=cpu=8,mem=8G,node=1,billing=8\n",
    "   Socks/Node=* NtasksPerN:B:S:C=0:0:*:1 CoreSpec=*\n",
    "   MinCPUsNode=8 MinMemoryNode=8G MinTmpDiskNode=0\n",
    "   Features=xeon_6126|opteron_6234|opteron_6376|opteron_6378 DelayBoot=00:00:00\n",
    "   OverSubscribe=OK Contiguous=0 Licenses=(null) Network=(null)\n",
    "   Command=/storage/groups/ml01/workspace/giovanni.palla/cpu_interactive/submit_interactive.sh\n",
    "   WorkDir=/storage/groups/ml01/workspace/giovanni.palla/cpu_interactive\n",
    "   StdErr=/storage/groups/ml01/workspace/giovanni.palla/cpu_interactive/interactive_543650.err\n",
    "   StdIn=/dev/null\n",
    "   StdOut=/storage/groups/ml01/workspace/giovanni.palla/cpu_interactive/interactive_543650.out\n",
    "   Power=\n",
    "  ```"
   ]
  },
  {
   "cell_type": "markdown",
   "metadata": {},
   "source": [
    "## Establish an interactive slurm session\n",
    "```bash\n",
    "srun -p icb_interactive -w ibis216-010-022 -c 1 -t 00:15:00 --mem=200 --pty bash\n",
    "```\n",
    "\n",
    "The `--pty` is used to assign the commmand. In this case, we just want to get a bash terminal. One way I often use this is\n",
    "```bash\n",
    "(base) [giovanni.palla@vicb-submit-02 cpu_interactive]$ srun -p icb_gpu -w icb-gpusrv03 --pty nvidia-smi\n",
    "Thu Sep 10 13:11:07 2020\n",
    "+-----------------------------------------------------------------------------+\n",
    "| NVIDIA-SMI 440.31       Driver Version: 440.31       CUDA Version: 10.2     |\n",
    "|-------------------------------+----------------------+----------------------+\n",
    "| GPU  Name        Persistence-M| Bus-Id        Disp.A | Volatile Uncorr. ECC |\n",
    "| Fan  Temp  Perf  Pwr:Usage/Cap|         Memory-Usage | GPU-Util  Compute M. |\n",
    "|===============================+======================+======================|\n",
    "|   0  TITAN V             Off  | 00000000:65:00.0 Off |                  N/A |\n",
    "| 61%   83C    P2   147W / 250W |  12005MiB / 12066MiB |     83%      Default |\n",
    "+-------------------------------+----------------------+----------------------+\n",
    "|   1  TITAN V             Off  | 00000000:B3:00.0 Off |                  N/A |\n",
    "| 62%   83C    P2   140W / 250W |  12005MiB / 12066MiB |     48%      Default |\n",
    "+-------------------------------+----------------------+----------------------+\n",
    "\n",
    "+-----------------------------------------------------------------------------+\n",
    "| Processes:                                                       GPU Memory |\n",
    "|  GPU       PID   Type   Process name                             Usage      |\n",
    "|=============================================================================|\n",
    "|    0     60099      C   python                                     11993MiB |\n",
    "|    1     60098      C   python                                     11993MiB |\n",
    "+-----------------------------------------------------------------------------+\n",
    "```\n",
    "Very useful if you want to get quick info on efficiency of gpu usage etc."
   ]
  },
  {
   "cell_type": "markdown",
   "metadata": {},
   "source": [
    "## Guidelines for srun\n",
    "In general, always be specific with the arguments, although it's true that slurm systems usually have sound defaults values."
   ]
  },
  {
   "cell_type": "markdown",
   "metadata": {},
   "source": [
    "## More on sbatch\n",
    "`sbatch` is useful to submit scripts as jobs. Usually, you have interactive sessions with `srun` for prorotyping, but then you want to use `sbatch` for the major computation. Argemunts are exactly the same as `srun`, but specified differently.\n",
    "\n",
    "```bash\n",
    "#!/bin/bash\n",
    "\n",
    "#SBATCH -o slurm_output.txt\n",
    "#SBATCH -e slurm_error.txt\n",
    "#SBATCH -J MyFancyJobName\n",
    "#SBATCH -p icb_cpu\n",
    "#SBATCH --nodelist=ibis-ceph-002\n",
    "#SBATCH -c 1\n",
    "#SBATCH --mem=2G\n",
    "#SBATCH -t 00:15:00\n",
    "#SBATCH --nice=10000 \n",
    "\n",
    "echo \"Starting stuff at `date`\"\n",
    "# You can put arbitrary unix commands here, call other scripts, etc...\n",
    "sleep 10\n",
    "echo \"Computering...\"\n",
    "sleep 900\n",
    "echo \"Ending stuff at `date`\"\n",
    "```"
   ]
  },
  {
   "cell_type": "markdown",
   "metadata": {},
   "source": [
    "## Interactive session with sbatch\n",
    "In a typical datascience workflow, you might want to start your coding with a jupyter instance. This is a way to do it.  \n",
    "\n",
    "Create a script `submit_interactive.sh` that looks like this:\n",
    "```bash\n",
    "#!/bin/bash\n",
    "\n",
    "#SBATCH -o \"interactive_%j.out\"\n",
    "#SBATCH -e \"interactive_%j.err\"\n",
    "#SBATCH -J interactive\n",
    "#SBATCH -c 8 # default values is 2\n",
    "#SBATCH --constraint=\"xeon_6126|opteron_6234|opteron_6376|opteron_6378\"\n",
    "#SBATCH --mem=8GB\n",
    "#SBATCH -t 10:00:00\n",
    "#SBATCH --nice=10000\n",
    "\n",
    "./run_jupyter.bash -e myenv\n",
    "```  \n",
    "\n",
    "and another script `run_jupyter.bash`, that looks like this:\n",
    "```bash\n",
    "#!/bin/bash\n",
    "\n",
    "source ~/.bashrc\n",
    "\n",
    "while getopts \":e:\" opt; do\n",
    "  case $opt in\n",
    "    e) env=\"$OPTARG\"\n",
    "    ;;\n",
    "    \\?) echo \"Invalid option -$OPTARG\" >&2\n",
    "    ;;\n",
    "  esac\n",
    "done\n",
    "\n",
    "conda activate $env\n",
    "cd /storage/groups/ml01/workspace/giovanni.palla\n",
    "jupyter lab --no-browser --ip=0.0.0.0\n",
    "```"
   ]
  },
  {
   "cell_type": "markdown",
   "metadata": {},
   "source": [
    "## Interactive session with sbatch\n",
    "After ~30 seconds, you will read the link for the jupyter session in the `.err` file\n",
    "```bash\n",
    "(base) [giovanni.palla@vicb-submit-02 cpu_interactive]$ cat interactive_543650.err\n",
    "[I 12:01:26.392 LabApp] JupyterLab extension loaded from /home/icb/giovanni.palla/miniconda3/envs/sfaira/lib/python3.8/site-packages/jupyterlab\n",
    "[I 12:01:26.392 LabApp] JupyterLab application directory is /home/icb/giovanni.palla/miniconda3/envs/sfaira/share/jupyter/lab\n",
    "[I 12:01:26.401 LabApp] Serving notebooks from local directory: /storage/groups/ml01/workspace/giovanni.palla\n",
    "[I 12:01:26.401 LabApp] The Jupyter Notebook is running at:\n",
    "[I 12:01:26.401 LabApp] http://ibis216-010-051.scidom.de:8888/?token=ba33b814bc360beb21c803517adc53ade10da631ede21690\n",
    "[I 12:01:26.401 LabApp]  or http://127.0.0.1:8888/?token=ba33b814bc360beb21c803517adc53ade10da631ede21690\n",
    "[I 12:01:26.401 LabApp] Use Control-C to stop this server and shut down all kernels (twice to skip confirmation).\n",
    "[C 12:01:26.424 LabApp]\n",
    "\n",
    "    To access the notebook, open this file in a browser:\n",
    "        file:///mnt/home/icb/giovanni.palla/.local/share/jupyter/runtime/nbserver-1565-open.html\n",
    "    Or copy and paste one of these URLs:\n",
    "        http://ibis216-010-051.scidom.de:8888/?token=ba33b814bc360beb21c803517adc53ade10da631ede21690\n",
    "     or http://127.0.0.1:8888/?token=ba33b814bc360beb21c803517adc53ade10da631ede21690\n",
    "```"
   ]
  },
  {
   "cell_type": "markdown",
   "metadata": {},
   "source": [
    "## Another command: sacct\n",
    "Useful to check all your recent jobs (finished, cancelled, etc)\n",
    "\n",
    "```bash\n",
    "(base) [giovanni.palla@vicb-submit-02 cpu_interactive]$ sacct\n",
    "       JobID    JobName  Partition    Account  AllocCPUS      State ExitCode\n",
    "------------ ---------- ---------- ---------- ---------- ---------- --------\n",
    "543650       interacti+    icb_cpu   icb-user          8    RUNNING      0:0\n",
    "543650.batch      batch              icb-user          8    RUNNING      0:0\n",
    "543650.exte+     extern              icb-user          8    RUNNING      0:0\n",
    "543818       nvidia-smi    icb_gpu   icb-user          2  COMPLETED      0:0\n",
    "543818.exte+     extern              icb-user          2  COMPLETED      0:0\n",
    "543818.0     nvidia-smi              icb-user          2  COMPLETED      0:0\n",
    "```"
   ]
  }
 ],
 "metadata": {
  "kernelspec": {
   "display_name": "Python 3",
   "language": "python",
   "name": "python3"
  },
  "language_info": {
   "codemirror_mode": {
    "name": "ipython",
    "version": 3
   },
   "file_extension": ".py",
   "mimetype": "text/x-python",
   "name": "python",
   "nbconvert_exporter": "python",
   "pygments_lexer": "ipython3",
   "version": "3.7.4"
  }
 },
 "nbformat": 4,
 "nbformat_minor": 4
}
