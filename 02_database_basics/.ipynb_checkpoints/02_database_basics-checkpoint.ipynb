{
 "cells": [
  {
   "cell_type": "markdown",
   "metadata": {
    "Collapsed": "false"
   },
   "source": [
    "# Data Management and Database Basics"
   ]
  },
  {
   "cell_type": "markdown",
   "metadata": {
    "Collapsed": "false"
   },
   "source": [
    "## Motivation"
   ]
  },
  {
   "cell_type": "markdown",
   "metadata": {
    "Collapsed": "false"
   },
   "source": [
    "<img src=\"https://preview.redd.it/gph4rp6drvo41.jpg?width=640&crop=smart&auto=webp&s=a407a7be1da73ba010f0295a6351ab9d14471b2a\" width=400 />"
   ]
  },
  {
   "cell_type": "markdown",
   "metadata": {
    "Collapsed": "false"
   },
   "source": [
    "## Overview"
   ]
  },
  {
   "cell_type": "markdown",
   "metadata": {
    "Collapsed": "false"
   },
   "source": [
    "1. Pre-SQL  (Robin)\n",
    "2. SQL databases  (Ali/Emilio)\n",
    "3. Non-SQL databases  (Ali)\n",
    "4. Simple graph database introduction  (Robin?)"
   ]
  },
  {
   "cell_type": "markdown",
   "metadata": {
    "Collapsed": "false"
   },
   "source": [
    "# Pre-SQL"
   ]
  },
  {
   "cell_type": "markdown",
   "metadata": {
    "Collapsed": "false"
   },
   "source": [
    "- You kind of have data, but not really that much.\n",
    "- You want to organize it better,  but keep things lightweight to share."
   ]
  },
  {
   "cell_type": "markdown",
   "metadata": {
    "Collapsed": "false"
   },
   "source": [
    "## Working with CSV files"
   ]
  },
  {
   "cell_type": "code",
   "execution_count": null,
   "metadata": {
    "Collapsed": "false",
    "lines_to_next_cell": 2
   },
   "outputs": [],
   "source": []
  },
  {
   "cell_type": "markdown",
   "metadata": {
    "Collapsed": "false"
   },
   "source": [
    "### Efficiently reading last lines"
   ]
  },
  {
   "cell_type": "markdown",
   "metadata": {
    "Collapsed": "false",
    "slideshow": {
     "slide_type": "slide"
    }
   },
   "source": [
    "# SQL"
   ]
  },
  {
   "cell_type": "markdown",
   "metadata": {
    "slideshow": {
     "slide_type": "slide"
    }
   },
   "source": [
    "## Introduction\n",
    " - SQL is a declarative programming language to manipulate tables\n",
    "   - no functions or loops, just _declare_ what you need and the runtime will figure out how to compute it\n",
    " - SQL queries can be used to\n",
    "   - Insert new rows into a table\n",
    "   - Delete rows from a table\n",
    "   - Ipdate one or more attributes of one or more rows in a table\n",
    "   - Retrieve and possibly transform rows combing from one or more tables\n",
    " - Relational Database Management System (RDBMS)\n",
    "   - Manages data in the tables\n",
    "   - Executes queries, returns results\n",
    " - This section will mostly focus on reading data (last point)"
   ]
  },
  {
   "cell_type": "markdown",
   "metadata": {
    "slideshow": {
     "slide_type": "slide"
    }
   },
   "source": [
    "## Main abstraction: Tables\n",
    " - A table is a _set_ of tuples (rows)\n",
    "   - No two rows are the same\n",
    " - Rows are distinguished by _primary keys_\n",
    "   - Primary key: smallest set of attributes that uniquely identifies a row\n",
    "   - Cannot have two rows with the same primary key\n",
    "   - Examples:\n",
    "     - Student ID (one attribute)\n",
    "     - First name, last name, birth date, place of birth (four attributes)\n",
    "   - The primary key is a property of each table\n",
    "     - All rows in a table use the same attributes as primary key\n",
    "     - But different tables can have different primary keys"
   ]
  },
  {
   "cell_type": "markdown",
   "metadata": {
    "slideshow": {
     "slide_type": "slide"
    }
   },
   "source": [
    "## Domain\n",
    " - Good database design has\n",
    "   - One table for each entity in the domain\n",
    "   - Relationships between two or more entities\n",
    " - _Foreign keys_ are used to refer to rows of other tables\n",
    "   - e.g. a table with grades will have foreign keys that point to the student and the course"
   ]
  },
  {
   "cell_type": "markdown",
   "metadata": {
    "slideshow": {
     "slide_type": "slide"
    }
   },
   "source": [
    "### Example: University\n",
    " - Entities\n",
    "   - Students (ID, Name, Degree)\n",
    "   - Courses (ID, Title, Faculty, Semester)\n",
    "   - Professors (ID, Name, Chair)\n",
    " - Relationships\n",
    "   - One student can *Mentor* another student\n",
    "   - A student *Attends* several courses and obtains a grade for each of them\n",
    "   - Professors *Teach* courses"
   ]
  },
  {
   "cell_type": "markdown",
   "metadata": {
    "slideshow": {
     "slide_type": "slide"
    }
   },
   "source": [
    "### ER diagram\n",
    " - Graphical form to represent entities and relationships\n",
    "   - Box: entity\n",
    "   - Diamond: relationship\n",
    "   - Circle: attribute\n",
    " \n",
    " \n",
    "![](../img/sql_er_diagram.png)"
   ]
  },
  {
   "cell_type": "markdown",
   "metadata": {
    "slideshow": {
     "slide_type": "slide"
    }
   },
   "source": [
    "### Which tables to create?\n",
    " - Until now, we separated entities from relationships\n",
    " - But in practice everything must be stored into tables\n",
    " - How to do this?\n",
    "   - One table per entity (students, courses, professors)\n",
    "   - What about the relationships?\n",
    "     - Mentor: 1 to 1, three possibilities\n",
    "       1. Have a column \"mentor\"\n",
    "       2. Have a column \"mentee\"\n",
    "          - Having both is not ideal: more work to ensure consistency\n",
    "       3. Have a new table (mentor, mentee)\n",
    "     - Attends: M to N\n",
    "       - Requires a table (student, course)\n",
    "     - Teaches: 1 to N\n",
    "       - Store professor in course table or create separate table\n",
    "   - General rule:\n",
    "     - Using a separate table is always possible, or\n",
    "     - 1 to 1: can store in either entity\n",
    "     - 1 to N: store in entity with cardinality N\n",
    "     - M to N: must use separate table"
   ]
  },
  {
   "cell_type": "markdown",
   "metadata": {
    "slideshow": {
     "slide_type": "slide"
    }
   },
   "source": [
    "### Final list of tables\n",
    " - Students(ID, Name, Degree, Mentor)\n",
    " - Professors(ID, Name, Chair)\n",
    " - Courses(ID, Title, Faculty, Semester, Professor)\n",
    " - Attends(Student, Course, Grade)\n",
    " - Which attributes are primary and foreign keys?"
   ]
  },
  {
   "cell_type": "markdown",
   "metadata": {
    "slideshow": {
     "slide_type": "slide"
    }
   },
   "source": [
    "## Purpose of SQL\n",
    " - SQL shines when \"navigating\" across relationships, for example:\n",
    "   - For each student, find the professor that gave them the highest grade\n",
    "   - For each professor, find courses taught last semester\n",
    " - Also used to modify data, tables, databases, etc.\n",
    "   - Not discussed in this course"
   ]
  },
  {
   "cell_type": "markdown",
   "metadata": {
    "slideshow": {
     "slide_type": "slide"
    }
   },
   "source": [
    "## Anatomy of a SELECT query\n",
    " - SELECT queries are used to retrieve data from the database\n",
    " - The result is itself a table (not saved unless specified)\n",
    "\n",
    "```\n",
    "SELECT <columns and transformation>\n",
    "FROM <source table(s)>\n",
    "[WHERE <filter rows coming from the source table(s)>]\n",
    "[GROUP BY <create groups of rows>\n",
    "[HAVING <filter groups>]]\n",
    "[ORDER BY <columns> [ASC|DESC]];\n",
    "```\n",
    "\n",
    " - Must have SELECT and FROM\n",
    " - WHERE and GROUPBY are optional\n",
    " - HAVING is optional, and must be used with GROUP BY\n",
    " - GROUP BY: eventually you must have only one row per group"
   ]
  },
  {
   "cell_type": "markdown",
   "metadata": {
    "slideshow": {
     "slide_type": "slide"
    }
   },
   "source": [
    "## Example\n",
    "\n",
    "Find all courses held in the Winter semester 2019/2020:\n",
    "\n",
    "```sql\n",
    "SELECT *\n",
    "FROM Courses\n",
    "WHERE Semester = 'WiSE 19/20';\n",
    "```"
   ]
  },
  {
   "cell_type": "markdown",
   "metadata": {
    "slideshow": {
     "slide_type": "slide"
    }
   },
   "source": [
    "## Select query untangled\n",
    " - Confusingly, the execution order is different than the writing order:\n",
    "   1. FROM: first, gather all input rows from all tables\n",
    "   2. WHERE: next, remove all rows not matching the predicate\n",
    "   3. GROUP BY: now, if needed, create groups of rows\n",
    "   4. HAVING: then, remove all groups that do not match the predicate\n",
    "   5. ORDER BY: sort the tuples by a the value of a certain column\n",
    "   6. SELECT: finally, produce output columns"
   ]
  },
  {
   "cell_type": "markdown",
   "metadata": {
    "slideshow": {
     "slide_type": "slide"
    }
   },
   "source": [
    "## Interactive SQL console\n",
    "\n",
    "An interactive SQL console with a few tables can be accessed at [w3schools.com](https://www.w3schools.com/sql/trysql.asp?filename=trysql_select_all)\n",
    "\n",
    " - Go to w3schools.com\n",
    " - Scroll until SQL, on the left side there will be a query and a button \"Try it Yourself\"\n",
    " - I encourage you to fiddle around while I am explaining\n",
    " - They also have a (superficial) command reference\n",
    " \n",
    "![](../img/w3trysql.png)"
   ]
  },
  {
   "cell_type": "markdown",
   "metadata": {
    "slideshow": {
     "slide_type": "slide"
    }
   },
   "source": [
    "## Interactive SQL console\n",
    "\n",
    "![](../img/w3sqled.png)"
   ]
  },
  {
   "cell_type": "markdown",
   "metadata": {
    "slideshow": {
     "slide_type": "slide"
    }
   },
   "source": [
    "## FROM: source tables\n",
    " - You can specify one or more tables in the from clause\n",
    " - FROM will do a cross-product of all tuples of all tables\n",
    " - In almost all cases, you only want a small subset of the cross-product\n",
    "   - Use WHERE to remove tuples that do not make sense\n",
    " - Possible to give aliases to tables and use that alias in the rest of the query\n",
    "   - Useful to keep query short and to disambiguate when the same table is used several times in the same query"
   ]
  },
  {
   "cell_type": "markdown",
   "metadata": {
    "slideshow": {
     "slide_type": "slide"
    }
   },
   "source": [
    "## WHERE: tuple filter\n",
    " - Specify a boolean condition that is evaluated for each row produced by the FROM\n",
    " - All rows where this evaluates to false are discarded\n",
    " - Example: Associate to each student all its grades (one per row)\n",
    "\n",
    "```sql\n",
    "SELECT *\n",
    "FROM\n",
    "    Students AS s,\n",
    "    Attend AS a,\n",
    "    Course AS c\n",
    "WHERE\n",
    "    s.ID = a.Student\n",
    "    AND a.Course = c.ID;\n",
    "```"
   ]
  },
  {
   "cell_type": "markdown",
   "metadata": {
    "slideshow": {
     "slide_type": "slide"
    }
   },
   "source": [
    "## WHERE: handling of NULL values \n",
    " \n",
    " - NULL is used for \"undefined\" values\n",
    " - Nothing is equal to NULL (not even NULL)\n",
    "   - `x = NULL` always equals NULL (i.e. false)\n",
    " - Use instead `x IS NULL` or `x IS NOT NULL`\n",
    " - Nasty example: `SELECT * FROM table WHERE x = 10 OR NOT x = 10`\n",
    "   - When `x` contains NULLs this equals `WHERE x IS NOT NULL`\n",
    "   - Dumb fix: `WHERE x = 10 OR NOT x = 10 OR x IS NULL`"
   ]
  },
  {
   "cell_type": "markdown",
   "metadata": {
    "slideshow": {
     "slide_type": "slide"
    }
   },
   "source": [
    "## JOIN: a special case of FROM+WHERE\n",
    " - In most cases, we are not interested in the cross-product\n",
    " - We actually want tuples that match primary/foreign keys\n",
    " - This operation is so common that it has a special name to distinguish it from the general case\n",
    " - Other than the name, the two are completely equivalent\n",
    " - Join makes your intentions clearer\n",
    " - The previous query becomes:\n",
    "\n",
    "```sql\n",
    "SELECT *\n",
    "FROM\n",
    "    Students AS s\n",
    "    JOIN Attend AS a\n",
    "        ON s.ID = a.Student\n",
    "    JOIN Course AS c\n",
    "        ON c.ID = a.Course;\n",
    "```"
   ]
  },
  {
   "cell_type": "markdown",
   "metadata": {
    "slideshow": {
     "slide_type": "slide"
    }
   },
   "source": [
    "## Non-matching rows in JOINs\n",
    " - Options to handle non-matches:\n",
    "   - Inner join: Only keep matches\n",
    "   - Left join: keep matches and un-matched records from _left_ table\n",
    "   - Right join: keep matches and un-matched records from _right_ table\n",
    "   - Outer join: keep matches, cross-product between un-matched records\n",
    " - Other possibilities:\n",
    "    - Natural join (`ON` is missing): match all columns with the same name\n",
    "    - Self-join: A table with itself (e.g. to find a student's mentor)"
   ]
  },
  {
   "cell_type": "markdown",
   "metadata": {
    "slideshow": {
     "slide_type": "slide"
    }
   },
   "source": [
    "### INNER JOIN\n",
    "\n",
    "```sql\n",
    "FROM Students [INNER] JOIN Attend\n",
    "    ON Student.ID = Attend.Student\n",
    "```\n",
    "\n",
    "![](../img/sql_join_inner.svg)"
   ]
  },
  {
   "cell_type": "markdown",
   "metadata": {
    "slideshow": {
     "slide_type": "slide"
    }
   },
   "source": [
    "### LEFT JOIN\n",
    "\n",
    "```sql\n",
    "FROM Students LEFT JOIN Attend\n",
    "    ON Student.ID = Attend.Student\n",
    "```\n",
    "\n",
    "![](../img/sql_join_left.svg)"
   ]
  },
  {
   "cell_type": "markdown",
   "metadata": {
    "slideshow": {
     "slide_type": "slide"
    }
   },
   "source": [
    "### RIGHT JOIN\n",
    "\n",
    "```sql\n",
    "FROM Students RIGHT JOIN Attend\n",
    "    ON Student.ID = Attend.Student\n",
    "```\n",
    "\n",
    "![](../img/sql_join_right.svg)"
   ]
  },
  {
   "cell_type": "markdown",
   "metadata": {
    "slideshow": {
     "slide_type": "slide"
    }
   },
   "source": [
    "### OUTER JOIN\n",
    "\n",
    "```sql\n",
    "FROM Students OUTER JOIN Attend\n",
    "    ON Student.ID = Attend.Student\n",
    "```\n",
    "\n",
    "![](../img/sql_join_outer.svg)\n",
    "\n",
    "\n",
    "Warning: cross-product between unmatched rows!"
   ]
  },
  {
   "cell_type": "markdown",
   "metadata": {
    "slideshow": {
     "slide_type": "slide"
    }
   },
   "source": [
    "### Retrieving un-matched rows only\n",
    "\n",
    " - Example: find all students who have not attended any course\n",
    "\n",
    "```sql\n",
    "SELECT Students.ID\n",
    "FROM Students LEFT JOIN Attend\n",
    "    ON Students.ID = Attends.Student\n",
    "WHERE\n",
    "    Attends.Student IS NULL\n",
    "```\n",
    "\n",
    "![](../img/sql_join_unmatched_only.svg)"
   ]
  },
  {
   "cell_type": "markdown",
   "metadata": {
    "slideshow": {
     "slide_type": "slide"
    }
   },
   "source": [
    "## GROUP BY: create groups of rows\n",
    " - must specify one or more columns, possibly with transformation\n",
    " - all rows that have the same values for all (transformed) column(s) end up in the same group"
   ]
  },
  {
   "cell_type": "markdown",
   "metadata": {
    "slideshow": {
     "slide_type": "slide"
    }
   },
   "source": [
    "## HAVING: filter groups\n",
    " - A boolean condition applied to each group\n",
    " - Example: filter by group size, min/max/average of something..\n",
    " - Common case: counting\n",
    "   - `COUNT(*)`: number of rows in the group\n",
    "   - `COUNT(expr)`: number of rows where `expr` is not NULL\n",
    "   - `COUNT(DISTINCT expr)`: number of unique values of `expr` (excluding NULLs)"
   ]
  },
  {
   "cell_type": "markdown",
   "metadata": {
    "slideshow": {
     "slide_type": "slide"
    }
   },
   "source": [
    "## ORDER BY: order tuples\n",
    "\n",
    " - Sort the tuples produced by the query\n",
    " - Sort by the value of one or more columns, possibly transformed\n",
    " - Possible to order by aggregations (count/min/max/sum/avg)"
   ]
  },
  {
   "cell_type": "markdown",
   "metadata": {
    "slideshow": {
     "slide_type": "slide"
    }
   },
   "source": [
    "## SELECT: produce output columns\n",
    " - All the surviving groups/rows are transformed\n",
    " - Select only a subset of attributes, or transform values\n",
    " - Careful: each group must be collapsed into a row"
   ]
  },
  {
   "cell_type": "markdown",
   "metadata": {
    "slideshow": {
     "slide_type": "slide"
    }
   },
   "source": [
    "# Examples"
   ]
  },
  {
   "cell_type": "markdown",
   "metadata": {
    "slideshow": {
     "slide_type": "slide"
    }
   },
   "source": [
    "## Example 1\n",
    "\n",
    "Find the ID of all students who failed at least one exam.\n",
    "\n",
    "```sql\n",
    "SELECT ...\n",
    "```\n",
    "\n",
    "Tables:\n",
    " - Students(ID, Name, Degree, Mentor)\n",
    " - Professors(ID, Name, Chair)\n",
    " - Courses(ID, Title, Faculty, Semester, Professor)\n",
    " - Attends(Student, Course, Grade)"
   ]
  },
  {
   "cell_type": "markdown",
   "metadata": {
    "slideshow": {
     "slide_type": "slide"
    }
   },
   "source": [
    "## Example 1\n",
    "\n",
    "Find the ID of all students who failed at least one exam.\n",
    "\n",
    "```sql\n",
    "SELECT Student\n",
    "FROM Attends\n",
    "WHERE Grade > 5\n",
    "```\n",
    "\n",
    "\n",
    "Tables:\n",
    " - Students(ID, Name, Degree, Mentor)\n",
    " - Professors(ID, Name, Chair)\n",
    " - Courses(ID, Title, Faculty, Semester, Professor)\n",
    " - Attends(Student, Course, Grade)"
   ]
  },
  {
   "cell_type": "markdown",
   "metadata": {
    "slideshow": {
     "slide_type": "slide"
    }
   },
   "source": [
    "## Example 2\n",
    "\n",
    "Find how many exams each student failed.\n",
    "\n",
    "```sql\n",
    "SELECT ...\n",
    "```\n",
    "\n",
    "Tables:\n",
    " - Students(ID, Name, Degree, Mentor)\n",
    " - Professors(ID, Name, Chair)\n",
    " - Courses(ID, Title, Faculty, Semester, Professor)\n",
    " - Attends(Student, Course, Grade)"
   ]
  },
  {
   "cell_type": "markdown",
   "metadata": {
    "slideshow": {
     "slide_type": "slide"
    }
   },
   "source": [
    "## Example 2\n",
    "\n",
    "Find how many exams each student failed.\n",
    "\n",
    "```sql\n",
    "SELECT Student, COUNT(*)\n",
    "FROM Attends\n",
    "WHERE Grade > 5\n",
    "GROUP BY Student\n",
    "```\n",
    "\n",
    "\n",
    "Tables:\n",
    " - Students(ID, Name, Degree, Mentor)\n",
    " - Professors(ID, Name, Chair)\n",
    " - Courses(ID, Title, Faculty, Semester, Professor)\n",
    " - Attends(Student, Course, Grade)"
   ]
  },
  {
   "cell_type": "markdown",
   "metadata": {
    "slideshow": {
     "slide_type": "slide"
    }
   },
   "source": [
    "## Example 3\n",
    "\n",
    "Find how many exams each student failed, only for the students who failed at least 2.\n",
    "\n",
    "```sql\n",
    "SELECT ...\n",
    "```\n",
    "\n",
    "\n",
    "Tables:\n",
    " - Students(ID, Name, Degree, Mentor)\n",
    " - Professors(ID, Name, Chair)\n",
    " - Courses(ID, Title, Faculty, Semester, Professor)\n",
    " - Attends(Student, Course, Grade)"
   ]
  },
  {
   "cell_type": "markdown",
   "metadata": {
    "slideshow": {
     "slide_type": "slide"
    }
   },
   "source": [
    "## Example 3\n",
    "\n",
    "Find how many exams each student failed, only for the students who failed at least 2.\n",
    "\n",
    "\n",
    "```sql\n",
    "SELECT Student, COUNT(*)\n",
    "FROM Attends\n",
    "WHERE Grade > 5\n",
    "GROUP BY Student\n",
    "HAVING COUNT(*) > 1\n",
    "```\n",
    "\n",
    "\n",
    "Tables:\n",
    " - Students(ID, Name, Degree, Mentor)\n",
    " - Professors(ID, Name, Chair)\n",
    " - Courses(ID, Title, Faculty, Semester, Professor)\n",
    " - Attends(Student, Course, Grade)"
   ]
  },
  {
   "cell_type": "markdown",
   "metadata": {
    "slideshow": {
     "slide_type": "slide"
    }
   },
   "source": [
    "## Example 4\n",
    "\n",
    "Find how many courses each student failed, only for the students who failed at least 2 exams.\n",
    "\n",
    "```sql\n",
    "SELECT ...\n",
    "```\n",
    "\n",
    "\n",
    "Tables:\n",
    " - Students(ID, Name, Degree, Mentor)\n",
    " - Professors(ID, Name, Chair)\n",
    " - Courses(ID, Title, Faculty, Semester, Professor)\n",
    " - Attends(Student, Course, Grade)"
   ]
  },
  {
   "cell_type": "markdown",
   "metadata": {
    "slideshow": {
     "slide_type": "slide"
    }
   },
   "source": [
    "## Example 4\n",
    "\n",
    "Find how many courses each student failed, only for the students who failed at least 2 exams.\n",
    "\n",
    "```sql\n",
    "SELECT Student, COUNT(DISTINCT Course)\n",
    "FROM Attends\n",
    "WHERE Grade > 5\n",
    "GROUP BY Student\n",
    "HAVING COUNT(*) > 1\n",
    "```\n",
    "\n",
    "\n",
    "Tables:\n",
    " - Students(ID, Name, Degree, Mentor)\n",
    " - Professors(ID, Name, Chair)\n",
    " - Courses(ID, Title, Faculty, Semester, Professor)\n",
    " - Attends(Student, Course, Grade)"
   ]
  },
  {
   "cell_type": "markdown",
   "metadata": {
    "slideshow": {
     "slide_type": "slide"
    }
   },
   "source": [
    "# Transactions and ACID properties\n",
    "\n",
    " - When the data is read and modified by several clients at the same time, care must be taken\n",
    " - Read/modify/write workflows especially vulnerable\n",
    " - Transaction: a set of queries (reads and/or writes)\n",
    "   - Atomicity: sequence of operations appears as as a single operation on the data\n",
    "     - Either all operations succeed, or the all modifications are undone\n",
    "   - Consistency: database invariants are always satisfied regardless of the outcome\n",
    "      - Invariants: uniqueness, non-empty values, primary/foreign keys, etc.\n",
    "   - Isolation: different transactions cannot \"see\" each other\n",
    "      - Order of transactions does not matter\n",
    "   - Durability: once completed, the modifications are permanent\n",
    "      - Useful in case of crashes\n",
    "  - All of this is handled automatically by the DBMS\n",
    "    - Users only need to declare start/end and outcome of the transaction"
   ]
  },
  {
   "cell_type": "markdown",
   "metadata": {
    "slideshow": {
     "slide_type": "slide"
    }
   },
   "source": [
    "# Interfacing to a RDBMS\n",
    "\n",
    "Three types of clients\n",
    "\n",
    " 1. Command line clients\n",
    " 2. Graphical clients\n",
    " 3. Programmatic access"
   ]
  },
  {
   "cell_type": "markdown",
   "metadata": {
    "slideshow": {
     "slide_type": "slide"
    }
   },
   "source": [
    "## Command line clients\n",
    "\n",
    "Enter SQL queries and administrative commands directly from the command line:\n",
    "\n",
    "```\n",
    "$ sqlite3\n",
    "SQLite version 3.32.3 2020-06-18 14:00:33\n",
    "Enter \".help\" for usage hints.\n",
    "Connected to a transient in-memory database.\n",
    "Use \".open FILENAME\" to reopen on a persistent database.\n",
    "sqlite> \n",
    "```\n",
    "\n",
    "```\n",
    "$ psql -U user -h 10.0.6.12 -p 21334 -d database\n",
    "psql (11.1, server 11.0)\n",
    "Type \"help\" for help.\n",
    "\n",
    "postgres=# \n",
    "```"
   ]
  },
  {
   "cell_type": "markdown",
   "metadata": {
    "slideshow": {
     "slide_type": "slide"
    }
   },
   "source": [
    "## Graphical clients\n",
    "\n",
    "Database-specific:\n",
    " - pgAdmin (PostgreSQL)\n",
    " - SQLite Browser (SQLite)\n",
    " - MySQL Workbench (MySQL)\n",
    "\n",
    "General purpose:\n",
    " - [SQuirreL](http://squirrel-sql.sourceforge.net)\n",
    " - [SQLAdmin](http://sqladmin.sourceforge.net/)"
   ]
  },
  {
   "cell_type": "markdown",
   "metadata": {
    "slideshow": {
     "slide_type": "slide"
    }
   },
   "source": [
    "### SQuirreL example: querying\n",
    "![](http://squirrel-sql.sourceforge.net/screenshots/15_edit_result.png)"
   ]
  },
  {
   "cell_type": "markdown",
   "metadata": {
    "slideshow": {
     "slide_type": "slide"
    }
   },
   "source": [
    "### SQuirreL example: visualizing tables\n",
    "\n",
    "![](http://squirrel-sql.sourceforge.net/screenshots/7_graph.png)"
   ]
  },
  {
   "cell_type": "markdown",
   "metadata": {
    "slideshow": {
     "slide_type": "slide"
    }
   },
   "source": [
    "## Programmatic Access\n",
    "\n",
    "Two types of APIs:\n",
    "\n",
    " 1. High-level: Object-relational mapping (ORM)\n",
    "    - Each table has a corresponding class in the code\n",
    "    - Operations on objects are automatically translated on queries\n",
    "    - These libraries can work with many SQL databases\n",
    " 2. Low-level: Directly write SQL queries as strings\n",
    "    - Usually tied to a specific type of SQL database"
   ]
  },
  {
   "cell_type": "markdown",
   "metadata": {
    "slideshow": {
     "slide_type": "slide"
    }
   },
   "source": [
    "### SQLAlchemy: ORM in Python\n",
    "\n",
    "Example from [pythoncentral.io](https://www.pythoncentral.io/overview-sqlalchemys-expression-language-orm-queries/).\n",
    "\n",
    "Tables:\n",
    "\n",
    "```python\n",
    "class Department(Base):\n",
    "    __tablename__ = 'department'\n",
    "    id = Column(Integer, primary_key=True)\n",
    "    name = Column(String)\n",
    "    employees = relationship('Employee', secondary='department_employee')\n",
    "\n",
    "class Employee(Base):\n",
    "    __tablename__ = 'employee'\n",
    "    id = Column(Integer, primary_key=True)\n",
    "    name = Column(String)\n",
    "    departments = relationship('Department', secondary='department_employee')\n",
    "\n",
    "class DepartmentEmployee(Base):\n",
    "    __tablename__ = 'department_employee'\n",
    "    department_id = Column(Integer, ForeignKey('department.id'), primary_key=True)\n",
    "    employee_id = Column(Integer, ForeignKey('employee.id'), primary_key=True)\n",
    "```"
   ]
  },
  {
   "cell_type": "markdown",
   "metadata": {
    "slideshow": {
     "slide_type": "slide"
    }
   },
   "source": [
    "### Inserting data in SQLAlchemy\n",
    "\n",
    "```python\n",
    "from sqlalchemy import create_engine\n",
    "engine = create_engine('sqlite:///')\n",
    "\n",
    "from sqlalchemy.orm import sessionmaker\n",
    "session = sessionmaker()\n",
    "session.configure(bind=engine)\n",
    "Base.metadata.create_all(engine)\n",
    "\n",
    "s = session()\n",
    "john = Employee(name='john')\n",
    "s.add(john)\n",
    "it_department = Department(name='IT')\n",
    "it_department.employees.append(john)\n",
    "s.add(it_department)\n",
    "s.commit()\n",
    "```"
   ]
  },
  {
   "cell_type": "markdown",
   "metadata": {
    "slideshow": {
     "slide_type": "slide"
    }
   },
   "source": [
    "### Querying in SQLAlchemy\n",
    "\n",
    "asd\n",
    "\n",
    "```python\n",
    "find_marry = select([\n",
    "    Employee.id\n",
    "]).select_from(\n",
    "    Employee.__table__.join(DepartmentEmployee)\n",
    ").group_by(\n",
    "    Employee.id\n",
    ").having(func.count(\n",
    "    DepartmentEmployee.department_id\n",
    ") > 1)\n",
    "\n",
    "rs = s.execute(find_marry) \n",
    "rs.fetchall()  # result: [(2,)]\n",
    "```"
   ]
  },
  {
   "cell_type": "markdown",
   "metadata": {
    "slideshow": {
     "slide_type": "slide"
    }
   },
   "source": [
    "### Accessing SQLite in Python\n",
    "\n",
    "Example from [python3.org](https://docs.python.org/3/library/sqlite3.html)\n",
    "\n",
    "```python\n",
    "import sqlite3\n",
    "conn = sqlite3.connect('example.db')\n",
    "\n",
    "c = conn.cursor()\n",
    "\n",
    "c.execute('''CREATE TABLE stocks\n",
    "             (date text, trans text, symbol text, qty real, price real)''')\n",
    "\n",
    "c.execute(\"INSERT INTO stocks VALUES ('2006-01-05','BUY','RHAT',100,35.14)\")\n",
    "\n",
    "conn.commit()\n",
    "\n",
    "conn.close()\n",
    "```"
   ]
  },
  {
   "cell_type": "markdown",
   "metadata": {
    "slideshow": {
     "slide_type": "slide"
    }
   },
   "source": [
    "### Querying SQLite in Python\n",
    "\n",
    "```python\n",
    "purchases = [('2006-03-28', 'BUY', 'IBM', 1000, 45.00),\n",
    "             ('2006-04-05', 'BUY', 'MSFT', 1000, 72.00),\n",
    "             ('2006-04-06', 'SELL', 'IBM', 500, 53.00)]\n",
    "\n",
    "c.executemany('INSERT INTO stocks VALUES (?,?,?,?,?)', purchases)\n",
    "\n",
    "for row in c.execute('SELECT * FROM stocks WHERE price<? ORDER BY price', [2000,]):\n",
    "    print(row)\n",
    "\n",
    "# ('2006-03-28', 'BUY', 'IBM', 1000, 45.0)\n",
    "# ('2006-04-06', 'SELL', 'IBM', 500, 53.0)\n",
    "# ('2006-04-05', 'BUY', 'MSFT', 1000, 72.0)\n",
    "```"
   ]
  },
  {
   "cell_type": "markdown",
   "metadata": {
    "slideshow": {
     "slide_type": "slide"
    }
   },
   "source": [
    "## Programmatic access to SQL databases\n",
    "\n",
    "Common concepts:\n",
    "\n",
    "| SQLite | SQLAlchemy | Purpose |\n",
    "|-|-|-|\n",
    "| Connection | Engine | The database object |\n",
    "| Cursor | Session | A transaction |\n",
    "\n",
    "General workflow:\n",
    "\n",
    " 1. Obtain a connection\n",
    "    - Use a connection pool if performance is a concern\n",
    " 2. Obtain a cursor\n",
    " 3. Execute queries\n",
    " 4. Close cursor\n",
    " 5. Possibly repeat...\n",
    " 6. Close connection"
   ]
  },
  {
   "cell_type": "markdown",
   "metadata": {
    "slideshow": {
     "slide_type": "slide"
    }
   },
   "source": [
    "### SQL injection\n",
    "\n",
    " - An once-popular cyber-attack on SQL databases\n",
    " - Caused by improper escaping of arguments coming from external users (e.g. in a web form)\n",
    " - Never trust user input!\n",
    "\n",
    "Example:\n",
    "\n",
    "```python\n",
    "def find_courses(conn, semester):\n",
    "    c = conn.cursor()\n",
    "    return c.execute(\n",
    "        \"SELECT * FROM Courses WHERE Semester={}\".format(semester)\n",
    "    ).fetchall()\n",
    "\n",
    "# later on...\n",
    "find_courses(conn, \"''; DROP TABLE Courses; --\")\n",
    "```\n",
    "\n",
    "This will execute **two** queries:\n",
    "\n",
    "```sql\n",
    "SELECT * FROM Courses WHERE Semester='';\n",
    "DROP TABLE Courses; --\n",
    "```\n"
   ]
  },
  {
   "cell_type": "markdown",
   "metadata": {
    "slideshow": {
     "slide_type": "slide"
    }
   },
   "source": [
    "### Avoiding SQL injection\n",
    "\n",
    "Let the API handle escaping for you:\n",
    "\n",
    "```python\n",
    "def find_courses(conn, semester):\n",
    "    c = conn.cursor()\n",
    "    return c.execute(\n",
    "        \"SELECT * FROM Courses WHERE Semester=?\",\n",
    "        [semester]\n",
    "    ).fetchall()\n",
    "\n",
    "# later on...\n",
    "find_courses(conn, \"''; DROP TABLE Courses; --\")\n",
    "```\n",
    "\n",
    "This will execute **one** query:\n",
    "\n",
    "```sql\n",
    "SELECT * FROM Courses WHERE Semester='''''; DROP TABLE Courses; --'\n",
    "```"
   ]
  },
  {
   "cell_type": "markdown",
   "metadata": {
    "slideshow": {
     "slide_type": "slide"
    }
   },
   "source": [
    "# Where should I start from?\n",
    "\n",
    "[SQLite](https://sqlite.org/index.html) is very simple and scales well.\n",
    "\n",
    "[PostgreSQL](https://www.postgresql.org/) for more complicated requirements / large scale data processing.\n",
    "\n",
    "Also frequently used: [MySQL](https://www.mysql.com/)"
   ]
  },
  {
   "cell_type": "markdown",
   "metadata": {
    "slideshow": {
     "slide_type": "slide"
    }
   },
   "source": [
    "# Advanced topics"
   ]
  },
  {
   "cell_type": "markdown",
   "metadata": {
    "slideshow": {
     "slide_type": "slide"
    }
   },
   "source": [
    "## Indexing\n",
    " - depending on your query and how you express it, it may be quite slow\n",
    " - the DBMS tries to optimize every query, but sometimes it fails\n",
    " - when most of the time is spent on joins and lookups, creating _indices_ can greatly speed up the query\n",
    " - an index is just a mapping from values to rows that contain that value in one or more columns\n",
    " - this makes it much faster to find rows that contain a given value\n",
    "   - instead of checking row by row, simply look in the index\n",
    "   - think about books!\n",
    " - an index is always relative to a table and one or more columns\n",
    "   - `CREATE INDEX <index name> ON <table name>(<list of columns>)`\n",
    " - a table can have many indices\n",
    "   - an index is always created automatically for primary keys\n",
    "   - all other unique keys must also have an index\n",
    "   - indices on foreign keys _might_ be useful\n",
    "   - WHERE/JOIN are much faster when there is an index on one of the columns\n",
    " - if a query is slow and/or executed very frequently, consider adding an index on columns used in the WHERE/JOIN"
   ]
  },
  {
   "cell_type": "markdown",
   "metadata": {
    "slideshow": {
     "slide_type": "slide"
    }
   },
   "source": [
    "## Main types of index\n",
    " - Tree-based: O(log N) access, can be used to quickly answer queries like `WHERE L < column < U`\n",
    "   - Branching factor in the order of 1000s\n",
    " - Hash-based: O(1) access, cannot answer range queries\n",
    " - Clustered index: table is physically sorted by the columns"
   ]
  },
  {
   "cell_type": "markdown",
   "metadata": {
    "slideshow": {
     "slide_type": "slide"
    }
   },
   "source": [
    "## Query plans\n",
    " - understanding why a query is slow is not trivial\n",
    " - the query plan is produced by the optimizer and shows exactly what and how is done to execute the query\n",
    " - it contains an estimated cost and can be augmented with the actual cost measured when executing the query\n",
    " - estimated cost:\n",
    "   - computed from statistics about rows/values that the DBMS maintains internally\n",
    "   - these statistics can become inaccurate after lots of operations\n",
    "   - useful to periodically recompute these statistics\n",
    "   - also useful to periodically clear the space allocated to deleted rows and defragment table data\n",
    " - (show example of plans before/after adding an index)"
   ]
  },
  {
   "cell_type": "markdown",
   "metadata": {
    "slideshow": {
     "slide_type": "slide"
    }
   },
   "source": [
    "### Example\n",
    "\n",
    "![](../img/qplan.png)\n",
    "\n",
    "Image from [dba.stackexchange.com](https://dba.stackexchange.com/q/9234)"
   ]
  },
  {
   "cell_type": "markdown",
   "metadata": {
    "Collapsed": "false",
    "slideshow": {
     "slide_type": "slide"
    }
   },
   "source": [
    "# Non-SQL"
   ]
  },
  {
   "cell_type": "code",
   "execution_count": null,
   "metadata": {
    "Collapsed": "false",
    "lines_to_next_cell": 2
   },
   "outputs": [],
   "source": []
  },
  {
   "cell_type": "markdown",
   "metadata": {
    "Collapsed": "false"
   },
   "source": [
    "# Graph Databases"
   ]
  },
  {
   "cell_type": "markdown",
   "metadata": {
    "Collapsed": "false"
   },
   "source": [
    "## Graph Theory"
   ]
  },
  {
   "cell_type": "code",
   "execution_count": null,
   "metadata": {
    "Collapsed": "false",
    "lines_to_next_cell": 2
   },
   "outputs": [],
   "source": []
  },
  {
   "cell_type": "markdown",
   "metadata": {
    "Collapsed": "false"
   },
   "source": [
    "## Neo4j"
   ]
  },
  {
   "cell_type": "code",
   "execution_count": null,
   "metadata": {
    "Collapsed": "false"
   },
   "outputs": [],
   "source": []
  }
 ],
 "metadata": {
  "jupytext": {
   "formats": "ipynb,py"
  },
  "kernelspec": {
   "display_name": "Python 3",
   "language": "python",
   "name": "python3"
  },
  "language_info": {
   "codemirror_mode": {
    "name": "ipython",
    "version": 3
   },
   "file_extension": ".py",
   "mimetype": "text/x-python",
   "name": "python",
   "nbconvert_exporter": "python",
   "pygments_lexer": "ipython3",
   "version": "3.7.7"
  },
  "widgets": {
   "application/vnd.jupyter.widget-state+json": {
    "state": {},
    "version_major": 2,
    "version_minor": 0
   }
  }
 },
 "nbformat": 4,
 "nbformat_minor": 4
}
