{
 "cells": [
  {
   "cell_type": "markdown",
   "metadata": {
    "Collapsed": "false"
   },
   "source": [
    "# Data Management and Database Basics"
   ]
  },
  {
   "cell_type": "markdown",
   "metadata": {
    "Collapsed": "false"
   },
   "source": [
    "## Motivation"
   ]
  },
  {
   "cell_type": "markdown",
   "metadata": {
    "Collapsed": "false"
   },
   "source": [
    "<img src=\"https://preview.redd.it/gph4rp6drvo41.jpg?width=640&crop=smart&auto=webp&s=a407a7be1da73ba010f0295a6351ab9d14471b2a\" width=400 />"
   ]
  },
  {
   "cell_type": "markdown",
   "metadata": {
    "Collapsed": "false"
   },
   "source": [
    "## Overview"
   ]
  },
  {
   "cell_type": "markdown",
   "metadata": {
    "Collapsed": "false"
   },
   "source": [
    "1. Pre-SQL  (Robin)\n",
    "2. SQL databases  (Ali/Emilio)\n",
    "3. Non-SQL databases  (Ali)\n",
    "4. Simple graph database introduction  (Robin?)"
   ]
  },
  {
   "cell_type": "markdown",
   "metadata": {
    "Collapsed": "false"
   },
   "source": [
    "# Pre-SQL"
   ]
  },
  {
   "cell_type": "markdown",
   "metadata": {
    "Collapsed": "false"
   },
   "source": [
    "- You kind of have data, but not really that much.\n",
    "- You want to organize it better,  but keep things lightweight to share."
   ]
  },
  {
   "cell_type": "markdown",
   "metadata": {
    "Collapsed": "false"
   },
   "source": [
    "## Working with CSV files"
   ]
  },
  {
   "cell_type": "code",
   "execution_count": null,
   "metadata": {
    "Collapsed": "false",
    "lines_to_next_cell": 2
   },
   "outputs": [],
   "source": []
  },
  {
   "cell_type": "markdown",
   "metadata": {
    "Collapsed": "false"
   },
   "source": [
    "### Efficiently reading last lines"
   ]
  },
  {
   "cell_type": "markdown",
   "metadata": {
    "Collapsed": "false",
    "slideshow": {
     "slide_type": "slide"
    }
   },
   "source": [
    "# SQL"
   ]
  },
  {
   "cell_type": "markdown",
   "metadata": {
    "slideshow": {
     "slide_type": "slide"
    }
   },
   "source": [
    "## Introduction\n",
    " - SQL is a declarative programming language to manipulate tables\n",
    "   - no functions or loops, just _declare_ what you need and the runtime will figure out how to compute it\n",
    " - SQL queries can be used to\n",
    "   - Insert new rows into a table\n",
    "   - Delete rows from a table\n",
    "   - Ipdate one or more attributes of one or more rows in a table\n",
    "   - Retrieve and possibly transform rows combing from one or more tables\n",
    " - Relational Database Management System (RDBMS)\n",
    "   - Manages data in the tables\n",
    "   - Executes queries, returns results\n",
    " - This section will mostly focus on reading data (last point)"
   ]
  },
  {
   "cell_type": "markdown",
   "metadata": {
    "slideshow": {
     "slide_type": "slide"
    }
   },
   "source": [
    "## Main abstraction: Tables\n",
    " - A table is a _set_ of tuples (rows)\n",
    "   - No two rows are the same\n",
    " - Rows are distinguished by _primary keys_\n",
    "   - Primary key: smallest set of attributes that uniquely identifies a row\n",
    "   - Cannot have two rows with the same primary key\n",
    "   - Examples:\n",
    "     - Student ID (one attribute)\n",
    "     - First name, last name, birth date, place of birth (four attributes)\n",
    "   - The primary key is a property of each table\n",
    "     - All rows in a table use the same attributes as primary key\n",
    "     - But different tables can have different primary keys"
   ]
  },
  {
   "cell_type": "markdown",
   "metadata": {
    "slideshow": {
     "slide_type": "slide"
    }
   },
   "source": [
    "## Domain\n",
    " - Good database design has\n",
    "   - One table for each entity in the domain\n",
    "   - Relationships between two or more entities\n",
    " - _Foreign keys_ are used to refer to rows of other tables\n",
    "   - e.g. a table with grades will have foreign keys that point to the student and the course"
   ]
  },
  {
   "cell_type": "markdown",
   "metadata": {
    "slideshow": {
     "slide_type": "subslide"
    }
   },
   "source": [
    "### Example: University\n",
    " - Entities\n",
    "   - Students (ID, Name, Degree)\n",
    "   - Courses (ID, Title, Faculty, Semester)\n",
    "   - Professors (ID, Name, Chair)\n",
    " - Relationships\n",
    "   - One student can *Mentor* another student\n",
    "   - A student *Attends* several courses and obtains a grade for each of them\n",
    "   - Professors *Teach* courses"
   ]
  },
  {
   "cell_type": "markdown",
   "metadata": {
    "slideshow": {
     "slide_type": "subslide"
    }
   },
   "source": [
    "### ER diagram\n",
    " - Graphical form to represent entities and relationships\n",
    "   - Box: entity\n",
    "   - Diamond: relationship\n",
    "   - Circle: attribute\n",
    " \n",
    " \n",
    "![](img/sql_er_diagram.png)"
   ]
  },
  {
   "cell_type": "markdown",
   "metadata": {
    "slideshow": {
     "slide_type": "subslide"
    }
   },
   "source": [
    "### Which tables to create?\n",
    " - Until now, we separated entities from relationships\n",
    " - But in practice everything must be stored into tables\n",
    " - How to do this?\n",
    "   - One table per entity (students, courses, professors)\n",
    "   - What about the relationships?\n",
    "     - Mentor: 1 to 1, three possibilities\n",
    "       1. Have a column \"mentor\"\n",
    "       2. Have a column \"mentee\"\n",
    "          - Having both is not ideal: more work to ensure consistency\n",
    "       3. Have a new table (mentor, mentee)\n",
    "     - Attends: M to N\n",
    "       - Requires a table (student, course)\n",
    "     - Teaches: 1 to N\n",
    "       - Store professor in course table or create separate table\n",
    "   - General rule:\n",
    "     - Using a separate table is always possible, or\n",
    "     - 1 to 1: can store in either entity\n",
    "     - 1 to N: store in entity with cardinality N\n",
    "     - M to N: must use separate table"
   ]
  },
  {
   "cell_type": "markdown",
   "metadata": {
    "slideshow": {
     "slide_type": "subslide"
    }
   },
   "source": [
    "### Final list of tables\n",
    " - Students(ID, Name, Degree, Mentor)\n",
    " - Professors(ID, Name, Chair)\n",
    " - Courses(ID, Title, Faculty, Semester, Professor)\n",
    " - Attends(Student, Course)\n",
    " - Which attributes are primary and foreign keys?"
   ]
  },
  {
   "cell_type": "markdown",
   "metadata": {
    "slideshow": {
     "slide_type": "slide"
    }
   },
   "source": [
    "## Purpose of SQL\n",
    " - SQL shines when \"navigating\" across relationships, for example:\n",
    "   - For each student, find the professor that gave them the highest grade\n",
    "   - For each professor, find courses taught last semester\n",
    " - Also used to modify data"
   ]
  },
  {
   "cell_type": "markdown",
   "metadata": {
    "slideshow": {
     "slide_type": "slide"
    }
   },
   "source": [
    "## Anatomy of a SELECT query\n",
    " - SELECT queries are used to retrieve data from the database\n",
    " - The result is itself a table (not saved unless specified)\n",
    "\n",
    "```\n",
    "SELECT <columns and transformation>\n",
    "FROM <source table(s)>\n",
    "[WHERE <filter rows coming from the source table(s)>]\n",
    "[GROUP BY <create groups of rows>\n",
    "[HAVING <filter groups>]]\n",
    "[ORDER BY <columns> [ASC|DESC]];\n",
    "```\n",
    "\n",
    " - Must have SELECT and FROM\n",
    " - WHERE and GROUPBY are optional\n",
    " - HAVING is optional, and must be used with GROUP BY\n",
    " - GROUP BY: eventually you must have only one row per group"
   ]
  },
  {
   "cell_type": "markdown",
   "metadata": {
    "slideshow": {
     "slide_type": "slide"
    }
   },
   "source": [
    "## Select query untangled\n",
    " - Confusingly, the execution order is different than the writing order:\n",
    "   1. FROM: first, gather all input rows from all tables\n",
    "   2. WHERE: next, remove all rows not matching the predicate\n",
    "   3. GROUP BY: now, if needed, create groups of rows\n",
    "   4. HAVING: then, remove all groups that do not match the predicate\n",
    "   5. ORDER BY: sort the tuples by a the value of a certain column\n",
    "   6. SELECT: finally, produce output columns"
   ]
  },
  {
   "cell_type": "markdown",
   "metadata": {},
   "source": [
    "## Example\n",
    "\n",
    "Find all courses held in the Winter semester 2019/2020:\n",
    "\n",
    "```sql\n",
    "SELECT *\n",
    "FROM Courses\n",
    "WHERE Semester = 'WiSE 19/20;\n",
    "```"
   ]
  },
  {
   "cell_type": "markdown",
   "metadata": {
    "slideshow": {
     "slide_type": "slide"
    }
   },
   "source": [
    "## FROM: source tables\n",
    " - You can specify one or more tables in the from clause\n",
    " - FROM will do a cross-product of all tuples of all tables\n",
    " - In almost all cases, you only want a small subset of the cross-product\n",
    "   - Use WHERE to remove tuples that do not make sense\n",
    " - Possible to give aliases to tables and use that alias in the rest of the query\n",
    "   - Useful to keep query short and to disambiguate when the same table is used several times in the same query"
   ]
  },
  {
   "cell_type": "markdown",
   "metadata": {
    "slideshow": {
     "slide_type": "slide"
    }
   },
   "source": [
    "## WHERE: tuple filter\n",
    " - Specify a boolean condition that is evaluated for each row produced by the FROM\n",
    " - All rows where this evaluates to false are discarded\n",
    " - Handling of null values:\n",
    "   - Nothing is equal to `NULL` (not even `NULL`)\n",
    "     - `x = NULL` is _always_ false\n",
    "   - Use `x IS NULL` or `x IS NOT NULL`\n",
    "   - Nasty example:\n",
    "     - `SELECT * FROM stuff WHERE x = 10 OR NOT x = 10;`\n",
    "     - Result differs from `SELECT * FROM stuff;` when `x` contains `NULL` values!\n",
    "     - Query is actually equivalent to `SELET * FROM stuff WHERE x IS NOT NULL`"
   ]
  },
  {
   "cell_type": "markdown",
   "metadata": {
    "slideshow": {
     "slide_type": "slide"
    }
   },
   "source": [
    "## Example\n",
    "\n",
    " - Associate to each student all its grades (one per row)\n",
    " - Each row has three columns: name of the student, title of the course, grade\n",
    "\n",
    "```sql\n",
    "SELECT\n",
    "    s.Name AS student_name,\n",
    "    c.Title AS course_title,\n",
    "    a.Grade AS grade\n",
    "FROM\n",
    "    Students AS s,\n",
    "    Attend AS a,\n",
    "    Course AS c\n",
    "WHERE\n",
    "    s.ID = a.Student\n",
    "    AND a.Course = c.ID;\n",
    "```"
   ]
  },
  {
   "cell_type": "markdown",
   "metadata": {
    "slideshow": {
     "slide_type": "slide"
    }
   },
   "source": [
    "## JOIN: a special case of FROM+WHERE\n",
    " - In most cases, we are not interested in the cross-product\n",
    " - We actually want tuples that match primary/foreign keys\n",
    " - This operation is so common that it has a special name to distinguish it from the general case\n",
    " - Other than the name, the two are completely equivalent\n",
    " - Join makes your intentions clearer\n",
    " - The previous query becomes:\n",
    "\n",
    "```sql\n",
    "SELECT\n",
    "    s.Name AS student_name,\n",
    "    c.Title AS course_title,\n",
    "    a.Grade AS grade\n",
    "FROM\n",
    "    Students AS s\n",
    "    JOIN Attend AS a\n",
    "        ON s.ID = a.Student\n",
    "    JOIN Course AS c\n",
    "        ON c.ID = a.Course;\n",
    "```"
   ]
  },
  {
   "cell_type": "markdown",
   "metadata": {
    "slideshow": {
     "slide_type": "slide"
    }
   },
   "source": [
    "## Non-matching rows in JOINs\n",
    " - Options to handle non-matches:\n",
    "   - Inner join: `FROM Students [INNER] JOIN Attend ON Student.ID = Attend.Student`\n",
    "     - `WHERE Students.ID = Grade.student`\n",
    "     - Only keep matches\n",
    "   - Left join: `FROM Students LEFT JOIN Attend ON Student.ID = Attend.Student`\n",
    "     - Keep matches and un-matched records from _left_ table\n",
    "   - Right join: `FROM students RIGHT JOIN Attend ON Student.ID = Attend.Student`\n",
    "     - Keep matches and un-matched records from _right_ table\n",
    "   - Outer join: `FROM students OUTER JOIN Attend ON Student.ID = Attend.Student`\n",
    "     - Keep matches, cross-product between un-matched records\n",
    " - Other possibilities:\n",
    "    - Natural join: `FROM Students JOIN Grades`\n",
    "      - `ON` is missing -> match all columns with the same name\n",
    "    - Self-join: `FROM Students AS s JOIN Students AS t`\n",
    "      - Use table aliases in this case"
   ]
  },
  {
   "cell_type": "markdown",
   "metadata": {
    "slideshow": {
     "slide_type": "subslide"
    }
   },
   "source": [
    "### INNER JOIN\n",
    "\n",
    "```sql\n",
    "FROM Students [INNER] JOIN Attend\n",
    "    ON Student.ID = Attend.Student\n",
    "```\n",
    "\n",
    "![](img/sql_join_inner.svg)"
   ]
  },
  {
   "cell_type": "markdown",
   "metadata": {
    "slideshow": {
     "slide_type": "subslide"
    }
   },
   "source": [
    "### LEFT JOIN\n",
    "\n",
    "```sql\n",
    "FROM Students LEFT JOIN Attend\n",
    "    ON Student.ID = Attend.Student\n",
    "```\n",
    "\n",
    "![](img/sql_join_left.svg)"
   ]
  },
  {
   "cell_type": "markdown",
   "metadata": {
    "slideshow": {
     "slide_type": "subslide"
    }
   },
   "source": [
    "### RIGHT JOIN\n",
    "\n",
    "```sql\n",
    "FROM Students RIGHT JOIN Attend\n",
    "    ON Student.ID = Attend.Student\n",
    "```\n",
    "\n",
    "![](img/sql_join_right.svg)"
   ]
  },
  {
   "cell_type": "markdown",
   "metadata": {
    "slideshow": {
     "slide_type": "subslide"
    }
   },
   "source": [
    "### OUTER JOIN\n",
    "\n",
    "```sql\n",
    "FROM Students OUTER JOIN Attend\n",
    "    ON Student.ID = Attend.Student\n",
    "```\n",
    "\n",
    "![](img/sql_join_outer.svg)\n",
    "\n",
    "\n",
    "Warning: cross-product between unmatched rows!"
   ]
  },
  {
   "cell_type": "markdown",
   "metadata": {
    "slideshow": {
     "slide_type": "subslide"
    }
   },
   "source": [
    "### Retrieving un-matched rows only\n",
    "\n",
    " - Example: find all students who have not attended any course\n",
    "\n",
    "```sql\n",
    "SELECT Students.ID\n",
    "FROM Students LEFT JOIN Attend\n",
    "    ON Students.ID = Attends.Student\n",
    "WHERE\n",
    "    Attends.Student IS NULL\n",
    "```\n",
    "\n",
    "![](img/sql_join_unmatched_only.svg)"
   ]
  },
  {
   "cell_type": "markdown",
   "metadata": {
    "slideshow": {
     "slide_type": "subslide"
    }
   },
   "source": [
    "### Multi-way JOINs\n",
    "\n",
    " - Cyan\n",
    "   - Courses that nobody attended\n",
    "   - Professors that taught one or more courses nobody attended\n",
    " - Orange:\n",
    "   - Students who attended one or more courses\n",
    "   - Courses that were attended by one or more students\n",
    " - Gray areas: not realizable in our domain\n",
    "\n",
    "\n",
    "![](img/sql_join_multi.svg)"
   ]
  },
  {
   "cell_type": "markdown",
   "metadata": {},
   "source": [
    "\n",
    "```sql\n",
    "SELECT *\n",
    "FROM Professors AS p\n",
    "    JOIN Course AS c ON p.ID = c.Professor\n",
    "    LEFT JOIN Attend AS a ON a.Course = c.ID\n",
    "WHERE a.Student IS NULL\n",
    "```"
   ]
  },
  {
   "cell_type": "markdown",
   "metadata": {
    "slideshow": {
     "slide_type": "slide"
    }
   },
   "source": [
    "## GROUP BY: create groups of rows\n",
    " - must specify one or more columns, possibly with transformation\n",
    " - all rows that have the same values for all (transformed) column(s) end up in the same group"
   ]
  },
  {
   "cell_type": "markdown",
   "metadata": {
    "slideshow": {
     "slide_type": "slide"
    }
   },
   "source": [
    "## HAVING: filter groups\n",
    " - another boolean condition applied to each group\n",
    " - example: filter by group size, min/max/mean of something.."
   ]
  },
  {
   "cell_type": "markdown",
   "metadata": {},
   "source": [
    "# ORDER BY: order tuples\n",
    "\n",
    " - Sort the tuples produced by the query\n",
    " - Sort by the value of one or more columns, possibly transformed"
   ]
  },
  {
   "cell_type": "markdown",
   "metadata": {
    "slideshow": {
     "slide_type": "slide"
    }
   },
   "source": [
    "## SELECT: produce output columns\n",
    " - all the surviving groups/rows are transformed\n",
    " - select only a subset of attributes, or transform values\n",
    " - careful: each group must be collapsed into a row"
   ]
  },
  {
   "cell_type": "markdown",
   "metadata": {},
   "source": [
    "## Example:\n",
    "\n",
    "Find all students who failed at least two exams and, for each of them, find how many separate courses the failed exams belong to. Sort the result by number of courses and student ID.\n",
    "\n",
    "```sql\n",
    "SELECT Student, COUNT(Course)\n",
    "FROM Attends\n",
    "WHERE Grade > 5\n",
    "GROUP BY Student\n",
    "HAVING COUNT(*) > 1\n",
    "ORDER BY COUNT(Course) DESC, Student ASC\n",
    "```\n",
    "\n",
    "Q: What happens when the grade is NULL?"
   ]
  },
  {
   "cell_type": "markdown",
   "metadata": {},
   "source": [
    "## subqueries and CTE\n",
    " - to make things messy\n",
    " - too many CTE's can make query slower, sometimes better to create temporary table\n",
    " - jww's usecase:\n",
    "    ```sql\n",
    "select t.id, (\n",
    "  select u.status\n",
    "  from tbl u\n",
    "  where t.id == u.id and t.timestamp >= u.timestamp\n",
    "  order by desc u.timestamp\n",
    "  limit 1\n",
    ") as status\n",
    "from tbl t\n",
    "```\n",
    "\n",
    "   - tbl has columns id, timestamp, status, where status can be null.\n",
    "   - goal is to fill null status with most recent non-null status (of the same id)\n",
    "   - need index on (id, timestamp) to be quick"
   ]
  },
  {
   "cell_type": "markdown",
   "metadata": {},
   "source": [
    "## Transactions and ACID properties\n",
    "\n",
    " - When the data is read and modified by several clients at the same time, care must be taken\n",
    " - Read/modify/write workflows especially vulnerable\n",
    " - Transaction: a set of queries (reads and/or writes)\n",
    "   - Atomicity: sequence of operations appears as as a single operation on the data\n",
    "     - Either all operations succeed, or the all modifications are undone\n",
    "   - Consistency: database invariants are always satisfied regardless of the outcome\n",
    "      - Invariants: uniqueness, non-empty values, primary/foreign keys, etc.\n",
    "   - Isolation: different transactions cannot \"see\" each other\n",
    "      - Order of transactions does not matter\n",
    "   - Durability: once completed, the modifications are permanent\n",
    "      - Useful in case of crashes\n",
    "  - All of this is handled automatically by the DBMS\n",
    "    - Users only need to declare start/end and outcome of the transaction"
   ]
  },
  {
   "cell_type": "markdown",
   "metadata": {},
   "source": [
    "## programmatically interfacing to a RDBMS\n",
    " - connections\n",
    " - cursors\n",
    " - sql injection and proper escaping"
   ]
  },
  {
   "cell_type": "markdown",
   "metadata": {},
   "source": [
    "## advanced: indexing\n",
    " - depending on your query and how you express it, it may be quite slow\n",
    " - the DBMS tries to optimize every query, but sometimes it fails\n",
    " - when most of the time is spent on joins and lookups, creating _indices_ can greatly speed up the query\n",
    " - an index is just a mapping from values to rows that contain that value in one or more columns\n",
    " - this makes it much faster to find rows that contain a given value\n",
    "   - instead of checking row by row, simply look in the index\n",
    "   - think about books!\n",
    " - an index is always relative to a table and one or more columns\n",
    "   - `CREATE INDEX <index name> ON <table name>(<list of columns>)`\n",
    " - a table can have many indices, but one is always created automatically for primary keys\n",
    "   - all otherunique keys must also have an index\n",
    "   - joins are much faster when there is an index on one of the columns\n",
    " - if a query is slow and/or executed very frequently, consider adding an index on columns used in the WHERE/JOIN\n",
    " - types of index:\n",
    "   - tree-based: O(NlogN) access, can be used to quickly answer queries like `WHERE L < column < U`\n",
    "   - hash-based: O(1) access, cannot answer range queries\n",
    "   - clustered index: table is physically sorted by the columns"
   ]
  },
  {
   "cell_type": "markdown",
   "metadata": {},
   "source": [
    "## advanced: query plans\n",
    " - understanding why a query is slow is not trivial\n",
    " - the query plan is produced by the optimizer and shows exactly what and how is done to execute the query\n",
    " - it contains an estimated cost and can be augmented with the actual cost measured when executing the query\n",
    " - estimated cost:\n",
    "   - computed from statistics about rows/values that the DBMS maintains internally\n",
    "   - these statistics can become inaccurate after lots of operations\n",
    "   - useful to periodically recompute these statistics\n",
    "   - also useful to periodically clear the space allocated to deleted rows and defragment table data\n",
    " - (show example of plans before/after adding an index)"
   ]
  },
  {
   "cell_type": "markdown",
   "metadata": {
    "Collapsed": "false"
   },
   "source": [
    "# Non-SQL"
   ]
  },
  {
   "cell_type": "code",
   "execution_count": null,
   "metadata": {
    "Collapsed": "false",
    "lines_to_next_cell": 2
   },
   "outputs": [],
   "source": []
  },
  {
   "cell_type": "markdown",
   "metadata": {
    "Collapsed": "false"
   },
   "source": [
    "# Graph Databases"
   ]
  },
  {
   "cell_type": "markdown",
   "metadata": {
    "Collapsed": "false"
   },
   "source": [
    "## Graph Theory"
   ]
  },
  {
   "cell_type": "code",
   "execution_count": null,
   "metadata": {
    "Collapsed": "false",
    "lines_to_next_cell": 2
   },
   "outputs": [],
   "source": []
  },
  {
   "cell_type": "markdown",
   "metadata": {
    "Collapsed": "false"
   },
   "source": [
    "## Neo4j"
   ]
  },
  {
   "cell_type": "code",
   "execution_count": null,
   "metadata": {
    "Collapsed": "false"
   },
   "outputs": [],
   "source": []
  }
 ],
 "metadata": {
  "jupytext": {
   "formats": "ipynb,py"
  },
  "kernelspec": {
   "display_name": "Python 3",
   "language": "python",
   "name": "python3"
  },
  "language_info": {
   "codemirror_mode": {
    "name": "ipython",
    "version": 3
   },
   "file_extension": ".py",
   "mimetype": "text/x-python",
   "name": "python",
   "nbconvert_exporter": "python",
   "pygments_lexer": "ipython3",
   "version": "3.7.7"
  },
  "widgets": {
   "application/vnd.jupyter.widget-state+json": {
    "state": {},
    "version_major": 2,
    "version_minor": 0
   }
  }
 },
 "nbformat": 4,
 "nbformat_minor": 4
}
