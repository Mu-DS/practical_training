{
 "cells": [
  {
   "cell_type": "markdown",
   "metadata": {
    "Collapsed": "false"
   },
   "source": [
    "# Data Management and Database Basics"
   ]
  },
  {
   "cell_type": "markdown",
   "metadata": {
    "Collapsed": "false",
    "slideshow": {
     "slide_type": "slide"
    }
   },
   "source": [
    "## Motivation\n",
    "\n",
    "<img src=\"https://preview.redd.it/gph4rp6drvo41.jpg?width=640&crop=smart&auto=webp&s=a407a7be1da73ba010f0295a6351ab9d14471b2a\" width=400 />"
   ]
  },
  {
   "cell_type": "markdown",
   "metadata": {
    "Collapsed": "false",
    "slideshow": {
     "slide_type": "slide"
    }
   },
   "source": [
    "## Overview\n",
    "\n",
    "1. Pre-SQL  (Robin)\n",
    "2. SQL databases  (/Emilio)\n",
    "3. Non-SQL databases  (Ali)\n",
    "4. Porject (Ali)"
   ]
  },
  {
   "cell_type": "markdown",
   "metadata": {
    "Collapsed": "false"
   },
   "source": [
    "# Pre-SQL"
   ]
  },
  {
   "cell_type": "markdown",
   "metadata": {
    "Collapsed": "false"
   },
   "source": [
    "- You kind of have data, but not really that much.\n",
    "- You want to organize it better,  but keep things lightweight to share."
   ]
  },
  {
   "cell_type": "markdown",
   "metadata": {
    "Collapsed": "false"
   },
   "source": [
    "## Working with CSV files"
   ]
  },
  {
   "cell_type": "code",
   "execution_count": null,
   "metadata": {
    "Collapsed": "false",
    "lines_to_next_cell": 2
   },
   "outputs": [],
   "source": []
  },
  {
   "cell_type": "markdown",
   "metadata": {
    "Collapsed": "false"
   },
   "source": [
    "### Efficiently reading last lines"
   ]
  },
  {
   "cell_type": "markdown",
   "metadata": {
    "Collapsed": "false",
    "slideshow": {
     "slide_type": "slide"
    }
   },
   "source": [
    "# SQL"
   ]
  },
  {
   "cell_type": "markdown",
   "metadata": {
    "slideshow": {
     "slide_type": "slide"
    }
   },
   "source": [
    "## Introduction\n",
    " - SQL is a declarative programming language to manipulate tables\n",
    "   - no functions or loops, just _declare_ what you need and the runtime will figure out how to compute it\n",
    " - SQL queries can be used to\n",
    "   - Insert new rows into a table\n",
    "   - Delete rows from a table\n",
    "   - Ipdate one or more attributes of one or more rows in a table\n",
    "   - Retrieve and possibly transform rows combing from one or more tables\n",
    " - Relational Database Management System (RDBMS)\n",
    "   - Manages data in the tables\n",
    "   - Executes queries, returns results\n",
    " - This section will mostly focus on reading data (last point)"
   ]
  },
  {
   "cell_type": "markdown",
   "metadata": {
    "slideshow": {
     "slide_type": "slide"
    }
   },
   "source": [
    "## Main abstraction: Tables\n",
    " - A table is a _set_ of tuples (rows)\n",
    "   - No two rows are the same\n",
    " - Rows are distinguished by _primary keys_\n",
    "   - Primary key: smallest set of attributes that uniquely identifies a row\n",
    "   - Cannot have two rows with the same primary key\n",
    "   - Examples:\n",
    "     - Student ID (one attribute)\n",
    "     - First name, last name, birth date, place of birth (four attributes)\n",
    "   - The primary key is a property of each table\n",
    "     - All rows in a table use the same attributes as primary key\n",
    "     - But different tables can have different primary keys"
   ]
  },
  {
   "cell_type": "markdown",
   "metadata": {
    "slideshow": {
     "slide_type": "slide"
    }
   },
   "source": [
    "## Domain\n",
    " - Good database design has\n",
    "   - One table for each entity in the domain\n",
    "   - Relationships between two or more entities\n",
    " - _Foreign keys_ are used to refer to rows of other tables\n",
    "   - e.g. a table with grades will have foreign keys that point to the student and the course"
   ]
  },
  {
   "cell_type": "markdown",
   "metadata": {
    "slideshow": {
     "slide_type": "slide"
    }
   },
   "source": [
    "### Example: University\n",
    " - Entities\n",
    "   - Students (ID, Name, Degree)\n",
    "   - Courses (ID, Title, Faculty, Semester)\n",
    "   - Professors (ID, Name, Chair)\n",
    " - Relationships\n",
    "   - One student can *Mentor* another student\n",
    "   - A student *Attends* several courses and obtains a grade for each of them\n",
    "   - Professors *Teach* courses"
   ]
  },
  {
   "cell_type": "markdown",
   "metadata": {
    "slideshow": {
     "slide_type": "slide"
    }
   },
   "source": [
    "### ER diagram\n",
    " - Graphical form to represent entities and relationships\n",
    "   - Box: entity\n",
    "   - Diamond: relationship\n",
    "   - Circle: attribute\n",
    " \n",
    " \n",
    "![](../img/sql_er_diagram.png)"
   ]
  },
  {
   "cell_type": "markdown",
   "metadata": {
    "slideshow": {
     "slide_type": "slide"
    }
   },
   "source": [
    "### Which tables to create?\n",
    " - Until now, we separated entities from relationships\n",
    " - But in practice everything must be stored into tables\n",
    " - How to do this?\n",
    "   - One table per entity (students, courses, professors)\n",
    "   - What about the relationships?\n",
    "     - Mentor: 1 to 1, three possibilities\n",
    "       1. Have a column \"mentor\"\n",
    "       2. Have a column \"mentee\"\n",
    "          - Having both is not ideal: more work to ensure consistency\n",
    "       3. Have a new table (mentor, mentee)\n",
    "     - Attends: M to N\n",
    "       - Requires a table (student, course)\n",
    "     - Teaches: 1 to N\n",
    "       - Store professor in course table or create separate table\n",
    "   - General rule:\n",
    "     - Using a separate table is always possible, or\n",
    "     - 1 to 1: can store in either entity\n",
    "     - 1 to N: store in entity with cardinality N\n",
    "     - M to N: must use separate table"
   ]
  },
  {
   "cell_type": "markdown",
   "metadata": {
    "slideshow": {
     "slide_type": "slide"
    }
   },
   "source": [
    "### Final list of tables\n",
    " - Students(ID, Name, Degree, Mentor)\n",
    " - Professors(ID, Name, Chair)\n",
    " - Courses(ID, Title, Faculty, Semester, Professor)\n",
    " - Attends(Student, Course, Grade)\n",
    " - Which attributes are primary and foreign keys?"
   ]
  },
  {
   "cell_type": "markdown",
   "metadata": {
    "slideshow": {
     "slide_type": "slide"
    }
   },
   "source": [
    "## Purpose of SQL\n",
    " - SQL shines when \"navigating\" across relationships, for example:\n",
    "   - For each student, find the professor that gave them the highest grade\n",
    "   - For each professor, find courses taught last semester\n",
    " - Also used to modify data, tables, databases, etc.\n",
    "   - Not discussed in this course"
   ]
  },
  {
   "cell_type": "markdown",
   "metadata": {
    "slideshow": {
     "slide_type": "slide"
    }
   },
   "source": [
    "## Anatomy of a SELECT query\n",
    " - SELECT queries are used to retrieve data from the database\n",
    " - The result is itself a table (not saved unless specified)\n",
    "\n",
    "```\n",
    "SELECT <columns and transformation>\n",
    "FROM <source table(s)>\n",
    "[WHERE <filter rows coming from the source table(s)>]\n",
    "[GROUP BY <create groups of rows>\n",
    "[HAVING <filter groups>]]\n",
    "[ORDER BY <columns> [ASC|DESC]];\n",
    "```\n",
    "\n",
    " - Must have SELECT and FROM\n",
    " - WHERE and GROUPBY are optional\n",
    " - HAVING is optional, and must be used with GROUP BY\n",
    " - GROUP BY: eventually you must have only one row per group"
   ]
  },
  {
   "cell_type": "markdown",
   "metadata": {
    "slideshow": {
     "slide_type": "slide"
    }
   },
   "source": [
    "## Example\n",
    "\n",
    "Find all courses held in the Winter semester 2019/2020:\n",
    "\n",
    "```sql\n",
    "SELECT *\n",
    "FROM Courses\n",
    "WHERE Semester = 'WiSE 19/20';\n",
    "```"
   ]
  },
  {
   "cell_type": "markdown",
   "metadata": {
    "slideshow": {
     "slide_type": "slide"
    }
   },
   "source": [
    "## Select query untangled\n",
    " - Confusingly, the execution order is different than the writing order:\n",
    "   1. FROM: first, gather all input rows from all tables\n",
    "   2. WHERE: next, remove all rows not matching the predicate\n",
    "   3. GROUP BY: now, if needed, create groups of rows\n",
    "   4. HAVING: then, remove all groups that do not match the predicate\n",
    "   5. ORDER BY: sort the tuples by a the value of a certain column\n",
    "   6. SELECT: finally, produce output columns"
   ]
  },
  {
   "cell_type": "markdown",
   "metadata": {
    "slideshow": {
     "slide_type": "slide"
    }
   },
   "source": [
    "## Interactive SQL console\n",
    "\n",
    "An interactive SQL console with a few tables can be accessed at [w3schools.com](https://www.w3schools.com/sql/trysql.asp?filename=trysql_select_all)\n",
    "\n",
    " - Go to w3schools.com\n",
    " - Scroll until SQL, on the left side there will be a query and a button \"Try it Yourself\"\n",
    " - I encourage you to fiddle around while I am explaining\n",
    " - They also have a (superficial) command reference\n",
    " \n",
    "![](../img/w3trysql.png)"
   ]
  },
  {
   "cell_type": "markdown",
   "metadata": {
    "slideshow": {
     "slide_type": "slide"
    }
   },
   "source": [
    "## Interactive SQL console\n",
    "\n",
    "![](../img/w3sqled.png)"
   ]
  },
  {
   "cell_type": "markdown",
   "metadata": {
    "slideshow": {
     "slide_type": "slide"
    }
   },
   "source": [
    "## FROM: source tables\n",
    " - You can specify one or more tables in the from clause\n",
    " - FROM will do a cross-product of all tuples of all tables\n",
    " - In almost all cases, you only want a small subset of the cross-product\n",
    "   - Use WHERE to remove tuples that do not make sense\n",
    " - Possible to give aliases to tables and use that alias in the rest of the query\n",
    "   - Useful to keep query short and to disambiguate when the same table is used several times in the same query"
   ]
  },
  {
   "cell_type": "markdown",
   "metadata": {
    "slideshow": {
     "slide_type": "slide"
    }
   },
   "source": [
    "## WHERE: tuple filter\n",
    " - Specify a boolean condition that is evaluated for each row produced by the FROM\n",
    " - All rows where this evaluates to false are discarded\n",
    " - Example: Associate to each student all its grades (one per row)\n",
    "\n",
    "```sql\n",
    "SELECT *\n",
    "FROM\n",
    "    Students AS s,\n",
    "    Attend AS a,\n",
    "    Course AS c\n",
    "WHERE\n",
    "    s.ID = a.Student\n",
    "    AND a.Course = c.ID;\n",
    "```"
   ]
  },
  {
   "cell_type": "markdown",
   "metadata": {
    "slideshow": {
     "slide_type": "slide"
    }
   },
   "source": [
    "## WHERE: handling of NULL values \n",
    " \n",
    " - NULL is used for \"undefined\" values\n",
    " - Nothing is equal to NULL (not even NULL)\n",
    "   - `x = NULL` always equals NULL (i.e. false)\n",
    " - Use instead `x IS NULL` or `x IS NOT NULL`\n",
    " - Nasty example: `SELECT * FROM table WHERE x = 10 OR NOT x = 10`\n",
    "   - When `x` contains NULLs this equals `WHERE x IS NOT NULL`\n",
    "   - Dumb fix: `WHERE x = 10 OR NOT x = 10 OR x IS NULL`"
   ]
  },
  {
   "cell_type": "markdown",
   "metadata": {
    "slideshow": {
     "slide_type": "slide"
    }
   },
   "source": [
    "## JOIN: a special case of FROM+WHERE\n",
    " - In most cases, we are not interested in the cross-product\n",
    " - We actually want tuples that match primary/foreign keys\n",
    " - This operation is so common that it has a special name to distinguish it from the general case\n",
    " - Other than the name, the two are completely equivalent\n",
    " - Join makes your intentions clearer\n",
    " - The previous query becomes:\n",
    "\n",
    "```sql\n",
    "SELECT *\n",
    "FROM\n",
    "    Students AS s\n",
    "    JOIN Attend AS a\n",
    "        ON s.ID = a.Student\n",
    "    JOIN Course AS c\n",
    "        ON c.ID = a.Course;\n",
    "```"
   ]
  },
  {
   "cell_type": "markdown",
   "metadata": {
    "slideshow": {
     "slide_type": "slide"
    }
   },
   "source": [
    "## Non-matching rows in JOINs\n",
    " - Options to handle non-matches:\n",
    "   - Inner join: Only keep matches\n",
    "   - Left join: keep matches and un-matched records from _left_ table\n",
    "   - Right join: keep matches and un-matched records from _right_ table\n",
    "   - Outer join: keep matches, cross-product between un-matched records\n",
    " - Other possibilities:\n",
    "    - Natural join (`ON` is missing): match all columns with the same name\n",
    "    - Self-join: A table with itself (e.g. to find a student's mentor)"
   ]
  },
  {
   "cell_type": "markdown",
   "metadata": {
    "slideshow": {
     "slide_type": "slide"
    }
   },
   "source": [
    "### INNER JOIN\n",
    "\n",
    "```sql\n",
    "FROM Students [INNER] JOIN Attend\n",
    "    ON Student.ID = Attend.Student\n",
    "```\n",
    "\n",
    "![](../img/sql_join_inner.svg)"
   ]
  },
  {
   "cell_type": "markdown",
   "metadata": {
    "slideshow": {
     "slide_type": "slide"
    }
   },
   "source": [
    "### LEFT JOIN\n",
    "\n",
    "```sql\n",
    "FROM Students LEFT JOIN Attend\n",
    "    ON Student.ID = Attend.Student\n",
    "```\n",
    "\n",
    "![](../img/sql_join_left.svg)"
   ]
  },
  {
   "cell_type": "markdown",
   "metadata": {
    "slideshow": {
     "slide_type": "slide"
    }
   },
   "source": [
    "### RIGHT JOIN\n",
    "\n",
    "```sql\n",
    "FROM Students RIGHT JOIN Attend\n",
    "    ON Student.ID = Attend.Student\n",
    "```\n",
    "\n",
    "![](../img/sql_join_right.svg)"
   ]
  },
  {
   "cell_type": "markdown",
   "metadata": {
    "slideshow": {
     "slide_type": "slide"
    }
   },
   "source": [
    "### OUTER JOIN\n",
    "\n",
    "```sql\n",
    "FROM Students OUTER JOIN Attend\n",
    "    ON Student.ID = Attend.Student\n",
    "```\n",
    "\n",
    "![](../img/sql_join_outer.svg)\n",
    "\n",
    "\n",
    "Warning: cross-product between unmatched rows!"
   ]
  },
  {
   "cell_type": "markdown",
   "metadata": {
    "slideshow": {
     "slide_type": "slide"
    }
   },
   "source": [
    "### Retrieving un-matched rows only\n",
    "\n",
    " - Example: find all students who have not attended any course\n",
    "\n",
    "```sql\n",
    "SELECT Students.ID\n",
    "FROM Students LEFT JOIN Attend\n",
    "    ON Students.ID = Attends.Student\n",
    "WHERE\n",
    "    Attends.Student IS NULL\n",
    "```\n",
    "\n",
    "![](../img/sql_join_unmatched_only.svg)"
   ]
  },
  {
   "cell_type": "markdown",
   "metadata": {
    "slideshow": {
     "slide_type": "slide"
    }
   },
   "source": [
    "## GROUP BY: create groups of rows\n",
    " - must specify one or more columns, possibly with transformation\n",
    " - all rows that have the same values for all (transformed) column(s) end up in the same group"
   ]
  },
  {
   "cell_type": "markdown",
   "metadata": {
    "slideshow": {
     "slide_type": "slide"
    }
   },
   "source": [
    "## HAVING: filter groups\n",
    " - A boolean condition applied to each group\n",
    " - Example: filter by group size, min/max/average of something..\n",
    " - Common case: counting\n",
    "   - `COUNT(*)`: number of rows in the group\n",
    "   - `COUNT(expr)`: number of rows where `expr` is not NULL\n",
    "   - `COUNT(DISTINCT expr)`: number of unique values of `expr` (excluding NULLs)"
   ]
  },
  {
   "cell_type": "markdown",
   "metadata": {
    "slideshow": {
     "slide_type": "slide"
    }
   },
   "source": [
    "## ORDER BY: order tuples\n",
    "\n",
    " - Sort the tuples produced by the query\n",
    " - Sort by the value of one or more columns, possibly transformed\n",
    " - Possible to order by aggregations (count/min/max/sum/avg)"
   ]
  },
  {
   "cell_type": "markdown",
   "metadata": {
    "slideshow": {
     "slide_type": "slide"
    }
   },
   "source": [
    "## SELECT: produce output columns\n",
    " - All the surviving groups/rows are transformed\n",
    " - Select only a subset of attributes, or transform values\n",
    " - Careful: each group must be collapsed into a row"
   ]
  },
  {
   "cell_type": "markdown",
   "metadata": {
    "slideshow": {
     "slide_type": "slide"
    }
   },
   "source": [
    "# Examples"
   ]
  },
  {
   "cell_type": "markdown",
   "metadata": {
    "slideshow": {
     "slide_type": "slide"
    }
   },
   "source": [
    "## Example 1\n",
    "\n",
    "Find the ID of all students who failed at least one exam.\n",
    "\n",
    "```sql\n",
    "SELECT ...\n",
    "```\n",
    "\n",
    "Tables:\n",
    " - Students(ID, Name, Degree, Mentor)\n",
    " - Professors(ID, Name, Chair)\n",
    " - Courses(ID, Title, Faculty, Semester, Professor)\n",
    " - Attends(Student, Course, Grade)"
   ]
  },
  {
   "cell_type": "markdown",
   "metadata": {
    "slideshow": {
     "slide_type": "slide"
    }
   },
   "source": [
    "## Example 1\n",
    "\n",
    "Find the ID of all students who failed at least one exam.\n",
    "\n",
    "```sql\n",
    "SELECT Student\n",
    "FROM Attends\n",
    "WHERE Grade > 5\n",
    "```\n",
    "\n",
    "\n",
    "Tables:\n",
    " - Students(ID, Name, Degree, Mentor)\n",
    " - Professors(ID, Name, Chair)\n",
    " - Courses(ID, Title, Faculty, Semester, Professor)\n",
    " - Attends(Student, Course, Grade)"
   ]
  },
  {
   "cell_type": "markdown",
   "metadata": {
    "slideshow": {
     "slide_type": "slide"
    }
   },
   "source": [
    "## Example 2\n",
    "\n",
    "Find how many exams each student failed.\n",
    "\n",
    "```sql\n",
    "SELECT ...\n",
    "```\n",
    "\n",
    "Tables:\n",
    " - Students(ID, Name, Degree, Mentor)\n",
    " - Professors(ID, Name, Chair)\n",
    " - Courses(ID, Title, Faculty, Semester, Professor)\n",
    " - Attends(Student, Course, Grade)"
   ]
  },
  {
   "cell_type": "markdown",
   "metadata": {
    "slideshow": {
     "slide_type": "slide"
    }
   },
   "source": [
    "## Example 2\n",
    "\n",
    "Find how many exams each student failed.\n",
    "\n",
    "```sql\n",
    "SELECT Student, COUNT(*)\n",
    "FROM Attends\n",
    "WHERE Grade > 5\n",
    "GROUP BY Student\n",
    "```\n",
    "\n",
    "\n",
    "Tables:\n",
    " - Students(ID, Name, Degree, Mentor)\n",
    " - Professors(ID, Name, Chair)\n",
    " - Courses(ID, Title, Faculty, Semester, Professor)\n",
    " - Attends(Student, Course, Grade)"
   ]
  },
  {
   "cell_type": "markdown",
   "metadata": {
    "slideshow": {
     "slide_type": "slide"
    }
   },
   "source": [
    "## Example 3\n",
    "\n",
    "Find how many exams each student failed, only for the students who failed at least 2.\n",
    "\n",
    "```sql\n",
    "SELECT ...\n",
    "```\n",
    "\n",
    "\n",
    "Tables:\n",
    " - Students(ID, Name, Degree, Mentor)\n",
    " - Professors(ID, Name, Chair)\n",
    " - Courses(ID, Title, Faculty, Semester, Professor)\n",
    " - Attends(Student, Course, Grade)"
   ]
  },
  {
   "cell_type": "markdown",
   "metadata": {
    "slideshow": {
     "slide_type": "slide"
    }
   },
   "source": [
    "## Example 3\n",
    "\n",
    "Find how many exams each student failed, only for the students who failed at least 2.\n",
    "\n",
    "\n",
    "```sql\n",
    "SELECT Student, COUNT(*)\n",
    "FROM Attends\n",
    "WHERE Grade > 5\n",
    "GROUP BY Student\n",
    "HAVING COUNT(*) > 1\n",
    "```\n",
    "\n",
    "\n",
    "Tables:\n",
    " - Students(ID, Name, Degree, Mentor)\n",
    " - Professors(ID, Name, Chair)\n",
    " - Courses(ID, Title, Faculty, Semester, Professor)\n",
    " - Attends(Student, Course, Grade)"
   ]
  },
  {
   "cell_type": "markdown",
   "metadata": {
    "slideshow": {
     "slide_type": "slide"
    }
   },
   "source": [
    "## Example 4\n",
    "\n",
    "Find how many courses each student failed, only for the students who failed at least 2 exams.\n",
    "\n",
    "```sql\n",
    "SELECT ...\n",
    "```\n",
    "\n",
    "\n",
    "Tables:\n",
    " - Students(ID, Name, Degree, Mentor)\n",
    " - Professors(ID, Name, Chair)\n",
    " - Courses(ID, Title, Faculty, Semester, Professor)\n",
    " - Attends(Student, Course, Grade)"
   ]
  },
  {
   "cell_type": "markdown",
   "metadata": {
    "slideshow": {
     "slide_type": "slide"
    }
   },
   "source": [
    "## Example 4\n",
    "\n",
    "Find how many courses each student failed, only for the students who failed at least 2 exams.\n",
    "\n",
    "```sql\n",
    "SELECT Student, COUNT(DISTINCT Course)\n",
    "FROM Attends\n",
    "WHERE Grade > 5\n",
    "GROUP BY Student\n",
    "HAVING COUNT(*) > 1\n",
    "```\n",
    "\n",
    "\n",
    "Tables:\n",
    " - Students(ID, Name, Degree, Mentor)\n",
    " - Professors(ID, Name, Chair)\n",
    " - Courses(ID, Title, Faculty, Semester, Professor)\n",
    " - Attends(Student, Course, Grade)"
   ]
  },
  {
   "cell_type": "markdown",
   "metadata": {
    "slideshow": {
     "slide_type": "slide"
    }
   },
   "source": [
    "# Transactions and ACID properties\n",
    "\n",
    " - When the data is read and modified by several clients at the same time, care must be taken\n",
    " - Read/modify/write workflows especially vulnerable\n",
    " - Transaction: a set of queries (reads and/or writes)\n",
    "   - Atomicity: sequence of operations appears as as a single operation on the data\n",
    "     - Either all operations succeed, or the all modifications are undone\n",
    "   - Consistency: database invariants are always satisfied regardless of the outcome\n",
    "      - Invariants: uniqueness, non-empty values, primary/foreign keys, etc.\n",
    "   - Isolation: different transactions cannot \"see\" each other\n",
    "      - Order of transactions does not matter\n",
    "   - Durability: once completed, the modifications are permanent\n",
    "      - Useful in case of crashes\n",
    "  - All of this is handled automatically by the DBMS\n",
    "    - Users only need to declare start/end and outcome of the transaction"
   ]
  },
  {
   "cell_type": "markdown",
   "metadata": {
    "slideshow": {
     "slide_type": "slide"
    }
   },
   "source": [
    "# Interfacing to a RDBMS\n",
    "\n",
    "Three types of clients\n",
    "\n",
    " 1. Command line clients\n",
    " 2. Graphical clients\n",
    " 3. Programmatic access"
   ]
  },
  {
   "cell_type": "markdown",
   "metadata": {
    "slideshow": {
     "slide_type": "slide"
    }
   },
   "source": [
    "## Command line clients\n",
    "\n",
    "Enter SQL queries and administrative commands directly from the command line:\n",
    "\n",
    "```\n",
    "$ sqlite3\n",
    "SQLite version 3.32.3 2020-06-18 14:00:33\n",
    "Enter \".help\" for usage hints.\n",
    "Connected to a transient in-memory database.\n",
    "Use \".open FILENAME\" to reopen on a persistent database.\n",
    "sqlite> \n",
    "```\n",
    "\n",
    "```\n",
    "$ psql -U user -h 10.0.6.12 -p 21334 -d database\n",
    "psql (11.1, server 11.0)\n",
    "Type \"help\" for help.\n",
    "\n",
    "postgres=# \n",
    "```"
   ]
  },
  {
   "cell_type": "markdown",
   "metadata": {
    "slideshow": {
     "slide_type": "slide"
    }
   },
   "source": [
    "## Graphical clients\n",
    "\n",
    "Database-specific:\n",
    " - pgAdmin (PostgreSQL)\n",
    " - SQLite Browser (SQLite)\n",
    " - MySQL Workbench (MySQL)\n",
    "\n",
    "General purpose:\n",
    " - [SQuirreL](http://squirrel-sql.sourceforge.net)\n",
    " - [SQLAdmin](http://sqladmin.sourceforge.net/)"
   ]
  },
  {
   "cell_type": "markdown",
   "metadata": {
    "slideshow": {
     "slide_type": "slide"
    }
   },
   "source": [
    "### SQuirreL example: querying\n",
    "![](http://squirrel-sql.sourceforge.net/screenshots/15_edit_result.png)"
   ]
  },
  {
   "cell_type": "markdown",
   "metadata": {
    "slideshow": {
     "slide_type": "slide"
    }
   },
   "source": [
    "### SQuirreL example: visualizing tables\n",
    "\n",
    "![](http://squirrel-sql.sourceforge.net/screenshots/7_graph.png)"
   ]
  },
  {
   "cell_type": "markdown",
   "metadata": {
    "slideshow": {
     "slide_type": "slide"
    }
   },
   "source": [
    "## Programmatic Access\n",
    "\n",
    "Two types of APIs:\n",
    "\n",
    " 1. High-level: Object-relational mapping (ORM)\n",
    "    - Each table has a corresponding class in the code\n",
    "    - Operations on objects are automatically translated on queries\n",
    "    - These libraries can work with many SQL databases\n",
    " 2. Low-level: Directly write SQL queries as strings\n",
    "    - Usually tied to a specific type of SQL database"
   ]
  },
  {
   "cell_type": "markdown",
   "metadata": {
    "slideshow": {
     "slide_type": "slide"
    }
   },
   "source": [
    "### SQLAlchemy: ORM in Python\n",
    "\n",
    "Example from [pythoncentral.io](https://www.pythoncentral.io/overview-sqlalchemys-expression-language-orm-queries/).\n",
    "\n",
    "Tables:\n",
    "\n",
    "```python\n",
    "class Department(Base):\n",
    "    __tablename__ = 'department'\n",
    "    id = Column(Integer, primary_key=True)\n",
    "    name = Column(String)\n",
    "    employees = relationship('Employee', secondary='department_employee')\n",
    "\n",
    "class Employee(Base):\n",
    "    __tablename__ = 'employee'\n",
    "    id = Column(Integer, primary_key=True)\n",
    "    name = Column(String)\n",
    "    departments = relationship('Department', secondary='department_employee')\n",
    "\n",
    "class DepartmentEmployee(Base):\n",
    "    __tablename__ = 'department_employee'\n",
    "    department_id = Column(Integer, ForeignKey('department.id'), primary_key=True)\n",
    "    employee_id = Column(Integer, ForeignKey('employee.id'), primary_key=True)\n",
    "```"
   ]
  },
  {
   "cell_type": "markdown",
   "metadata": {
    "slideshow": {
     "slide_type": "slide"
    }
   },
   "source": [
    "### Inserting data in SQLAlchemy\n",
    "\n",
    "```python\n",
    "from sqlalchemy import create_engine\n",
    "engine = create_engine('sqlite:///')\n",
    "\n",
    "from sqlalchemy.orm import sessionmaker\n",
    "session = sessionmaker()\n",
    "session.configure(bind=engine)\n",
    "Base.metadata.create_all(engine)\n",
    "\n",
    "s = session()\n",
    "john = Employee(name='john')\n",
    "s.add(john)\n",
    "it_department = Department(name='IT')\n",
    "it_department.employees.append(john)\n",
    "s.add(it_department)\n",
    "s.commit()\n",
    "```"
   ]
  },
  {
   "cell_type": "markdown",
   "metadata": {
    "slideshow": {
     "slide_type": "slide"
    }
   },
   "source": [
    "### Querying in SQLAlchemy\n",
    "\n",
    "asd\n",
    "\n",
    "```python\n",
    "find_marry = select([\n",
    "    Employee.id\n",
    "]).select_from(\n",
    "    Employee.__table__.join(DepartmentEmployee)\n",
    ").group_by(\n",
    "    Employee.id\n",
    ").having(func.count(\n",
    "    DepartmentEmployee.department_id\n",
    ") > 1)\n",
    "\n",
    "rs = s.execute(find_marry) \n",
    "rs.fetchall()  # result: [(2,)]\n",
    "```"
   ]
  },
  {
   "cell_type": "markdown",
   "metadata": {
    "slideshow": {
     "slide_type": "slide"
    }
   },
   "source": [
    "### Accessing SQLite in Python\n",
    "\n",
    "Example from [python3.org](https://docs.python.org/3/library/sqlite3.html)\n",
    "\n",
    "```python\n",
    "import sqlite3\n",
    "conn = sqlite3.connect('example.db')\n",
    "\n",
    "c = conn.cursor()\n",
    "\n",
    "c.execute('''CREATE TABLE stocks\n",
    "             (date text, trans text, symbol text, qty real, price real)''')\n",
    "\n",
    "c.execute(\"INSERT INTO stocks VALUES ('2006-01-05','BUY','RHAT',100,35.14)\")\n",
    "\n",
    "conn.commit()\n",
    "\n",
    "conn.close()\n",
    "```"
   ]
  },
  {
   "cell_type": "markdown",
   "metadata": {
    "slideshow": {
     "slide_type": "slide"
    }
   },
   "source": [
    "### Querying SQLite in Python\n",
    "\n",
    "```python\n",
    "purchases = [('2006-03-28', 'BUY', 'IBM', 1000, 45.00),\n",
    "             ('2006-04-05', 'BUY', 'MSFT', 1000, 72.00),\n",
    "             ('2006-04-06', 'SELL', 'IBM', 500, 53.00)]\n",
    "\n",
    "c.executemany('INSERT INTO stocks VALUES (?,?,?,?,?)', purchases)\n",
    "\n",
    "for row in c.execute('SELECT * FROM stocks WHERE price<? ORDER BY price', [2000,]):\n",
    "    print(row)\n",
    "\n",
    "# ('2006-03-28', 'BUY', 'IBM', 1000, 45.0)\n",
    "# ('2006-04-06', 'SELL', 'IBM', 500, 53.0)\n",
    "# ('2006-04-05', 'BUY', 'MSFT', 1000, 72.0)\n",
    "```"
   ]
  },
  {
   "cell_type": "markdown",
   "metadata": {
    "slideshow": {
     "slide_type": "slide"
    }
   },
   "source": [
    "## Programmatic access to SQL databases\n",
    "\n",
    "Common concepts:\n",
    "\n",
    "| SQLite | SQLAlchemy | Purpose |\n",
    "|-|-|-|\n",
    "| Connection | Engine | The database object |\n",
    "| Cursor | Session | A transaction |\n",
    "\n",
    "General workflow:\n",
    "\n",
    " 1. Obtain a connection\n",
    "    - Use a connection pool if performance is a concern\n",
    " 2. Obtain a cursor\n",
    " 3. Execute queries\n",
    " 4. Close cursor\n",
    " 5. Possibly repeat...\n",
    " 6. Close connection"
   ]
  },
  {
   "cell_type": "markdown",
   "metadata": {
    "slideshow": {
     "slide_type": "slide"
    }
   },
   "source": [
    "### SQL injection\n",
    "\n",
    " - An once-popular cyber-attack on SQL databases\n",
    " - Caused by improper escaping of arguments coming from external users (e.g. in a web form)\n",
    " - Never trust user input!\n",
    "\n",
    "Example:\n",
    "\n",
    "```python\n",
    "def find_courses(conn, semester):\n",
    "    c = conn.cursor()\n",
    "    return c.execute(\n",
    "        \"SELECT * FROM Courses WHERE Semester={}\".format(semester)\n",
    "    ).fetchall()\n",
    "\n",
    "# later on...\n",
    "find_courses(conn, \"''; DROP TABLE Courses; --\")\n",
    "```\n",
    "\n",
    "This will execute **two** queries:\n",
    "\n",
    "```sql\n",
    "SELECT * FROM Courses WHERE Semester='';\n",
    "DROP TABLE Courses; --\n",
    "```\n"
   ]
  },
  {
   "cell_type": "markdown",
   "metadata": {
    "slideshow": {
     "slide_type": "slide"
    }
   },
   "source": [
    "### Avoiding SQL injection\n",
    "\n",
    "Let the API handle escaping for you:\n",
    "\n",
    "```python\n",
    "def find_courses(conn, semester):\n",
    "    c = conn.cursor()\n",
    "    return c.execute(\n",
    "        \"SELECT * FROM Courses WHERE Semester=?\",\n",
    "        [semester]\n",
    "    ).fetchall()\n",
    "\n",
    "# later on...\n",
    "find_courses(conn, \"''; DROP TABLE Courses; --\")\n",
    "```\n",
    "\n",
    "This will execute **one** query:\n",
    "\n",
    "```sql\n",
    "SELECT * FROM Courses WHERE Semester='''''; DROP TABLE Courses; --'\n",
    "```"
   ]
  },
  {
   "cell_type": "markdown",
   "metadata": {
    "slideshow": {
     "slide_type": "slide"
    }
   },
   "source": [
    "# Where should I start from?\n",
    "\n",
    "[SQLite](https://sqlite.org/index.html) is very simple and scales well.\n",
    "\n",
    "[PostgreSQL](https://www.postgresql.org/) for more complicated requirements / large scale data processing.\n",
    "\n",
    "Also frequently used: [MySQL](https://www.mysql.com/)"
   ]
  },
  {
   "cell_type": "markdown",
   "metadata": {
    "slideshow": {
     "slide_type": "slide"
    }
   },
   "source": [
    "# Advanced topics"
   ]
  },
  {
   "cell_type": "markdown",
   "metadata": {
    "slideshow": {
     "slide_type": "slide"
    }
   },
   "source": [
    "## Indexing\n",
    " - depending on your query and how you express it, it may be quite slow\n",
    " - the DBMS tries to optimize every query, but sometimes it fails\n",
    " - when most of the time is spent on joins and lookups, creating _indices_ can greatly speed up the query\n",
    " - an index is just a mapping from values to rows that contain that value in one or more columns\n",
    " - this makes it much faster to find rows that contain a given value\n",
    "   - instead of checking row by row, simply look in the index\n",
    "   - think about books!\n",
    " - an index is always relative to a table and one or more columns\n",
    "   - `CREATE INDEX <index name> ON <table name>(<list of columns>)`\n",
    " - a table can have many indices\n",
    "   - an index is always created automatically for primary keys\n",
    "   - all other unique keys must also have an index\n",
    "   - indices on foreign keys _might_ be useful\n",
    "   - WHERE/JOIN are much faster when there is an index on one of the columns\n",
    " - if a query is slow and/or executed very frequently, consider adding an index on columns used in the WHERE/JOIN"
   ]
  },
  {
   "cell_type": "markdown",
   "metadata": {
    "slideshow": {
     "slide_type": "slide"
    }
   },
   "source": [
    "## Main types of index\n",
    " - Tree-based: O(log N) access, can be used to quickly answer queries like `WHERE L < column < U`\n",
    "   - Branching factor in the order of 1000s\n",
    " - Hash-based: O(1) access, cannot answer range queries\n",
    " - Clustered index: table is physically sorted by the columns"
   ]
  },
  {
   "cell_type": "markdown",
   "metadata": {
    "slideshow": {
     "slide_type": "slide"
    }
   },
   "source": [
    "## Query plans\n",
    " - understanding why a query is slow is not trivial\n",
    " - the query plan is produced by the optimizer and shows exactly what and how is done to execute the query\n",
    " - it contains an estimated cost and can be augmented with the actual cost measured when executing the query\n",
    " - estimated cost:\n",
    "   - computed from statistics about rows/values that the DBMS maintains internally\n",
    "   - these statistics can become inaccurate after lots of operations\n",
    "   - useful to periodically recompute these statistics\n",
    "   - also useful to periodically clear the space allocated to deleted rows and defragment table data\n",
    " - (show example of plans before/after adding an index)"
   ]
  },
  {
   "cell_type": "markdown",
   "metadata": {
    "slideshow": {
     "slide_type": "slide"
    }
   },
   "source": [
    "### Example\n",
    "\n",
    "![](../img/qplan.png)\n",
    "\n",
    "Image from [dba.stackexchange.com](https://dba.stackexchange.com/q/9234)"
   ]
  },
  {
   "cell_type": "code",
   "execution_count": null,
   "metadata": {},
   "outputs": [],
   "source": []
  },
  {
   "cell_type": "markdown",
   "metadata": {
    "Collapsed": "false",
    "slideshow": {
     "slide_type": "slide"
    }
   },
   "source": [
    "# Non-SQL\n",
    "\n",
    "What does NoSQL actually mean?\n",
    "\n",
    "A bit of history …\n",
    "- 1998: First used for a relational database that omitted usage of SQL\n",
    "- 2009: First used during a conference to advocate non-relational databases\n",
    "\n",
    "NoSQL is an accidental term with no precise definition"
   ]
  },
  {
   "cell_type": "markdown",
   "metadata": {
    "slideshow": {
     "slide_type": "slide"
    }
   },
   "source": [
    "## NoSQL: Overview\n",
    "\n",
    "Main objective: implement distributed state\n",
    "\n",
    "- Different objects stored on different servers\n",
    "- Same object replicated on different servers\n",
    "\n",
    "Main idea: give up some of the ACID constraints to improve performance\n",
    "\n",
    "Simple interface:\n",
    "\n",
    "- Write (=Put): needs to write all replicas\n",
    "- Read (=Get): may get only one\n",
    "\n",
    "Eventual consistency <- Strong consistency"
   ]
  },
  {
   "cell_type": "markdown",
   "metadata": {
    "slideshow": {
     "slide_type": "slide"
    }
   },
   "source": [
    "## NoSQL Six key features\n",
    "\n",
    "1. Scale horizontally “simple operations”\n",
    "2. Replicate/distribute data over many servers\n",
    "3. Simple call level interface (contrast w/ SQL)\n",
    "4. Weaker concurrency model than ACID\n",
    "5. Efficient use of distributed indexes and RAM\n",
    "6. Flexible schema"
   ]
  },
  {
   "cell_type": "markdown",
   "metadata": {
    "slideshow": {
     "slide_type": "slide"
    }
   },
   "source": [
    "## Types of NoSQL Databases\n",
    "\n",
    "Core types\n",
    "- Key-value stores\n",
    "- Document stores\n",
    "- Wide column (column family, column oriented, …) stores\n",
    "- Graph databases\n",
    "\n",
    "Non-core types\n",
    "- Object databases\n",
    "- Native XML databases\n",
    "- RDF stores\n",
    "- ..."
   ]
  },
  {
   "cell_type": "markdown",
   "metadata": {
    "slideshow": {
     "slide_type": "slide"
    }
   },
   "source": [
    "## Key-Value Stores\n",
    "\n",
    "Data model\n",
    "- he most simple NoSQL database type\n",
    "    - Works as a simple hash table (mapping)\n",
    "- Key-value pairs\n",
    "    - Key (id, identifier, primary key)\n",
    "    - Value: binary object, black box for the database system\n",
    "\n",
    "Query patterns\n",
    "- Create, update or remove value for a given key\n",
    "- Get value for a given key\n",
    "\n",
    "Characteristics\n",
    "- Simple model ⇒ great performance, easily scaled, …\n",
    "- Simple model ⇒ not for complex queries nor complex data\n"
   ]
  },
  {
   "cell_type": "markdown",
   "metadata": {
    "slideshow": {
     "slide_type": "slide"
    }
   },
   "source": [
    "### Key-Value Stores\n",
    "\n",
    "Suitable use cases\n",
    "- Session data, user profiles, user preferences, shopping carts, …\n",
    "I.e. when values are only accessed via keys\n",
    "\n",
    "When not to use\n",
    "- Relationships among entities\n",
    "- Queries requiring access to the content of the value part\n",
    "- Set operations involving multiple key-value pairs\n",
    "\n",
    "Representatives\n",
    "- Redis, MemcachedDB, Riak KV, Hazelcast, Ehcache, Amazon, SimpleDB, Berkeley DB, Oracle NoSQL, Infinispan, LevelDB, Ignite, Project Voldemort\n",
    "- Multi-model: OrientDB, ArangoDB"
   ]
  },
  {
   "cell_type": "markdown",
   "metadata": {
    "slideshow": {
     "slide_type": "slide"
    }
   },
   "source": [
    "### Key-Value Stores\n",
    "\n",
    "<img src=\"photos/keyvalue_example.PNG\">"
   ]
  },
  {
   "cell_type": "markdown",
   "metadata": {
    "slideshow": {
     "slide_type": "slide"
    }
   },
   "source": [
    "### Key-Value Stores Use cases\n",
    "\n",
    "Key-value data stores are ideal for storing user profiles, blog comments, product recommendations, and session information.\n",
    "\n",
    "- Twitter uses Redis to deliver your Twitter timeline\n",
    "- Pinterest uses Redis to store lists of users, followers, unfollowers, boards, and more\n",
    "- Coinbase uses Redis to enforce rate limits and guarantee correctness of Bitcoin transactions\n",
    "- Quora uses Memcached to cache results from slower, persistent databases"
   ]
  },
  {
   "cell_type": "markdown",
   "metadata": {
    "slideshow": {
     "slide_type": "slide"
    }
   },
   "source": [
    "## Document Stores\n",
    "\n",
    "Data model\n",
    "- Documents\n",
    "    - Self-describing\n",
    "    - Hierarchical tree structures (JSON, XML, …)\n",
    "        – Scalar values, maps, lists, sets, nested documents, …\n",
    "    - Identified by a unique identifier (key, …)\n",
    "- Documents are organized into collections\n",
    "\n",
    "Query patterns\n",
    "- Create, update or remove a document\n",
    "- Retrieve documents according to complex query conditions\n",
    "\n",
    "Observation\n",
    "- Extended key-value stores where the value part is examinable!\n"
   ]
  },
  {
   "cell_type": "markdown",
   "metadata": {
    "slideshow": {
     "slide_type": "slide"
    }
   },
   "source": [
    "## Document Stores\n",
    "\n",
    "Suitable use cases\n",
    "- Event logging, content management systems, blogs, web, analytics, e-commerce applications, …\n",
    "    - I.e. *for structured documents with similar schema*\n",
    "\n",
    "When not to use\n",
    "- *Set operations* involving multiple documents\n",
    "- Design of document structure is constantly changing\n",
    "    - I.e. when the required level of granularity would outbalance the advantages of aggregates\n",
    "\n",
    "Representatives\n",
    "- MongoDB, Couchbase, Amazon DynamoDB, CouchDB, RethinkDB, RavenDB, Terrastore\n",
    "- Multi-model: MarkLogic, OrientDB, OpenLink Virtuoso, ArangoDB\n"
   ]
  },
  {
   "cell_type": "markdown",
   "metadata": {
    "slideshow": {
     "slide_type": "slide"
    }
   },
   "source": [
    "## Document Stores\n",
    "\n",
    "```json\n",
    "[\n",
    "    {\n",
    "        \"year\" : 2013,\n",
    "        \"title\" : \"Turn It Down, Or Else!\",\n",
    "        \"info\" : {\n",
    "            \"directors\" : [ \"Alice Smith\", \"Bob Jones\"],\n",
    "            \"release_date\" : \"2013-01-18T00:00:00Z\",\n",
    "            \"rating\" : 6.2,\n",
    "            \"genres\" : [\"Comedy\", \"Drama\"],\n",
    "            \"image_url\" : \"http://ia.media-imdb.com/images/N/O9ERWAU7FS797AJ7LU8HN09AMUP908RLlo5JF90EWR7LJKQ7@@._V1_SX400_.jpg\",\n",
    "            \"plot\" : \"A rock band plays their music at high volumes, annoying the neighbors.\",\n",
    "            \"actors\" : [\"David Matthewman\", \"Jonathan G. Neff\"]\n",
    "        }\n",
    "    },\n",
    "    {\n",
    "        \"year\": 2015,\n",
    "        \"title\": \"The Big New Movie\",\n",
    "        \"info\": {\n",
    "            \"plot\": \"Nothing happens at all.\",\n",
    "            \"rating\": 0\n",
    "        }\n",
    "    }\n",
    "]\n",
    "```"
   ]
  },
  {
   "cell_type": "markdown",
   "metadata": {
    "slideshow": {
     "slide_type": "slide"
    }
   },
   "source": [
    "## Document Stores Use Cases\n",
    "\n",
    "- SEGA uses MongoDB for handling 11 million in-game accounts\n",
    "- Cisco moved its VSRM (video session and research manager) platform to Couchbase to achieve greater scalability\n",
    "- Aer Lingus uses MongoDB with Studio 3T to handle ticketing and internal apps\n",
    "- Built on MongoDB, The Weather Channel’s iOS and Android apps deliver weather alerts to 40 million users in real-time"
   ]
  },
  {
   "cell_type": "markdown",
   "metadata": {
    "slideshow": {
     "slide_type": "slide"
    }
   },
   "source": [
    "## Wide Column Stores\n",
    "\n",
    "Data model\n",
    "- Column family (table)\n",
    "    - Table is a collectioon of similar rows (not necessarily identical)\n",
    "\n",
    "- Row\n",
    "    - Row is a collectioon of columns\n",
    "        - Should encompass a group of data that is accessed together\n",
    "    - Associated with a unique row key\n",
    "\n",
    "- Column\n",
    "    - Column consists of a column name and column value (and possibly other metadata records)\n",
    "    - Scalar values, but also flat sets, lists or maps may be allowed"
   ]
  },
  {
   "cell_type": "markdown",
   "metadata": {
    "slideshow": {
     "slide_type": "slide"
    }
   },
   "source": [
    "## Wide Column Stores\n",
    "\n",
    "Query patterns\n",
    "- Create, update or remove a row within a given column family\n",
    "- Select rows according to a row key or simple conditions\n",
    "\n",
    "Warning\n",
    "- Wide column stores are not just a special kind of RDBMSs with a variable set of columns!\n"
   ]
  },
  {
   "cell_type": "markdown",
   "metadata": {
    "slideshow": {
     "slide_type": "slide"
    }
   },
   "source": [
    "## Wide Column Stores\n",
    "\n",
    "Suitable use cases\n",
    "- Event logging, content management systems, blogs, …\n",
    "    - I.e. for structured flat data with similar schema\n",
    "\n",
    "When not to use\n",
    "- ACID transactions are required\n",
    "- Complex queries: aggregation (SUM, AVG, …), joining, …\n",
    "- Early prototypes: i.e. when database design may change\n",
    "\n",
    "Representatives\n",
    "- Apache Cassandra, Apache HBase, Apache Accumulo, Hypertable, Google Bigtable"
   ]
  },
  {
   "cell_type": "markdown",
   "metadata": {
    "slideshow": {
     "slide_type": "slide"
    }
   },
   "source": [
    "##  Wide Column Stores\n",
    "\n",
    "<img src=\"https://pandaforme.gitbooks.io/introduction-to-cassandra/content/Screen%20Shot%202016-02-24%20at%2012.24.12.png\">"
   ]
  },
  {
   "cell_type": "markdown",
   "metadata": {
    "slideshow": {
     "slide_type": "slide"
    }
   },
   "source": [
    "## Wide Column Stores Use Cases\n",
    "\n",
    "Column stores offer very high performance and a highly scalable architecture. Because they’re fast to load and query, they’ve been popular among companies and organizations dealing with big data, IoT, and user recommendation and personalization engines.\n",
    "\n",
    "- Spotify uses Cassandra to store user profile attributes and metadata about artists, songs, etc. for better personalization\n",
    "- Facebook initially built its revamped Messages on top of HBase, but is now also used for other Facebook services like the Nearby Friends feature and search indexing\n",
    "- Outbrain uses Cassandra to serve over 190 billion personalized content recommendations each month"
   ]
  },
  {
   "cell_type": "markdown",
   "metadata": {
    "slideshow": {
     "slide_type": "slide"
    }
   },
   "source": [
    "## Graph Databases\n",
    "\n",
    "Data model\n",
    "- Property graphs\n",
    "    - Directed / undirected graphs, i.e. collections of …\n",
    "        - nodes (vertices) for real-world entities, and\n",
    "        - relationships (edges) between these nodes\n",
    "    - Both the nodes and relationships can be associated with additional properties\n",
    "\n",
    "Types of databases\n",
    "- Non-transactional = small number of very large graphs\n",
    "- Transactional = large number of small graphs"
   ]
  },
  {
   "cell_type": "markdown",
   "metadata": {
    "slideshow": {
     "slide_type": "slide"
    }
   },
   "source": [
    "## Graph Databases\n",
    "\n",
    "Query patterns\n",
    "- Create, update or remove a node / relationship in a graph\n",
    "- Graph algorithms (shortest paths, spanning trees, …)\n",
    "- General graph traversals\n",
    "- Sub-graph queries or super-graph queries\n",
    "- Similarity based queries (approximate matching)\n",
    "\n",
    "Representatives\n",
    "- Neo4j, Titan, Apache Giraph, InfiniteGraph, FlockDB\n",
    "- Multi-model: OrientDB, OpenLink Virtuoso, ArangoDB"
   ]
  },
  {
   "cell_type": "markdown",
   "metadata": {
    "slideshow": {
     "slide_type": "slide"
    }
   },
   "source": [
    "## Graph Databases\n",
    "\n",
    "Suitable use cases\n",
    "- Social networks, routing, dispatch, and location-based, services, recommendation engines, chemical compounds, biological pathways, linguistic trees, …\n",
    "    - I.e. simply for __graph structures__\n",
    "\n",
    "When not to use\n",
    "- Extensive batch operations are required\n",
    "    - Multiple nodes / relationships are to be affected\n",
    "- Only too large graphs to be stored\n",
    "    - Graph distribution is difficult or impossible at all\n"
   ]
  },
  {
   "cell_type": "markdown",
   "metadata": {
    "slideshow": {
     "slide_type": "slide"
    }
   },
   "source": [
    "## Graph Databases\n",
    "\n",
    "The image below shows how a relational database like MySQL works, which use memory-intensive and more complicated join operations to search entire tables to find a match:\n",
    "\n",
    "<img src=\"https://s3.amazonaws.com/dev.assets.neo4j.com/wp-content/uploads/from_relational_model.png\">\n"
   ]
  },
  {
   "cell_type": "markdown",
   "metadata": {
    "slideshow": {
     "slide_type": "slide"
    }
   },
   "source": [
    "## Graph Databases\n",
    "\n",
    "Compare that to a graph database, which already predetermines relationships based on connected nodes, making queries much faster and more economical.\n",
    "\n",
    "<img src=\"https://s3.amazonaws.com/dev.assets.neo4j.com/wp-content/uploads/relational_to_graph.png\">\n"
   ]
  },
  {
   "cell_type": "markdown",
   "metadata": {},
   "source": [
    "## Graph Databases Use Cases\n",
    "\n",
    "Graph databases are great for establishing data relationships especially when dealing with large data sets. They offer blazing fast query performance that relational databases cannot compete with, especially as data grows much deeper.\n",
    "\n",
    "- Walmart uses Neo4j to provide customers personalized, relevant product recommendations and promotions\n",
    "- Medium uses Neo4j to build their social graph to enhance content personalization\n",
    "- Cisco uses Neo4j to mine customer support cases to anticipate bugs"
   ]
  },
  {
   "cell_type": "markdown",
   "metadata": {
    "slideshow": {
     "slide_type": "slide"
    }
   },
   "source": [
    "## Big Data\n",
    "\n",
    "<img src=\"https://media.makeameme.org/created/big-data-big-5ad56d.jpg\">"
   ]
  },
  {
   "cell_type": "markdown",
   "metadata": {
    "slideshow": {
     "slide_type": "slide"
    }
   },
   "source": [
    "## What is Big Data\n",
    "\n",
    "- high Volume\n",
    "- high Velocity\n",
    "- high Variety\n",
    "- Veracity"
   ]
  },
  {
   "cell_type": "markdown",
   "metadata": {
    "slideshow": {
     "slide_type": "slide"
    }
   },
   "source": [
    "## Data Sources\n",
    "\n",
    "- Social media and networks\n",
    "- Scientific instruments\n",
    "- Mobile devices\n",
    "- Sensor technology and networks"
   ]
  },
  {
   "cell_type": "markdown",
   "metadata": {
    "slideshow": {
     "slide_type": "slide"
    }
   },
   "source": [
    "# Architecture Design Project"
   ]
  },
  {
   "cell_type": "markdown",
   "metadata": {
    "slideshow": {
     "slide_type": "slide"
    }
   },
   "source": [
    "# Background\n",
    "\n",
    "Our client is a well-known manufacturer who builds different types of robotic manipulators. These robots are used by different operators/companies all around the world. \n",
    "\n",
    "During the operation, each robot creates a log file which includes timestamps as well as information from different sensors.\n",
    "\n",
    "For example, this is a snapshot of the log file\n",
    "\n",
    "```\n",
    ".\n",
    ".\n",
    ".\n",
    "timestamp 10:20:00 X 100 Y 100 Z 100\n",
    "timestamp 10:20:01 T 5 R 6\n",
    "timestamp 10:20:02 X 101 Y 99 Z 99\n",
    "timestamp 10:20:03 X 102 Y 100 Z 99\n",
    "timestamp 10:20:04 T 7 R 6\n",
    "timestamp 10:20:05 X 100 Y 100 Z 99\n",
    ".\n",
    ".\n",
    ".\n",
    "\n",
    "```\n",
    "\n",
    "The logfile can contain differet sensors and sometimes, there are differences between robot sensors and how they are captured."
   ]
  },
  {
   "cell_type": "markdown",
   "metadata": {
    "slideshow": {
     "slide_type": "slide"
    }
   },
   "source": [
    "# Main Idea\n",
    "\n",
    "Our client wants to create a platform (website) for health-condition-monitoring of the robots. In particular, our client wants to create a platform where different operators of the robotic arms can upload the log files and get insights about the status of their robot and different parts of it. \n",
    "\n",
    "<img src=\"photos/cybernetics-1869205_1280.jpg\">"
   ]
  },
  {
   "cell_type": "markdown",
   "metadata": {
    "slideshow": {
     "slide_type": "slide"
    }
   },
   "source": [
    "# Task\n",
    "\n",
    "Design an architecture for the front-end and the back-end. (on the abstract level)\n",
    "Consider that each logfile is around 100Mb and is in text format\n",
    "\n",
    "- What types of databases are needed?\n",
    "- In case of sql databases, what columns do you suggest?\n",
    "- Do we need any nosql db? what type?\n",
    "\n",
    "Note: in this case, there are no unique solution. Try to be creative :)"
   ]
  }
 ],
 "metadata": {
  "celltoolbar": "Slideshow",
  "jupytext": {
   "formats": "ipynb,py"
  },
  "kernelspec": {
   "display_name": "Python 3",
   "language": "python",
   "name": "python3"
  },
  "language_info": {
   "codemirror_mode": {
    "name": "ipython",
    "version": 3
   },
   "file_extension": ".py",
   "mimetype": "text/x-python",
   "name": "python",
   "nbconvert_exporter": "python",
   "pygments_lexer": "ipython3",
   "version": "3.7.4"
  },
  "widgets": {
   "application/vnd.jupyter.widget-state+json": {
    "state": {},
    "version_major": 2,
    "version_minor": 0
   }
  }
 },
 "nbformat": 4,
 "nbformat_minor": 4
}
