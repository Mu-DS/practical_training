{
 "cells": [
  {
   "cell_type": "markdown",
   "metadata": {
    "Collapsed": "false"
   },
   "source": [
    "# Fundamentals of Production Code"
   ]
  },
  {
   "cell_type": "markdown",
   "metadata": {
    "Collapsed": "false"
   },
   "source": [
    "This presentation is written by @the-rccg for the Practical Data Science for Researchers Course for the Helmholtz Graduate School for Data Science in Munich (MUDS), Spring 2020."
   ]
  },
  {
   "cell_type": "markdown",
   "metadata": {
    "incorrectly_encoded_metadata": "Collapsed=\"true\" toc-hr-collapsed=true"
   },
   "source": [
    "## Data Science Teams"
   ]
  },
  {
   "cell_type": "markdown",
   "metadata": {
    "Collapsed": "false"
   },
   "source": [
    "Strong opinions + respectful conversations = better results"
   ]
  },
  {
   "cell_type": "markdown",
   "metadata": {
    "Collapsed": "true"
   },
   "source": [
    "### Agile mindset vs process\n",
    "Thank you to Nicole Carlson and her talk at PyData Austin 2019 (https://www.youtube.com/watch?v=2v9uwedgBxU)\n",
    "\n",
    "Come up with a process that works for the team\n",
    "\n",
    "#### Sprint planning\n",
    "- each person comes up with their own tasks\n",
    "- group discusses tasks  +  estimate times\n",
    "- R&D or Literature Review tasks are timeboxed\n",
    "- Long-term project planning happens aoutside of the meeting\n",
    "- Code Reviews are assigned after the meeting\n",
    "\n",
    "#### Central place to track your work: \n",
    "- Overview: What is each person working on?\n",
    "- Ordering: What will you work on next?\n",
    "- Timeline: What is the overall outline of your project\n",
    "- Ideas: What are potential future projects/follow-ups?\n",
    "- Collaboration: What requests have you gotten from other teams?\n",
    "\n",
    "##### Full Team Trackers:\n",
    "- [Asana](https://www.asana.com/)\n",
    "- [Trello](https://www.trello.com/)\n",
    "- [Jira](https://www.atlassian.com/software/jira/)\n",
    "\n",
    "##### Simple Trackers:\n",
    "- [Todoist](https://www.todoist.com)\n",
    "- [GitHub](https://www.github.com)\n",
    "\n",
    "##### Not Trackers:\n",
    "- [Slack](https://www.slack.com)\n",
    "- E-Mail\n"
   ]
  },
  {
   "cell_type": "markdown",
   "metadata": {
    "Collapsed": "false"
   },
   "source": [
    "### Common Utilities Repo\n",
    "People will face the same challenges, <u>***especially new people***</u>. Keep solutions in one place.\n",
    "\n",
    "- Database\n",
    "  - common queries, instructions, etc.\n",
    "  - descriptions for each\n",
    "  - how to acces it\n",
    "- Data Processing\n",
    "  - transformations\n",
    "  - common tools and how to use them\n",
    "- Helpers\n",
    "  - logging\n",
    "  - unittesting\n",
    "  - visualizations\n",
    "- Coding Standards\n",
    "  - PEP8\n",
    "  - linter configuration file"
   ]
  },
  {
   "cell_type": "code",
   "execution_count": null,
   "metadata": {
    "Collapsed": "false",
    "lines_to_next_cell": 2
   },
   "outputs": [],
   "source": []
  },
  {
   "cell_type": "markdown",
   "metadata": {
    "Collapsed": "false"
   },
   "source": [
    "## Overview: Fundamentals of Production Code\n",
    "\n",
    "- Environments  (Robin)\n",
    "- Code Style  (Robin)\n",
    "- Design Patterns  (Robin?)\n",
    "- Thinking Functionally  (Robin)"
   ]
  },
  {
   "cell_type": "markdown",
   "metadata": {
    "endofcell": "--",
    "incorrectly_encoded_metadata": "Collapsed=\"true\" toc-hr-collapsed=true"
   },
   "source": [
    "## Overview: Setting Up the Environment\n",
    "\n",
    "- virtual environments\n",
    "- vscode for working on remote server\n",
    "- jupyter for working on remote server\n",
    "- "
   ]
  },
  {
   "cell_type": "markdown",
   "metadata": {
    "Collapsed": "false"
   },
   "source": [
    "### Virtual Environments"
   ]
  },
  {
   "cell_type": "markdown",
   "metadata": {
    "Collapsed": "true"
   },
   "source": [
    "#### Creating an Environment (env) to update to Python 3.8\n",
    "\n",
    "List current environments:\n",
    "```bash\n",
    "conda env list\n",
    "```\n",
    "\n",
    "Export current env:\n",
    "```bash\n",
    "conda list --explicit > current_env.txt\n",
    "```\n",
    "\n",
    "Create new env for Python=3.8:\n",
    "```bash\n",
    "conda create --name py38 python=3.8\n",
    "```\n",
    "\n",
    "Switch environment:\n",
    "```bash\n",
    "activate py38\n",
    "```\n",
    "\n",
    "Simply install what you need:\n",
    "```bash\n",
    "conda install matplotlib jupyter tensorflow dask numba\n",
    "```\n"
   ]
  },
  {
   "cell_type": "markdown",
   "metadata": {
    "Collapsed": "true"
   },
   "source": [
    "#### Registering Environments as Kernels in Jupyter"
   ]
  },
  {
   "cell_type": "markdown",
   "metadata": {
    "Collapsed": "false"
   },
   "source": [
    "```bash\n",
    "conda activate py38\n",
    "conda install ipykernel\n",
    "python -m ipykernel install --user --name=py38\n",
    "conda activate base\n",
    "jupyter lab\n",
    "```"
   ]
  },
  {
   "cell_type": "markdown",
   "metadata": {
    "Collapsed": "false"
   },
   "source": [
    "<img src=img/jupyter_environments.png />"
   ]
  },
  {
   "cell_type": "markdown",
   "metadata": {
    "Collapsed": "true"
   },
   "source": [
    "#### Other Environments\n",
    "\n",
    "You might have heard or read about the Python Virtual Environments, however, the Conda version allows for a higher encapsulation of entirely independent Python installations for each environment, as well as other tools.\n",
    "\n",
    "This works similarly to how Conda provides a higher abstraction and utility with respect to modules than PIP does, as for example its dependency resolution."
   ]
  },
  {
   "cell_type": "markdown",
   "metadata": {
    "Collapsed": "true"
   },
   "source": [
    "### IDEs"
   ]
  },
  {
   "cell_type": "markdown",
   "metadata": {
    "Collapsed": "false"
   },
   "source": [
    "- [VSCode](https://code.visualstudio.com/)\n",
    "  - Multi-Language support\n",
    "  - Extensible\n",
    "  - Open Source\n",
    "  - Very light weight\n",
    "  - Great support and stability thanks to Microsoft financing\n",
    "- [PyCharm](https://www.jetbrains.com/pycharm/)\n",
    "  - Free for students\n",
    "  - Very heavy weight\n",
    "- [Spyder](https://www.spyder-ide.org/)\n",
    "  - Great for scripting/Analysis\n",
    "  - Open Source\n",
    "- [Atom](https://www.atom.io/)\n",
    "  - Extensible\n",
    "  - Open Source"
   ]
  },
  {
   "cell_type": "markdown",
   "metadata": {
    "Collapsed": "true"
   },
   "source": [
    "### [VSCode](https://code.visualstudio.com/) for working on Remote Server"
   ]
  },
  {
   "cell_type": "markdown",
   "metadata": {
    "Collapsed": "false"
   },
   "source": [
    "Why it's useful: (non comprehensive list)\n",
    "\n",
    "- Write code directly on the server you're deploying on with full IDE capability\n",
    "- All benefits of your locally installed Extensions and Settings for the remote server\n",
    "- Simply drag-and-drop for moving files"
   ]
  },
  {
   "cell_type": "markdown",
   "metadata": {
    "Collapsed": "false"
   },
   "source": [
    "#### Getting the Extension\n",
    "\n",
    "1. `ctrl/cmd + shift + p` opens the console in run command mode indicated by `>`\n",
    "2. run `Extensions: install Extensions`\n",
    "3. install `Remote - SSH`\n",
    "4. Now you have a new icon in the footer: \n",
    "\n",
    "   <img width=300, height=15, src=\"img/ssh-remote.png\">\n",
    "   \n",
    "6. `Remote-SSH: Connect to Host...`\n",
    "7. `Add New SSH Host...`\n"
   ]
  },
  {
   "cell_type": "markdown",
   "metadata": {
    "Collapsed": "false"
   },
   "source": []
  },
  {
   "cell_type": "markdown",
   "metadata": {
    "Collapsed": "false"
   },
   "source": [
    "### Jupyter for working on Remote Server"
   ]
  },
  {
   "cell_type": "markdown",
   "metadata": {
    "Collapsed": "false"
   },
   "source": [
    "1. Connect to remote server\n",
    "2. Start Jupyter server on a free port\n",
    "3. Tunnel the port to your machine to work as if it was local"
   ]
  },
  {
   "cell_type": "markdown",
   "metadata": {
    "Collapsed": "false",
    "slideshow": {
     "slide_type": "slide"
    }
   },
   "source": [
    "Reverse Tunneling \n",
    "```bash\n",
    "ssh usernam@host.de -NL remote_port:local_host:local_port\n",
    "```\n",
    "Example:\n",
    "```bash\n",
    "ssh rgreif@host.mu-ds.de -NL 8889:localhost:8888\n",
    "```"
   ]
  },
  {
   "cell_type": "markdown",
   "metadata": {
    "Collapsed": "false",
    "slideshow": {
     "slide_type": "slide"
    }
   },
   "source": [
    "```bash\n",
    "ssh usernam@host.de -NL remote_port:local_host:local_port\n",
    "```\n",
    "\n",
    "-N \n",
    "\n",
    "    \"Nothing else\": tells the ssh client that no command executionafterwards is needed\n",
    "    \n",
    "-L [protocol/][listening_host:] listening_port:host:hostport\n",
    "    \n",
    "    \"Listen\": redirects data from the port following, through the secure tunnel to the destination address and port following, e.g. localhost:8888. "
   ]
  },
  {
   "cell_type": "code",
   "execution_count": null,
   "metadata": {
    "Collapsed": "false",
    "lines_to_next_cell": 2
   },
   "outputs": [],
   "source": []
  },
  {
   "cell_type": "markdown",
   "metadata": {
    "incorrectly_encoded_metadata": "Collapsed=\"true\" toc-hr-collapsed=true"
   },
   "source": [
    "## Code Style"
   ]
  },
  {
   "cell_type": "markdown",
   "metadata": {
    "Collapsed": "false"
   },
   "source": [
    "- The Zen of Python\n",
    "- PEP8\n",
    "- PyLint\n",
    "- Flake8\n",
    "- How to select which linting rules to use?\n",
    "    - Hierarchical structure of: Necessary, Optional, Not needed"
   ]
  },
  {
   "cell_type": "markdown",
   "metadata": {
    "Collapsed": "false"
   },
   "source": [
    "### The Zen of Python\n",
    "\n",
    "The \"guiding principles\" of how to write Python code, formulated in 1999 and published as **Python Enhancement Proposal (PEP)** 20."
   ]
  },
  {
   "cell_type": "code",
   "execution_count": 1,
   "metadata": {
    "Collapsed": "false"
   },
   "outputs": [
    {
     "name": "stdout",
     "output_type": "stream",
     "text": [
      "The Zen of Python, by Tim Peters\n",
      "\n",
      "Beautiful is better than ugly.\n",
      "Explicit is better than implicit.\n",
      "Simple is better than complex.\n",
      "Complex is better than complicated.\n",
      "Flat is better than nested.\n",
      "Sparse is better than dense.\n",
      "Readability counts.\n",
      "Special cases aren't special enough to break the rules.\n",
      "Although practicality beats purity.\n",
      "Errors should never pass silently.\n",
      "Unless explicitly silenced.\n",
      "In the face of ambiguity, refuse the temptation to guess.\n",
      "There should be one-- and preferably only one --obvious way to do it.\n",
      "Although that way may not be obvious at first unless you're Dutch.\n",
      "Now is better than never.\n",
      "Although never is often better than *right* now.\n",
      "If the implementation is hard to explain, it's a bad idea.\n",
      "If the implementation is easy to explain, it may be a good idea.\n",
      "Namespaces are one honking great idea -- let's do more of those!\n"
     ]
    }
   ],
   "source": [
    "import this"
   ]
  },
  {
   "cell_type": "markdown",
   "metadata": {
    "Collapsed": "false"
   },
   "source": [
    "### So what does this mean?"
   ]
  },
  {
   "cell_type": "markdown",
   "metadata": {
    "Collapsed": "true"
   },
   "source": [
    "#### ***Explicit is better than implicit.***"
   ]
  },
  {
   "cell_type": "markdown",
   "metadata": {
    "Collapsed": "false"
   },
   "source": [
    "```python\n",
    "from some_file import custom_object\n",
    "\n",
    "custom_object().run()\n",
    "```"
   ]
  },
  {
   "cell_type": "markdown",
   "metadata": {
    "Collapsed": "false"
   },
   "source": [
    "```python\n",
    "import  some_file as fncs\n",
    "\n",
    "data = fncs.load_data('data.csv')\n",
    "proc_data = fncs.process_data(data)\n",
    "print(summarize_data(proc_data))\n",
    "```"
   ]
  },
  {
   "cell_type": "markdown",
   "metadata": {
    "Collapsed": "true"
   },
   "source": [
    "#### ***Simple is better than complex.***\n"
   ]
  },
  {
   "cell_type": "markdown",
   "metadata": {
    "Collapsed": "true"
   },
   "source": [
    "#### ***Flat is better than nested.***\n"
   ]
  },
  {
   "cell_type": "markdown",
   "metadata": {
    "Collapsed": "false"
   },
   "source": [
    "```python\n",
    "center_slices = tuple([(slice(1, -1) if i == ax else (slice(1, -1)) if _contains_axis(axes, i, rank) else slice(None)) for i in dims])\n",
    "upper_slices = tuple([(slice(2, None) if i == ax else (slice(1, -1)) if _contains_axis(axes, i, rank) else slice(None)) for i in dims])\n",
    "lower_slices = tuple([(slice(-2) if i == ax else (slice(1, -1)) if _contains_axis(axes, i, rank) else slice(None)) for i in dims])\n",
    "```"
   ]
  },
  {
   "cell_type": "markdown",
   "metadata": {
    "Collapsed": "false"
   },
   "source": [
    "```python\n",
    "# (c)enter (u)pper (l)ower\n",
    "c_slices = tuple([(slice(1, -1)   if i == ax else slice(1, -1) if _contains_axis(axes, i, rank) else slice(None)) for i in dims])\n",
    "u_slices = tuple([(slice(2, None) if i == ax else slice(1, -1) if _contains_axis(axes, i, rank) else slice(None)) for i in dims])\n",
    "l_slices = tuple([(slice(-2)      if i == ax else slice(1, -1) if _contains_axis(axes, i, rank) else slice(None)) for i in dims])\n",
    "```"
   ]
  },
  {
   "cell_type": "markdown",
   "metadata": {
    "Collapsed": "false"
   },
   "source": [
    "```python\n",
    "c_slices = []\n",
    "u_slices = []\n",
    "l_slices = []\n",
    "for i in dims:\n",
    "    if i == ax:\n",
    "        c_slices.append(slice(1, -1))\n",
    "        u_slices.append(slice(2,None))\n",
    "        l_slices.append(slice(-2))\n",
    "    elif _contains_axis(axes, i, rank):\n",
    "        c_slices.append(slice(1, -1))\n",
    "        u_slices.append(slice(1, -1))\n",
    "        l_slices.append(slice(1, -1))\n",
    "    else:\n",
    "        c_slices.append(slice(None))\n",
    "        u_slices.append(slice(None))\n",
    "        l_slices.append(slice(None))\n",
    "c_slices = tuple(c_slices)\n",
    "u_slices = tuple(u_slices)\n",
    "l_slices = tuple(l_slices)\n",
    "```"
   ]
  },
  {
   "cell_type": "markdown",
   "metadata": {
    "Collapsed": "false"
   },
   "source": [
    "```python\n",
    "c_slices = [slice(None)]*len(dims)\n",
    "u_slices = [slice(None)]*len(dims)\n",
    "l_slices = [slice(None)]*len(dims)\n",
    "# i == ax\n",
    "c_slices[ax] = slice(1, -1)\n",
    "u_slices[ax] = slice(2, None)\n",
    "l_slices[ax] = slice(-2)\n",
    "# if contained\n",
    "f2 = [_contains_axis(axes, i, rank) for i in dims]\n",
    "c_slices[f2] = slice(1, -1)\n",
    "u_slices[f2] = slice(1, -1)\n",
    "l_slices[f2] = slice(1, -1)\n",
    "# make tuple\n",
    "c_slices = tuple(c_slices)\n",
    "u_slices = tuple(u_slices)\n",
    "l_slices = tuple(l_slices)\n",
    "```"
   ]
  },
  {
   "cell_type": "markdown",
   "metadata": {
    "Collapsed": "false"
   },
   "source": []
  },
  {
   "cell_type": "markdown",
   "metadata": {
    "Collapsed": "false"
   },
   "source": [
    "#### ***Readability counts.***\n",
    "\n"
   ]
  },
  {
   "cell_type": "markdown",
   "metadata": {
    "Collapsed": "true"
   },
   "source": [
    "#### ***Special cases aren't special enough to break the rules.***\n",
    "\n"
   ]
  },
  {
   "cell_type": "markdown",
   "metadata": {
    "Collapsed": "true"
   },
   "source": [
    "#### ***If the implementation is hard to explain, it's a bad idea.***\n"
   ]
  },
  {
   "cell_type": "markdown",
   "metadata": {
    "Collapsed": "true"
   },
   "source": [
    "#### ***Namespaces are one honking great idea -- let's do more of those!***"
   ]
  },
  {
   "cell_type": "markdown",
   "metadata": {
    "Collapsed": "false"
   },
   "source": [
    "```python\n",
    "from phi.flow import *\n",
    "```\n",
    "vs.\n",
    "```python\n",
    "from phi.flow import physics, smoke\n",
    "```"
   ]
  },
  {
   "cell_type": "markdown",
   "metadata": {
    "Collapsed": "false"
   },
   "source": [
    "`math.py`\n",
    "```python\n",
    "from .base import backend\n",
    "abs = backend.abs\n",
    "all = backend.all\n",
    "```\n",
    "`run.py`\n",
    "```python\n",
    "from .math import *\n",
    "```\n",
    "vs.\n",
    "`run.py`\n",
    "```python\n",
    "from .base import backend\n",
    "# use: backend.abs(), backend.all()\n",
    "```"
   ]
  },
  {
   "cell_type": "markdown",
   "metadata": {
    "Collapsed": "false"
   },
   "source": [
    "`math.py`\n",
    "```python\n",
    "from .base import backend\n",
    "abs = backend.abs  # redefines built-in keyword\n",
    "all = backend.all  # redefines built-in keyword\n",
    "```\n",
    "`run.py`\n",
    "```python\n",
    "from .math import *  # ambiguity with math core module, wildcard import, REDEFINING BUILT-IN KEYWORDS\n",
    "```\n",
    "vs.\n",
    "`run.py`\n",
    "```python\n",
    "from .base import backend  # explicit import\n",
    "# use: backend.abs(), backend.all()  explicit use\n",
    "```"
   ]
  },
  {
   "cell_type": "markdown",
   "metadata": {
    "Collapsed": "false"
   },
   "source": [
    "##### From Meetings\n",
    "\n",
    "\"I just want to make the examples as short as possible so people can see how easy it is to use\"\n",
    "-- author of a 2 line example (`import object; object.run()`)\n",
    "\n"
   ]
  },
  {
   "cell_type": "code",
   "execution_count": null,
   "metadata": {
    "Collapsed": "false",
    "lines_to_next_cell": 2
   },
   "outputs": [],
   "source": []
  },
  {
   "cell_type": "markdown",
   "metadata": {
    "Collapsed": "true"
   },
   "source": [
    "#### Comments are important, but Documentation and schematics are even more important\n",
    "\n",
    "<img src=\"https://preview.redd.it/jm8b5iwoq6p11.png?width=640&crop=smart&auto=webp&s=f4f484b59333e96555d8076b13dfbc2f8fc2b5b3\" width=400>"
   ]
  },
  {
   "cell_type": "code",
   "execution_count": null,
   "metadata": {
    "Collapsed": "false",
    "lines_to_next_cell": 2
   },
   "outputs": [],
   "source": []
  },
  {
   "cell_type": "markdown",
   "metadata": {
    "Collapsed": "false"
   },
   "source": [
    "### Whats the difference between good code and bad code?"
   ]
  },
  {
   "cell_type": "markdown",
   "metadata": {
    "Collapsed": "false"
   },
   "source": [
    "Good code is code ***I*** wrote.\n",
    "\n",
    "Bad code is code ***you*** wrote."
   ]
  },
  {
   "cell_type": "markdown",
   "metadata": {
    "Collapsed": "false"
   },
   "source": [
    "Well, but how do we agree on that **this** code is good code?"
   ]
  },
  {
   "cell_type": "markdown",
   "metadata": {
    "Collapsed": "false"
   },
   "source": [
    "Welcome to Code Style and Style Guides! "
   ]
  },
  {
   "cell_type": "markdown",
   "metadata": {
    "Collapsed": "false"
   },
   "source": []
  },
  {
   "cell_type": "markdown",
   "metadata": {
    "Collapsed": "true"
   },
   "source": [
    "### PEP 8"
   ]
  },
  {
   "cell_type": "markdown",
   "metadata": {
    "Collapsed": "true"
   },
   "source": [
    "#### Coworker is asking to see your code? \n",
    "\n",
    "<img src=\"https://preview.redd.it/hk54ti5n6tk11.png?width=640&crop=smart&auto=webp&s=6b84e81dae311d0f055a43ee5dfda6f68d253e47\" width=300>"
   ]
  },
  {
   "cell_type": "markdown",
   "metadata": {
    "Collapsed": "false"
   },
   "source": [
    "#### How code should look like:\n",
    "\n",
    "- Only one statement per line\n",
    "- All imports on top\n",
    "- Imports grouped by global/local, ordered by depth then alphabetically\n",
    "- Between global and local imports: 1 blanck line\n",
    "- After imports: 1 blanck line\n",
    "- Before/After functions: 1 blanck line\n",
    "- Before/After classes: 2 blanck lines\n",
    "- End of file: 1 blanck line\n",
    "- ...\n",
    "\n",
    "https://www.python.org/dev/peps/pep-0008/"
   ]
  },
  {
   "cell_type": "markdown",
   "metadata": {
    "Collapsed": "true"
   },
   "source": [
    "#### Naming Styles\n",
    "\n",
    "| Name               | Example                    |\n",
    "|--------------------|----------------------------|\n",
    "| Upper Camel Case   | ThisIsCapitalCamelCase     |\n",
    "| Lower Camel Case   | thisIsLowerCamelCase       |\n",
    "| Snake Case         | this_is_snake_case         |\n",
    "| Capital Snake Case | THIS_IS_CAPITAL_SNAKE_CASE |"
   ]
  },
  {
   "cell_type": "markdown",
   "metadata": {
    "Collapsed": "true"
   },
   "source": [
    "#### Which to use for what?\n",
    "\n",
    "| Object    | Naming Style     |\n",
    "|-----------|------------------|\n",
    "| Variables | `snake_case`       |\n",
    "| Constants | `CAPITAL_SNAKE_CASE`       |\n",
    "| Classes   | `CapitalCamelCase`  |\n",
    "| Functions | `snake_case`       |\n",
    "| Packages  | `alllowercase`    |\n",
    "\n",
    "https://visualgit.readthedocs.io/en/latest/pages/naming_convention.html\n",
    "\n",
    "| Object                        | Naming Style        | Resulting Behavior                                                 |\n",
    "|-------------------------------|---------------------|--------------------------------------------------------------------|\n",
    "| Private Variables/Functions   | `_snake_case`       | Not imported with `*`, linter will complain if accessed externally |\n",
    "| Private Classes               | `_CapitalCamel`     | Not imported with `*`, linter will complain if accessed externally |\n",
    "| Python Keyword Conflicts      | `trailing_`         | Nothing special |\n",
    "| Private Attributes of Classes | `__double_leading`  | invokes name mangling (inside class FooBar, `__bar` becomes `_FooBat__boo`) |\n",
    "| magic objects/attributes      | `__double_double__` | living in user-controlled namespaces e.g. __init__, __import__, __file__ |\n"
   ]
  },
  {
   "cell_type": "markdown",
   "metadata": {
    "Collapsed": "false"
   },
   "source": []
  },
  {
   "cell_type": "markdown",
   "metadata": {
    "Collapsed": "false"
   },
   "source": [
    "Problem: antonyms are often not equally sized\n",
    "```\n",
    "open   or  first  or  read   or  initial  or  begin  \n",
    "close  or  last   or  write  or  final    or  end    \n",
    "```\n",
    "\n",
    "Some properties already have common abbreviations that fit\n",
    "```\n",
    "avg  \n",
    "std  \n",
    "len  \n",
    "```"
   ]
  },
  {
   "cell_type": "markdown",
   "metadata": {
    "Collapsed": "false"
   },
   "source": [
    "Useful equal sized words:\n",
    "\n",
    "``` \n",
    "first  or  begin  or  init\n",
    "final  or  final  or  last\n",
    "\n",
    "read  or  open\n",
    "save  or  save\n",
    "\n",
    "exec \n",
    "wait\n",
    "```"
   ]
  },
  {
   "cell_type": "code",
   "execution_count": null,
   "metadata": {
    "Collapsed": "false",
    "lines_to_next_cell": 2
   },
   "outputs": [],
   "source": []
  },
  {
   "cell_type": "markdown",
   "metadata": {
    "Collapsed": "true"
   },
   "source": [
    "#### PEP8 is not definite"
   ]
  },
  {
   "cell_type": "markdown",
   "metadata": {
    "Collapsed": "false"
   },
   "source": [
    "```python\n",
    "# No extra indentation.\n",
    "if (this_is_one_thing and\n",
    "    that_is_another_thing):\n",
    "    do_something()\n",
    "\n",
    "# Add a comment, which will provide some distinction in editors\n",
    "# supporting syntax highlighting.\n",
    "if (this_is_one_thing and\n",
    "    that_is_another_thing):\n",
    "    # Since both conditions are true, we can frobnicate.\n",
    "    do_something()\n",
    "\n",
    "# Add some extra indentation on the conditional continuation line.\n",
    "if (this_is_one_thing\n",
    "        and that_is_another_thing):\n",
    "    do_something()\n",
    "```"
   ]
  },
  {
   "cell_type": "markdown",
   "metadata": {
    "Collapsed": "false"
   },
   "source": [
    "```python\n",
    "if flag.is_data_bound and \\\n",
    "        flag.propagates(_PROPAGATOR.RESAMPLE) and \\\n",
    "        flag.is_applicable(resulting_rank, data_field.component_count):\n",
    "    flags.append(flag)\n",
    "```"
   ]
  },
  {
   "cell_type": "markdown",
   "metadata": {
    "Collapsed": "false"
   },
   "source": [
    "```python\n",
    "if (flag.is_data_bound\n",
    "        and flag.propagates(_PROPAGATOR.RESAMPLE)\n",
    "        and flag.is_applicable(resulting_rank, data_field.component_count):\n",
    "    flags.append(flag)\n",
    "```"
   ]
  },
  {
   "cell_type": "markdown",
   "metadata": {
    "Collapsed": "false"
   },
   "source": [
    "```python\n",
    "if (flag.is_data_bound and flag.propagates(_PROPAGATOR.RESAMPLE)\n",
    "                       and flag.is_applicable(resulting_rank, data_field.component_count):\n",
    "    flags.append(flag)\n",
    "```"
   ]
  },
  {
   "cell_type": "markdown",
   "metadata": {
    "Collapsed": "false"
   },
   "source": [
    "##### Real-world Example"
   ]
  },
  {
   "cell_type": "code",
   "execution_count": null,
   "metadata": {
    "Collapsed": "false"
   },
   "outputs": [],
   "source": [
    "f2 = [_contains_axis(axes, i, rank) for i in dims]\n",
    "f2 = list(map(lambda i: _contains_axis(axes, i, rank), dims))"
   ]
  },
  {
   "cell_type": "markdown",
   "metadata": {
    "Collapsed": "false"
   },
   "source": []
  },
  {
   "cell_type": "code",
   "execution_count": 4,
   "metadata": {
    "Collapsed": "false"
   },
   "outputs": [
    {
     "data": {
      "text/plain": [
       "[slice(None, None, None),\n",
       " slice(None, None, None),\n",
       " slice(None, None, None),\n",
       " slice(None, None, None),\n",
       " slice(None, None, None)]"
      ]
     },
     "execution_count": 4,
     "metadata": {},
     "output_type": "execute_result"
    }
   ],
   "source": [
    "[slice(None)]*5"
   ]
  },
  {
   "cell_type": "code",
   "execution_count": null,
   "metadata": {
    "Collapsed": "false",
    "lines_to_next_cell": 2
   },
   "outputs": [],
   "source": []
  },
  {
   "cell_type": "code",
   "execution_count": null,
   "metadata": {
    "Collapsed": "false",
    "lines_to_next_cell": 2
   },
   "outputs": [],
   "source": []
  },
  {
   "cell_type": "markdown",
   "metadata": {
    "Collapsed": "false"
   },
   "source": []
  },
  {
   "cell_type": "code",
   "execution_count": null,
   "metadata": {
    "Collapsed": "false"
   },
   "outputs": [],
   "source": [
    "def _pad_mode(extrapolation):\n",
    "    if extrapolation == 'periodic':\n",
    "        return 'wrap'\n",
    "    elif extrapolation == 'boundary':\n",
    "        return 'replicate'\n",
    "    else:\n",
    "        return extrapolation"
   ]
  },
  {
   "cell_type": "code",
   "execution_count": null,
   "metadata": {
    "Collapsed": "false"
   },
   "outputs": [],
   "source": [
    "extrapolation_map = {\n",
    "    'periodic': 'wrap',\n",
    "    'boundary': 'replicate',\n",
    "    'constant': 'constant'\n",
    "} \n",
    "\n",
    "extrapolation_map[extrapolation]"
   ]
  },
  {
   "cell_type": "code",
   "execution_count": null,
   "metadata": {
    "Collapsed": "false",
    "lines_to_next_cell": 2
   },
   "outputs": [],
   "source": []
  },
  {
   "cell_type": "markdown",
   "metadata": {
    "Collapsed": "false"
   },
   "source": [
    "https://access.redhat.com/blogs/766093/posts/2802001"
   ]
  },
  {
   "cell_type": "code",
   "execution_count": null,
   "metadata": {
    "Collapsed": "false",
    "lines_to_next_cell": 2
   },
   "outputs": [],
   "source": []
  },
  {
   "cell_type": "markdown",
   "metadata": {
    "Collapsed": "true"
   },
   "source": [
    "#### Comment, but not unecessarily"
   ]
  },
  {
   "cell_type": "markdown",
   "metadata": {
    "Collapsed": "false"
   },
   "source": [
    "- at least 2 spaces to code\n",
    "- start with #\n",
    "- followed by a single space"
   ]
  },
  {
   "cell_type": "markdown",
   "metadata": {
    "Collapsed": "false"
   },
   "source": [
    "Inline comments are unnecessary and in fact distracting if they state the obvious. Don't do this:\n",
    "```python\n",
    "x = x + 1                 # Increment x\n",
    "```\n",
    "\n",
    "But sometimes, this is useful:\n",
    "```python\n",
    "x = x + 1                 # Compensate for border\n",
    "```"
   ]
  },
  {
   "cell_type": "code",
   "execution_count": null,
   "metadata": {
    "Collapsed": "false",
    "lines_to_next_cell": 2
   },
   "outputs": [],
   "source": []
  },
  {
   "cell_type": "markdown",
   "metadata": {
    "Collapsed": "true"
   },
   "source": [
    "#### Docstrings\n",
    "\n",
    "<img src=\"https://preview.redd.it/a5skfy5y88x11.jpg?width=640&crop=smart&auto=webp&s=edee581af2812ad4f4469d13e79e38d9b2dd3f06\" width=300>"
   ]
  },
  {
   "cell_type": "markdown",
   "metadata": {
    "Collapsed": "false"
   },
   "source": [
    "##### PEP8 Docstrings"
   ]
  },
  {
   "cell_type": "markdown",
   "metadata": {
    "Collapsed": "false"
   },
   "source": [
    "> Write docstrings for all public modules, functions, classes, and methods. Docstrings are not necessary for non-public methods, but you should have a comment that describes what the method does. This comment should appear after the def line."
   ]
  },
  {
   "cell_type": "markdown",
   "metadata": {
    "Collapsed": "false"
   },
   "source": [
    ">  most importantly, the \"\"\" that ends a multiline docstring should be on a line by itself:\n",
    "\n",
    "```python\n",
    "\"\"\"Return a foobang\n",
    "\n",
    "Optional plotz says to frobnicate the bizbaz first.\n",
    "\"\"\"\n",
    "```\n",
    "> For one liner docstrings, please keep the closing \"\"\" on the same line.\n"
   ]
  },
  {
   "cell_type": "markdown",
   "metadata": {
    "Collapsed": "false"
   },
   "source": [
    "\n",
    "Module Level Dunder Names\n",
    "\n",
    "Module level \"dunders\" (i.e. names with two leading and two trailing underscores) such as __all__, __author__, __version__, etc. should be placed after the module docstring but before any import statements except from __future__ imports. Python mandates that future-imports must appear in the module before any other code except docstrings:\n",
    "\n",
    "```python\n",
    "\"\"\"This is the example module.\n",
    "\n",
    "This module does stuff.\n",
    "\"\"\"\n",
    "\n",
    "from __future__ import barry_as_FLUFL\n",
    "\n",
    "__all__ = ['a', 'b', 'c']\n",
    "__version__ = '0.1'\n",
    "__author__ = 'Cardinal Biggles'\n",
    "\n",
    "import os\n",
    "import sys\n",
    "```\n"
   ]
  },
  {
   "cell_type": "markdown",
   "metadata": {
    "Collapsed": "false"
   },
   "source": [
    "##### PEP257, The Docstring Conventions Guide"
   ]
  },
  {
   "cell_type": "markdown",
   "metadata": {
    "Collapsed": "false"
   },
   "source": [
    "https://www.python.org/dev/peps/pep-0257/"
   ]
  },
  {
   "cell_type": "markdown",
   "metadata": {
    "Collapsed": "false"
   },
   "source": [
    "###### What is a docstring?\n",
    "\n",
    "> A docstring is a string literal that occurs as the first statement in a module, function, class, or method definition. Such a docstring becomes the `__doc__` special attribute of that object."
   ]
  },
  {
   "cell_type": "markdown",
   "metadata": {
    "Collapsed": "false"
   },
   "source": [
    "###### Single Line Docstring"
   ]
  },
  {
   "cell_type": "markdown",
   "metadata": {
    "Collapsed": "false"
   },
   "source": [
    "> Triple quotes are used even though the string fits on one line. This makes it easy to later expand it.\n",
    "\n",
    "> The closing quotes are on the same line as the opening quotes. This looks better for one-liners.\n",
    "\n",
    "> There's no blank line either before or after the docstring.\n",
    "\n",
    "> The docstring is a phrase ending in a period. It prescribes the function or method's effect as a command (\"Do this\", \"Return that\"), not as a description; e.g. don't write \"Returns the pathname ...\".\n",
    "\n",
    "> The one-line docstring should NOT be a \"signature\" reiterating the function/method parameters (which can be obtained by introspection)\n",
    "\n",
    "```python\n",
    "\"\"\"Do X and return a list.\"\"\"\n",
    "``` "
   ]
  },
  {
   "cell_type": "markdown",
   "metadata": {
    "Collapsed": "false"
   },
   "source": [
    "##### Multi-Line Docstring"
   ]
  },
  {
   "cell_type": "markdown",
   "metadata": {
    "Collapsed": "false"
   },
   "source": [
    "- Summary line, just like single-line docstring\n",
    "- Followed by an empty line\n",
    "- (more elaborate description)\n",
    "- Place closing quotes on a line by themselves"
   ]
  },
  {
   "cell_type": "markdown",
   "metadata": {
    "Collapsed": "false"
   },
   "source": [
    "###### reStructured Text (RST)"
   ]
  },
  {
   "cell_type": "markdown",
   "metadata": {
    "Collapsed": "false"
   },
   "source": [
    "```\n",
    "\"\"\"Gets and prints the spreadsheet's header columns\n",
    "\n",
    ":param file_loc: The file location of the spreadsheet\n",
    ":type file_loc: str\n",
    ":param print_cols: A flag used to print the columns to the console\n",
    "    (default is False)\n",
    ":type print_cols: bool\n",
    ":returns: a list of strings representing the header columns\n",
    ":rtype: list\n",
    "\n",
    ".. note:: blabla\n",
    ".. seealso:: blabla\n",
    ".. warnings also:: blabla\n",
    ".. todo:: blabla\n",
    "\n",
    ":Example:\n",
    "\n",
    "here is an example!\n",
    ">>> import this\n",
    ">>> print(this)\n",
    "The Zen of Python\n",
    "\"\"\"\n",
    "```"
   ]
  },
  {
   "cell_type": "markdown",
   "metadata": {
    "Collapsed": "false"
   },
   "source": [
    "###### NumPy/SciPy"
   ]
  },
  {
   "cell_type": "markdown",
   "metadata": {
    "Collapsed": "false"
   },
   "source": [
    "```\n",
    "\"\"\"Gets and prints the spreadsheet's header columns\n",
    "\n",
    "Parameters\n",
    "----------\n",
    "file_loc : str\n",
    "    The file location of the spreadsheet\n",
    "print_cols : bool, optional\n",
    "    A flag used to print the columns to the console (default is False)\n",
    "\n",
    "Returns\n",
    "-------\n",
    "list\n",
    "    a list of strings representing the header columns\n",
    "\"\"\"\n",
    "```"
   ]
  },
  {
   "cell_type": "markdown",
   "metadata": {
    "Collapsed": "false"
   },
   "source": [
    "##### Why conventions are important"
   ]
  },
  {
   "cell_type": "markdown",
   "metadata": {
    "Collapsed": "false"
   },
   "source": [
    "Uniform convention allows automated documentation creation via `autodoc` and `apidoc` for `sphinx`"
   ]
  },
  {
   "cell_type": "markdown",
   "metadata": {
    "Collapsed": "false"
   },
   "source": [
    "https://thomas-cokelaer.info/tutorials/sphinx/docstring_python.html"
   ]
  },
  {
   "cell_type": "markdown",
   "metadata": {
    "Collapsed": "true"
   },
   "source": [
    "#### Documentation"
   ]
  },
  {
   "cell_type": "markdown",
   "metadata": {
    "Collapsed": "false"
   },
   "source": [
    "> “Code is more often read than written.”\n",
    "   — Guido van Rossum\n"
   ]
  },
  {
   "cell_type": "markdown",
   "metadata": {
    "Collapsed": "false",
    "endofcell": "--"
   },
   "source": [
    "##### Audience:\n",
    "\n",
    "Users want to know:\n",
    "- When to use it\n",
    "- How to use it\n",
    "- What it does\n",
    "\n",
    "Developers want to know:\n",
    "- Why it is done this way\n",
    "- What it depends on\n",
    "- What depends on it\n",
    "- "
   ]
  },
  {
   "cell_type": "markdown",
   "metadata": {
    "Collapsed": "false"
   },
   "source": [
    "> “It doesn’t matter how good your software is, because if the documentation is not good enough, people will not use it.“\n",
    "    — Daniele Procida\n"
   ]
  },
  {
   "cell_type": "markdown",
   "metadata": {
    "Collapsed": "false"
   },
   "source": [
    "> “Code tells you how; Comments tell you why.”\n",
    "   — Jeff Atwood (aka Coding Horror)"
   ]
  },
  {
   "cell_type": "code",
   "execution_count": null,
   "metadata": {
    "Collapsed": "false",
    "lines_to_next_cell": 2
   },
   "outputs": [],
   "source": []
  },
  {
   "cell_type": "markdown",
   "metadata": {
    "Collapsed": "false"
   },
   "source": [
    "##### Sphinx"
   ]
  },
  {
   "cell_type": "markdown",
   "metadata": {
    "Collapsed": "false"
   },
   "source": [
    "```bash\n",
    "pip install sphinx\n",
    "```"
   ]
  },
  {
   "cell_type": "markdown",
   "metadata": {
    "Collapsed": "false"
   },
   "source": [
    "```\n",
    "sphinx-apidoc [OPTIONS] -o <OUTPUT_PATH> <MODULE_PATH> [EXCLUDE_PATTERN …]\n",
    "```"
   ]
  },
  {
   "cell_type": "markdown",
   "metadata": {
    "Collapsed": "false"
   },
   "source": [
    "```bash\n",
    "sphinx-apidoc -o source/build/ ../module_name/\n",
    "make html\n",
    "```"
   ]
  },
  {
   "cell_type": "code",
   "execution_count": null,
   "metadata": {
    "Collapsed": "false",
    "lines_to_next_cell": 2
   },
   "outputs": [],
   "source": []
  },
  {
   "cell_type": "markdown",
   "metadata": {
    "Collapsed": "true"
   },
   "source": [
    "#### PEP8 + people = a lot of different opinions"
   ]
  },
  {
   "cell_type": "markdown",
   "metadata": {
    "Collapsed": "false"
   },
   "source": [
    "##### flake8"
   ]
  },
  {
   "cell_type": "markdown",
   "metadata": {
    "Collapsed": "false"
   },
   "source": [
    "##### pylint"
   ]
  },
  {
   "cell_type": "markdown",
   "metadata": {
    "Collapsed": "false"
   },
   "source": [
    "##### black"
   ]
  },
  {
   "cell_type": "markdown",
   "metadata": {
    "Collapsed": "false"
   },
   "source": [
    "Runnin in VSCode\n",
    "\n",
    "Edit settings.json by adding\n",
    "```json\n",
    "    \"python.formatting.blackArgs\": [\"--line-length\", \"160\"],\n",
    "    \"python.formatting.provider\": \"black\",\n",
    "```"
   ]
  },
  {
   "cell_type": "markdown",
   "metadata": {
    "Collapsed": "true"
   },
   "source": [
    "### KISS, goodbye to worrying about formatting"
   ]
  },
  {
   "cell_type": "markdown",
   "metadata": {
    "Collapsed": "false"
   },
   "source": [
    "#### Automatically format to PEP8:\n",
    "\n",
    "Autoformatting in VSCode: `alt`+`shift`+`f`\n",
    "\n",
    "In the settings you can select your autoformater, default is `autopep8`"
   ]
  },
  {
   "cell_type": "markdown",
   "metadata": {
    "Collapsed": "false"
   },
   "source": [
    "##### autopep8\n",
    "\n"
   ]
  },
  {
   "cell_type": "markdown",
   "metadata": {
    "Collapsed": "false"
   },
   "source": [
    "\n",
    "```json\n",
    "\"python.formatting.autopep8Args\": [\n",
    "        \"--max-line-length\",\n",
    "        \"160\"\n",
    "    ],\n",
    "\"python.formatting.provider\": \"autopep8\",\n",
    "```"
   ]
  },
  {
   "cell_type": "markdown",
   "metadata": {
    "Collapsed": "false"
   },
   "source": [
    "#### Automatic sort imports\n",
    "\n",
    "`crtl`+`shift`+`p` $\\rightarrow$ `Python Refactor: Sort Imports`\n",
    "\n",
    "In the settings you can define your import sorter, default is `isort`"
   ]
  },
  {
   "cell_type": "code",
   "execution_count": null,
   "metadata": {
    "Collapsed": "false",
    "lines_to_next_cell": 2
   },
   "outputs": [],
   "source": []
  },
  {
   "cell_type": "markdown",
   "metadata": {
    "Collapsed": "true"
   },
   "source": [
    "### What to "
   ]
  },
  {
   "cell_type": "code",
   "execution_count": null,
   "metadata": {
    "Collapsed": "false",
    "lines_to_next_cell": 2
   },
   "outputs": [],
   "source": []
  },
  {
   "cell_type": "markdown",
   "metadata": {
    "Collapsed": "true"
   },
   "source": [
    "### Side note: There are rules for *everything*"
   ]
  },
  {
   "cell_type": "markdown",
   "metadata": {
    "Collapsed": "true"
   },
   "source": [
    "#### ISO 8601: Data elements and interchange formats - information interchange - Representation of dates and times\n",
    "\n",
    "There is an official way to write dates and datetimes, this is it, everything else is not according to international standards.\n",
    "```\n",
    "2020-01-28\n",
    "2020-01-28T13:44:24+00.00\n",
    "```"
   ]
  },
  {
   "cell_type": "code",
   "execution_count": null,
   "metadata": {
    "Collapsed": "false",
    "lines_to_next_cell": 2
   },
   "outputs": [],
   "source": []
  },
  {
   "cell_type": "markdown",
   "metadata": {
    "Collapsed": "true"
   },
   "source": [
    "## Design Patterns"
   ]
  },
  {
   "cell_type": "markdown",
   "metadata": {
    "Collapsed": "true"
   },
   "source": [
    "### Why are they important"
   ]
  },
  {
   "cell_type": "markdown",
   "metadata": {
    "Collapsed": "false"
   },
   "source": [
    "<img src=https://i.redd.it/rskneik2r4h41.jpg width=480>"
   ]
  },
  {
   "cell_type": "markdown",
   "metadata": {
    "Collapsed": "false"
   },
   "source": [
    "They are widely used, therefore widely read, meaning you should know them."
   ]
  },
  {
   "cell_type": "markdown",
   "metadata": {
    "Collapsed": "false"
   },
   "source": [
    "#### What is a Design Pattern?"
   ]
  },
  {
   "cell_type": "markdown",
   "metadata": {
    "Collapsed": "false"
   },
   "source": [
    "> \"Each pattern describes a problem which occurs over and over again in our environment, and then describes the core of the solution to that problem, in such a way that you can use this solution a million times over, without ever doing it the same way twice\""
   ]
  },
  {
   "cell_type": "code",
   "execution_count": null,
   "metadata": {
    "Collapsed": "false",
    "lines_to_next_cell": 2
   },
   "outputs": [],
   "source": []
  },
  {
   "cell_type": "code",
   "execution_count": null,
   "metadata": {
    "Collapsed": "false",
    "lines_to_next_cell": 2
   },
   "outputs": [],
   "source": []
  },
  {
   "cell_type": "markdown",
   "metadata": {
    "Collapsed": "true"
   },
   "source": [
    "## Code Analyzer"
   ]
  },
  {
   "cell_type": "markdown",
   "metadata": {
    "Collapsed": "false"
   },
   "source": [
    "### Static Code Analysis with `pyan3`\n",
    "https://github.com/Technologicat/pyan\n",
    "\n"
   ]
  },
  {
   "cell_type": "markdown",
   "metadata": {
    "Collapsed": "false"
   },
   "source": [
    "<img src=https://raw.githubusercontent.com/Technologicat/pyan/master/graph0.png width=640>"
   ]
  },
  {
   "cell_type": "markdown",
   "metadata": {
    "Collapsed": "false"
   },
   "source": [
    "```bash\n",
    "pip install pyan3\n",
    "```"
   ]
  },
  {
   "cell_type": "markdown",
   "metadata": {
    "Collapsed": "false"
   },
   "source": [
    "```bash\n",
    "pyan3 *.py --uses --no-defines --colored --grouped --annotated --dot >myuses.dot\n",
    "```"
   ]
  },
  {
   "cell_type": "markdown",
   "metadata": {
    "Collapsed": "false"
   },
   "source": [
    "### Dependency analysis with `pydeps`\n",
    "https://github.com/thebjorn/pydeps"
   ]
  },
  {
   "cell_type": "markdown",
   "metadata": {
    "Collapsed": "false"
   },
   "source": [
    "<img src=\"https://raw.githubusercontent.com/thebjorn/pydeps/master/docs/_static/pydeps-18-bacon4-cluster-max1000.svg?sanitize=true\" width=640>"
   ]
  },
  {
   "cell_type": "code",
   "execution_count": null,
   "metadata": {
    "Collapsed": "false",
    "lines_to_next_cell": 2
   },
   "outputs": [],
   "source": []
  },
  {
   "cell_type": "markdown",
   "metadata": {
    "Collapsed": "false"
   },
   "source": [
    "### Call Graph Creation with `pycallgraph2`\n",
    "https://github.com/daneads/pycallgraph2"
   ]
  },
  {
   "cell_type": "code",
   "execution_count": null,
   "metadata": {
    "Collapsed": "false",
    "lines_to_next_cell": 2
   },
   "outputs": [],
   "source": []
  },
  {
   "cell_type": "markdown",
   "metadata": {
    "Collapsed": "true"
   },
   "source": [
    "## Functional Programming"
   ]
  },
  {
   "cell_type": "markdown",
   "metadata": {
    "Collapsed": "false"
   },
   "source": [
    "- Object-Oriented Programming (OOP) shortcomings\n",
    "- Composition\n",
    "- Immutability\n",
    "- Pure functions (no side-effects)\n",
    "- Functional Programming in Python\n",
    "  - Lambda functions\n",
    "  - Maps"
   ]
  },
  {
   "cell_type": "code",
   "execution_count": null,
   "metadata": {
    "Collapsed": "false",
    "lines_to_next_cell": 2
   },
   "outputs": [],
   "source": []
  },
  {
   "cell_type": "markdown",
   "metadata": {
    "Collapsed": "false"
   },
   "source": [
    "### Introduction to Programming Styles\n",
    "\n",
    "\"Most programming languages are ***procedural***: programs are lists of instructions that tell the computer what to do with the program’s input. C, Pascal, and even Unix shells are procedural languages.\"\n",
    "\n",
    "\"In ***declarative*** languages, you write a specification that describes the problem to be solved, and the language implementation figures out how to perform the computation efficiently. SQL is the declarative language you’re most likely to be familiar with; a SQL query describes the data set you want to retrieve, and the SQL engine decides whether to scan tables or use indexes, which subclauses should be performed first, etc.\"\n",
    "\n",
    "\"***Object-oriented*** programs manipulate collections of objects. Objects have internal state and support methods that query or modify this internal state in some way. Smalltalk and Java are object-oriented languages. C++ and Python are languages that support object-oriented programming, but don’t force the use of object-oriented features.\"\n",
    "\n",
    "\"***Functional*** programming decomposes a problem into a set of functions. Ideally, functions only take inputs and produce outputs, and don’t have any internal state that affects the output produced for a given input. Well-known functional languages include the ML family (Standard ML, OCaml, and other variants) and Haskell.\"\n",
    "\n",
    "(https://docs.python.org/3/howto/functional.html)"
   ]
  },
  {
   "cell_type": "markdown",
   "metadata": {
    "Collapsed": "false"
   },
   "source": [
    "Procedural Pogramming languages are very close to hardware as they describe the list of instructions in order, like C or Fortran and were mostly developed in the late 50s until early 1970s.\n",
    "\n",
    "The major declarative language still used today is SQL which we will cover in a future session on Databases (developed in the 70s-80s). \n",
    "\n",
    "Object-oriented programming focus on deconstructing the program into objects, instances, and performing actions on these using member functions such as Java.\n",
    "\n",
    "Functional programming decomposes the problem into functions with inputs and outputs that get composed to process information."
   ]
  },
  {
   "cell_type": "markdown",
   "metadata": {
    "Collapsed": "false"
   },
   "source": [
    "Most modern programming languages like Python and C++ are multi-paradigm, and most big projects use multiple programming styles for different parts: GUIs are often simpler to describe as objects such as a slider that has methods that can be performed on it, while data processing is often easier to be described as various functions that are applied to the data."
   ]
  },
  {
   "cell_type": "markdown",
   "metadata": {
    "Collapsed": "false"
   },
   "source": [
    "That is why functional programming is important to data science - it is the preferred paradigm for processing data!"
   ]
  },
  {
   "cell_type": "code",
   "execution_count": null,
   "metadata": {
    "Collapsed": "false",
    "lines_to_next_cell": 2
   },
   "outputs": [],
   "source": []
  },
  {
   "cell_type": "markdown",
   "metadata": {
    "Collapsed": "false"
   },
   "source": [
    "### Pure Functions in Python"
   ]
  },
  {
   "cell_type": "markdown",
   "metadata": {
    "Collapsed": "false"
   },
   "source": [
    "> Pure functions have no side effects. \n",
    "\n",
    "This means, functions map inputs to outputs and access nothing outside of the inputs. "
   ]
  },
  {
   "cell_type": "markdown",
   "metadata": {
    "Collapsed": "false"
   },
   "source": [
    "One common problem in Python is the global name lookup:"
   ]
  },
  {
   "cell_type": "code",
   "execution_count": 3,
   "metadata": {
    "Collapsed": "false"
   },
   "outputs": [
    {
     "name": "stdout",
     "output_type": "stream",
     "text": [
      "3\n",
      "4\n",
      "4\n"
     ]
    }
   ],
   "source": [
    "a = 1\n",
    "b = 2\n",
    "def impure(a0, b0):\n",
    "    return a+b\n",
    "\n",
    "print(impure(a,b))\n",
    "a = 2\n",
    "print(impure(a,b))\n",
    "print(impure(5,5))"
   ]
  },
  {
   "cell_type": "markdown",
   "metadata": {
    "Collapsed": "false"
   },
   "source": [
    "This bug in code is caused from the global name lookup that you **cannot** deactivate in Python easily."
   ]
  },
  {
   "cell_type": "markdown",
   "metadata": {
    "Collapsed": "false"
   },
   "source": [
    "Luckily, we're not the first one encountering this issue.\n",
    "\n",
    "Instead of prohibiting global lookups, we can patch the global namespace within each function with an empty namespace.\n",
    "\n",
    "Or even better, with just the namespace of imported modules, thereby allowing execution of code without needing to re-import modules."
   ]
  },
  {
   "cell_type": "markdown",
   "metadata": {
    "Collapsed": "false"
   },
   "source": [
    "One such solution is:"
   ]
  },
  {
   "cell_type": "code",
   "execution_count": 4,
   "metadata": {
    "Collapsed": "false"
   },
   "outputs": [],
   "source": [
    "# https://gist.github.com/ax3l/59d92c6e1edefcef85ac2540eb056da3\n",
    "import types\n",
    "def imports():\n",
    "    for name, val in globals().items():\n",
    "        # module imports\n",
    "        if isinstance(val, types.ModuleType):\n",
    "            yield name, val\n",
    "        # functions / callables\n",
    "        if hasattr(val, '__call__'):\n",
    "            yield name, val\n",
    "\n",
    "noglobal = lambda fn: types.FunctionType(fn.__code__, dict(imports()))"
   ]
  },
  {
   "cell_type": "code",
   "execution_count": 7,
   "metadata": {
    "Collapsed": "false"
   },
   "outputs": [
    {
     "ename": "NameError",
     "evalue": "name 'a' is not defined",
     "output_type": "error",
     "traceback": [
      "\u001b[1;31m---------------------------------------------------------------------------\u001b[0m",
      "\u001b[1;31mNameError\u001b[0m                                 Traceback (most recent call last)",
      "\u001b[1;32m<ipython-input-7-281464a77e25>\u001b[0m in \u001b[0;36m<module>\u001b[1;34m\u001b[0m\n\u001b[0;32m      5\u001b[0m     \u001b[1;32mreturn\u001b[0m \u001b[0ma\u001b[0m\u001b[1;33m+\u001b[0m\u001b[0mb\u001b[0m\u001b[1;33m\u001b[0m\u001b[1;33m\u001b[0m\u001b[0m\n\u001b[0;32m      6\u001b[0m \u001b[1;33m\u001b[0m\u001b[0m\n\u001b[1;32m----> 7\u001b[1;33m \u001b[0mimpure\u001b[0m\u001b[1;33m(\u001b[0m\u001b[1;36m1\u001b[0m\u001b[1;33m,\u001b[0m\u001b[1;36m2\u001b[0m\u001b[1;33m)\u001b[0m\u001b[1;33m\u001b[0m\u001b[1;33m\u001b[0m\u001b[0m\n\u001b[0m",
      "\u001b[1;32m<ipython-input-7-281464a77e25>\u001b[0m in \u001b[0;36mimpure\u001b[1;34m(a0, b0)\u001b[0m\n\u001b[0;32m      3\u001b[0m \u001b[1;33m@\u001b[0m\u001b[0mnoglobal\u001b[0m\u001b[1;33m\u001b[0m\u001b[1;33m\u001b[0m\u001b[0m\n\u001b[0;32m      4\u001b[0m \u001b[1;32mdef\u001b[0m \u001b[0mimpure\u001b[0m\u001b[1;33m(\u001b[0m\u001b[0ma0\u001b[0m\u001b[1;33m,\u001b[0m\u001b[0mb0\u001b[0m\u001b[1;33m)\u001b[0m\u001b[1;33m:\u001b[0m\u001b[1;33m\u001b[0m\u001b[1;33m\u001b[0m\u001b[0m\n\u001b[1;32m----> 5\u001b[1;33m     \u001b[1;32mreturn\u001b[0m \u001b[0ma\u001b[0m\u001b[1;33m+\u001b[0m\u001b[0mb\u001b[0m\u001b[1;33m\u001b[0m\u001b[1;33m\u001b[0m\u001b[0m\n\u001b[0m\u001b[0;32m      6\u001b[0m \u001b[1;33m\u001b[0m\u001b[0m\n\u001b[0;32m      7\u001b[0m \u001b[0mimpure\u001b[0m\u001b[1;33m(\u001b[0m\u001b[1;36m1\u001b[0m\u001b[1;33m,\u001b[0m\u001b[1;36m2\u001b[0m\u001b[1;33m)\u001b[0m\u001b[1;33m\u001b[0m\u001b[1;33m\u001b[0m\u001b[0m\n",
      "\u001b[1;31mNameError\u001b[0m: name 'a' is not defined"
     ]
    }
   ],
   "source": [
    "a = 1\n",
    "b = 1\n",
    "@noglobal\n",
    "def impure(a0,b0):\n",
    "    return a+b\n",
    "\n",
    "impure(1,2)"
   ]
  },
  {
   "cell_type": "markdown",
   "metadata": {
    "Collapsed": "false"
   },
   "source": [
    "While it does not cause an error upon definition, it does cause an error upon calling it, instead of letting it pass with a wrong value."
   ]
  },
  {
   "cell_type": "markdown",
   "metadata": {
    "Collapsed": "false"
   },
   "source": [
    "### Functional Programming in Python"
   ]
  },
  {
   "cell_type": "markdown",
   "metadata": {
    "Collapsed": "false"
   },
   "source": [
    "#### Lambda"
   ]
  },
  {
   "cell_type": "code",
   "execution_count": 12,
   "metadata": {
    "Collapsed": "false"
   },
   "outputs": [
    {
     "data": {
      "text/plain": [
       "10"
      ]
     },
     "execution_count": 12,
     "metadata": {},
     "output_type": "execute_result"
    }
   ],
   "source": [
    "double = lambda x: x*2\n",
    "double(5)"
   ]
  },
  {
   "cell_type": "markdown",
   "metadata": {
    "Collapsed": "false"
   },
   "source": [
    "#### Map"
   ]
  },
  {
   "cell_type": "markdown",
   "metadata": {
    "Collapsed": "false"
   },
   "source": [
    "`map(function, iterable)` applies a function to every element in an iterable and returns an iterable"
   ]
  },
  {
   "cell_type": "code",
   "execution_count": 1,
   "metadata": {
    "Collapsed": "false"
   },
   "outputs": [
    {
     "data": {
      "text/plain": [
       "<map at 0x18f86c61708>"
      ]
     },
     "execution_count": 1,
     "metadata": {},
     "output_type": "execute_result"
    }
   ],
   "source": [
    "map(lambda x: x*x, [1,2,3,4,5])"
   ]
  },
  {
   "cell_type": "code",
   "execution_count": 7,
   "metadata": {
    "Collapsed": "false"
   },
   "outputs": [
    {
     "data": {
      "text/plain": [
       "[1, 4, 9, 16, 25]"
      ]
     },
     "execution_count": 7,
     "metadata": {},
     "output_type": "execute_result"
    }
   ],
   "source": [
    "list(map(lambda x: x*x, [1,2,3,4,5]))"
   ]
  },
  {
   "cell_type": "markdown",
   "metadata": {
    "Collapsed": "false"
   },
   "source": [
    "#### Filter"
   ]
  },
  {
   "cell_type": "markdown",
   "metadata": {
    "Collapsed": "false"
   },
   "source": [
    "`filter(function, iterable)` applies a True/False function to every element in an iterable and returns an iterable"
   ]
  },
  {
   "cell_type": "code",
   "execution_count": 6,
   "metadata": {
    "Collapsed": "false"
   },
   "outputs": [
    {
     "data": {
      "text/plain": [
       "<filter at 0x18f86c85948>"
      ]
     },
     "execution_count": 6,
     "metadata": {},
     "output_type": "execute_result"
    }
   ],
   "source": [
    "filter(lambda x: x%2, [1,2,3,4,5])"
   ]
  },
  {
   "cell_type": "code",
   "execution_count": 5,
   "metadata": {
    "Collapsed": "false"
   },
   "outputs": [
    {
     "data": {
      "text/plain": [
       "[1, 3, 5]"
      ]
     },
     "execution_count": 5,
     "metadata": {},
     "output_type": "execute_result"
    }
   ],
   "source": [
    "list(filter(lambda x: x%2, [1,2,3,4,5]))"
   ]
  },
  {
   "cell_type": "markdown",
   "metadata": {
    "Collapsed": "false"
   },
   "source": [
    "#### List & Dictionary Comprehension"
   ]
  },
  {
   "cell_type": "code",
   "execution_count": 8,
   "metadata": {
    "Collapsed": "false"
   },
   "outputs": [
    {
     "data": {
      "text/plain": [
       "[0, 2, 4, 6, 8]"
      ]
     },
     "execution_count": 8,
     "metadata": {},
     "output_type": "execute_result"
    }
   ],
   "source": [
    "[i*2 for i in range(0,5)]"
   ]
  },
  {
   "cell_type": "code",
   "execution_count": 9,
   "metadata": {
    "Collapsed": "false"
   },
   "outputs": [
    {
     "data": {
      "text/plain": [
       "{0: 0, 1: 2, 2: 4, 3: 6, 4: 8}"
      ]
     },
     "execution_count": 9,
     "metadata": {},
     "output_type": "execute_result"
    }
   ],
   "source": [
    "{i:i*2 for i in range(0,5)}"
   ]
  },
  {
   "cell_type": "markdown",
   "metadata": {
    "Collapsed": "true"
   },
   "source": [
    "## Module Architecture"
   ]
  },
  {
   "cell_type": "markdown",
   "metadata": {
    "Collapsed": "false"
   },
   "source": [
    "- `__init__` files\n",
    "- src/ folder\n",
    "- bin/ folder\n",
    "- main() and `__main__`\n",
    "- README.md\n",
    "- Changelog.md\n",
    "- requirements\n",
    "- License files (and Licensing cheatsheet)\n",
    "- Python Module Structure"
   ]
  },
  {
   "cell_type": "markdown",
   "metadata": {
    "Collapsed": "true"
   },
   "source": [
    "### Package Structure\n",
    "\n",
    "```\n",
    "package-git\n",
    "|-> LICENSE.md\n",
    "|-> README.md\n",
    "|-> requirements.txt\n",
    "|-> setup.py\n",
    "|-> setup.cfg\n",
    "|-> .pylintrc\n",
    "|-> .gitignore\n",
    "|-> package_name\n",
    "|   |-> __init__.py\n",
    "|   |-> core_code.py\n",
    "|   |-> io\n",
    "|   |   |- __init__.py\n",
    "|   |   |-> data_loader.py\n",
    "|   |   |-> data_saver.py\n",
    "|   |-> processing\n",
    "|   |   |-> __init__.py\n",
    "|   |   |-> core.py\n",
    "|   |-> data\n",
    "|   |   |-> initial_data_set.csv\n",
    "|-> docs\n",
    "|   |-> package_name.md\n",
    "|   |-> io.md\n",
    "|   |-> processing.md\n",
    "|   |-> data.md\n",
    "|-> tests\n",
    "|   |-> core_code.py\n",
    "|   |-> io\n",
    "|   |   |-> data_loader.py\n",
    "|   |   |-> data_saver.py\n",
    "|   |-> processing\n",
    "|   |   |-> core.py\n",
    "```"
   ]
  },
  {
   "cell_type": "markdown",
   "metadata": {
    "Collapsed": "false"
   },
   "source": [
    "- Each folder is a `(sub)package`\n",
    "- Each package has an `__init__.py`\n",
    "- `tests` mirrors the main package 1:1\n",
    "- `docs` mirrors the main package closely too"
   ]
  },
  {
   "cell_type": "markdown",
   "metadata": {
    "Collapsed": "true"
   },
   "source": [
    "### PEP8 conform module level dunder names\n",
    "\n",
    "\"Module level \"dunders\" (i.e. names with two leading and two trailing underscores) such as `__all__`, `__author__`, `__version__`, etc. should be placed after the module docstring but before any import statements except `from __future__` imports. Python mandates that future-imports must appear in the module before any other code except docstrings:\" -- PEP8\n",
    "\n",
    "```python\n",
    "\"\"\"This is the example module.\n",
    "\n",
    "This module does stuff.\n",
    "\"\"\"\n",
    "\n",
    "from __future__ import barry_as_FLUFL\n",
    "\n",
    "__all__ = ['a', 'b', 'c']\n",
    "__version__ = '0.1'\n",
    "__author__ = 'Cardinal Biggles'\n",
    "\n",
    "import os\n",
    "import sys\n",
    "```"
   ]
  },
  {
   "cell_type": "markdown",
   "metadata": {
    "Collapsed": "false"
   },
   "source": [
    "### `__init__` files"
   ]
  },
  {
   "cell_type": "markdown",
   "metadata": {
    "Collapsed": "false"
   },
   "source": [
    "Import the functions that should be used by other modules that import this module"
   ]
  },
  {
   "cell_type": "code",
   "execution_count": null,
   "metadata": {
    "Collapsed": "false",
    "lines_to_next_cell": 2
   },
   "outputs": [],
   "source": []
  },
  {
   "cell_type": "code",
   "execution_count": null,
   "metadata": {
    "Collapsed": "false",
    "lines_to_next_cell": 2
   },
   "outputs": [],
   "source": []
  },
  {
   "cell_type": "code",
   "execution_count": null,
   "metadata": {
    "Collapsed": "false",
    "lines_to_next_cell": 2
   },
   "outputs": [],
   "source": []
  },
  {
   "cell_type": "code",
   "execution_count": null,
   "metadata": {
    "Collapsed": "false",
    "lines_to_next_cell": 2
   },
   "outputs": [],
   "source": []
  },
  {
   "cell_type": "markdown",
   "metadata": {
    "Collapsed": "false"
   },
   "source": [
    "## Documentation"
   ]
  },
  {
   "cell_type": "markdown",
   "metadata": {
    "Collapsed": "false"
   },
   "source": [
    "<img src=\"https://preview.redd.it/08sz26e91k841.jpg?width=640&crop=smart&auto=webp&s=4cbb04afe0b73ad80c6d8b74b509024f3201405e\" width=400>"
   ]
  },
  {
   "cell_type": "markdown",
   "metadata": {
    "Collapsed": "false"
   },
   "source": [
    "### Sphinx"
   ]
  },
  {
   "cell_type": "markdown",
   "metadata": {
    "Collapsed": "false"
   },
   "source": [
    "<img src=\"https://i.redd.it/d5x18rtcfof31.png\" width=400 />"
   ]
  },
  {
   "cell_type": "markdown",
   "metadata": {
    "Collapsed": "false"
   },
   "source": [
    "Installation:\n",
    "```bash\n",
    "conda install sphinx\n",
    "```"
   ]
  },
  {
   "cell_type": "markdown",
   "metadata": {
    "Collapsed": "false"
   },
   "source": [
    "Sample Practice\n",
    "```bash\n",
    "# mkdir docs\n",
    "# cd docs \n",
    "```\n",
    "```bash\n",
    "sphinx-quickstart\n",
    "```\n",
    "```bash\n",
    "make html\n",
    "```"
   ]
  },
  {
   "cell_type": "markdown",
   "metadata": {
    "Collapsed": "false"
   },
   "source": [
    "in GitHub under Hooks, you can definte ReadTheDocs as a hook upon commit, meaning it will update your documentation automatically when committing to your repository"
   ]
  },
  {
   "cell_type": "markdown",
   "metadata": {
    "Collapsed": "false"
   },
   "source": []
  },
  {
   "cell_type": "code",
   "execution_count": null,
   "metadata": {
    "Collapsed": "false",
    "lines_to_next_cell": 2
   },
   "outputs": [],
   "source": []
  },
  {
   "cell_type": "markdown",
   "metadata": {
    "Collapsed": "false"
   },
   "source": [
    "### How to get listed on PIP / PyPI (Python Package Index)"
   ]
  },
  {
   "cell_type": "code",
   "execution_count": null,
   "metadata": {
    "Collapsed": "false",
    "lines_to_next_cell": 2
   },
   "outputs": [],
   "source": []
  },
  {
   "cell_type": "markdown",
   "metadata": {
    "Collapsed": "false"
   },
   "source": [
    "### How to get listed on Conda"
   ]
  },
  {
   "cell_type": "code",
   "execution_count": null,
   "metadata": {
    "Collapsed": "false",
    "lines_to_next_cell": 2
   },
   "outputs": [],
   "source": []
  },
  {
   "cell_type": "markdown",
   "metadata": {
    "Collapsed": "false"
   },
   "source": [
    "Why do you have to make it so complicated?\n",
    "\n",
    "https://www.youtube.com/watch?v=PcJeHNWOoWk"
   ]
  },
  {
   "cell_type": "code",
   "execution_count": null,
   "metadata": {
    "Collapsed": "false",
    "lines_to_next_cell": 2
   },
   "outputs": [],
   "source": []
  },
  {
   "cell_type": "code",
   "execution_count": null,
   "metadata": {
    "Collapsed": "false",
    "lines_to_next_cell": 2
   },
   "outputs": [],
   "source": []
  },
  {
   "cell_type": "code",
   "execution_count": null,
   "metadata": {
    "Collapsed": "false",
    "lines_to_next_cell": 2
   },
   "outputs": [],
   "source": []
  },
  {
   "cell_type": "markdown",
   "metadata": {
    "Collapsed": "true"
   },
   "source": [
    "## Code Maintenance"
   ]
  },
  {
   "cell_type": "markdown",
   "metadata": {
    "Collapsed": "false"
   },
   "source": [
    "### Support"
   ]
  },
  {
   "cell_type": "markdown",
   "metadata": {
    "Collapsed": "false"
   },
   "source": [
    "1. Make simple rules for support.\n",
    "2. Don't support unsupported packages! (looking at you Python 2)\n",
    "3. Only support the last X versions\n",
    "4. Update regularly"
   ]
  },
  {
   "cell_type": "markdown",
   "metadata": {
    "Collapsed": "false"
   },
   "source": [
    "### Preventing code abandonment"
   ]
  },
  {
   "cell_type": "markdown",
   "metadata": {
    "Collapsed": "false"
   },
   "source": [
    "#### Cause for code abandonment"
   ]
  },
  {
   "cell_type": "markdown",
   "metadata": {
    "Collapsed": "false"
   },
   "source": [
    "1. Code is illegible\n",
    "   - Comments\n",
    "   - Documentation\n",
    "   - Tests\n",
    "2. Code is outdated\n",
    "   - Update dependencies regularly (e.g. 1st of every month)\n",
    "3. Code is cumbersomly written\n",
    "   - Take advantage of new features (only support new versions)\n",
    "   - Define code styling\n",
    "   - Define code design pattern\n",
    "   - Keep things shallow (at most 5 levels deep)\n"
   ]
  },
  {
   "cell_type": "markdown",
   "metadata": {
    "Collapsed": "true"
   },
   "source": [
    "## Command Line Interfaces"
   ]
  },
  {
   "cell_type": "markdown",
   "metadata": {
    "Collapsed": "false"
   },
   "source": [
    "Most popular tool these days: <a href=\"https://github.com/pallets/click\">**Click**</a>\n",
    "\n",
    "```bash\n",
    "conda install click\n",
    "pip install click\n",
    "```\n"
   ]
  },
  {
   "cell_type": "markdown",
   "metadata": {
    "Collapsed": "false"
   },
   "source": [
    "Click is developed as parts of <a href=\"palletsprojects.com/\">pallets</a>, who also develop <a href=\"https://github.com/pallets/flask\">Flask</a>"
   ]
  },
  {
   "cell_type": "markdown",
   "metadata": {
    "Collapsed": "true"
   },
   "source": [
    "### Minimal Example"
   ]
  },
  {
   "cell_type": "markdown",
   "metadata": {
    "Collapsed": "false"
   },
   "source": [
    "```python\n",
    "import click\n",
    "\n",
    "\n",
    "@click.command()\n",
    "def hello():\n",
    "    click.echo('Hello World')\n",
    "\n",
    "if __name__ == \"__main__\":\n",
    "    hello()\n",
    "```"
   ]
  },
  {
   "cell_type": "markdown",
   "metadata": {
    "Collapsed": "false"
   },
   "source": [
    "```bash\n",
    "> python test.py\n",
    "Hello World\n",
    "```"
   ]
  },
  {
   "cell_type": "markdown",
   "metadata": {
    "Collapsed": "false"
   },
   "source": [
    "```bash\n",
    "> python test.py --help\n",
    "Usage: click_test.py [OPTIONS]\n",
    "\n",
    "Options:\n",
    "  --help  Show this message and exit.\n",
    "```"
   ]
  },
  {
   "cell_type": "markdown",
   "metadata": {
    "Collapsed": "false"
   },
   "source": [
    "`click.echo` is used to ensure:\n",
    "- works for `Python 2` and `Python 3`\n",
    "- prevents `UnicodeError`\n",
    "- supports ANSI Colors\n",
    "If you do not want these features, you can use `print()`"
   ]
  },
  {
   "cell_type": "markdown",
   "metadata": {
    "Collapsed": "true"
   },
   "source": [
    "### Adding Commands"
   ]
  },
  {
   "cell_type": "markdown",
   "metadata": {
    "Collapsed": "false"
   },
   "source": [
    "`click.group`s wrap commands as one, allowing arbitrarily nesting."
   ]
  },
  {
   "cell_type": "markdown",
   "metadata": {
    "Collapsed": "false"
   },
   "source": [
    "```python\n",
    "@click.group()\n",
    "def cli():\n",
    "    pass\n",
    "\n",
    "@click.command()\n",
    "def initdb():\n",
    "    click.echo('Initialized the database')\n",
    "\n",
    "@click.command()\n",
    "def dropdb():\n",
    "    click.echo('Dropped the database')\n",
    "\n",
    "cli.add_command(initdb)\n",
    "cli.add_command(dropdb)\n",
    "\n",
    "if __name__ == \"__main__\":\n",
    "    cli()\n",
    "```"
   ]
  },
  {
   "cell_type": "markdown",
   "metadata": {},
   "source": [
    "```python\n",
    "# NOTE ED better way:\n",
    "\n",
    "@click.group()\n",
    "def cli():\n",
    "    pass\n",
    "\n",
    "# note 'cli' (name of the group) instead of 'click'\n",
    "@cli.command()\n",
    "def initdb():\n",
    "    pass\n",
    "\n",
    "\n",
    "@cli.command()\n",
    "def dropdb():\n",
    "    pass\n",
    "```"
   ]
  },
  {
   "cell_type": "markdown",
   "metadata": {
    "Collapsed": "false"
   },
   "source": [
    "Commandas are activated using:\n",
    "```bash\n",
    "> python test.py initdb\n",
    "Initialized the database\n",
    "```\n",
    "\n",
    "```bash\n",
    "> python test.py --help\n",
    "Usage: click_test.py [OPTIONS] COMMAND [ARGS]...\n",
    "\n",
    "  --help  Show this message and exit.\n",
    "\n",
    "Commands:\n",
    "  dropdb\n",
    "  initdb\n",
    "```"
   ]
  },
  {
   "cell_type": "markdown",
   "metadata": {},
   "source": [
    "Groups can perform common computations and pass the results to the children commands via the context. From the doc:"
   ]
  },
  {
   "cell_type": "markdown",
   "metadata": {},
   "source": [
    "```python\n",
    "@click.group()\n",
    "@click.option('--debug/--no-debug', default=False)\n",
    "@click.pass_context\n",
    "def cli(ctx, debug):\n",
    "    # ensure that ctx.obj exists and is a dict (in case `cli()` is called\n",
    "    # by means other than the `if` block below)\n",
    "    ctx.ensure_object(dict)\n",
    "\n",
    "    ctx.obj['DEBUG'] = debug\n",
    "\n",
    "    \n",
    "@cli.command()\n",
    "@click.pass_context\n",
    "def sync(ctx):\n",
    "    click.echo('Debug is %s' % (ctx.obj['DEBUG'] and 'on' or 'off'))\n",
    "\n",
    "    \n",
    "if __name__ == '__main__':\n",
    "    cli(obj={})\n",
    "```"
   ]
  },
  {
   "cell_type": "markdown",
   "metadata": {
    "Collapsed": "true"
   },
   "source": [
    "### Adding Parameters"
   ]
  },
  {
   "cell_type": "markdown",
   "metadata": {
    "Collapsed": "false"
   },
   "source": [
    "Commands can have two types of parameters:\n",
    "- `argument`s: positional arguments of python fucntions \n",
    "- `option`s: key-value arguments of python functions"
   ]
  },
  {
   "cell_type": "markdown",
   "metadata": {
    "Collapsed": "false"
   },
   "source": [
    "```python\n",
    "import click\n",
    "\n",
    "\n",
    "@click.command()\n",
    "@click.option('--count', default=1, help='number of greetings')\n",
    "@click.argument('name')\n",
    "def hello(count, name):\n",
    "    '''\n",
    "    Greets somebody a given number of times.\n",
    "    '''\n",
    "    for x in range(count):\n",
    "        click.echo('Hello %s!' % name)\n",
    "\n",
    "if __name__ == \"__main__\":\n",
    "    hello()\n",
    "```"
   ]
  },
  {
   "cell_type": "markdown",
   "metadata": {
    "Collapsed": "false"
   },
   "source": [
    "```bash\n",
    "> python test.py --help\n",
    "Usage: test.py [OPTIONS] NAME\n",
    "\n",
    "  Greets somebody a given number of times.\n",
    "\n",
    "Options:\n",
    "  --count INTEGER  number of greetings\n",
    "  --help           Show this message and exit.\n",
    "```\n",
    "\n",
    "```bash\n",
    "> python test.py Robin\n",
    "Hello Robin!\n",
    "```\n",
    "\n",
    "```bash\n",
    "> python test.py Robin --count 3\n",
    "Hello Robin!\n",
    "Hello Robin!\n",
    "Hello Robin!\n",
    "```"
   ]
  },
  {
   "cell_type": "markdown",
   "metadata": {
    "Collapsed": "true"
   },
   "source": [
    "### More complex Options"
   ]
  },
  {
   "cell_type": "markdown",
   "metadata": {
    "Collapsed": "false"
   },
   "source": [
    "https://click.palletsprojects.com/en/7.x/options/"
   ]
  },
  {
   "cell_type": "markdown",
   "metadata": {
    "Collapsed": "false"
   },
   "source": [
    "Options allow for:\n",
    "- specify variable name (`\"--n\", \"N\"` for fixing case in-sensitivity)\n",
    "- define aliast (`\"--n\", \"-n\"`)\n",
    "- required flag (`required=True`)\n",
    "- default values (`default=1`)\n",
    "- type limiting and conversion (`type=int` or even `type=(int, int)`)\n",
    "- multi-value arguments (`nargs=2` or `multiple=True` for unspecified number of args)\n",
    "- binary flag (`is_flag=True, flag_value=True` or `--shout/--no-shout` with `true/false`)\n",
    "- choice input (`type=click.Choice(['MD5', 'SHA1'], case_sensitive=False)`)\n",
    "- allow promted input (`prompt=\"Enter Name\"` and for confirmation `confirmation_prompt=True`)\n",
    "- range limitations (`type=click.IntRange(0, 100)`)\n",
    "- iteration counting (`count=True` counts multiple invokations e.g. `-vvv` for `v=3`)\n",
    "- password prompts (`hinde_input=True`)\n",
    "- callbacks for validation or other (`callback=print_version`)\n",
    "- displaying defaults (`show_defaults=True`)\n",
    "- hide from help function (`hidden=True`)\n",
    "- file argument (`type=click.File('w')`)\n",
    "  - bonus: specifying `-` will automatically use stdin/stdout as appropriate\n",
    "- path argument (`type=click.Path(exists=True, file_okay=False, dir_okay=True, writable=True)`)\n",
    "  - bonus: performs some checks (above: must exists, not a file, can be written to)\n",
    "- and more..."
   ]
  },
  {
   "cell_type": "markdown",
   "metadata": {
    "Collapsed": "false"
   },
   "source": [
    "```python\n",
    "@click.option(\"--c1\", default=1, type=click.FloatRange(0, None), show_default=True,\n",
    "              help=\"Scale between: hydrodynamic: 0.1, transition: 1, adiabatic: 5\")\n",
    "```"
   ]
  },
  {
   "cell_type": "markdown",
   "metadata": {
    "Collapsed": "true"
   },
   "source": [
    "### Real world example"
   ]
  },
  {
   "cell_type": "markdown",
   "metadata": {
    "Collapsed": "false"
   },
   "source": [
    "<img src=\"img/click_example_code.jpg\" />"
   ]
  },
  {
   "cell_type": "markdown",
   "metadata": {
    "Collapsed": "false"
   },
   "source": [
    "<img src=\"img/click_example_help.jpg\" />"
   ]
  },
  {
   "cell_type": "markdown",
   "metadata": {
    "Collapsed": "false"
   },
   "source": [
    "### Setuptools Integration"
   ]
  },
  {
   "cell_type": "markdown",
   "metadata": {
    "Collapsed": "false"
   },
   "source": [
    "Benefits:\n",
    "- Executable wrapping with necessary requirements into a virtual environment\n",
    "- Windows and Unix executables"
   ]
  },
  {
   "cell_type": "markdown",
   "metadata": {
    "Collapsed": "false"
   },
   "source": []
  },
  {
   "cell_type": "markdown",
   "metadata": {
    "Collapsed": "false"
   },
   "source": []
  },
  {
   "cell_type": "code",
   "execution_count": null,
   "metadata": {
    "Collapsed": "false",
    "lines_to_next_cell": 2
   },
   "outputs": [],
   "source": []
  },
  {
   "cell_type": "code",
   "execution_count": null,
   "metadata": {
    "Collapsed": "false",
    "lines_to_next_cell": 2
   },
   "outputs": [],
   "source": []
  },
  {
   "cell_type": "markdown",
   "metadata": {
    "Collapsed": "false"
   },
   "source": [
    "```python\n",
    "import click\n",
    "\n",
    "@click.command()\n",
    "@click.option(\"--count\", default=1, help=\"Number of greetings.\")\n",
    "@click.option(\"--name\", prompt=\"Your name\",\n",
    "              help=\"The person to greet.\")\n",
    "def hello(count, name):\n",
    "    \"\"\"Simple program that greets NAME for a total of COUNT times.\"\"\"\n",
    "    for _ in range(count):\n",
    "        click.echo(\"Hello, %s!\" % name)\n",
    "\n",
    "if __name__ == '__main__':\n",
    "    hello()\n",
    "```"
   ]
  },
  {
   "cell_type": "code",
   "execution_count": null,
   "metadata": {
    "Collapsed": "false",
    "lines_to_next_cell": 2
   },
   "outputs": [],
   "source": []
  },
  {
   "cell_type": "code",
   "execution_count": null,
   "metadata": {
    "Collapsed": "false"
   },
   "outputs": [],
   "source": []
  }
 ],
 "metadata": {
  "jupytext": {
   "encoding": "# -*- coding: utf-8 -*-",
   "formats": "ipynb,py"
  },
  "kernelspec": {
   "display_name": "Python 3",
   "language": "python",
   "name": "python3"
  },
  "language_info": {
   "codemirror_mode": {
    "name": "ipython",
    "version": 3
   },
   "file_extension": ".py",
   "mimetype": "text/x-python",
   "name": "python",
   "nbconvert_exporter": "python",
   "pygments_lexer": "ipython3",
   "version": "3.7.7"
  },
  "toc-autonumbering": true
 },
 "nbformat": 4,
 "nbformat_minor": 4
}
