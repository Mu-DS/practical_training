{
 "cells": [
  {
   "cell_type": "markdown",
   "metadata": {
    "slideshow": {
     "slide_type": "fragment"
    }
   },
   "source": [
    "# Fundamentals of Production Code"
   ]
  },
  {
   "cell_type": "markdown",
   "metadata": {
    "slideshow": {
     "slide_type": "subslide"
    }
   },
   "source": [
    "This presentation is written by @the-rccg for the Practical Data Science for Researchers Course for the Helmholtz Graduate School for Data Science in Munich (MUDS), Spring 2020."
   ]
  },
  {
   "cell_type": "markdown",
   "metadata": {
    "slideshow": {
     "slide_type": "slide"
    }
   },
   "source": [
    "## Overview: Fundamentals of Production Code\n",
    "\n",
    "- Workflow Organization (Robin)\n",
    "- Environments  (Robin)\n",
    "- Code Style  (Robin)\n",
    "- Design Patterns  (Robin)\n",
    "- Thinking Functionally  (Robin)"
   ]
  },
  {
   "cell_type": "markdown",
   "metadata": {},
   "source": [
    "### Some Quick Questions before starting the first line in your project"
   ]
  },
  {
   "cell_type": "markdown",
   "metadata": {},
   "source": [
    "#### Users"
   ]
  },
  {
   "cell_type": "markdown",
   "metadata": {},
   "source": [
    "Who is the User?\n",
    "- Just yourself?\n",
    "- One Colleague?\n",
    "- People in your office?\n",
    "- Entire research group?\n",
    "- Your department?\n",
    "- External collaborators?\n",
    "- Unconnected users?"
   ]
  },
  {
   "cell_type": "markdown",
   "metadata": {},
   "source": [
    "#### Lifetime"
   ]
  },
  {
   "cell_type": "markdown",
   "metadata": {},
   "source": [
    "How long should this code last (in time)?\n",
    "- I'll delete this file at the end of the day\n",
    "- I'll delete this file at the end of the week\n",
    "- I won't need this file, but will keep it forever to look at later\n",
    "- I'll come back to this in a few weeks\n",
    "- This project should be used for the next year\n",
    "- This project should last a few years\n",
    "- The code should be taken over by another person\n",
    "- This code should last a long time and be maintained by another person\n",
    "- This code should last a long time and be maintained by volunteer developers"
   ]
  },
  {
   "cell_type": "markdown",
   "metadata": {},
   "source": [
    "#### Breadth"
   ]
  },
  {
   "cell_type": "markdown",
   "metadata": {},
   "source": [
    "How broad should this code be (in terms of users)?\n",
    "- Just people who are identical copies of myself\n",
    "- Anyone doing a PhD in this exact subfield\n",
    "- Anyone doing a PhD in this general field\n",
    "- Anyone doing a PhD in this subject\n",
    "- Any Masters degree\n",
    "- Anyone with a bachelors education\n",
    "- Even people from different fields should be able to use this code"
   ]
  },
  {
   "cell_type": "markdown",
   "metadata": {},
   "source": [
    "#### Takeaways"
   ]
  },
  {
   "cell_type": "markdown",
   "metadata": {},
   "source": [
    "Whatever you decide in the previous questions, go one further in each direction.\n",
    "\n",
    "After you spent the time, you will want to share it more widely. Trust me."
   ]
  },
  {
   "cell_type": "markdown",
   "metadata": {},
   "source": [
    "Open Science = Open Code\n",
    "\n",
    "but, open code is useless if no one can read it"
   ]
  },
  {
   "cell_type": "markdown",
   "metadata": {},
   "source": [
    "Peer Review means that at least your peer has to be able to read and understand your code in minimal time. If they cant, you might as well have made up your results."
   ]
  },
  {
   "cell_type": "markdown",
   "metadata": {
    "incorrectly_encoded_metadata": "Collapsed=\"true\" toc-hr-collapsed=true",
    "slideshow": {
     "slide_type": "slide"
    }
   },
   "source": [
    "## Workflow Organization\n",
    "Thank you to Nicole Carlson and her talk at PyData Austin 2019 (https://www.youtube.com/watch?v=2v9uwedgBxU)Come up with a process that works for the team"
   ]
  },
  {
   "cell_type": "markdown",
   "metadata": {},
   "source": [
    "Question:\n",
    "- How does your team workflow look like?"
   ]
  },
  {
   "cell_type": "markdown",
   "metadata": {
    "slideshow": {
     "slide_type": "subslide"
    }
   },
   "source": [
    "Come up with a process that works for the team"
   ]
  },
  {
   "cell_type": "markdown",
   "metadata": {
    "slideshow": {
     "slide_type": "fragment"
    }
   },
   "source": [
    "Strong opinions + respectful conversations = better results"
   ]
  },
  {
   "cell_type": "markdown",
   "metadata": {},
   "source": [
    "### Overview"
   ]
  },
  {
   "cell_type": "markdown",
   "metadata": {
    "slideshow": {
     "slide_type": "subslide"
    }
   },
   "source": [
    "1. Sprinting\n",
    "2. Tracking\n",
    "3. Sharing\n",
    "4. Reviewing"
   ]
  },
  {
   "cell_type": "markdown",
   "metadata": {
    "slideshow": {
     "slide_type": "subslide"
    }
   },
   "source": [
    "### Sprint planning\n",
    "- each person comes up with their own tasks\n",
    "- group discusses tasks  +  estimate times\n",
    "- R&D or Literature Review tasks are timeboxed\n",
    "- Long-term project planning happens aoutside of the meeting\n",
    "- Code Reviews are assigned after the meeting"
   ]
  },
  {
   "cell_type": "markdown",
   "metadata": {},
   "source": [
    "Keep in mind, studies across various fields come to the rough estimate that we **underestimate the time we need by 40% on average!**"
   ]
  },
  {
   "cell_type": "markdown",
   "metadata": {
    "slideshow": {
     "slide_type": "subslide"
    }
   },
   "source": [
    "### Central place to track your work: \n",
    "- Overview: What is each person working on?\n",
    "- Ordering: What will you work on next?\n",
    "- Timeline: What is the overall outline of your project\n",
    "- Ideas: What are potential future projects/follow-ups?\n",
    "- Collaboration: What requests have you gotten from other teams?"
   ]
  },
  {
   "cell_type": "markdown",
   "metadata": {
    "slideshow": {
     "slide_type": "subslide"
    }
   },
   "source": [
    "#### Full Team Trackers:\n",
    "- [Asana](https://www.asana.com/)\n",
    "- [Trello](https://www.trello.com/)\n",
    "- [Jira](https://www.atlassian.com/software/jira/)\n",
    "\n",
    "\n",
    "##### Simple Trackers:\n",
    "- [Todoist](https://www.todoist.com)\n",
    "- [GitHub](https://www.github.com)\n",
    "\n",
    "##### Not Trackers:\n",
    "- [Slack](https://www.slack.com)\n",
    "- E-Mail"
   ]
  },
  {
   "cell_type": "markdown",
   "metadata": {
    "slideshow": {
     "slide_type": "subslide"
    }
   },
   "source": [
    "### Common Utilities Repo\n",
    "People will face the same challenges, <u>***especially new people***</u>. Keep solutions in one place."
   ]
  },
  {
   "cell_type": "markdown",
   "metadata": {
    "slideshow": {
     "slide_type": "fragment"
    }
   },
   "source": [
    "- Database\n",
    "  - common queries, instructions, etc.\n",
    "  - descriptions for each\n",
    "  - how to acces it"
   ]
  },
  {
   "cell_type": "markdown",
   "metadata": {
    "slideshow": {
     "slide_type": "fragment"
    }
   },
   "source": [
    "- Data Processing\n",
    "  - transformations\n",
    "  - common tools and how to use them"
   ]
  },
  {
   "cell_type": "markdown",
   "metadata": {
    "slideshow": {
     "slide_type": "fragment"
    }
   },
   "source": [
    "- Helpers\n",
    "  - logging\n",
    "  - unittesting\n",
    "  - visualizations"
   ]
  },
  {
   "cell_type": "markdown",
   "metadata": {
    "slideshow": {
     "slide_type": "fragment"
    }
   },
   "source": [
    "- Coding Standards\n",
    "  - PEP8\n",
    "  - linter configuration file"
   ]
  },
  {
   "cell_type": "markdown",
   "metadata": {
    "slideshow": {
     "slide_type": "fragment"
    }
   },
   "source": [
    "- Development Flow\n",
    "  - PR Checklist\n",
    "  - CI Pipeline\n",
    "  - Review process description"
   ]
  },
  {
   "cell_type": "markdown",
   "metadata": {
    "slideshow": {
     "slide_type": "subslide"
    }
   },
   "source": [
    "### Code Review Process\n",
    "\n",
    "- Git hierarchies: master -> develop -> feature\n",
    "- How should Pull Requests (PR) be prepared?\n",
    "  - Unit Tests\n",
    "  - Documentation\n",
    "- Who should review the code?\n",
    "- What are the responsibilities of reviewer?\n",
    "  - Should they check math?\n",
    "  - Should they run tests locally for dependency checks?\n",
    "  - Should they check performance?"
   ]
  },
  {
   "cell_type": "markdown",
   "metadata": {
    "jupyter": {
     "outputs_hidden": true
    },
    "lines_to_next_cell": 2,
    "slideshow": {
     "slide_type": "subslide"
    }
   },
   "source": [
    "### Data Science to production\n",
    "\n",
    "- sketch stage: data -> notebook -> insight\n",
    "- production stage: data -> API -> insight"
   ]
  },
  {
   "cell_type": "markdown",
   "metadata": {
    "slideshow": {
     "slide_type": "subslide"
    }
   },
   "source": [
    "#### Next Level: Web-framework for open science access\n",
    "\n",
    "Frameworks:\n",
    "- Flask (recommended as it is the lightest)\n",
    "- Django\n",
    "- Bottle\n",
    "- Falcon\n",
    "\n",
    "Further features to consider\n",
    "- Locust (Load Testing)"
   ]
  },
  {
   "cell_type": "markdown",
   "metadata": {
    "incorrectly_encoded_metadata": "Collapsed=\"true\" toc-hr-collapsed=true",
    "slideshow": {
     "slide_type": "slide"
    }
   },
   "source": [
    "## Overview: Setting Up the Environment\n",
    "\n",
    "- virtual environments\n",
    "- vscode for working on remote server\n",
    "- jupyter for working on remote server"
   ]
  },
  {
   "cell_type": "markdown",
   "metadata": {
    "slideshow": {
     "slide_type": "subslide"
    }
   },
   "source": [
    "### Virtual Environments"
   ]
  },
  {
   "cell_type": "markdown",
   "metadata": {
    "slideshow": {
     "slide_type": "subslide"
    }
   },
   "source": [
    "#### Creating an Environment (env) to update to Python 3.8"
   ]
  },
  {
   "cell_type": "markdown",
   "metadata": {
    "slideshow": {
     "slide_type": "fragment"
    }
   },
   "source": [
    "List current environments:\n",
    "```bash\n",
    "conda env list\n",
    "```"
   ]
  },
  {
   "cell_type": "markdown",
   "metadata": {
    "slideshow": {
     "slide_type": "fragment"
    }
   },
   "source": [
    "Export current env:\n",
    "```bash\n",
    "conda list --explicit > current_env.txt\n",
    "```"
   ]
  },
  {
   "cell_type": "markdown",
   "metadata": {
    "slideshow": {
     "slide_type": "fragment"
    }
   },
   "source": [
    "Create new env for Python=3.8:\n",
    "```bash\n",
    "conda create --name py38 python=3.8\n",
    "```"
   ]
  },
  {
   "cell_type": "markdown",
   "metadata": {
    "slideshow": {
     "slide_type": "fragment"
    }
   },
   "source": [
    "Switch environment:\n",
    "```bash\n",
    "activate py38\n",
    "```"
   ]
  },
  {
   "cell_type": "markdown",
   "metadata": {
    "slideshow": {
     "slide_type": "fragment"
    }
   },
   "source": [
    "Simply install what you need:\n",
    "```bash\n",
    "conda install matplotlib jupyter tensorflow dask numba\n",
    "```"
   ]
  },
  {
   "cell_type": "markdown",
   "metadata": {
    "slideshow": {
     "slide_type": "fragment"
    }
   },
   "source": [
    "#### Registering Environments as Kernels in Jupyter"
   ]
  },
  {
   "cell_type": "markdown",
   "metadata": {
    "slideshow": {
     "slide_type": "fragment"
    }
   },
   "source": [
    "```bash\n",
    "conda activate py38\n",
    "conda install ipykernel\n",
    "python -m ipykernel install --user --name=py38\n",
    "conda activate base\n",
    "jupyter lab\n",
    "```"
   ]
  },
  {
   "cell_type": "markdown",
   "metadata": {
    "slideshow": {
     "slide_type": "subslide"
    }
   },
   "source": [
    "<img src=../img/jupyter_environments.png />"
   ]
  },
  {
   "cell_type": "markdown",
   "metadata": {
    "slideshow": {
     "slide_type": "subslide"
    }
   },
   "source": [
    "#### Other Environments\n",
    "\n",
    "You might have heard or read about the Python Virtual Environments, however, the Conda version allows for a higher encapsulation of entirely independent Python installations for each environment, as well as other tools.\n",
    "\n",
    "This works similarly to how Conda provides a higher abstraction and utility with respect to modules than PIP does, as for example its dependency resolution."
   ]
  },
  {
   "cell_type": "markdown",
   "metadata": {
    "slideshow": {
     "slide_type": "subslide"
    }
   },
   "source": [
    "### IDEs"
   ]
  },
  {
   "cell_type": "markdown",
   "metadata": {},
   "source": [
    "#### That friend"
   ]
  },
  {
   "cell_type": "markdown",
   "metadata": {},
   "source": [
    "There is always THAT colleague who says anyone who isn't using VI/emacs isn't a proper developer - don't ever listen to them."
   ]
  },
  {
   "cell_type": "markdown",
   "metadata": {},
   "source": [
    "<img src=\"https://preview.redd.it/dcuj4sradth51.jpg?width=960&crop=smart&auto=webp&s=0b36f0b69c9cf127b5f632de5208278323595de9\" width=480>"
   ]
  },
  {
   "cell_type": "markdown",
   "metadata": {},
   "source": [
    "#### IDE Options"
   ]
  },
  {
   "cell_type": "markdown",
   "metadata": {
    "slideshow": {
     "slide_type": "fragment"
    }
   },
   "source": [
    "- [VSCode](https://code.visualstudio.com/)\n",
    "  - Multi-Language support\n",
    "  - Extensible\n",
    "  - Open Source\n",
    "  - Very light weight\n",
    "  - Great support and stability thanks to Microsoft financing"
   ]
  },
  {
   "cell_type": "markdown",
   "metadata": {
    "slideshow": {
     "slide_type": "fragment"
    }
   },
   "source": [
    "- [PyCharm](https://www.jetbrains.com/pycharm/)\n",
    "  - Free for students\n",
    "  - Very heavy weight\n",
    "- [Spyder](https://www.spyder-ide.org/)\n",
    "  - Great for scripting/Analysis\n",
    "  - Open Source\n",
    "- [Atom](https://www.atom.io/)\n",
    "  - Extensible\n",
    "  - Open Source"
   ]
  },
  {
   "cell_type": "markdown",
   "metadata": {
    "slideshow": {
     "slide_type": "subslide"
    }
   },
   "source": [
    "### [VSCode](https://code.visualstudio.com/) for working on Remote Server"
   ]
  },
  {
   "cell_type": "markdown",
   "metadata": {
    "slideshow": {
     "slide_type": "fragment"
    }
   },
   "source": [
    "Why it's useful: (non comprehensive list)\n",
    "\n",
    "- Write code directly on the server you're deploying on with full IDE capability\n",
    "- All benefits of your locally installed Extensions and Settings for the remote server\n",
    "- Simply drag-and-drop for moving files"
   ]
  },
  {
   "cell_type": "markdown",
   "metadata": {
    "slideshow": {
     "slide_type": "subslide"
    }
   },
   "source": [
    "#### Getting the Extension\n",
    "\n",
    "1. `ctrl/cmd + shift + p` opens the console in run command mode indicated by `>`\n",
    "2. run `Extensions: install Extensions`\n",
    "3. install `Remote - SSH`\n",
    "4. Now you have a new icon in the footer: \n",
    "\n",
    "   <img width=300, height=15, src=\"../img/ssh-remote.png\">\n",
    "   \n",
    "6. `Remote-SSH: Connect to Host...`\n",
    "7. `Add New SSH Host...`\n"
   ]
  },
  {
   "cell_type": "markdown",
   "metadata": {
    "slideshow": {
     "slide_type": "subslide"
    }
   },
   "source": [
    "### Jupyter for working on Remote Server"
   ]
  },
  {
   "cell_type": "markdown",
   "metadata": {
    "slideshow": {
     "slide_type": "fragment"
    }
   },
   "source": [
    "1. Connect to remote server\n",
    "2. Start Jupyter server on a free port\n",
    "3. Tunnel the port to your machine to work as if it was local"
   ]
  },
  {
   "cell_type": "markdown",
   "metadata": {
    "slideshow": {
     "slide_type": "fragment"
    }
   },
   "source": [
    "Reverse Tunneling \n",
    "```bash\n",
    "ssh usernam@host.de -L remote_port:local_host:local_port\n",
    "```\n",
    "Example:\n",
    "```bash\n",
    "ssh rgreif@host.mu-ds.de -L 8889:localhost:8888\n",
    "```"
   ]
  },
  {
   "cell_type": "markdown",
   "metadata": {},
   "source": [
    "#### Flags explained"
   ]
  },
  {
   "cell_type": "markdown",
   "metadata": {
    "lines_to_next_cell": 0,
    "slideshow": {
     "slide_type": "fragment"
    }
   },
   "source": [
    "```bash\n",
    "ssh usernam@host.de -NL remote_port:local_host:local_port\n",
    "```\n",
    "\n",
    "-N \n",
    "\n",
    "    \"Nothing else\": tells the ssh client that no command executionafterwards is needed\n",
    "    \n",
    "-L [protocol/][listening_host:] listening_port:host:hostport\n",
    "    \n",
    "    \"Listen\": redirects data from the port following, through the secure tunnel to the destination address and port following, e.g. localhost:8888. "
   ]
  },
  {
   "cell_type": "markdown",
   "metadata": {
    "incorrectly_encoded_metadata": "Collapsed=\"true\" toc-hr-collapsed=true",
    "slideshow": {
     "slide_type": "slide"
    }
   },
   "source": [
    "## Code Style"
   ]
  },
  {
   "cell_type": "markdown",
   "metadata": {
    "slideshow": {
     "slide_type": "fragment"
    }
   },
   "source": [
    "- The Zen of Python\n",
    "- PEP8\n",
    "- PyLint\n",
    "- Flake8\n",
    "- How to select which linting rules to use?\n",
    "    - Hierarchical structure of: Necessary, Optional, Not needed"
   ]
  },
  {
   "cell_type": "markdown",
   "metadata": {
    "slideshow": {
     "slide_type": "subslide"
    }
   },
   "source": [
    "### The Zen of Python\n",
    "\n",
    "The \"guiding principles\" of how to write Python code, formulated in 1999 and published as **Python Enhancement Proposal (PEP)** 20."
   ]
  },
  {
   "cell_type": "code",
   "execution_count": 1,
   "metadata": {
    "slideshow": {
     "slide_type": "subslide"
    }
   },
   "outputs": [
    {
     "name": "stdout",
     "output_type": "stream",
     "text": [
      "The Zen of Python, by Tim Peters\n",
      "\n",
      "Beautiful is better than ugly.\n",
      "Explicit is better than implicit.\n",
      "Simple is better than complex.\n",
      "Complex is better than complicated.\n",
      "Flat is better than nested.\n",
      "Sparse is better than dense.\n",
      "Readability counts.\n",
      "Special cases aren't special enough to break the rules.\n",
      "Although practicality beats purity.\n",
      "Errors should never pass silently.\n",
      "Unless explicitly silenced.\n",
      "In the face of ambiguity, refuse the temptation to guess.\n",
      "There should be one-- and preferably only one --obvious way to do it.\n",
      "Although that way may not be obvious at first unless you're Dutch.\n",
      "Now is better than never.\n",
      "Although never is often better than *right* now.\n",
      "If the implementation is hard to explain, it's a bad idea.\n",
      "If the implementation is easy to explain, it may be a good idea.\n",
      "Namespaces are one honking great idea -- let's do more of those!\n"
     ]
    }
   ],
   "source": [
    "import this"
   ]
  },
  {
   "cell_type": "markdown",
   "metadata": {
    "slideshow": {
     "slide_type": "subslide"
    }
   },
   "source": [
    "### So what does this mean?"
   ]
  },
  {
   "cell_type": "markdown",
   "metadata": {
    "slideshow": {
     "slide_type": "subslide"
    }
   },
   "source": [
    "#### ***Explicit is better than implicit.***"
   ]
  },
  {
   "cell_type": "markdown",
   "metadata": {
    "slideshow": {
     "slide_type": "fragment"
    }
   },
   "source": [
    "```python\n",
    "from some_file import custom_object\n",
    "\n",
    "custom_object().run()\n",
    "```"
   ]
  },
  {
   "cell_type": "markdown",
   "metadata": {
    "slideshow": {
     "slide_type": "fragment"
    }
   },
   "source": [
    "```python\n",
    "import  some_file as fncs\n",
    "\n",
    "data = fncs.load_data('data.csv')\n",
    "proc_data = fncs.process_data(data)\n",
    "print(summarize_data(proc_data))\n",
    "```"
   ]
  },
  {
   "cell_type": "markdown",
   "metadata": {
    "slideshow": {
     "slide_type": "subslide"
    }
   },
   "source": [
    "#### ***Simple is better than complex.***\n"
   ]
  },
  {
   "cell_type": "markdown",
   "metadata": {},
   "source": [
    "```python\n",
    "def make_complex(*args):\n",
    "    x, y = args\n",
    "    return dict(**locals())\n",
    "```\n",
    "\n",
    "```python\n",
    "def make_complex(x, y):\n",
    "    return {'x': x, 'y': y}\n",
    "```"
   ]
  },
  {
   "cell_type": "markdown",
   "metadata": {
    "slideshow": {
     "slide_type": "subslide"
    }
   },
   "source": [
    "#### ***Flat is better than nested.***\n"
   ]
  },
  {
   "cell_type": "markdown",
   "metadata": {},
   "source": [
    "##### Original Example"
   ]
  },
  {
   "cell_type": "markdown",
   "metadata": {
    "slideshow": {
     "slide_type": "fragment"
    }
   },
   "source": [
    "```python\n",
    "center_slices = tuple([(slice(1, -1) if i == ax else (slice(1, -1)) if _contains_axis(axes, i, rank) else slice(None)) for i in dims])\n",
    "upper_slices = tuple([(slice(2, None) if i == ax else (slice(1, -1)) if _contains_axis(axes, i, rank) else slice(None)) for i in dims])\n",
    "lower_slices = tuple([(slice(-2) if i == ax else (slice(1, -1)) if _contains_axis(axes, i, rank) else slice(None)) for i in dims])\n",
    "```"
   ]
  },
  {
   "cell_type": "markdown",
   "metadata": {},
   "source": [
    "##### Making sense of original"
   ]
  },
  {
   "cell_type": "markdown",
   "metadata": {
    "slideshow": {
     "slide_type": "subslide"
    }
   },
   "source": [
    "```python\n",
    "# (c)enter (u)pper (l)ower\n",
    "c_slices = tuple([(slice(1, -1)   if i == ax else slice(1, -1) if _contains_axis(axes, i, rank) else slice(None)) for i in dims])\n",
    "u_slices = tuple([(slice(2, None) if i == ax else slice(1, -1) if _contains_axis(axes, i, rank) else slice(None)) for i in dims])\n",
    "l_slices = tuple([(slice(-2)      if i == ax else slice(1, -1) if _contains_axis(axes, i, rank) else slice(None)) for i in dims])\n",
    "```"
   ]
  },
  {
   "cell_type": "markdown",
   "metadata": {},
   "source": [
    "##### Denesting step 1"
   ]
  },
  {
   "cell_type": "markdown",
   "metadata": {
    "slideshow": {
     "slide_type": "subslide"
    }
   },
   "source": [
    "```python\n",
    "c_slices = []\n",
    "u_slices = []\n",
    "l_slices = []\n",
    "for i in dims:\n",
    "    if i == ax:\n",
    "        c_slices.append(slice(1, -1))\n",
    "        u_slices.append(slice(2,None))\n",
    "        l_slices.append(slice(-2))\n",
    "    elif _contains_axis(axes, i, rank):\n",
    "        c_slices.append(slice(1, -1))\n",
    "        u_slices.append(slice(1, -1))\n",
    "        l_slices.append(slice(1, -1))\n",
    "    else:\n",
    "        c_slices.append(slice(None))\n",
    "        u_slices.append(slice(None))\n",
    "        l_slices.append(slice(None))\n",
    "c_slices = tuple(c_slices)\n",
    "u_slices = tuple(u_slices)\n",
    "l_slices = tuple(l_slices)\n",
    "```"
   ]
  },
  {
   "cell_type": "markdown",
   "metadata": {},
   "source": [
    "##### Final denesting"
   ]
  },
  {
   "cell_type": "markdown",
   "metadata": {
    "slideshow": {
     "slide_type": "subslide"
    }
   },
   "source": [
    "```python\n",
    "c_slices = [slice(None)]*len(dims)\n",
    "u_slices = [slice(None)]*len(dims)\n",
    "l_slices = [slice(None)]*len(dims)\n",
    "# i == ax\n",
    "c_slices[ax] = slice(1, -1)\n",
    "u_slices[ax] = slice(2, None)\n",
    "l_slices[ax] = slice(-2)\n",
    "# if contained\n",
    "f2 = [_contains_axis(axes, i, rank) for i in dims]\n",
    "c_slices[f2] = slice(1, -1)\n",
    "u_slices[f2] = slice(1, -1)\n",
    "l_slices[f2] = slice(1, -1)\n",
    "# make tuple\n",
    "c_slices = tuple(c_slices)\n",
    "u_slices = tuple(u_slices)\n",
    "l_slices = tuple(l_slices)\n",
    "```"
   ]
  },
  {
   "cell_type": "markdown",
   "metadata": {
    "slideshow": {
     "slide_type": "subslide"
    }
   },
   "source": [
    "#### ***Readability counts.***\n",
    "\n"
   ]
  },
  {
   "cell_type": "markdown",
   "metadata": {
    "slideshow": {
     "slide_type": "fragment"
    }
   },
   "source": [
    "Code is written once, but read a lot more by people with in depth less knowledge."
   ]
  },
  {
   "cell_type": "markdown",
   "metadata": {
    "slideshow": {
     "slide_type": "subslide"
    }
   },
   "source": [
    "#### ***Special cases aren't special enough to break the rules.***\n",
    "\n"
   ]
  },
  {
   "cell_type": "markdown",
   "metadata": {
    "slideshow": {
     "slide_type": "fragment"
    }
   },
   "source": [
    "It might be tempting to do it, but breaking conventions make things harder to understand."
   ]
  },
  {
   "cell_type": "markdown",
   "metadata": {
    "slideshow": {
     "slide_type": "subslide"
    }
   },
   "source": [
    "#### ***If the implementation is hard to explain, it's a bad idea.***\n"
   ]
  },
  {
   "cell_type": "markdown",
   "metadata": {
    "slideshow": {
     "slide_type": "fragment"
    }
   },
   "source": [
    "Your code lives on after you leave. If you struggle to explain it, the next person has no chance to understand it. Your code will be THAT code. "
   ]
  },
  {
   "cell_type": "markdown",
   "metadata": {
    "slideshow": {
     "slide_type": "subslide"
    }
   },
   "source": [
    "#### ***Namespaces are one honking great idea -- let's do more of those!***"
   ]
  },
  {
   "cell_type": "markdown",
   "metadata": {
    "slideshow": {
     "slide_type": "fragment"
    }
   },
   "source": [
    "```python\n",
    "from phi.flow import *\n",
    "```\n",
    "vs.\n",
    "```python\n",
    "from phi.flow import physics, smoke\n",
    "```"
   ]
  },
  {
   "cell_type": "markdown",
   "metadata": {
    "slideshow": {
     "slide_type": "subslide"
    }
   },
   "source": [
    "`math.py`\n",
    "```python\n",
    "from .base import backend\n",
    "abs = backend.abs\n",
    "all = backend.all\n",
    "```\n",
    "`run.py`\n",
    "```python\n",
    "from .math import *\n",
    "```\n",
    "vs.\n",
    "`run.py`\n",
    "```python\n",
    "from .base import backend\n",
    "# use: backend.abs(), backend.all()\n",
    "```"
   ]
  },
  {
   "cell_type": "markdown",
   "metadata": {
    "slideshow": {
     "slide_type": "subslide"
    }
   },
   "source": [
    "`math.py`\n",
    "```python\n",
    "from .base import backend\n",
    "abs = backend.abs  # redefines built-in keyword\n",
    "all = backend.all  # redefines built-in keyword\n",
    "```\n",
    "`run.py`\n",
    "```python\n",
    "from .math import *  # ambiguity with math core module, wildcard import, REDEFINING BUILT-IN KEYWORDS\n",
    "```\n",
    "vs.\n",
    "`run.py`\n",
    "```python\n",
    "from .base import backend  # explicit import\n",
    "# use: backend.abs(), backend.all()  explicit use\n",
    "```"
   ]
  },
  {
   "cell_type": "markdown",
   "metadata": {
    "slideshow": {
     "slide_type": "subslide"
    }
   },
   "source": [
    "##### From Meetings\n",
    "\n",
    "\"I just want to make the examples as short as possible so people can see how easy it is to use\"\n",
    "-- author of a 2 line example (`import object; object.run()`)\n",
    "\n"
   ]
  },
  {
   "cell_type": "markdown",
   "metadata": {
    "jupyter": {
     "outputs_hidden": true
    },
    "lines_to_next_cell": 2,
    "slideshow": {
     "slide_type": "subslide"
    }
   },
   "source": [
    "There are very useful tools that combine these into one, namely Sphinx and the ReadTheDocs implementation you are probably familiar with."
   ]
  },
  {
   "cell_type": "markdown",
   "metadata": {
    "slideshow": {
     "slide_type": "subslide"
    }
   },
   "source": [
    "### Whats the difference between good code and bad code?"
   ]
  },
  {
   "cell_type": "markdown",
   "metadata": {
    "slideshow": {
     "slide_type": "fragment"
    }
   },
   "source": [
    "Good code is code ***I*** wrote.\n",
    "\n",
    "Bad code is code ***you*** wrote."
   ]
  },
  {
   "cell_type": "markdown",
   "metadata": {
    "slideshow": {
     "slide_type": "subslide"
    }
   },
   "source": [
    "Well, but how do we agree on that **this** code is good code?"
   ]
  },
  {
   "cell_type": "markdown",
   "metadata": {
    "slideshow": {
     "slide_type": "subslide"
    }
   },
   "source": [
    "Welcome to Code Style and Style Guides! "
   ]
  },
  {
   "cell_type": "markdown",
   "metadata": {
    "slideshow": {
     "slide_type": "subslide"
    }
   },
   "source": [
    "### PEP 8"
   ]
  },
  {
   "cell_type": "markdown",
   "metadata": {},
   "source": [
    "> “Code is more often read than written.”\n",
    "   — Guido van Rossum\n"
   ]
  },
  {
   "cell_type": "markdown",
   "metadata": {},
   "source": [
    "You could read all books in l337 sp34k, but let's be honest, that would be a pain."
   ]
  },
  {
   "cell_type": "markdown",
   "metadata": {},
   "source": [
    "#### Coworker is asking to see your code? \n",
    "\n",
    "<img src=\"https://preview.redd.it/hk54ti5n6tk11.png?width=640&crop=smart&auto=webp&s=6b84e81dae311d0f055a43ee5dfda6f68d253e47\" width=300>"
   ]
  },
  {
   "cell_type": "markdown",
   "metadata": {},
   "source": [
    "So, lets look at the rules how code should look like to build trust in your code"
   ]
  },
  {
   "cell_type": "markdown",
   "metadata": {
    "slideshow": {
     "slide_type": "subslide"
    }
   },
   "source": [
    "#### How code should look like:\n",
    "\n",
    "1. Only one statement per line\n",
    "2. All imports on top\n",
    "3. Imports grouped by global/local, ordered by depth then alphabetically\n",
    "4. Between global and local imports: 1 blanck line\n",
    "5. After imports: 1 blanck line\n",
    "7. Before/After functions: 1 blanck line\n",
    "8. Before/After classes: 2 blanck lines\n",
    "9. End of file: 1 blanck line\n",
    "10. Indentation: 4 spaces / level"
   ]
  },
  {
   "cell_type": "markdown",
   "metadata": {
    "slideshow": {
     "slide_type": "fragment"
    }
   },
   "source": [
    "For the full list, see: https://www.python.org/dev/peps/pep-0008/"
   ]
  },
  {
   "cell_type": "markdown",
   "metadata": {
    "slideshow": {
     "slide_type": "subslide"
    }
   },
   "source": [
    "#### Naming Styles"
   ]
  },
  {
   "cell_type": "markdown",
   "metadata": {},
   "source": [
    "| Name               | Example                    |\n",
    "|--------------------|----------------------------|\n",
    "| Upper Camel Case   | ThisIsCapitalCamelCase     |\n",
    "| Lower Camel Case   | thisIsLowerCamelCase       |\n",
    "| Snake Case         | this_is_snake_case         |\n",
    "| Capital Snake Case | THIS_IS_CAPITAL_SNAKE_CASE |"
   ]
  },
  {
   "cell_type": "markdown",
   "metadata": {
    "slideshow": {
     "slide_type": "fragment"
    }
   },
   "source": [
    "Forbidden/Reserved conventions in Python:\n",
    "\n",
    "- ```period.separated```\n",
    "- ```kebab-case```"
   ]
  },
  {
   "cell_type": "markdown",
   "metadata": {
    "slideshow": {
     "slide_type": "subslide"
    }
   },
   "source": [
    "#### Which to use for what?"
   ]
  },
  {
   "cell_type": "markdown",
   "metadata": {},
   "source": [
    "| Object    | Naming Style     |\n",
    "|-----------|------------------|\n",
    "| Variables | `snake_case`       |\n",
    "| Constants | `CAPITAL_SNAKE_CASE`       |\n",
    "| Classes   | `CapitalCamelCase`  |\n",
    "| Functions | `snake_case`       |\n",
    "| Packages  | `alllowercase`    |"
   ]
  },
  {
   "cell_type": "markdown",
   "metadata": {
    "slideshow": {
     "slide_type": "subslide"
    }
   },
   "source": [
    "| Object                        | Naming Style        | Resulting Behavior                                                 |\n",
    "|-------------------------------|---------------------|--------------------------------------------------------------------|\n",
    "| Private Variables/Functions   | `_snake_case`       | Not imported with `*`, linter will complain if accessed externally |\n",
    "| Private Classes               | `_CapitalCamel`     | Not imported with `*`, linter will complain if accessed externally |\n",
    "| Python Keyword Conflicts      | `trailing_`         | Nothing special |\n",
    "| Private Attributes of Classes | `__double_leading`  | invokes name mangling (inside class FooBar, `__bar` becomes `_FooBat__boo`) |\n",
    "| magic objects/attributes      | `__double_double__` | living in user-controlled namespaces e.g. __init__, __import__, __file__ |\n"
   ]
  },
  {
   "cell_type": "markdown",
   "metadata": {
    "slideshow": {
     "slide_type": "subslide"
    }
   },
   "source": [
    "For more on naming conventions see: https://visualgit.readthedocs.io/en/latest/pages/naming_convention.html"
   ]
  },
  {
   "cell_type": "markdown",
   "metadata": {
    "slideshow": {
     "slide_type": "subslide"
    }
   },
   "source": [
    "##### Side Note: naming conventions for pretty code"
   ]
  },
  {
   "cell_type": "markdown",
   "metadata": {
    "slideshow": {
     "slide_type": "fragment"
    }
   },
   "source": [
    "Problem: antonyms are often not equally sized\n",
    "```\n",
    "open   or  first  or  read   or  initial  or  begin  \n",
    "close  or  last   or  write  or  final    or  end    \n",
    "```\n",
    "\n",
    "Some properties already have common abbreviations that fit\n",
    "```\n",
    "avg  \n",
    "std  \n",
    "len  \n",
    "```"
   ]
  },
  {
   "cell_type": "code",
   "execution_count": null,
   "metadata": {
    "slideshow": {
     "slide_type": "subslide"
    }
   },
   "outputs": [],
   "source": [
    "Useful equal sized words:\n",
    "\n",
    "``` \n",
    "first  or  begin  or  init\n",
    "final  or  final  or  last\n",
    "\n",
    "read  or  open\n",
    "save  or  save\n",
    "\n",
    "exec \n",
    "wait\n",
    "```"
   ]
  },
  {
   "cell_type": "markdown",
   "metadata": {
    "jupyter": {
     "outputs_hidden": true
    },
    "lines_to_next_cell": 2,
    "slideshow": {
     "slide_type": "subslide"
    }
   },
   "source": [
    "If you have more useful examples, please let us know!"
   ]
  },
  {
   "cell_type": "code",
   "execution_count": null,
   "metadata": {
    "slideshow": {
     "slide_type": "subslide"
    }
   },
   "outputs": [],
   "source": [
    "#### PEP8 is not definite"
   ]
  },
  {
   "cell_type": "markdown",
   "metadata": {},
   "source": [
    "##### Indentation"
   ]
  },
  {
   "cell_type": "markdown",
   "metadata": {
    "slideshow": {
     "slide_type": "fragment"
    }
   },
   "source": [
    "```python\n",
    "# No extra indentation.\n",
    "if (this_is_one_thing and\n",
    "    that_is_another_thing):\n",
    "    do_something()\n",
    "\n",
    "# Add a comment, which will provide some distinction in editors\n",
    "# supporting syntax highlighting.\n",
    "if (this_is_one_thing and\n",
    "    that_is_another_thing):\n",
    "    # Since both conditions are true, we can frobnicate.\n",
    "    do_something()\n",
    "\n",
    "# Add some extra indentation on the conditional continuation line.\n",
    "if (this_is_one_thing\n",
    "        and that_is_another_thing):\n",
    "    do_something()\n",
    "```"
   ]
  },
  {
   "cell_type": "markdown",
   "metadata": {},
   "source": [
    "##### Continuing lines"
   ]
  },
  {
   "cell_type": "markdown",
   "metadata": {
    "slideshow": {
     "slide_type": "subslide"
    }
   },
   "source": [
    "```python\n",
    "if flag.is_data_bound and \\\n",
    "        flag.propagates(_PROPAGATOR.RESAMPLE) and \\\n",
    "        flag.is_applicable(resulting_rank, data_field.component_count):\n",
    "    flags.append(flag)\n",
    "```"
   ]
  },
  {
   "cell_type": "markdown",
   "metadata": {
    "slideshow": {
     "slide_type": "fragment"
    }
   },
   "source": [
    "```python\n",
    "if (flag.is_data_bound\n",
    "        and flag.propagates(_PROPAGATOR.RESAMPLE)\n",
    "        and flag.is_applicable(resulting_rank, data_field.component_count):\n",
    "    flags.append(flag)\n",
    "```"
   ]
  },
  {
   "cell_type": "markdown",
   "metadata": {
    "slideshow": {
     "slide_type": "fragment"
    }
   },
   "source": [
    "```python\n",
    "if (flag.is_data_bound and flag.propagates(_PROPAGATOR.RESAMPLE)\n",
    "                       and flag.is_applicable(resulting_rank, data_field.component_count):\n",
    "    flags.append(flag)\n",
    "```"
   ]
  },
  {
   "cell_type": "markdown",
   "metadata": {
    "slideshow": {
     "slide_type": "subslide"
    }
   },
   "source": [
    "##### Real-world Example"
   ]
  },
  {
   "cell_type": "markdown",
   "metadata": {
    "slideshow": {
     "slide_type": "fragment"
    }
   },
   "source": [
    "###### List comprehension or mapping?"
   ]
  },
  {
   "cell_type": "code",
   "execution_count": null,
   "metadata": {
    "slideshow": {
     "slide_type": "fragment"
    }
   },
   "outputs": [],
   "source": [
    "f2 = [_contains_axis(axes, i, rank) for i in dims]\n",
    "f2 = list(map(lambda i: _contains_axis(axes, i, rank), dims))"
   ]
  },
  {
   "cell_type": "markdown",
   "metadata": {
    "slideshow": {
     "slide_type": "subslide"
    }
   },
   "source": [
    "###### Explicit via else-if, or mapping with dictionaries?"
   ]
  },
  {
   "cell_type": "code",
   "execution_count": null,
   "metadata": {
    "collapsed": true,
    "jupyter": {
     "outputs_hidden": true
    },
    "slideshow": {
     "slide_type": "fragment"
    }
   },
   "outputs": [],
   "source": [
    "def _pad_mode(extrapolation):\n",
    "    if extrapolation == 'periodic':\n",
    "        return 'wrap'\n",
    "    elif extrapolation == 'boundary':\n",
    "        return 'replicate'\n",
    "    else:\n",
    "        return extrapolation"
   ]
  },
  {
   "cell_type": "code",
   "execution_count": null,
   "metadata": {
    "collapsed": true,
    "jupyter": {
     "outputs_hidden": true
    },
    "slideshow": {
     "slide_type": "fragment"
    }
   },
   "outputs": [],
   "source": [
    "extrapolation_map = {\n",
    "    'periodic': 'wrap',\n",
    "    'boundary': 'replicate',\n",
    "    'constant': 'constant'\n",
    "} \n",
    "\n",
    "extrapolation_map[extrapolation]"
   ]
  },
  {
   "cell_type": "markdown",
   "metadata": {
    "slideshow": {
     "slide_type": "subslide"
    }
   },
   "source": [
    "#### Useful practices outside of PEP8"
   ]
  },
  {
   "cell_type": "markdown",
   "metadata": {},
   "source": [
    "##### Context Managers"
   ]
  },
  {
   "cell_type": "markdown",
   "metadata": {},
   "source": [
    "```python\n",
    "# Non-Pythonic\n",
    "resource = allocate()\n",
    "try:\n",
    "    resource.use()\n",
    "finally:\n",
    "    resource.deallocate()\n",
    "```"
   ]
  },
  {
   "cell_type": "markdown",
   "metadata": {},
   "source": [
    "```python\n",
    "# Pythonic!\n",
    "with allocate_resource() as resource:\n",
    "    resource.use()\n",
    "```"
   ]
  },
  {
   "cell_type": "markdown",
   "metadata": {},
   "source": [
    "##### Properties (Setters & Getters)\n",
    "\n",
    "(or how to spot a Java Developer)"
   ]
  },
  {
   "cell_type": "markdown",
   "metadata": {},
   "source": [
    "```python\n",
    "class Team:\n",
    "    _members = ['Jan', 'Viliam', 'Ilya']\n",
    "\n",
    "    @property\n",
    "    def members(self):\n",
    "        return list(self._members)\n",
    "\n",
    "    @members.setter\n",
    "    def members(self, value):\n",
    "        raise AttributeError('This team is too precious to touch!')\n",
    "\n",
    ">>> team = Team()\n",
    ">>> print(team.members)\n",
    "['Jan', 'Viliam', 'Ilya']\n",
    ">>> team.members = []\n",
    "AttributeError('This team is too precious to touch!',)\n",
    "```"
   ]
  },
  {
   "cell_type": "markdown",
   "metadata": {},
   "source": [
    "##### Intrinsic Decorators"
   ]
  },
  {
   "cell_type": "markdown",
   "metadata": {},
   "source": [
    "Speaking of decorators, Python provides a ton of useful decorators!\n",
    "\n",
    "fore example: `Least-Recently-Used Cache` to reuse previous computations automatically\n",
    "```python\n",
    "@lru_cache\n",
    "def count_vowels(sentence):\n",
    "    sentence = sentence.casefold()\n",
    "    return sum(sentence.count(vowel) for vowel in 'aeiou')\n",
    "```"
   ]
  },
  {
   "cell_type": "markdown",
   "metadata": {},
   "source": [
    "##### Duck Typing"
   ]
  },
  {
   "cell_type": "markdown",
   "metadata": {},
   "source": [
    "If it walks like a duck, and quacks like a duck, then it must be a duck."
   ]
  },
  {
   "cell_type": "markdown",
   "metadata": {},
   "source": [
    "```python\n",
    "class Duck:\n",
    "    def fly(self):\n",
    "        print(\"Duck flying\")\n",
    "\n",
    "class Sparrow:\n",
    "    def fly(self):\n",
    "        print(\"Sparrow flying\")\n",
    "\n",
    "class Whale:\n",
    "    def swim(self):\n",
    "        print(\"Whale swimming\")\n",
    "\n",
    "for animal in Duck(), Sparrow(), Whale():\n",
    "    animal.fly()\n",
    "```"
   ]
  },
  {
   "cell_type": "markdown",
   "metadata": {},
   "source": [
    "##### Goose Typing"
   ]
  },
  {
   "cell_type": "markdown",
   "metadata": {},
   "source": [
    "Checking types versus abstract data types. Allows inference based on member functions, as well as inheritance."
   ]
  },
  {
   "cell_type": "markdown",
   "metadata": {},
   "source": [
    "```python\n",
    "# Non-Pythonic\n",
    "if not isinstance(x, list):\n",
    "    raise ApplicationError('Python list type is expected')\n",
    "```\n",
    "\n",
    "```python\n",
    "# Pythonic!\n",
    "if not isinstance(x, collections.abc.MutableSequence):\n",
    "    raise ApplicationError('A sequence type is expected')\n",
    "```"
   ]
  },
  {
   "cell_type": "markdown",
   "metadata": {},
   "source": [
    "###### ABC PEP"
   ]
  },
  {
   "cell_type": "markdown",
   "metadata": {},
   "source": [
    "[Abstract Base Clases PEP 3119](https://www.python.org/dev/peps/pep-3119/)"
   ]
  },
  {
   "cell_type": "markdown",
   "metadata": {},
   "source": [
    "##### Type Hinting"
   ]
  },
  {
   "cell_type": "code",
   "execution_count": 5,
   "metadata": {},
   "outputs": [],
   "source": [
    "def greeting(name: str) -> str:\n",
    "    return 'Hello ' + name"
   ]
  },
  {
   "cell_type": "markdown",
   "metadata": {},
   "source": [
    "You can use aliases"
   ]
  },
  {
   "cell_type": "code",
   "execution_count": 4,
   "metadata": {},
   "outputs": [],
   "source": [
    "Url = str\n",
    "\n",
    "def retry(url: Url, retry_count: int) -> None: \n",
    "    return 0"
   ]
  },
  {
   "cell_type": "markdown",
   "metadata": {},
   "source": [
    "Can be composed"
   ]
  },
  {
   "cell_type": "code",
   "execution_count": 7,
   "metadata": {},
   "outputs": [],
   "source": [
    "from typing import TypeVar, Iterable, Tuple\n",
    "\n",
    "T = TypeVar('T', int, float, complex)\n",
    "Vector = Iterable[Tuple[T, T]]\n",
    "\n",
    "def inproduct(v: Vector[T]) -> T:\n",
    "    return sum(x*y for x, y in v)"
   ]
  },
  {
   "cell_type": "markdown",
   "metadata": {},
   "source": [
    "Annotations to functions are available through the `__annotations__` dictionary"
   ]
  },
  {
   "cell_type": "code",
   "execution_count": 6,
   "metadata": {},
   "outputs": [
    {
     "data": {
      "text/plain": [
       "{'name': str, 'return': str}"
      ]
     },
     "execution_count": 6,
     "metadata": {},
     "output_type": "execute_result"
    }
   ],
   "source": [
    "greeting.__annotations__"
   ]
  },
  {
   "cell_type": "code",
   "execution_count": 3,
   "metadata": {},
   "outputs": [
    {
     "data": {
      "text/plain": [
       "{'v': typing.Iterable[typing.Tuple[~T, ~T]], 'return': ~T}"
      ]
     },
     "execution_count": 3,
     "metadata": {},
     "output_type": "execute_result"
    }
   ],
   "source": [
    "inproduct.__annotations__"
   ]
  },
  {
   "cell_type": "markdown",
   "metadata": {},
   "source": [
    "See https://www.python.org/dev/peps/pep-0484/"
   ]
  },
  {
   "cell_type": "markdown",
   "metadata": {},
   "source": [
    "##### Futher Reading\n",
    "\n",
    "For more, see: https://access.redhat.com/blogs/766093/posts/2802001"
   ]
  },
  {
   "cell_type": "markdown",
   "metadata": {},
   "source": [
    "#### Thou shall comment (but, like, not unecessarily)"
   ]
  },
  {
   "cell_type": "markdown",
   "metadata": {},
   "source": [
    "<img src=\"https://preview.redd.it/vs35fh1ruef51.jpg?width=640&crop=smart&auto=webp&s=3e1dd46e210f0499b9ac87187eefbde912bebdeb\" width=320>"
   ]
  },
  {
   "cell_type": "markdown",
   "metadata": {},
   "source": [
    "- at least 2 spaces to code\n",
    "- start with #\n",
    "- followed by a single space"
   ]
  },
  {
   "cell_type": "markdown",
   "metadata": {},
   "source": [
    "##### Example"
   ]
  },
  {
   "cell_type": "markdown",
   "metadata": {},
   "source": [
    "Inline comments are unnecessary and in fact distracting if they state the obvious. Don't do this:\n",
    "```python\n",
    "x = x + 1                 # Increment x\n",
    "```"
   ]
  },
  {
   "cell_type": "markdown",
   "metadata": {},
   "source": [
    "But sometimes, this is useful:\n",
    "```python\n",
    "x = x + 1                 # Compensate for border\n",
    "```"
   ]
  },
  {
   "cell_type": "markdown",
   "metadata": {
    "slideshow": {
     "slide_type": "subslide"
    }
   },
   "source": [
    "#### Comments are important, but Documentation and schematics are even more important"
   ]
  },
  {
   "cell_type": "markdown",
   "metadata": {
    "slideshow": {
     "slide_type": "fragment"
    }
   },
   "source": [
    "<img src=\"https://preview.redd.it/jm8b5iwoq6p11.png?width=640&crop=smart&auto=webp&s=f4f484b59333e96555d8076b13dfbc2f8fc2b5b3\" width=480>"
   ]
  },
  {
   "cell_type": "markdown",
   "metadata": {},
   "source": [
    "#### Docstrings"
   ]
  },
  {
   "cell_type": "markdown",
   "metadata": {},
   "source": [
    "<img src=\"https://preview.redd.it/a5skfy5y88x11.jpg?width=640&crop=smart&auto=webp&s=edee581af2812ad4f4469d13e79e38d9b2dd3f06\" width=360>"
   ]
  },
  {
   "cell_type": "markdown",
   "metadata": {},
   "source": [
    "##### Reading code you wrote a month ago\n",
    "\n",
    "<img src=\"https://preview.redd.it/htp8nd9yd1f51.jpg?width=640&crop=smart&auto=webp&s=79820471f09326c75ce6ea865d36290a7b600262\" widht=480>"
   ]
  },
  {
   "cell_type": "markdown",
   "metadata": {},
   "source": [
    "##### PEP8 Docstrings"
   ]
  },
  {
   "cell_type": "markdown",
   "metadata": {},
   "source": [
    "> Write docstrings for all public modules, functions, classes, and methods. Docstrings are not necessary for non-public methods, but you should have a comment that describes what the method does. This comment should appear after the def line."
   ]
  },
  {
   "cell_type": "markdown",
   "metadata": {},
   "source": [
    ">  most importantly, the \"\"\" that ends a multiline docstring should be on a line by itself:\n",
    "\n",
    "```python\n",
    "\"\"\"Return a foobang\n",
    "\n",
    "Optional plotz says to frobnicate the bizbaz first.\n",
    "\"\"\"\n",
    "```\n",
    "> For one liner docstrings, please keep the closing \"\"\" on the same line.\n"
   ]
  },
  {
   "cell_type": "markdown",
   "metadata": {},
   "source": [
    "##### Checking for missing docstrings"
   ]
  },
  {
   "cell_type": "code",
   "execution_count": 4,
   "metadata": {},
   "outputs": [
    {
     "name": "stdout",
     "output_type": "stream",
     "text": [
      "61.96%\n"
     ]
    }
   ],
   "source": [
    "from unittest import TestCase\n",
    "import importlib\n",
    "\n",
    "\n",
    "def get_undocumented_wildcards(modulename: str) -> (list, int):\n",
    "    \"\"\"lists undocumented public modules, functions, classes, and methods; and sum of all public members\"\"\"\n",
    "    namespace = importlib.import_module(modulename)\n",
    "    loc = namespace.__dict__\n",
    "    undocumented = []\n",
    "    for key, val in loc.items():\n",
    "        if (key[0] != \"_\") and (key not in {\"_\", \"In\", \"Out\", \"get_ipython\", \"exit\", \"quit\", \"join\", \"S\"}):\n",
    "            description = val.__doc__\n",
    "            if not description:\n",
    "                undocumented.append(key)\n",
    "    return undocumented, len(loc.items())\n",
    "\n",
    "undoc, num = get_undocumented_wildcards(\"phi.flow\")\n",
    "print(f\"{len(undoc)/num:.2%}\")"
   ]
  },
  {
   "cell_type": "markdown",
   "metadata": {},
   "source": [
    "##### Module Level Dunder Names"
   ]
  },
  {
   "cell_type": "markdown",
   "metadata": {},
   "source": [
    "Module level \"dunders\" (i.e. names with two leading and two trailing underscores) such as __all__, __author__, __version__, etc. should be placed after the module docstring but before any import statements except from __future__ imports. Python mandates that future-imports must appear in the module before any other code except docstrings:"
   ]
  },
  {
   "cell_type": "markdown",
   "metadata": {},
   "source": [
    "###### Example"
   ]
  },
  {
   "cell_type": "markdown",
   "metadata": {},
   "source": [
    "```python\n",
    "\"\"\"This is the example module.\n",
    "\n",
    "This module does stuff.\n",
    "\"\"\"\n",
    "\n",
    "from __future__ import barry_as_FLUFL\n",
    "\n",
    "__all__ = ['a', 'b', 'c']\n",
    "__version__ = '0.1'\n",
    "__author__ = 'Cardinal Biggles'\n",
    "\n",
    "import os\n",
    "import sys\n",
    "```\n"
   ]
  },
  {
   "cell_type": "markdown",
   "metadata": {},
   "source": [
    "##### PEP257, The Docstring Conventions Guide"
   ]
  },
  {
   "cell_type": "markdown",
   "metadata": {},
   "source": [
    "https://www.python.org/dev/peps/pep-0257/"
   ]
  },
  {
   "cell_type": "markdown",
   "metadata": {},
   "source": [
    "###### What is a docstring?\n",
    "\n",
    "> A docstring is a string literal that occurs as the first statement in a module, function, class, or method definition. Such a docstring becomes the `__doc__` special attribute of that object."
   ]
  },
  {
   "cell_type": "markdown",
   "metadata": {},
   "source": [
    "###### Single Line Docstring"
   ]
  },
  {
   "cell_type": "markdown",
   "metadata": {},
   "source": [
    "> Triple quotes are used even though the string fits on one line. This makes it easy to later expand it."
   ]
  },
  {
   "cell_type": "markdown",
   "metadata": {},
   "source": [
    "> The closing quotes are on the same line as the opening quotes. This looks better for one-liners."
   ]
  },
  {
   "cell_type": "markdown",
   "metadata": {},
   "source": [
    "> There's no blank line either before or after the docstring."
   ]
  },
  {
   "cell_type": "markdown",
   "metadata": {},
   "source": [
    "> The docstring is a phrase ending in a period. It prescribes the function or method's effect as a command (\"Do this\", \"Return that\"), not as a description; e.g. don't write \"Returns the pathname ...\"."
   ]
  },
  {
   "cell_type": "markdown",
   "metadata": {},
   "source": [
    "> The one-line docstring should NOT be a \"signature\" reiterating the function/method parameters (which can be obtained by introspection)"
   ]
  },
  {
   "cell_type": "markdown",
   "metadata": {},
   "source": [
    "```python\n",
    "\"\"\"Do X and return a list.\"\"\"\n",
    "``` "
   ]
  },
  {
   "cell_type": "markdown",
   "metadata": {},
   "source": [
    "##### Types of Multi-Line Docstring"
   ]
  },
  {
   "cell_type": "markdown",
   "metadata": {},
   "source": [
    "- Summary line, just like single-line docstring\n",
    "- Followed by an empty line\n",
    "- (more elaborate description)\n",
    "- Place closing quotes on a line by themselves"
   ]
  },
  {
   "cell_type": "markdown",
   "metadata": {},
   "source": [
    "###### reStructured Text (RST)"
   ]
  },
  {
   "cell_type": "markdown",
   "metadata": {},
   "source": [
    "```\n",
    "\"\"\"Gets and prints the spreadsheet's header columns\n",
    "\n",
    ":param file_loc: The file location of the spreadsheet\n",
    ":type file_loc: str\n",
    ":param print_cols: A flag used to print the columns to the console\n",
    "    (default is False)\n",
    ":type print_cols: bool\n",
    ":returns: a list of strings representing the header columns\n",
    ":rtype: list\n",
    "\n",
    ".. note:: blabla\n",
    ".. seealso:: blabla\n",
    ".. warnings also:: blabla\n",
    ".. todo:: blabla\n",
    "\n",
    ":Example:\n",
    "\n",
    "here is an example!\n",
    ">>> import this\n",
    ">>> print(this)\n",
    "The Zen of Python\n",
    "\"\"\"\n",
    "```"
   ]
  },
  {
   "cell_type": "markdown",
   "metadata": {},
   "source": [
    "###### NumPy/SciPy"
   ]
  },
  {
   "cell_type": "markdown",
   "metadata": {},
   "source": [
    "```\n",
    "\"\"\"Gets and prints the spreadsheet's header columns\n",
    "\n",
    "Parameters\n",
    "----------\n",
    "file_loc : str\n",
    "    The file location of the spreadsheet\n",
    "print_cols : bool, optional\n",
    "    A flag used to print the columns to the console (default is False)\n",
    "\n",
    "Returns\n",
    "-------\n",
    "list\n",
    "    a list of strings representing the header columns\n",
    "\"\"\"\n",
    "```"
   ]
  },
  {
   "cell_type": "markdown",
   "metadata": {},
   "source": [
    "###### Auto generate Docstrings!"
   ]
  },
  {
   "cell_type": "markdown",
   "metadata": {},
   "source": [
    "VSCode: `Python Docstring Generator`"
   ]
  },
  {
   "cell_type": "markdown",
   "metadata": {},
   "source": [
    "##### Why conventions are important"
   ]
  },
  {
   "cell_type": "markdown",
   "metadata": {},
   "source": [
    "Uniform convention allows automated documentation creation via `autodoc` and `apidoc` for `sphinx`"
   ]
  },
  {
   "cell_type": "markdown",
   "metadata": {},
   "source": [
    "https://thomas-cokelaer.info/tutorials/sphinx/docstring_python.html"
   ]
  },
  {
   "cell_type": "markdown",
   "metadata": {},
   "source": [
    "#### PEP8 + people = a lot of different opinions"
   ]
  },
  {
   "cell_type": "markdown",
   "metadata": {},
   "source": [
    "##### flake8"
   ]
  },
  {
   "cell_type": "markdown",
   "metadata": {},
   "source": [
    "Flake8 is one implementation of the PEP8 format.\n",
    "It also catches some errors like undefined variables. It also supports addign in plugins.\n",
    "\n",
    "Under the hood it combines pycodestyl and pyflakes together."
   ]
  },
  {
   "cell_type": "markdown",
   "metadata": {},
   "source": [
    "```python -m pip install flake8```"
   ]
  },
  {
   "cell_type": "markdown",
   "metadata": {},
   "source": [
    "See: https://flake8.pycqa.org/en/latest/"
   ]
  },
  {
   "cell_type": "markdown",
   "metadata": {},
   "source": [
    "##### black"
   ]
  },
  {
   "cell_type": "markdown",
   "metadata": {},
   "source": [
    "Black is the \"opinionated\" python formatter. You either love it, or you hate it.\n",
    "\n",
    "Improtant differences are:\n",
    "- Only one argument per line\n",
    "- 88 character line limit\n"
   ]
  },
  {
   "cell_type": "markdown",
   "metadata": {},
   "source": [
    "###### Example"
   ]
  },
  {
   "cell_type": "markdown",
   "metadata": {},
   "source": [
    "```python\n",
    "def very_important_function(template: str, *variables, file: os.PathLike, engine: str, header: bool = True, debug: bool = False):\n",
    "    \"\"\"Applies `variables` to the `template` and writes to `file`.\"\"\"\n",
    "    with open(file, 'w') as f:\n",
    "        ...\n",
    "```"
   ]
  },
  {
   "cell_type": "markdown",
   "metadata": {},
   "source": [
    "```python\n",
    "# out:\n",
    "def very_important_function(\n",
    "    template: str,\n",
    "    *variables,\n",
    "    file: os.PathLike,\n",
    "    engine: str,\n",
    "    header: bool = True,\n",
    "    debug: bool = False,\n",
    "):\n",
    "    \"\"\"Applies `variables` to the `template` and writes to `file`.\"\"\"\n",
    "    with open(file, \"w\") as f:\n",
    "        ...\n",
    "```"
   ]
  },
  {
   "cell_type": "markdown",
   "metadata": {},
   "source": [
    "###### In VSCode"
   ]
  },
  {
   "cell_type": "markdown",
   "metadata": {},
   "source": [
    "Running in VSCode\n",
    "\n",
    "Edit settings.json by adding\n",
    "```json\n",
    "    \"python.formatting.blackArgs\": [\"--line-length\", \"160\"],\n",
    "    \"python.formatting.provider\": \"black\",\n",
    "```"
   ]
  },
  {
   "cell_type": "markdown",
   "metadata": {},
   "source": [
    "```pip install black```"
   ]
  },
  {
   "cell_type": "markdown",
   "metadata": {},
   "source": [
    "For more see: https://black.readthedocs.io/en/stable/the_black_code_style.html"
   ]
  },
  {
   "cell_type": "markdown",
   "metadata": {},
   "source": [
    "##### There are a lot of plugins, variations, etc."
   ]
  },
  {
   "cell_type": "markdown",
   "metadata": {},
   "source": [
    "- pylint\n",
    "- vulture (find dead code)\n",
    "- pydiatra\n",
    "- inspectortiger\n",
    "- flake8-bugbear\n",
    "- redbaron-missing-comma-string-collection\n",
    "- etc.\n",
    "\n",
    "for more see: https://github.com/vintasoftware/python-linters-and-code-analysis"
   ]
  },
  {
   "cell_type": "markdown",
   "metadata": {},
   "source": [
    "### KISS, goodbye to worrying about formatting"
   ]
  },
  {
   "cell_type": "markdown",
   "metadata": {},
   "source": [
    "#### Automatically format to PEP8:\n",
    "\n",
    "Autoformatting in VSCode: `alt`+`shift`+`f`\n",
    "\n",
    "In the settings you can select your autoformater, default is `autopep8` or `pylint`"
   ]
  },
  {
   "cell_type": "markdown",
   "metadata": {},
   "source": [
    "##### autopep8\n",
    "\n"
   ]
  },
  {
   "cell_type": "markdown",
   "metadata": {},
   "source": [
    "\n",
    "```json\n",
    "\"python.formatting.autopep8Args\": [\n",
    "        \"--max-line-length\",\n",
    "        \"160\"\n",
    "    ],\n",
    "\"python.formatting.provider\": \"autopep8\",\n",
    "```"
   ]
  },
  {
   "cell_type": "markdown",
   "metadata": {},
   "source": [
    "Or simply create your formatter settings file for your project!\n",
    "\n",
    "For example: `.flake8`\n",
    "``` \n",
    "[flake8]\n",
    "ignore = F401,F403,F405,E231,E501\n",
    "``` \n"
   ]
  },
  {
   "cell_type": "markdown",
   "metadata": {},
   "source": [
    "```cmd\n",
    "pip install pre-commit\n",
    "```"
   ]
  },
  {
   "cell_type": "markdown",
   "metadata": {},
   "source": [
    "Create `pyproject.toml`\n",
    "\n",
    "```\n",
    "[tool.black]\n",
    "py36 = true\n",
    "include = '\\.pyi?$'\n",
    "exclude = '''\n",
    "/(\n",
    "    \\.git\n",
    "  | \\.hg\n",
    "  | \\.mypy_cache\n",
    "  | \\.tox\n",
    "  | \\.venv\n",
    "  | _build\n",
    "  | buck-out\n",
    "  | build\n",
    "  | dist\n",
    "\n",
    "  # The following are specific to Black, you probably don't want those.\n",
    "  | blib2to3\n",
    "  | tests/data\n",
    ")/\n",
    "```"
   ]
  },
  {
   "cell_type": "markdown",
   "metadata": {},
   "source": [
    "Create `.pre-commit-config.yaml`\n",
    "\n",
    "```\n",
    "# See https://pre-commit.com for more information\n",
    "# See https://pre-commit.com/hooks.html for more hooks\n",
    "repos:\n",
    "-   repo: https://github.com/pre-commit/pre-commit-hooks\n",
    "    rev: v2.3.0\n",
    "    hooks:\n",
    "    -   id: check-yaml\n",
    "    -   id: end-of-file-fixer\n",
    "    -   id: trailing-whitespace\n",
    "-   repo: https://github.com/psf/black\n",
    "    rev: 19.3b0\n",
    "    hooks:\n",
    "    -   id: black\n",
    "```"
   ]
  },
  {
   "cell_type": "markdown",
   "metadata": {},
   "source": [
    "Install the hook via terminal `pre-commit install` in the directoy"
   ]
  },
  {
   "cell_type": "markdown",
   "metadata": {},
   "source": [
    "Now pre-commit will run automatically on each `git commit`"
   ]
  },
  {
   "cell_type": "markdown",
   "metadata": {},
   "source": [
    "Run the hooks manually via `pre-commit run --all-files`"
   ]
  },
  {
   "cell_type": "markdown",
   "metadata": {},
   "source": [
    "For more see: https://dev.to/m1yag1/how-to-setup-your-project-with-pre-commit-black-and-flake8-183k\n",
    "\n",
    "Or the official site: https://pre-commit.com/"
   ]
  },
  {
   "cell_type": "markdown",
   "metadata": {},
   "source": [
    "#### Automatic sort imports"
   ]
  },
  {
   "cell_type": "markdown",
   "metadata": {},
   "source": [
    "```pip install isort```"
   ]
  },
  {
   "cell_type": "markdown",
   "metadata": {},
   "source": [
    "`crtl`+`shift`+`p` $\\rightarrow$ `Python Refactor: Sort Imports`\n",
    "\n",
    "In the settings you can define your import sorter, default is `isort`"
   ]
  },
  {
   "cell_type": "markdown",
   "metadata": {},
   "source": [
    "For more information, see: https://github.com/timothycrosley/isort"
   ]
  },
  {
   "cell_type": "markdown",
   "metadata": {},
   "source": [
    "#### Pre-Commit Hooks"
   ]
  },
  {
   "cell_type": "markdown",
   "metadata": {},
   "source": [
    "### Side note: There are rules for *everything*"
   ]
  },
  {
   "cell_type": "markdown",
   "metadata": {},
   "source": [
    "Understanding they exist helps understanding why some representations look so weird"
   ]
  },
  {
   "cell_type": "markdown",
   "metadata": {},
   "source": [
    "#### ISO 8601: Data elements and interchange formats - information interchange - Representation of dates and times"
   ]
  },
  {
   "cell_type": "markdown",
   "metadata": {},
   "source": [
    "There is an official way to write dates and datetimes, this is it, everything else is not according to international standards.\n",
    "```\n",
    "2020-01-28\n",
    "2020-01-28T13:44:24+00.00\n",
    "```"
   ]
  },
  {
   "cell_type": "markdown",
   "metadata": {
    "jupyter": {
     "outputs_hidden": true
    },
    "lines_to_next_cell": 2
   },
   "source": [
    "Similarly unix timetsamps or epoch time are seconds since since 01.01.1970."
   ]
  },
  {
   "cell_type": "markdown",
   "metadata": {},
   "source": [
    "## Design Patterns"
   ]
  },
  {
   "cell_type": "markdown",
   "metadata": {},
   "source": [
    "### Why are they important"
   ]
  },
  {
   "cell_type": "markdown",
   "metadata": {},
   "source": [
    "<img src=https://i.redd.it/rskneik2r4h41.jpg width=480>"
   ]
  },
  {
   "cell_type": "markdown",
   "metadata": {},
   "source": [
    "They are widely used, therefore widely read, meaning you will read them, and have an easier time if you know them."
   ]
  },
  {
   "cell_type": "markdown",
   "metadata": {},
   "source": [
    "#### What is a Design Pattern?"
   ]
  },
  {
   "cell_type": "markdown",
   "metadata": {},
   "source": [
    "> \"Each pattern describes a problem which occurs over and over again in our environment, and then describes the core of the solution to that problem, in such a way that you can use this solution a million times over, without ever doing it the same way twice\""
   ]
  },
  {
   "cell_type": "markdown",
   "metadata": {},
   "source": [
    "<img src=\"https://preview.redd.it/2h7wdn8p70e51.jpg?width=640&crop=smart&auto=webp&s=e3b1e993244961540150a48ca00b424664bd00f0\" width=320>"
   ]
  },
  {
   "cell_type": "markdown",
   "metadata": {},
   "source": [
    "#### Rule of Thumb"
   ]
  },
  {
   "cell_type": "markdown",
   "metadata": {},
   "source": [
    "If you use ```ctrl+c```& ```ctrl+v```, you're not thinking enough about design"
   ]
  },
  {
   "cell_type": "markdown",
   "metadata": {
    "jupyter": {
     "outputs_hidden": true
    },
    "lines_to_next_cell": 2
   },
   "source": [
    "### Brief Overview"
   ]
  },
  {
   "cell_type": "markdown",
   "metadata": {
    "jupyter": {
     "outputs_hidden": true
    },
    "lines_to_next_cell": 2
   },
   "source": [
    "Information from: https://sourcemaking.com/design_patterns"
   ]
  },
  {
   "cell_type": "markdown",
   "metadata": {},
   "source": [
    "Three Types of Design Patterns:\n",
    "- Creational\n",
    "- Structural\n",
    "- Behavioral"
   ]
  },
  {
   "cell_type": "markdown",
   "metadata": {},
   "source": [
    "#### Creational Design Patterns"
   ]
  },
  {
   "cell_type": "markdown",
   "metadata": {},
   "source": [
    "Focused on: class **instantiation** (creation)\n",
    "\n",
    "Subclasses:\n",
    "- creational **class**-creation patterns use inheritance effectively in the instantiation process\n",
    "- creational **object**-creation patterns use delegation effectively to get the job done"
   ]
  },
  {
   "cell_type": "markdown",
   "metadata": {},
   "source": [
    "Prominent Patterns:\n",
    "- Abstract Factory\n",
    "- Builder\n",
    "- Factory Method\n",
    "- Object Pool\n",
    "- Prototype\n",
    "- Singleton"
   ]
  },
  {
   "cell_type": "markdown",
   "metadata": {},
   "source": [
    "#### Structural Design Patterns"
   ]
  },
  {
   "cell_type": "markdown",
   "metadata": {},
   "source": [
    "Focused on: Class and Object **composition**\n",
    "\n",
    "Subclasses:\n",
    "- Structural class-creation patterns use inheritance to compose interfaces\n",
    "- Structural object-patterns define ways to compose objects to obtain new functionality"
   ]
  },
  {
   "cell_type": "markdown",
   "metadata": {},
   "source": [
    "Prominent Patterns:\n",
    "- Adapter\n",
    "- Bridge\n",
    "- Composite\n",
    "- Decorator\n",
    "- Facade\n",
    "- Flyweight\n",
    "- Private Class Data\n",
    "- Proxy"
   ]
  },
  {
   "cell_type": "markdown",
   "metadata": {},
   "source": [
    "#### Behavioral design patterns"
   ]
  },
  {
   "cell_type": "markdown",
   "metadata": {},
   "source": [
    "Focused on: Class's objects **communication**\n",
    "\n",
    "Behavioral patterns are those patterns that are most specifically concerned with communication between objects."
   ]
  },
  {
   "cell_type": "markdown",
   "metadata": {},
   "source": [
    "Prominent Patterns:\n",
    "- Chain of responsibility\n",
    "- Command\n",
    "- Interpreter\n",
    "- Iterator\n",
    "- Mediator\n",
    "- Memento\n",
    "- Null Object\n",
    "- Observer\n",
    "- State\n",
    "- Strategy\n",
    "- Template method\n",
    "- Visitor"
   ]
  },
  {
   "cell_type": "markdown",
   "metadata": {},
   "source": [
    "#### Criticism"
   ]
  },
  {
   "cell_type": "markdown",
   "metadata": {},
   "source": [
    "- If these problem are so common, they should be fixed in the language\n",
    "- They are often overused when they are no longer needed\n",
    "- It can lead to rigid programming"
   ]
  },
  {
   "cell_type": "markdown",
   "metadata": {},
   "source": [
    "## Code Analyzer\n",
    "\n",
    "Or what to do when you inherit 50,000 lines of a Java developers code..."
   ]
  },
  {
   "cell_type": "markdown",
   "metadata": {},
   "source": [
    "### Static Code Analysis with `pyan3`\n",
    "https://github.com/Technologicat/pyan\n",
    "\n"
   ]
  },
  {
   "cell_type": "markdown",
   "metadata": {},
   "source": [
    "<img src=https://raw.githubusercontent.com/Technologicat/pyan/master/graph0.png width=640>"
   ]
  },
  {
   "cell_type": "markdown",
   "metadata": {},
   "source": [
    "```bash\n",
    "pip install pyan3\n",
    "```"
   ]
  },
  {
   "cell_type": "markdown",
   "metadata": {},
   "source": [
    "```bash\n",
    "pyan3 *.py --uses --no-defines --colored --grouped --annotated --dot >myuses.dot\n",
    "```"
   ]
  },
  {
   "cell_type": "markdown",
   "metadata": {},
   "source": [
    "### Dependency analysis with `pydeps`\n",
    "https://github.com/thebjorn/pydeps"
   ]
  },
  {
   "cell_type": "markdown",
   "metadata": {},
   "source": [
    "<img src=\"https://raw.githubusercontent.com/thebjorn/pydeps/master/docs/_static/pydeps-18-bacon4-cluster-max1000.svg?sanitize=true\" width=640>"
   ]
  },
  {
   "cell_type": "markdown",
   "metadata": {},
   "source": [
    "### Call Graph Creation with `pycallgraph2`\n",
    "https://github.com/daneads/pycallgraph2"
   ]
  },
  {
   "cell_type": "markdown",
   "metadata": {},
   "source": [
    "## Functional Programming"
   ]
  },
  {
   "cell_type": "markdown",
   "metadata": {},
   "source": [
    "- Object-Oriented Programming (OOP) shortcomings\n",
    "- Composition\n",
    "- Immutability\n",
    "- Pure functions (no side-effects)\n",
    "- Functional Programming in Python\n",
    "  - Lambda functions\n",
    "  - Maps"
   ]
  },
  {
   "cell_type": "markdown",
   "metadata": {},
   "source": [
    "### Introduction to Programming Styles\n",
    "\n",
    "\"Most programming languages are ***procedural***: programs are lists of instructions that tell the computer what to do with the program’s input. C, Pascal, and even Unix shells are procedural languages.\"\n",
    "\n",
    "\"In ***declarative*** languages, you write a specification that describes the problem to be solved, and the language implementation figures out how to perform the computation efficiently. SQL is the declarative language you’re most likely to be familiar with; a SQL query describes the data set you want to retrieve, and the SQL engine decides whether to scan tables or use indexes, which subclauses should be performed first, etc.\"\n",
    "\n",
    "\"***Object-oriented*** programs manipulate collections of objects. Objects have internal state and support methods that query or modify this internal state in some way. Smalltalk and Java are object-oriented languages. C++ and Python are languages that support object-oriented programming, but don’t force the use of object-oriented features.\"\n",
    "\n",
    "\"***Functional*** programming decomposes a problem into a set of functions. Ideally, functions only take inputs and produce outputs, and don’t have any internal state that affects the output produced for a given input. Well-known functional languages include the ML family (Standard ML, OCaml, and other variants) and Haskell.\"\n",
    "\n",
    "(https://docs.python.org/3/howto/functional.html)"
   ]
  },
  {
   "cell_type": "markdown",
   "metadata": {},
   "source": [
    "Procedural Pogramming languages are very close to hardware as they describe the list of instructions in order, like C or Fortran and were mostly developed in the late 50s until early 1970s.\n",
    "\n",
    "The major declarative language still used today is SQL which we will cover in a future session on Databases (developed in the 70s-80s). \n",
    "\n",
    "Object-oriented programming focus on deconstructing the program into objects, instances, and performing actions on these using member functions such as Java.\n",
    "\n",
    "Functional programming decomposes the problem into functions with inputs and outputs that get composed to process information."
   ]
  },
  {
   "cell_type": "markdown",
   "metadata": {},
   "source": [
    "Most modern programming languages like Python and C++ are multi-paradigm, and most big projects use multiple programming styles for different parts: GUIs are often simpler to describe as objects such as a slider that has methods that can be performed on it, while data processing is often easier to be described as various functions that are applied to the data."
   ]
  },
  {
   "cell_type": "markdown",
   "metadata": {},
   "source": [
    "That is why functional programming is important to data science - it is the preferred paradigm for processing data!"
   ]
  },
  {
   "cell_type": "markdown",
   "metadata": {},
   "source": [
    "### Pure Functions in Python"
   ]
  },
  {
   "cell_type": "markdown",
   "metadata": {},
   "source": [
    "> Pure functions have no side effects. \n",
    "\n",
    "This means, functions map inputs to outputs and access nothing outside of the inputs. "
   ]
  },
  {
   "cell_type": "markdown",
   "metadata": {},
   "source": [
    "One common problem in Python is the global name lookup:"
   ]
  },
  {
   "cell_type": "code",
   "execution_count": 3,
   "metadata": {
    "collapsed": true,
    "jupyter": {
     "outputs_hidden": true
    }
   },
   "outputs": [
    {
     "name": "stdout",
     "output_type": "stream",
     "text": [
      "3\n",
      "4\n",
      "4\n"
     ]
    }
   ],
   "source": [
    "a = 1\n",
    "b = 2\n",
    "def impure(a0, b0):\n",
    "    return a+b\n",
    "\n",
    "print(impure(a,b))\n",
    "a = 2\n",
    "print(impure(a,b))\n",
    "print(impure(5,5))"
   ]
  },
  {
   "cell_type": "markdown",
   "metadata": {},
   "source": [
    "This bug in code is caused from the global name lookup that you **cannot** deactivate in Python easily."
   ]
  },
  {
   "cell_type": "markdown",
   "metadata": {},
   "source": [
    "Luckily, we're not the first one encountering this issue.\n",
    "\n",
    "Instead of prohibiting global lookups, we can patch the global namespace within each function with an empty namespace.\n",
    "\n",
    "Or even better, with just the namespace of imported modules, thereby allowing execution of code without needing to re-import modules."
   ]
  },
  {
   "cell_type": "markdown",
   "metadata": {},
   "source": [
    "#### One such solution is:"
   ]
  },
  {
   "cell_type": "code",
   "execution_count": 16,
   "metadata": {},
   "outputs": [],
   "source": [
    "import types\n",
    "\n",
    "def copyglobals(f):\n",
    "    return types.FunctionType(f.__code__, globals().copy(), f.__name__, f.__defaults__, f.__closure__)"
   ]
  },
  {
   "cell_type": "code",
   "execution_count": 35,
   "metadata": {},
   "outputs": [
    {
     "data": {
      "text/plain": [
       "(11, 10)"
      ]
     },
     "execution_count": 35,
     "metadata": {},
     "output_type": "execute_result"
    }
   ],
   "source": [
    "a = 10\n",
    "b = 5\n",
    "@copyglobals\n",
    "def print_a(b):\n",
    "    return a+1\n",
    "print_a(b), a"
   ]
  },
  {
   "cell_type": "markdown",
   "metadata": {},
   "source": [
    "#### Force pure functions"
   ]
  },
  {
   "cell_type": "code",
   "execution_count": 20,
   "metadata": {},
   "outputs": [],
   "source": [
    "# https://gist.github.com/ax3l/59d92c6e1edefcef85ac2540eb056da3\n",
    "import types\n",
    "\n",
    "def imports():\n",
    "    for name, val in globals().items():\n",
    "        # module imports\n",
    "        if isinstance(val, types.ModuleType):\n",
    "            yield name, val\n",
    "        # functions / callables\n",
    "        if hasattr(val, '__call__'):\n",
    "            yield name, val\n",
    "\n",
    "def noglobal(f):\n",
    "    return types.FunctionType(f.__code__, dict(imports()))"
   ]
  },
  {
   "cell_type": "code",
   "execution_count": 22,
   "metadata": {},
   "outputs": [
    {
     "ename": "NameError",
     "evalue": "name 'a' is not defined",
     "output_type": "error",
     "traceback": [
      "\u001b[1;31m---------------------------------------------------------------------------\u001b[0m",
      "\u001b[1;31mNameError\u001b[0m                                 Traceback (most recent call last)",
      "\u001b[1;32m<ipython-input-22-281464a77e25>\u001b[0m in \u001b[0;36m<module>\u001b[1;34m\u001b[0m\n\u001b[0;32m      5\u001b[0m     \u001b[1;32mreturn\u001b[0m \u001b[0ma\u001b[0m\u001b[1;33m+\u001b[0m\u001b[0mb\u001b[0m\u001b[1;33m\u001b[0m\u001b[1;33m\u001b[0m\u001b[0m\n\u001b[0;32m      6\u001b[0m \u001b[1;33m\u001b[0m\u001b[0m\n\u001b[1;32m----> 7\u001b[1;33m \u001b[0mimpure\u001b[0m\u001b[1;33m(\u001b[0m\u001b[1;36m1\u001b[0m\u001b[1;33m,\u001b[0m\u001b[1;36m2\u001b[0m\u001b[1;33m)\u001b[0m\u001b[1;33m\u001b[0m\u001b[1;33m\u001b[0m\u001b[0m\n\u001b[0m",
      "\u001b[1;32m<ipython-input-22-281464a77e25>\u001b[0m in \u001b[0;36mimpure\u001b[1;34m(a0, b0)\u001b[0m\n\u001b[0;32m      3\u001b[0m \u001b[1;33m@\u001b[0m\u001b[0mnoglobal\u001b[0m\u001b[1;33m\u001b[0m\u001b[1;33m\u001b[0m\u001b[0m\n\u001b[0;32m      4\u001b[0m \u001b[1;32mdef\u001b[0m \u001b[0mimpure\u001b[0m\u001b[1;33m(\u001b[0m\u001b[0ma0\u001b[0m\u001b[1;33m,\u001b[0m\u001b[0mb0\u001b[0m\u001b[1;33m)\u001b[0m\u001b[1;33m:\u001b[0m\u001b[1;33m\u001b[0m\u001b[1;33m\u001b[0m\u001b[0m\n\u001b[1;32m----> 5\u001b[1;33m     \u001b[1;32mreturn\u001b[0m \u001b[0ma\u001b[0m\u001b[1;33m+\u001b[0m\u001b[0mb\u001b[0m\u001b[1;33m\u001b[0m\u001b[1;33m\u001b[0m\u001b[0m\n\u001b[0m\u001b[0;32m      6\u001b[0m \u001b[1;33m\u001b[0m\u001b[0m\n\u001b[0;32m      7\u001b[0m \u001b[0mimpure\u001b[0m\u001b[1;33m(\u001b[0m\u001b[1;36m1\u001b[0m\u001b[1;33m,\u001b[0m\u001b[1;36m2\u001b[0m\u001b[1;33m)\u001b[0m\u001b[1;33m\u001b[0m\u001b[1;33m\u001b[0m\u001b[0m\n",
      "\u001b[1;31mNameError\u001b[0m: name 'a' is not defined"
     ]
    }
   ],
   "source": [
    "a = 1\n",
    "b = 1\n",
    "@noglobal\n",
    "def impure(a0,b0):\n",
    "    return a+b\n",
    "\n",
    "impure(1,2)"
   ]
  },
  {
   "cell_type": "markdown",
   "metadata": {},
   "source": [
    "While it does not cause an error upon definition, it does cause an error upon calling it, instead of letting it pass with a wrong value."
   ]
  },
  {
   "cell_type": "markdown",
   "metadata": {},
   "source": [
    "### Functional Programming in Python"
   ]
  },
  {
   "cell_type": "markdown",
   "metadata": {},
   "source": [
    "#### Lambda"
   ]
  },
  {
   "cell_type": "code",
   "execution_count": 12,
   "metadata": {
    "collapsed": true,
    "jupyter": {
     "outputs_hidden": true
    }
   },
   "outputs": [
    {
     "data": {
      "text/plain": [
       "10"
      ]
     },
     "execution_count": 12,
     "metadata": {},
     "output_type": "execute_result"
    }
   ],
   "source": [
    "double = lambda x: x*2\n",
    "double(5)"
   ]
  },
  {
   "cell_type": "markdown",
   "metadata": {},
   "source": [
    "#### Map"
   ]
  },
  {
   "cell_type": "markdown",
   "metadata": {},
   "source": [
    "`map(function, iterable)` applies a function to every element in an iterable and returns an iterable"
   ]
  },
  {
   "cell_type": "code",
   "execution_count": 1,
   "metadata": {
    "collapsed": true,
    "jupyter": {
     "outputs_hidden": true
    }
   },
   "outputs": [
    {
     "data": {
      "text/plain": [
       "<map at 0x18f86c61708>"
      ]
     },
     "execution_count": 1,
     "metadata": {},
     "output_type": "execute_result"
    }
   ],
   "source": [
    "map(lambda x: x*x, [1,2,3,4,5])"
   ]
  },
  {
   "cell_type": "code",
   "execution_count": 7,
   "metadata": {
    "collapsed": true,
    "jupyter": {
     "outputs_hidden": true
    }
   },
   "outputs": [
    {
     "data": {
      "text/plain": [
       "[1, 4, 9, 16, 25]"
      ]
     },
     "execution_count": 7,
     "metadata": {},
     "output_type": "execute_result"
    }
   ],
   "source": [
    "list(map(lambda x: x*x, [1,2,3,4,5]))"
   ]
  },
  {
   "cell_type": "markdown",
   "metadata": {},
   "source": [
    "map() on Pandas DataFrame"
   ]
  },
  {
   "cell_type": "markdown",
   "metadata": {},
   "source": [
    "Benefits of Maps: Runtime knows they are independent and can use all parallelization methods"
   ]
  },
  {
   "cell_type": "markdown",
   "metadata": {},
   "source": [
    "#### Filter"
   ]
  },
  {
   "cell_type": "markdown",
   "metadata": {},
   "source": [
    "`filter(function, iterable)` applies a True/False function to every element in an iterable and returns an iterable"
   ]
  },
  {
   "cell_type": "code",
   "execution_count": 6,
   "metadata": {
    "collapsed": true,
    "jupyter": {
     "outputs_hidden": true
    }
   },
   "outputs": [
    {
     "data": {
      "text/plain": [
       "<filter at 0x18f86c85948>"
      ]
     },
     "execution_count": 6,
     "metadata": {},
     "output_type": "execute_result"
    }
   ],
   "source": [
    "filter(lambda x: x%2, [1,2,3,4,5])"
   ]
  },
  {
   "cell_type": "code",
   "execution_count": 5,
   "metadata": {
    "collapsed": true,
    "jupyter": {
     "outputs_hidden": true
    }
   },
   "outputs": [
    {
     "data": {
      "text/plain": [
       "[1, 3, 5]"
      ]
     },
     "execution_count": 5,
     "metadata": {},
     "output_type": "execute_result"
    }
   ],
   "source": [
    "list(filter(lambda x: x%2, [1,2,3,4,5]))"
   ]
  },
  {
   "cell_type": "markdown",
   "metadata": {},
   "source": [
    "#### List & Dictionary Comprehension"
   ]
  },
  {
   "cell_type": "code",
   "execution_count": 8,
   "metadata": {
    "collapsed": true,
    "jupyter": {
     "outputs_hidden": true
    }
   },
   "outputs": [
    {
     "data": {
      "text/plain": [
       "[0, 2, 4, 6, 8]"
      ]
     },
     "execution_count": 8,
     "metadata": {},
     "output_type": "execute_result"
    }
   ],
   "source": [
    "[i*2 for i in range(0,5)]"
   ]
  },
  {
   "cell_type": "code",
   "execution_count": 9,
   "metadata": {
    "collapsed": true,
    "jupyter": {
     "outputs_hidden": true
    }
   },
   "outputs": [
    {
     "data": {
      "text/plain": [
       "{0: 0, 1: 2, 2: 4, 3: 6, 4: 8}"
      ]
     },
     "execution_count": 9,
     "metadata": {},
     "output_type": "execute_result"
    }
   ],
   "source": [
    "{i:i*2 for i in range(0,5)}"
   ]
  },
  {
   "cell_type": "markdown",
   "metadata": {},
   "source": [
    "Benefits: Fast"
   ]
  },
  {
   "cell_type": "markdown",
   "metadata": {},
   "source": [
    "Drawbacks: High-Memory usage from parallel execution"
   ]
  },
  {
   "cell_type": "markdown",
   "metadata": {},
   "source": [
    "### Best Practices"
   ]
  },
  {
   "cell_type": "markdown",
   "metadata": {},
   "source": [
    "> While you can assign lambda functions a name, this is not considered good Python form."
   ]
  },
  {
   "cell_type": "markdown",
   "metadata": {},
   "source": [
    "Use lambda functions for single uses when assigning a name in the namespace is not necessary.\n",
    "\n",
    "Lambdas have a (tiny) overhead that has to be considered."
   ]
  },
  {
   "cell_type": "markdown",
   "metadata": {},
   "source": [
    "## Module Architecture"
   ]
  },
  {
   "cell_type": "markdown",
   "metadata": {},
   "source": [
    "- `__init__` files\n",
    "- src/ folder\n",
    "- bin/ folder\n",
    "- main() and `__main__`\n",
    "- README.md\n",
    "- Changelog.md\n",
    "- requirements\n",
    "- License files (and Licensing cheatsheet)\n",
    "- Python Module Structure"
   ]
  },
  {
   "cell_type": "markdown",
   "metadata": {},
   "source": [
    "### Name your Project!!"
   ]
  },
  {
   "cell_type": "markdown",
   "metadata": {},
   "source": [
    "<img src=\"https://preview.redd.it/31i8o3bvl3h51.png?width=640&crop=smart&auto=webp&s=6d15fbca5bc1ee97935da9396d815bd1bbb93e8a\" width=480>"
   ]
  },
  {
   "cell_type": "markdown",
   "metadata": {},
   "source": [
    "### Package Structure\n",
    "\n",
    "```\n",
    "package-git\n",
    "|-> LICENSE.md\n",
    "|-> README.md\n",
    "|-> requirements.txt\n",
    "|-> setup.py\n",
    "|-> setup.cfg\n",
    "|-> .pylintrc\n",
    "|-> .gitignore\n",
    "|-> .gitattributes\n",
    "|-> package_name\n",
    "|   |-> __init__.py\n",
    "|   |-> core_code.py\n",
    "|   |-> io\n",
    "|   |   |- __init__.py\n",
    "|   |   |-> data_loader.py\n",
    "|   |   |-> data_saver.py\n",
    "|   |-> processing\n",
    "|   |   |-> __init__.py\n",
    "|   |   |-> core.py\n",
    "|   |-> data\n",
    "|   |   |-> initial_data_set.csv\n",
    "|-> docs\n",
    "|   |-> package_name.md\n",
    "|   |-> io.md\n",
    "|   |-> processing.md\n",
    "|   |-> data.md\n",
    "|-> tests\n",
    "|   |-> core_code.py\n",
    "|   |-> io\n",
    "|   |   |-> data_loader.py\n",
    "|   |   |-> data_saver.py\n",
    "|   |-> processing\n",
    "|   |   |-> core.py\n",
    "```"
   ]
  },
  {
   "cell_type": "markdown",
   "metadata": {},
   "source": [
    "- Each folder is a `(sub)package`\n",
    "- Each package has an `__init__.py`\n",
    "- `tests` mirrors the main package 1:1\n",
    "- `docs` mirrors the main package closely too"
   ]
  },
  {
   "cell_type": "markdown",
   "metadata": {},
   "source": [
    "### PEP8 conform module level dunder names\n",
    "\n",
    "\"Module level \"dunders\" (i.e. names with two leading and two trailing underscores) such as `__all__`, `__author__`, `__version__`, etc. should be placed after the module docstring but before any import statements except `from __future__` imports. Python mandates that future-imports must appear in the module before any other code except docstrings:\" -- PEP8\n",
    "\n",
    "```python\n",
    "\"\"\"This is the example module.\n",
    "\n",
    "This module does stuff.\n",
    "\"\"\"\n",
    "\n",
    "from __future__ import barry_as_FLUFL\n",
    "\n",
    "__all__ = ['a', 'b', 'c']\n",
    "__version__ = '0.1'\n",
    "__author__ = 'Cardinal Biggles'\n",
    "\n",
    "import os\n",
    "import sys\n",
    "```"
   ]
  },
  {
   "cell_type": "markdown",
   "metadata": {},
   "source": [
    "### `__init__` files"
   ]
  },
  {
   "cell_type": "markdown",
   "metadata": {},
   "source": [
    "Import the functions that should be used by other modules that import this module"
   ]
  },
  {
   "cell_type": "markdown",
   "metadata": {
    "jupyter": {
     "outputs_hidden": true
    },
    "lines_to_next_cell": 2
   },
   "source": [
    "`data/database.py`\n",
    "```python\n",
    "def load_data_from_db(dataname, **kwargs):\n",
    "    return True\n",
    "```\n",
    "\n",
    "`data/__init__.py`\n",
    "```python\n",
    "from .database import load_data_from_db\n",
    "```\n",
    "\n",
    "`some_code.py`\n",
    "```python\n",
    "from data import load_data_from_db\n",
    "```"
   ]
  },
  {
   "cell_type": "markdown",
   "metadata": {},
   "source": [
    "## Documentation"
   ]
  },
  {
   "cell_type": "markdown",
   "metadata": {},
   "source": [
    "<img src=\"https://preview.redd.it/08sz26e91k841.jpg?width=640&crop=smart&auto=webp&s=4cbb04afe0b73ad80c6d8b74b509024f3201405e\" width=400>"
   ]
  },
  {
   "cell_type": "markdown",
   "metadata": {},
   "source": [
    "### Audience:"
   ]
  },
  {
   "cell_type": "markdown",
   "metadata": {},
   "source": [
    "Users want to know:\n",
    "- When to use it\n",
    "- How to use it\n",
    "- What it does"
   ]
  },
  {
   "cell_type": "markdown",
   "metadata": {},
   "source": [
    "Developers want to know:\n",
    "- Why it is done this way\n",
    "- What it depends on\n",
    "- What depends on it\n",
    "- What options are available\n",
    "- What errors might be raised\n",
    "- What types are needed and returned"
   ]
  },
  {
   "cell_type": "markdown",
   "metadata": {},
   "source": [
    "> “It doesn’t matter how good your software is, because if the documentation is not good enough, people will not use it.“\n",
    "    — Daniele Procida\n"
   ]
  },
  {
   "cell_type": "markdown",
   "metadata": {},
   "source": [
    "> “Code tells you how; Comments tell you why.”\n",
    "   — Jeff Atwood (aka Coding Horror)"
   ]
  },
  {
   "cell_type": "markdown",
   "metadata": {},
   "source": [
    "Since you already commented your code, writing documentation seems repetitive. That's where Spinx comes in!"
   ]
  },
  {
   "cell_type": "markdown",
   "metadata": {},
   "source": [
    "### Sphinx\n",
    "\n",
    "Automatically generates documentations for you modules from the docstrings you write anyways!"
   ]
  },
  {
   "cell_type": "markdown",
   "metadata": {},
   "source": [
    "It also allows for creating further documentation using the RST format. For example a Table of Contents:"
   ]
  },
  {
   "cell_type": "markdown",
   "metadata": {},
   "source": [
    "```\n",
    ".. toctree::\n",
    "   :maxdepth: 2\n",
    "\n",
    "   usage/installation\n",
    "   usage/quickstart\n",
    "   ...\n",
    "```"
   ]
  },
  {
   "cell_type": "markdown",
   "metadata": {},
   "source": [
    "```bash\n",
    "pip install sphinx\n",
    "```"
   ]
  },
  {
   "cell_type": "markdown",
   "metadata": {},
   "source": [
    "Creating an automatic API documentation"
   ]
  },
  {
   "cell_type": "markdown",
   "metadata": {},
   "source": [
    "```\n",
    "sphinx-apidoc [OPTIONS] -o <OUTPUT_PATH> <MODULE_PATH> [EXCLUDE_PATTERN …]\n",
    "```"
   ]
  },
  {
   "cell_type": "markdown",
   "metadata": {},
   "source": [
    "```bash\n",
    "sphinx-apidoc -o source/build/ ../module_name/\n",
    "make html\n",
    "```"
   ]
  },
  {
   "cell_type": "markdown",
   "metadata": {},
   "source": [
    "For the full documentation, see: https://www.sphinx-doc.org/en/master/usage/quickstart.html\n",
    "\n",
    "For the hosted version, see: https://readthedocs.org/"
   ]
  },
  {
   "cell_type": "markdown",
   "metadata": {},
   "source": [
    "### Sphinx"
   ]
  },
  {
   "cell_type": "markdown",
   "metadata": {},
   "source": [
    "<img src=\"https://i.redd.it/d5x18rtcfof31.png\" width=400 />"
   ]
  },
  {
   "cell_type": "markdown",
   "metadata": {},
   "source": [
    "Don't worry, Sphinx is here to help!"
   ]
  },
  {
   "cell_type": "markdown",
   "metadata": {},
   "source": [
    "Installation:\n",
    "```bash\n",
    "conda install sphinx\n",
    "```"
   ]
  },
  {
   "cell_type": "markdown",
   "metadata": {},
   "source": [
    "Sample Practice\n",
    "```bash\n",
    "mkdir docs\n",
    "cd docs \n",
    "```\n",
    "```bash\n",
    "sphinx-quickstart\n",
    "```\n",
    "```bash\n",
    "make html\n",
    "```"
   ]
  },
  {
   "cell_type": "markdown",
   "metadata": {},
   "source": [
    "in GitHub under Hooks, you can define ReadTheDocs as a hook upon commit, meaning it will update your documentation automatically when committing to your repository"
   ]
  },
  {
   "cell_type": "markdown",
   "metadata": {},
   "source": [
    "## How to get listed on PIP / PyPI (Python Package Index)\n",
    "\n",
    "Summarized from https://medium.com/@joel.barmettler/how-to-upload-your-python-package-to-pypi-65edc5fe9c56"
   ]
  },
  {
   "cell_type": "markdown",
   "metadata": {
    "jupyter": {
     "outputs_hidden": true
    },
    "lines_to_next_cell": 2
   },
   "source": [
    "1. First things first, you need an account on [PyPi](https://pypi.org/)"
   ]
  },
  {
   "cell_type": "markdown",
   "metadata": {},
   "source": [
    "2. Create a project using the steps of the previous chapters"
   ]
  },
  {
   "cell_type": "markdown",
   "metadata": {},
   "source": [
    "3. Pypi requires the presence of 4 files in the top level:\n",
    "   - setup.py\n",
    "   - setup.cfg\n",
    "   - LICENSE.txt\n",
    "   - README.md"
   ]
  },
  {
   "cell_type": "markdown",
   "metadata": {},
   "source": [
    "Example Structure:\n",
    "```\n",
    "|-> MyLib\n",
    "|-> setup.py\n",
    "|-> setup.cfg\n",
    "|-> LICENSE.txt\n",
    "|-> README.md\n",
    "```"
   ]
  },
  {
   "cell_type": "markdown",
   "metadata": {},
   "source": [
    "`setup.py`\n",
    "\n",
    "```python\n",
    "from distutils.core import setup\n",
    "setup(\n",
    "    name = 'YOURPACKAGENAME',\n",
    "    packages = ['YOURPACKAGENAME'], \n",
    "    version = '0.1',\n",
    "    license='MIT',\n",
    "    description = 'TYPE YOUR DESCRIPTION HERE',\n",
    "    author = 'YOUR NAME',\n",
    "    author_email = 'your.email@domain.com',\n",
    "    url = 'https://github.com/user/reponame',\n",
    "    download_url = 'https://github.com/user/reponame/archive/v_01.tar.gz',  # tar.gz to GitHub release\n",
    "    keywords = ['SOME', 'MEANINGFULL', 'KEYWORDS'],\n",
    "    install_requires=[\n",
    "        # List of dependencies\n",
    "        'validators',\n",
    "        'beautifulsoup4',\n",
    "    ],\n",
    "    classifiers=[\n",
    "        'Development Status :: 3 - Alpha',      # Chose either \"3 - Alpha\", \"4 - Beta\" or \"5 - Production/Stable\" as the current state of your package\n",
    "        'Intended Audience :: Developers',      # Define that your audience are developers\n",
    "        'Topic :: Software Development :: Build Tools',\n",
    "        'License :: OSI Approved :: MIT License',   # Again, pick a license\n",
    "        'Programming Language :: Python :: 3',      # Specify which pyhton versions that you want to support\n",
    "        'Programming Language :: Python :: 3.6',\n",
    "        'Programming Language :: Python :: 3.7',\n",
    "        'Programming Language :: Python :: 3.8',\n",
    "    ],\n",
    ")\n",
    "```"
   ]
  },
  {
   "cell_type": "markdown",
   "metadata": {},
   "source": [
    "`setup.cfg` \n",
    "```\n",
    "[metadata]\n",
    "description-file = README.md\n",
    "```"
   ]
  },
  {
   "cell_type": "markdown",
   "metadata": {},
   "source": [
    "4. Upload your Project to a public GitHub"
   ]
  },
  {
   "cell_type": "markdown",
   "metadata": {},
   "source": [
    "5. Create a release version\n",
    "- GitHub -> Project -> \"releases\" tab -> \"Create a new release\"\n",
    "- Tag version == setup.py version-field.\n",
    "- Click \"publish release\"\n",
    "- Under Assets a new release is visible with a link to Source Code (tar.gz)\n",
    "- Copy Link Address\n",
    "- In the stup.py: paste the link-address into the download_url field\n",
    "- Repeat the steps for each new release"
   ]
  },
  {
   "cell_type": "markdown",
   "metadata": {},
   "source": [
    "6. Create source distribution: `python setup.py sdist`"
   ]
  },
  {
   "cell_type": "markdown",
   "metadata": {},
   "source": [
    "7. Upload to PyPi:\n",
    "- `pip install twine`\n",
    "- `twine upload dist/*`"
   ]
  },
  {
   "cell_type": "markdown",
   "metadata": {},
   "source": [
    "8. Congratulations, you are done! Check it out at: https://pypi.org/project/YOURPACKAGENAME/"
   ]
  },
  {
   "cell_type": "markdown",
   "metadata": {},
   "source": [
    "For more, see: https://medium.com/@joel.barmettler/how-to-upload-your-python-package-to-pypi-65edc5fe9c56"
   ]
  },
  {
   "cell_type": "markdown",
   "metadata": {},
   "source": [
    "## Code Maintenance"
   ]
  },
  {
   "cell_type": "markdown",
   "metadata": {},
   "source": [
    "### Support"
   ]
  },
  {
   "cell_type": "markdown",
   "metadata": {},
   "source": [
    "1. Make simple rules for support.\n",
    "2. Don't support unsupported packages! (looking at you Python 2)\n",
    "3. Only support the last X versions\n",
    "4. Update regularly"
   ]
  },
  {
   "cell_type": "markdown",
   "metadata": {},
   "source": [
    "Example:\n",
    "\n",
    "You create an API and publish it as v1.0\n",
    "\n",
    "You want to change something to the API in v1.1, you should build backwards compatibility for v1.0"
   ]
  },
  {
   "cell_type": "markdown",
   "metadata": {},
   "source": [
    "### Preventing code abandonment"
   ]
  },
  {
   "cell_type": "markdown",
   "metadata": {},
   "source": [
    "#### 3 Causes for code abandonment"
   ]
  },
  {
   "cell_type": "markdown",
   "metadata": {},
   "source": [
    "1. Code is illegible\n",
    "   - Comments\n",
    "   - Documentation\n",
    "   - Tests"
   ]
  },
  {
   "cell_type": "markdown",
   "metadata": {},
   "source": [
    "2. Code is outdated\n",
    "   - Update dependencies regularly (e.g. 1st of every month)"
   ]
  },
  {
   "cell_type": "markdown",
   "metadata": {},
   "source": [
    "3. Code is cumbersomly written\n",
    "   - Take advantage of new features (only support new versions)\n",
    "   - Define code styling\n",
    "   - Define code design pattern\n",
    "   - Keep things shallow (at most 5 levels deep)"
   ]
  },
  {
   "cell_type": "markdown",
   "metadata": {},
   "source": [
    "#### Regularly update your Python"
   ]
  },
  {
   "cell_type": "markdown",
   "metadata": {},
   "source": [
    "##### Performance Improvements"
   ]
  },
  {
   "cell_type": "markdown",
   "metadata": {},
   "source": [
    "Python version                      |   3.7 |     3.8  | Speedup |\n",
    "--------------                      |   --- |     ---  |-------- |\n",
    "*Variable and attribute read access:* |       |          |         |\n",
    "read_local                      |   5.1 |     3.9  | 1.3x |\n",
    "read_nonlocal                   |   5.4 |     4.4  | 1.2x |\n",
    "read_global                     |  13.6 |     7.6  | 1.8x |\n",
    "read_builtin                    |  19.0 |     7.5  | **2.5x** |\n",
    "read_classvar_from_class        |  19.5 |    18.4  | 1.1x |\n",
    "read_classvar_from_instance     |  17.1 |    16.4  | 1.0x |\n",
    "read_instancevar                |  26.3 |    25.4  | 1.0x |\n",
    "read_instancevar_slots          |  20.8 |    20.2  | 1.0x |\n",
    "read_namedtuple                 |  46.8 |    18.4  | **2.5x** |\n",
    "read_boundmethod                |  26.9 |    27.7  | 1.0x |\n",
    "*Variable and attribute write access:* |       |          | |\n",
    "write_local                     |   5.3 |     4.3  | 1.2x |\n",
    "write_nonlocal                  |   5.5 |     4.7  | 1.2x |\n",
    "write_global                    |  18.0 |    15.8  | 1.1x |\n",
    "write_classvar                  | 102.1 |    39.2  | **2.6x** |\n",
    "write_instancevar               |  38.9 |    35.5  | 1.1x |\n",
    "write_instancevar_slots         |  26.6 |    25.7  | 1.0x |\n",
    "*Data structure read access:*         |       |          | |\n",
    "read_list                       |  20.8 |    19.0  | 1.1x |\n",
    "read_deque                      |  20.6 |    19.8  | 1.0x |\n",
    "read_dict                       |  23.0 |    21.0  | 1.1x |\n",
    "read_strdict                    |  21.2 |    18.9  | 1.1x |\n",
    "*Data structure write access:*        |       |          | |\n",
    "write_list                      |  21.6 |    20.0  | 1.1x |\n",
    "write_deque                     |  21.8 |    23.5  | 0.9x |\n",
    "write_dict                      |  29.2 |    24.7  | 1.2x |\n",
    "write_strdict                   |  25.2 |    23.1  | 1.1x |\n",
    "*Stack (or queue) operations:*        |       |          | |\n",
    "list_append_pop                 |  74.2 |    50.8  | 1.5x |\n",
    "deque_append_pop                |  49.2 |    42.5  | 1.2x |\n",
    "deque_append_popleft            |  49.7 |    42.8  | 1.2x |\n",
    "*Timing loop:*                        |       |          | |\n",
    "loop_overhead                   |   0.3 |     0.3  | 1.0x |"
   ]
  },
  {
   "cell_type": "markdown",
   "metadata": {},
   "source": [
    "##### Keep your Code maintainable"
   ]
  },
  {
   "cell_type": "markdown",
   "metadata": {},
   "source": [
    "Implementing backwards compatibility restricts your ability."
   ]
  },
  {
   "cell_type": "markdown",
   "metadata": {},
   "source": [
    "Like running a marathon withou shoes."
   ]
  },
  {
   "cell_type": "markdown",
   "metadata": {},
   "source": [
    "#### Update your dependencies regularly"
   ]
  },
  {
   "cell_type": "markdown",
   "metadata": {},
   "source": [
    "Yes, something will break. Yes, you will spend time fixing it."
   ]
  },
  {
   "cell_type": "markdown",
   "metadata": {},
   "source": [
    "This will:\n",
    "- when pushed off, updating becomes this big wall everyone avoids\n",
    "- this leads to code abandonment\n",
    "- and a new poor grad student has to redo all the work\n",
    "- the small annoyances will lead to reducing dependencies\n",
    "- iteratively makes the code more maintainable, as you want to have it as easy as possible!"
   ]
  },
  {
   "cell_type": "markdown",
   "metadata": {},
   "source": [
    "## Command Line Interfaces"
   ]
  },
  {
   "cell_type": "markdown",
   "metadata": {},
   "source": [
    "Most popular tool these days: <a href=\"https://github.com/pallets/click\">**Click**</a>\n",
    "\n",
    "```bash\n",
    "conda install click\n",
    "pip install click\n",
    "```\n"
   ]
  },
  {
   "cell_type": "markdown",
   "metadata": {},
   "source": [
    "Click is developed as parts of <a href=\"palletsprojects.com/\">pallets</a>, who also develop <a href=\"https://github.com/pallets/flask\">Flask</a>"
   ]
  },
  {
   "cell_type": "markdown",
   "metadata": {},
   "source": [
    "### Minimal Example"
   ]
  },
  {
   "cell_type": "markdown",
   "metadata": {},
   "source": [
    "```python\n",
    "import click\n",
    "\n",
    "\n",
    "@click.command()\n",
    "def hello():\n",
    "    click.echo('Hello World')\n",
    "\n",
    "if __name__ == \"__main__\":\n",
    "    hello()\n",
    "```"
   ]
  },
  {
   "cell_type": "markdown",
   "metadata": {},
   "source": [
    "```bash\n",
    "> python test.py\n",
    "Hello World\n",
    "```"
   ]
  },
  {
   "cell_type": "markdown",
   "metadata": {},
   "source": [
    "```bash\n",
    "> python test.py --help\n",
    "Usage: click_test.py [OPTIONS]\n",
    "\n",
    "Options:\n",
    "  --help  Show this message and exit.\n",
    "```"
   ]
  },
  {
   "cell_type": "markdown",
   "metadata": {},
   "source": [
    "`click.echo` is used to ensure:\n",
    "- works for `Python 2` and `Python 3`\n",
    "- prevents `UnicodeError`\n",
    "- supports ANSI Colors\n",
    "If you do not want these features, you can use `print()`"
   ]
  },
  {
   "cell_type": "markdown",
   "metadata": {},
   "source": [
    "### Adding Commands"
   ]
  },
  {
   "cell_type": "markdown",
   "metadata": {},
   "source": [
    "`click.group`s wrap commands as one, allowing arbitrarily nesting."
   ]
  },
  {
   "cell_type": "markdown",
   "metadata": {},
   "source": [
    "#### Example"
   ]
  },
  {
   "cell_type": "markdown",
   "metadata": {},
   "source": [
    "```python\n",
    "@click.group()\n",
    "def cli():\n",
    "    pass\n",
    "\n",
    "@click.command()\n",
    "def initdb():\n",
    "    click.echo('Initialized the database')\n",
    "\n",
    "@click.command()\n",
    "def dropdb():\n",
    "    click.echo('Dropped the database')\n",
    "\n",
    "cli.add_command(initdb)\n",
    "cli.add_command(dropdb)\n",
    "\n",
    "if __name__ == \"__main__\":\n",
    "    cli()\n",
    "```"
   ]
  },
  {
   "cell_type": "markdown",
   "metadata": {},
   "source": [
    "#### Or in short:"
   ]
  },
  {
   "cell_type": "markdown",
   "metadata": {},
   "source": [
    "```python\n",
    "@click.group()\n",
    "def cli():\n",
    "    pass\n",
    "\n",
    "# note 'cli' (name of the group) instead of 'click'\n",
    "@cli.command()\n",
    "def initdb():\n",
    "    pass\n",
    "\n",
    "\n",
    "@cli.command()\n",
    "def dropdb():\n",
    "    pass\n",
    "```"
   ]
  },
  {
   "cell_type": "markdown",
   "metadata": {},
   "source": [
    "#### Usage"
   ]
  },
  {
   "cell_type": "markdown",
   "metadata": {},
   "source": [
    "Commandas are activated using:\n",
    "```bash\n",
    "> python test.py initdb\n",
    "Initialized the database\n",
    "```\n",
    "\n",
    "```bash\n",
    "> python test.py --help\n",
    "Usage: click_test.py [OPTIONS] COMMAND [ARGS]...\n",
    "\n",
    "  --help  Show this message and exit.\n",
    "\n",
    "Commands:\n",
    "  dropdb\n",
    "  initdb\n",
    "```"
   ]
  },
  {
   "cell_type": "markdown",
   "metadata": {},
   "source": [
    "#### Pass commands via context"
   ]
  },
  {
   "cell_type": "markdown",
   "metadata": {},
   "source": [
    "Groups can perform common computations and pass the results to the children commands via the context. From the doc:"
   ]
  },
  {
   "cell_type": "markdown",
   "metadata": {},
   "source": [
    "```python\n",
    "@click.group()\n",
    "@click.option('--debug/--no-debug', default=False)\n",
    "@click.pass_context\n",
    "def cli(ctx, debug):\n",
    "    # ensure that ctx.obj exists and is a dict (in case `cli()` is called\n",
    "    # by means other than the `if` block below)\n",
    "    ctx.ensure_object(dict)\n",
    "\n",
    "    ctx.obj['DEBUG'] = debug\n",
    "\n",
    "    \n",
    "@cli.command()\n",
    "@click.pass_context\n",
    "def sync(ctx):\n",
    "    click.echo('Debug is %s' % (ctx.obj['DEBUG'] and 'on' or 'off'))\n",
    "\n",
    "    \n",
    "if __name__ == '__main__':\n",
    "    cli(obj={})\n",
    "```"
   ]
  },
  {
   "cell_type": "markdown",
   "metadata": {},
   "source": [
    "### Adding Parameters"
   ]
  },
  {
   "cell_type": "markdown",
   "metadata": {},
   "source": [
    "Commands can have two types of parameters:\n",
    "- `argument`s: positional arguments of python fucntions \n",
    "- `option`s: key-value arguments of python functions"
   ]
  },
  {
   "cell_type": "markdown",
   "metadata": {},
   "source": [
    "#### Example"
   ]
  },
  {
   "cell_type": "markdown",
   "metadata": {},
   "source": [
    "```python\n",
    "import click\n",
    "\n",
    "\n",
    "@click.command()\n",
    "@click.option('--count', default=1, help='number of greetings')\n",
    "@click.argument('name')\n",
    "def hello(count, name):\n",
    "    '''\n",
    "    Greets somebody a given number of times.\n",
    "    '''\n",
    "    for x in range(count):\n",
    "        click.echo('Hello %s!' % name)\n",
    "\n",
    "if __name__ == \"__main__\":\n",
    "    hello()\n",
    "```"
   ]
  },
  {
   "cell_type": "markdown",
   "metadata": {},
   "source": [
    "#### Running examples"
   ]
  },
  {
   "cell_type": "markdown",
   "metadata": {},
   "source": [
    "```bash\n",
    "> python test.py --help\n",
    "Usage: test.py [OPTIONS] NAME\n",
    "\n",
    "  Greets somebody a given number of times.\n",
    "\n",
    "Options:\n",
    "  --count INTEGER  number of greetings\n",
    "  --help           Show this message and exit.\n",
    "```\n",
    "\n",
    "```bash\n",
    "> python test.py Robin\n",
    "Hello Robin!\n",
    "```\n",
    "\n",
    "```bash\n",
    "> python test.py Robin --count 3\n",
    "Hello Robin!\n",
    "Hello Robin!\n",
    "Hello Robin!\n",
    "```"
   ]
  },
  {
   "cell_type": "markdown",
   "metadata": {},
   "source": [
    "### More complex Options"
   ]
  },
  {
   "cell_type": "markdown",
   "metadata": {},
   "source": [
    "https://click.palletsprojects.com/en/7.x/options/"
   ]
  },
  {
   "cell_type": "markdown",
   "metadata": {},
   "source": [
    "Options allow for:\n",
    "- specify variable name (`\"--n\", \"N\"` for fixing case in-sensitivity)\n",
    "- define aliast (`\"--n\", \"-n\"`)\n",
    "- required flag (`required=True`)\n",
    "- default values (`default=1`)\n",
    "- type limiting and conversion (`type=int` or even `type=(int, int)`)\n",
    "- multi-value arguments (`nargs=2` or `multiple=True` for unspecified number of args)\n",
    "- binary flag (`is_flag=True, flag_value=True` or `--shout/--no-shout` with `true/false`)\n",
    "- choice input (`type=click.Choice(['MD5', 'SHA1'], case_sensitive=False)`)\n",
    "- allow promted input (`prompt=\"Enter Name\"` and for confirmation `confirmation_prompt=True`)\n",
    "- range limitations (`type=click.IntRange(0, 100)`)\n",
    "- iteration counting (`count=True` counts multiple invokations e.g. `-vvv` for `v=3`)\n",
    "- password prompts (`hinde_input=True`)\n",
    "- callbacks for validation or other (`callback=print_version`)\n",
    "- displaying defaults (`show_defaults=True`)\n",
    "- hide from help function (`hidden=True`)\n",
    "- file argument (`type=click.File('w')`)\n",
    "  - bonus: specifying `-` will automatically use stdin/stdout as appropriate\n",
    "- path argument (`type=click.Path(exists=True, file_okay=False, dir_okay=True, writable=True)`)\n",
    "  - bonus: performs some checks (above: must exists, not a file, can be written to)\n",
    "- and more..."
   ]
  },
  {
   "cell_type": "markdown",
   "metadata": {},
   "source": [
    "```python\n",
    "@click.option(\"--c1\", default=1, type=click.FloatRange(0, None), show_default=True,\n",
    "              help=\"Scale between: hydrodynamic: 0.1, transition: 1, adiabatic: 5\")\n",
    "```"
   ]
  },
  {
   "cell_type": "markdown",
   "metadata": {},
   "source": [
    "### Real world example"
   ]
  },
  {
   "cell_type": "markdown",
   "metadata": {},
   "source": [
    "#### Code"
   ]
  },
  {
   "cell_type": "markdown",
   "metadata": {},
   "source": [
    "<img src=\"../img/click_example_code.jpg\" />"
   ]
  },
  {
   "cell_type": "markdown",
   "metadata": {},
   "source": [
    "#### Help page"
   ]
  },
  {
   "cell_type": "markdown",
   "metadata": {},
   "source": [
    "<img src=\"../img/click_example_help.jpg\" />"
   ]
  },
  {
   "cell_type": "markdown",
   "metadata": {},
   "source": [
    "### Setuptools Integration"
   ]
  },
  {
   "cell_type": "markdown",
   "metadata": {},
   "source": [
    "Benefits:\n",
    "- Executable wrapping with necessary requirements into a virtual environment\n",
    "- Windows and Unix executables"
   ]
  },
  {
   "cell_type": "markdown",
   "metadata": {},
   "source": [
    "## That's it"
   ]
  },
  {
   "cell_type": "markdown",
   "metadata": {},
   "source": [
    "### Thank you for not falling asleep"
   ]
  },
  {
   "cell_type": "markdown",
   "metadata": {},
   "source": [
    "### If there are any question, now is the time!"
   ]
  }
 ],
 "metadata": {
  "jupytext": {
   "encoding": "# -*- coding: utf-8 -*-",
   "formats": "ipynb,py"
  },
  "kernelspec": {
   "display_name": "Python 3",
   "language": "python",
   "name": "python3"
  },
  "language_info": {
   "codemirror_mode": {
    "name": "ipython",
    "version": 3
   },
   "file_extension": ".py",
   "mimetype": "text/x-python",
   "name": "python",
   "nbconvert_exporter": "python",
   "pygments_lexer": "ipython3",
   "version": "3.7.7"
  },
  "toc-autonumbering": true,
  "toc-showcode": false,
  "toc-showtags": true
 },
 "nbformat": 4,
 "nbformat_minor": 4
}
