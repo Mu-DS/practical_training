{
 "cells": [
  {
   "cell_type": "markdown",
   "metadata": {
    "slideshow": {
     "slide_type": "slide"
    }
   },
   "source": [
    "# Python Data Types"
   ]
  },
  {
   "cell_type": "markdown",
   "metadata": {
    "slideshow": {
     "slide_type": "slide"
    }
   },
   "source": [
    "Questions to skip this section:\n",
    "- How do you use Hashtables to link objects in Python?\n",
    "- What objects allow iteration without having to create a full list?\n",
    "- "
   ]
  },
  {
   "cell_type": "markdown",
   "metadata": {
    "slideshow": {
     "slide_type": "slide"
    }
   },
   "source": [
    "Goals to learn:\n",
    "- All functions are actually objects\n",
    "- All strings are actually lists\n",
    "- Generators are your best friend\n",
    "- "
   ]
  },
  {
   "cell_type": "markdown",
   "metadata": {},
   "source": [
    "## Iterators\n",
    "\n",
    "**Iterables or Iterators:**\n",
    "- Lists, tuples, sets, strings, generators, etc.\n",
    "- Any object with two special member functions (methods): `self.__iter__()` and `self.__next__()`\n",
    "  - This requirement is called the iterator protocol\n",
    "- "
   ]
  },
  {
   "cell_type": "markdown",
   "metadata": {},
   "source": [
    "### Implementation of the most common Iterator: The List"
   ]
  },
  {
   "cell_type": "markdown",
   "metadata": {},
   "source": [
    "```python\n",
    "for element in iterable:\n",
    "    do_something(element)\n",
    "```\n",
    "\n",
    "Is actually implemented as: (https://www.programiz.com/python-programming/iterator)\n",
    "```python\n",
    "# create an iterator object from that iterable\n",
    "iter_obj = iter(iterable)\n",
    "# infinite loop\n",
    "while True:\n",
    "    try:\n",
    "        # get the next item\n",
    "        element = next(iter_obj)\n",
    "        do_something(element)\n",
    "    except StopIteration:\n",
    "        # if StopIteration is raised, break from loop\n",
    "        break\n",
    "```"
   ]
  },
  {
   "cell_type": "code",
   "execution_count": null,
   "metadata": {
    "collapsed": true,
    "jupyter": {
     "outputs_hidden": true
    }
   },
   "outputs": [],
   "source": []
  },
  {
   "cell_type": "code",
   "execution_count": null,
   "metadata": {
    "collapsed": true,
    "jupyter": {
     "outputs_hidden": true
    }
   },
   "outputs": [],
   "source": []
  },
  {
   "cell_type": "markdown",
   "metadata": {},
   "source": [
    "# Inspecting Objects"
   ]
  },
  {
   "cell_type": "code",
   "execution_count": 1,
   "metadata": {
    "collapsed": true,
    "jupyter": {
     "outputs_hidden": true
    }
   },
   "outputs": [
    {
     "data": {
      "text/plain": [
       "['__class__',\n",
       " '__contains__',\n",
       " '__delattr__',\n",
       " '__delitem__',\n",
       " '__dir__',\n",
       " '__doc__',\n",
       " '__eq__',\n",
       " '__format__',\n",
       " '__ge__',\n",
       " '__getattribute__',\n",
       " '__getitem__',\n",
       " '__gt__',\n",
       " '__hash__',\n",
       " '__init__',\n",
       " '__init_subclass__',\n",
       " '__iter__',\n",
       " '__le__',\n",
       " '__len__',\n",
       " '__lt__',\n",
       " '__ne__',\n",
       " '__new__',\n",
       " '__reduce__',\n",
       " '__reduce_ex__',\n",
       " '__repr__',\n",
       " '__setattr__',\n",
       " '__setitem__',\n",
       " '__sizeof__',\n",
       " '__str__',\n",
       " '__subclasshook__',\n",
       " 'clear',\n",
       " 'copy',\n",
       " 'fromkeys',\n",
       " 'get',\n",
       " 'items',\n",
       " 'keys',\n",
       " 'pop',\n",
       " 'popitem',\n",
       " 'setdefault',\n",
       " 'update',\n",
       " 'values']"
      ]
     },
     "execution_count": 1,
     "metadata": {},
     "output_type": "execute_result"
    }
   ],
   "source": [
    "dir({'a': 1, 'b': 2})"
   ]
  },
  {
   "cell_type": "markdown",
   "metadata": {},
   "source": [
    "# Some Naming"
   ]
  },
  {
   "cell_type": "markdown",
   "metadata": {},
   "source": [
    "- args = **arg**ument**s**\n",
    "- kwargs = **k**ey **w**ord **arg**ument**s**"
   ]
  },
  {
   "cell_type": "markdown",
   "metadata": {},
   "source": [
    "## Arguments"
   ]
  },
  {
   "cell_type": "code",
   "execution_count": 92,
   "metadata": {
    "collapsed": true,
    "jupyter": {
     "outputs_hidden": true
    }
   },
   "outputs": [],
   "source": [
    "args = [1, 2, 3]"
   ]
  },
  {
   "cell_type": "code",
   "execution_count": 81,
   "metadata": {
    "collapsed": true,
    "jupyter": {
     "outputs_hidden": true
    }
   },
   "outputs": [],
   "source": [
    "def add_three_numbers(a, b, c):\n",
    "    return a + b + c"
   ]
  },
  {
   "cell_type": "code",
   "execution_count": 146,
   "metadata": {
    "collapsed": true,
    "jupyter": {
     "outputs_hidden": true
    }
   },
   "outputs": [
    {
     "ename": "IndexError",
     "evalue": "tuple index out of range",
     "output_type": "error",
     "traceback": [
      "\u001b[1;31m---------------------------------------------------------------------------\u001b[0m",
      "\u001b[1;31mIndexError\u001b[0m                                Traceback (most recent call last)",
      "\u001b[1;32m<ipython-input-146-5fcab2a6589d>\u001b[0m in \u001b[0;36m<module>\u001b[1;34m\u001b[0m\n\u001b[0;32m      5\u001b[0m     \u001b[1;32mreturn\u001b[0m \u001b[0mf\u001b[0m\u001b[1;33m(\u001b[0m\u001b[1;33m*\u001b[0m\u001b[0margs\u001b[0m\u001b[1;33m,\u001b[0m \u001b[1;33m**\u001b[0m\u001b[0mkwargs\u001b[0m\u001b[1;33m)\u001b[0m\u001b[1;33m\u001b[0m\u001b[1;33m\u001b[0m\u001b[0m\n\u001b[0;32m      6\u001b[0m \u001b[1;33m\u001b[0m\u001b[0m\n\u001b[1;32m----> 7\u001b[1;33m \u001b[0mprint_f\u001b[0m\u001b[1;33m(\u001b[0m\u001b[0madd_three_numbers\u001b[0m\u001b[1;33m,\u001b[0m \u001b[1;33m*\u001b[0m\u001b[0margs\u001b[0m\u001b[1;33m)\u001b[0m\u001b[1;33m\u001b[0m\u001b[1;33m\u001b[0m\u001b[0m\n\u001b[0m",
      "\u001b[1;32m<ipython-input-146-5fcab2a6589d>\u001b[0m in \u001b[0;36mprint_f\u001b[1;34m(f, *args, **kwargs)\u001b[0m\n\u001b[0;32m      2\u001b[0m \u001b[1;33m\u001b[0m\u001b[0m\n\u001b[0;32m      3\u001b[0m \u001b[1;32mdef\u001b[0m \u001b[0mprint_f\u001b[0m\u001b[1;33m(\u001b[0m\u001b[0mf\u001b[0m\u001b[1;33m,\u001b[0m \u001b[1;33m*\u001b[0m\u001b[0margs\u001b[0m\u001b[1;33m,\u001b[0m \u001b[1;33m**\u001b[0m\u001b[0mkwargs\u001b[0m\u001b[1;33m)\u001b[0m\u001b[1;33m:\u001b[0m\u001b[1;33m\u001b[0m\u001b[1;33m\u001b[0m\u001b[0m\n\u001b[1;32m----> 4\u001b[1;33m     \u001b[0mprint\u001b[0m\u001b[1;33m(\u001b[0m\u001b[1;34mf\"{f.__name__}\"\u001b[0m\u001b[1;33m+\u001b[0m\u001b[1;34m\"({}, {})\"\u001b[0m\u001b[1;33m.\u001b[0m\u001b[0mformat\u001b[0m\u001b[1;33m(\u001b[0m\u001b[1;34m\", \"\u001b[0m\u001b[1;33m.\u001b[0m\u001b[0mjoin\u001b[0m\u001b[1;33m(\u001b[0m\u001b[0mto_str\u001b[0m\u001b[1;33m(\u001b[0m\u001b[0margs\u001b[0m\u001b[1;33m)\u001b[0m\u001b[1;33m)\u001b[0m\u001b[1;33m)\u001b[0m\u001b[1;33m,\u001b[0m \u001b[1;34m\", \"\u001b[0m\u001b[1;33m.\u001b[0m\u001b[0mjoin\u001b[0m\u001b[1;33m(\u001b[0m\u001b[1;33m[\u001b[0m\u001b[1;34m\"{}={}\"\u001b[0m\u001b[1;33m.\u001b[0m\u001b[0mformat\u001b[0m\u001b[1;33m(\u001b[0m\u001b[0mstr\u001b[0m\u001b[1;33m(\u001b[0m\u001b[0mkey\u001b[0m\u001b[1;33m)\u001b[0m\u001b[1;33m,\u001b[0m\u001b[0mstr\u001b[0m\u001b[1;33m(\u001b[0m\u001b[0mval\u001b[0m\u001b[1;33m)\u001b[0m\u001b[1;33m)\u001b[0m \u001b[1;32mfor\u001b[0m \u001b[0mkey\u001b[0m\u001b[1;33m,\u001b[0m \u001b[0mval\u001b[0m \u001b[1;32min\u001b[0m \u001b[0mkwargs\u001b[0m\u001b[1;33m.\u001b[0m\u001b[0mitems\u001b[0m\u001b[1;33m(\u001b[0m\u001b[1;33m)\u001b[0m\u001b[1;33m]\u001b[0m\u001b[1;33m)\u001b[0m\u001b[1;33m)\u001b[0m\u001b[1;33m\u001b[0m\u001b[1;33m\u001b[0m\u001b[0m\n\u001b[0m\u001b[0;32m      5\u001b[0m     \u001b[1;32mreturn\u001b[0m \u001b[0mf\u001b[0m\u001b[1;33m(\u001b[0m\u001b[1;33m*\u001b[0m\u001b[0margs\u001b[0m\u001b[1;33m,\u001b[0m \u001b[1;33m**\u001b[0m\u001b[0mkwargs\u001b[0m\u001b[1;33m)\u001b[0m\u001b[1;33m\u001b[0m\u001b[1;33m\u001b[0m\u001b[0m\n\u001b[0;32m      6\u001b[0m \u001b[1;33m\u001b[0m\u001b[0m\n",
      "\u001b[1;31mIndexError\u001b[0m: tuple index out of range"
     ]
    }
   ],
   "source": [
    "to_str = lambda x: [str(i) for i in x]\n",
    "\n",
    "def print_f(f, *args, **kwargs):\n",
    "    print(f\"{f.__name__}\"+\"({}, {})\".format(\", \".join(to_str(args))), \", \".join([\"{}={}\".format(str(key),str(val)) for key, val in kwargs.items()]))\n",
    "    return f(*args, **kwargs)\n",
    "\n",
    "print_f(add_three_numbers, *args)"
   ]
  },
  {
   "cell_type": "code",
   "execution_count": 87,
   "metadata": {
    "collapsed": true,
    "jupyter": {
     "outputs_hidden": true
    },
    "scrolled": true
   },
   "outputs": [
    {
     "ename": "TypeError",
     "evalue": "add_three_numbers() missing 2 required positional arguments: 'b' and 'c'",
     "output_type": "error",
     "traceback": [
      "\u001b[1;31m---------------------------------------------------------------------------\u001b[0m",
      "\u001b[1;31mTypeError\u001b[0m                                 Traceback (most recent call last)",
      "\u001b[1;32m<ipython-input-87-73c2a0211abb>\u001b[0m in \u001b[0;36m<module>\u001b[1;34m\u001b[0m\n\u001b[1;32m----> 1\u001b[1;33m \u001b[0madd_three_numbers\u001b[0m\u001b[1;33m(\u001b[0m\u001b[0margs\u001b[0m\u001b[1;33m)\u001b[0m\u001b[1;33m\u001b[0m\u001b[1;33m\u001b[0m\u001b[0m\n\u001b[0m",
      "\u001b[1;31mTypeError\u001b[0m: add_three_numbers() missing 2 required positional arguments: 'b' and 'c'"
     ]
    }
   ],
   "source": [
    "add_three_numbers(args)"
   ]
  },
  {
   "cell_type": "code",
   "execution_count": 83,
   "metadata": {
    "collapsed": true,
    "jupyter": {
     "outputs_hidden": true
    }
   },
   "outputs": [
    {
     "data": {
      "text/plain": [
       "6"
      ]
     },
     "execution_count": 83,
     "metadata": {},
     "output_type": "execute_result"
    }
   ],
   "source": [
    "add_three_numbers(*args)"
   ]
  },
  {
   "cell_type": "code",
   "execution_count": 84,
   "metadata": {
    "collapsed": true,
    "jupyter": {
     "outputs_hidden": true
    }
   },
   "outputs": [
    {
     "ename": "SyntaxError",
     "evalue": "can't use starred expression here (<ipython-input-84-040fcb6bb52c>, line 4)",
     "output_type": "error",
     "traceback": [
      "\u001b[1;36m  File \u001b[1;32m\"<ipython-input-84-040fcb6bb52c>\"\u001b[1;36m, line \u001b[1;32m4\u001b[0m\n\u001b[1;31mSyntaxError\u001b[0m\u001b[1;31m:\u001b[0m can't use starred expression here\n"
     ]
    }
   ],
   "source": [
    "*args"
   ]
  },
  {
   "cell_type": "code",
   "execution_count": 88,
   "metadata": {
    "collapsed": true,
    "jupyter": {
     "outputs_hidden": true
    }
   },
   "outputs": [
    {
     "ename": "TypeError",
     "evalue": "add_three_numbers() argument after ** must be a mapping, not list",
     "output_type": "error",
     "traceback": [
      "\u001b[1;31m---------------------------------------------------------------------------\u001b[0m",
      "\u001b[1;31mTypeError\u001b[0m                                 Traceback (most recent call last)",
      "\u001b[1;32m<ipython-input-88-f50d7f312bed>\u001b[0m in \u001b[0;36m<module>\u001b[1;34m\u001b[0m\n\u001b[1;32m----> 1\u001b[1;33m \u001b[0madd_three_numbers\u001b[0m\u001b[1;33m(\u001b[0m\u001b[1;33m**\u001b[0m\u001b[0margs\u001b[0m\u001b[1;33m)\u001b[0m\u001b[1;33m\u001b[0m\u001b[1;33m\u001b[0m\u001b[0m\n\u001b[0m",
      "\u001b[1;31mTypeError\u001b[0m: add_three_numbers() argument after ** must be a mapping, not list"
     ]
    }
   ],
   "source": [
    "add_three_numbers(**args)"
   ]
  },
  {
   "cell_type": "markdown",
   "metadata": {},
   "source": [
    "## Key Word Arguments"
   ]
  },
  {
   "cell_type": "code",
   "execution_count": 93,
   "metadata": {
    "collapsed": true,
    "jupyter": {
     "outputs_hidden": true
    }
   },
   "outputs": [],
   "source": [
    "kwargs = {'a': 1, 'b': 2, 'c': 3}"
   ]
  },
  {
   "cell_type": "code",
   "execution_count": 91,
   "metadata": {
    "collapsed": true,
    "jupyter": {
     "outputs_hidden": true
    }
   },
   "outputs": [
    {
     "ename": "TypeError",
     "evalue": "add_three_numbers() missing 2 required positional arguments: 'b' and 'c'",
     "output_type": "error",
     "traceback": [
      "\u001b[1;31m---------------------------------------------------------------------------\u001b[0m",
      "\u001b[1;31mTypeError\u001b[0m                                 Traceback (most recent call last)",
      "\u001b[1;32m<ipython-input-91-f08c3f72ec59>\u001b[0m in \u001b[0;36m<module>\u001b[1;34m\u001b[0m\n\u001b[1;32m----> 1\u001b[1;33m \u001b[0madd_three_numbers\u001b[0m\u001b[1;33m(\u001b[0m\u001b[0mkwargs\u001b[0m\u001b[1;33m)\u001b[0m\u001b[1;33m\u001b[0m\u001b[1;33m\u001b[0m\u001b[0m\n\u001b[0m",
      "\u001b[1;31mTypeError\u001b[0m: add_three_numbers() missing 2 required positional arguments: 'b' and 'c'"
     ]
    }
   ],
   "source": [
    "add_three_numbers(kwargs)"
   ]
  },
  {
   "cell_type": "code",
   "execution_count": 89,
   "metadata": {
    "collapsed": true,
    "jupyter": {
     "outputs_hidden": true
    },
    "scrolled": true
   },
   "outputs": [
    {
     "data": {
      "text/plain": [
       "'abc'"
      ]
     },
     "execution_count": 89,
     "metadata": {},
     "output_type": "execute_result"
    }
   ],
   "source": [
    "add_three_numbers(*kwargs)"
   ]
  },
  {
   "cell_type": "code",
   "execution_count": 99,
   "metadata": {
    "collapsed": true,
    "jupyter": {
     "outputs_hidden": true
    }
   },
   "outputs": [
    {
     "ename": "SyntaxError",
     "evalue": "can't use starred expression here (<ipython-input-99-6690ce064f2f>, line 4)",
     "output_type": "error",
     "traceback": [
      "\u001b[1;36m  File \u001b[1;32m\"<ipython-input-99-6690ce064f2f>\"\u001b[1;36m, line \u001b[1;32m4\u001b[0m\n\u001b[1;31mSyntaxError\u001b[0m\u001b[1;31m:\u001b[0m can't use starred expression here\n"
     ]
    }
   ],
   "source": [
    "*kwargs"
   ]
  },
  {
   "cell_type": "code",
   "execution_count": 97,
   "metadata": {
    "collapsed": true,
    "jupyter": {
     "outputs_hidden": true
    }
   },
   "outputs": [
    {
     "ename": "TypeError",
     "evalue": "list expected at most 1 arguments, got 3",
     "output_type": "error",
     "traceback": [
      "\u001b[1;31m---------------------------------------------------------------------------\u001b[0m",
      "\u001b[1;31mTypeError\u001b[0m                                 Traceback (most recent call last)",
      "\u001b[1;32m<ipython-input-97-8a146c4d80b0>\u001b[0m in \u001b[0;36m<module>\u001b[1;34m\u001b[0m\n\u001b[1;32m----> 1\u001b[1;33m \u001b[0mlist\u001b[0m\u001b[1;33m(\u001b[0m\u001b[1;33m*\u001b[0m\u001b[0mkwargs\u001b[0m\u001b[1;33m)\u001b[0m\u001b[1;33m\u001b[0m\u001b[1;33m\u001b[0m\u001b[0m\n\u001b[0m",
      "\u001b[1;31mTypeError\u001b[0m: list expected at most 1 arguments, got 3"
     ]
    }
   ],
   "source": [
    "list(*kwargs)"
   ]
  },
  {
   "cell_type": "code",
   "execution_count": 90,
   "metadata": {
    "collapsed": true,
    "jupyter": {
     "outputs_hidden": true
    },
    "scrolled": true
   },
   "outputs": [
    {
     "data": {
      "text/plain": [
       "6"
      ]
     },
     "execution_count": 90,
     "metadata": {},
     "output_type": "execute_result"
    }
   ],
   "source": [
    "add_three_numbers(**kwargs)"
   ]
  },
  {
   "cell_type": "code",
   "execution_count": 96,
   "metadata": {
    "collapsed": true,
    "jupyter": {
     "outputs_hidden": true
    }
   },
   "outputs": [
    {
     "ename": "TypeError",
     "evalue": "list() takes no keyword arguments",
     "output_type": "error",
     "traceback": [
      "\u001b[1;31m---------------------------------------------------------------------------\u001b[0m",
      "\u001b[1;31mTypeError\u001b[0m                                 Traceback (most recent call last)",
      "\u001b[1;32m<ipython-input-96-d9ad71c6aadc>\u001b[0m in \u001b[0;36m<module>\u001b[1;34m\u001b[0m\n\u001b[1;32m----> 1\u001b[1;33m \u001b[0mlist\u001b[0m\u001b[1;33m(\u001b[0m\u001b[1;33m**\u001b[0m\u001b[0mkwargs\u001b[0m\u001b[1;33m)\u001b[0m\u001b[1;33m\u001b[0m\u001b[1;33m\u001b[0m\u001b[0m\n\u001b[0m",
      "\u001b[1;31mTypeError\u001b[0m: list() takes no keyword arguments"
     ]
    }
   ],
   "source": [
    "list(**kwargs)"
   ]
  },
  {
   "cell_type": "code",
   "execution_count": null,
   "metadata": {},
   "outputs": [],
   "source": [
    "args = [1, 2]\n",
    "kwargs = dict(c=3)\n",
    "print_f(add_three_numbers, *args, **kwargs)"
   ]
  },
  {
   "cell_type": "markdown",
   "metadata": {},
   "source": [
    "# Lambda"
   ]
  },
  {
   "cell_type": "markdown",
   "metadata": {},
   "source": [
    "*small anonymous function*"
   ]
  },
  {
   "cell_type": "markdown",
   "metadata": {},
   "source": [
    "*can take any number of arguments*"
   ]
  },
  {
   "cell_type": "markdown",
   "metadata": {},
   "source": [
    "*can only return one expression*"
   ]
  },
  {
   "cell_type": "markdown",
   "metadata": {},
   "source": [
    "```python\n",
    "lambda arguments : expression\n",
    "```"
   ]
  },
  {
   "cell_type": "markdown",
   "metadata": {},
   "source": [
    "```python\n",
    "x = lambda a: a + 10\n",
    "```\n",
    "equivalent to:\n",
    "```python \n",
    "def x(a):\n",
    "    return a + 10\n",
    "```"
   ]
  },
  {
   "cell_type": "code",
   "execution_count": 3,
   "metadata": {
    "collapsed": true,
    "jupyter": {
     "outputs_hidden": true
    }
   },
   "outputs": [
    {
     "name": "stdout",
     "output_type": "stream",
     "text": [
      "15\n",
      "25\n"
     ]
    }
   ],
   "source": [
    "x = lambda a: a + 10\n",
    "print(x(5))\n",
    "print(x(x(5)))"
   ]
  },
  {
   "cell_type": "markdown",
   "metadata": {},
   "source": [
    "## Creating Instances of Functions"
   ]
  },
  {
   "cell_type": "markdown",
   "metadata": {},
   "source": [
    "remember functions are first class objects in python"
   ]
  },
  {
   "cell_type": "code",
   "execution_count": 4,
   "metadata": {
    "collapsed": true,
    "jupyter": {
     "outputs_hidden": true
    }
   },
   "outputs": [
    {
     "name": "stdout",
     "output_type": "stream",
     "text": [
      "22\n"
     ]
    }
   ],
   "source": [
    "def myfunc(n):\n",
    "    return lambda a: a * n\n",
    "\n",
    "mydoubler = myfunc(2)  # instance of myfunc\n",
    "mytripler = myfunc(3)  # instance of myfunc\n",
    "\n",
    "print(mydoubler(11))  # apply of mydoubler\n",
    "print(mytripler(11))  # apply of mytripler"
   ]
  },
  {
   "cell_type": "markdown",
   "metadata": {},
   "source": [
    "## Late Bindings"
   ]
  },
  {
   "cell_type": "markdown",
   "metadata": {},
   "source": [
    "Watch out, lambda functions are lazy evalued"
   ]
  },
  {
   "cell_type": "code",
   "execution_count": 148,
   "metadata": {
    "collapsed": true,
    "jupyter": {
     "outputs_hidden": true
    }
   },
   "outputs": [],
   "source": [
    "def sum(x,y):\n",
    "    return x+y"
   ]
  },
  {
   "cell_type": "code",
   "execution_count": 149,
   "metadata": {
    "collapsed": true,
    "jupyter": {
     "outputs_hidden": true
    }
   },
   "outputs": [
    {
     "data": {
      "text/plain": [
       "2"
      ]
     },
     "execution_count": 149,
     "metadata": {},
     "output_type": "execute_result"
    }
   ],
   "source": [
    "increment = 1\n",
    "f = lambda n: sum(n, increment)\n",
    "f(1)"
   ]
  },
  {
   "cell_type": "code",
   "execution_count": 150,
   "metadata": {
    "collapsed": true,
    "jupyter": {
     "outputs_hidden": true
    }
   },
   "outputs": [
    {
     "name": "stdout",
     "output_type": "stream",
     "text": [
      "4\n",
      "6\n"
     ]
    }
   ],
   "source": [
    "print(f(3))\n",
    "increment = 5\n",
    "print(f(1))"
   ]
  },
  {
   "cell_type": "markdown",
   "metadata": {},
   "source": [
    "## Background"
   ]
  },
  {
   "cell_type": "markdown",
   "metadata": {},
   "source": [
    "Lamdba Functions (aka Lambda Abstractions) are abstractions of *Lambda Calculus*\n",
    "\n",
    "Lambda Calculus: formal system for expressing computation based on function abstraction and application using variable biding and substitution\n",
    "- formalized by Alonzo Church in the 1930s\n",
    "- Turing complete: can encode any computation\n",
    "- Pure: does not keep any state\n",
    "- Basis for functional programming languages\n",
    "- Equivalent to Turing Machines (that save state) as proven by the Church-Turing Thesis (aka computability thesis)\n",
    "  - specifically, a function is *Lambda-computable* iff it is *Turing computable* iff it is *general recursive*"
   ]
  },
  {
   "cell_type": "markdown",
   "metadata": {},
   "source": [
    "## Python Implementation"
   ]
  },
  {
   "cell_type": "markdown",
   "metadata": {},
   "source": [
    "> \"Unlike lambda forms in other languages, where they add functionality, Python lambdas are only a shorthand notation if you’re too lazy to define a function.\"\n",
    "\n",
    "from the Python Design and History FAQ"
   ]
  },
  {
   "cell_type": "markdown",
   "metadata": {},
   "source": [
    "In fact, a lambda function and a normal function are identical in bytecode:\n",
    "\n",
    "```python\n",
    "import dis\n",
    "\n",
    "add_lambda = lambda x, y: x + y\n",
    "def add_function(x, y):\n",
    "    return x + y\n",
    "\n",
    "print(dis.dis(add_lambda))\n",
    "print(dis.dis(add_function))\n",
    "```"
   ]
  },
  {
   "cell_type": "code",
   "execution_count": 5,
   "metadata": {
    "collapsed": true,
    "jupyter": {
     "outputs_hidden": true
    }
   },
   "outputs": [
    {
     "name": "stdout",
     "output_type": "stream",
     "text": [
      "  3           0 LOAD_FAST                0 (x)\n",
      "              2 LOAD_FAST                1 (y)\n",
      "              4 BINARY_ADD\n",
      "              6 RETURN_VALUE\n",
      "None\n",
      "  5           0 LOAD_FAST                0 (x)\n",
      "              2 LOAD_FAST                1 (y)\n",
      "              4 BINARY_ADD\n",
      "              6 RETURN_VALUE\n",
      "None\n"
     ]
    }
   ],
   "source": [
    "import dis\n",
    "\n",
    "add_lambda = lambda x, y: x + y\n",
    "def add_function(x, y):\n",
    "    return x + y\n",
    "\n",
    "print(dis.dis(add_lambda))\n",
    "print(dis.dis(add_function))"
   ]
  },
  {
   "cell_type": "code",
   "execution_count": null,
   "metadata": {
    "collapsed": true,
    "jupyter": {
     "outputs_hidden": true
    }
   },
   "outputs": [],
   "source": []
  },
  {
   "cell_type": "markdown",
   "metadata": {},
   "source": [
    "## Advanced usage: Runge Kutta 4"
   ]
  },
  {
   "cell_type": "code",
   "execution_count": 14,
   "metadata": {
    "collapsed": true,
    "jupyter": {
     "outputs_hidden": true
    }
   },
   "outputs": [
    {
     "name": "stdout",
     "output_type": "stream",
     "text": [
      " 0.0    1.00000  +0.0000e+00\n",
      " 1.0    1.56250  -1.4572e-07\n",
      " 2.0    4.00000  -9.1948e-07\n",
      " 3.0   10.56250  -2.9096e-06\n",
      " 4.0   24.99999  -6.2349e-06\n",
      " 5.0   52.56249  -1.0820e-05\n",
      " 6.0   99.99998  -1.6595e-05\n",
      " 7.0  175.56248  -2.3518e-05\n",
      " 8.0  288.99997  -3.1565e-05\n",
      " 9.0  451.56246  -4.0723e-05\n",
      "10.0  675.99995  -5.0983e-05\n"
     ]
    }
   ],
   "source": [
    "from math import sqrt\n",
    " \n",
    "def rk4(f, x0, y0, x1, n):\n",
    "    vx = [0] * (n + 1)\n",
    "    vy = [0] * (n + 1)\n",
    "    h = (x1 - x0) / float(n)\n",
    "    vx[0] = x = x0\n",
    "    vy[0] = y = y0\n",
    "    for i in range(1, n+1):\n",
    "        dy1 = h * f(x + 0  , y        )\n",
    "        dy2 = h * f(x + h/2, y + dy1/2)\n",
    "        dy3 = h * f(x + h/2, y + dy2/2)\n",
    "        dy4 = h * f(x + h  , y + dy3  )\n",
    "        vx[i] = x = x0 + i * h\n",
    "        vy[i] = y = y + (dy1 + 2*dy2 + 2*dy3 + dy4) / 6\n",
    "    return vx, vy\n",
    " \n",
    "def f(x, y):\n",
    "    return x * sqrt(y)\n",
    "\n",
    "x0 = 0\n",
    "y0 = 1\n",
    "x1 = 10\n",
    "n = 100\n",
    "vx, vy = rk4(f, x0, y0, x1, n)\n",
    "for x, y in list(zip(vx, vy))[::10]:\n",
    "    print(\"%4.1f %10.5f %+12.4e\" % (x, y, y - (4 + x * x)**2 / 16))"
   ]
  },
  {
   "cell_type": "code",
   "execution_count": 47,
   "metadata": {
    "collapsed": true,
    "jupyter": {
     "outputs_hidden": true
    }
   },
   "outputs": [
    {
     "name": "stdout",
     "output_type": "stream",
     "text": [
      " 0.0    0.00000  -1.0000e+00\n",
      " 1.0    1.56250  -1.4572e-07\n",
      " 2.0    4.00000  -9.1948e-07\n",
      " 3.0   10.56250  -2.9096e-06\n",
      " 4.0   24.99999  -6.2349e-06\n",
      " 5.0   52.56249  -1.0820e-05\n",
      " 6.0   99.99998  -1.6595e-05\n",
      " 7.0  175.56248  -2.3518e-05\n",
      " 8.0  288.99997  -3.1565e-05\n",
      " 9.0  451.56246  -4.0723e-05\n",
      "10.0  675.99995  -5.0983e-05\n"
     ]
    }
   ],
   "source": [
    "def RK4(f):\n",
    "    return lambda t, y, dt: (\n",
    "            lambda dy1: (\n",
    "            lambda dy2: (\n",
    "            lambda dy3: (\n",
    "            lambda dy4: (dy1 + 2*dy2 + 2*dy3 + dy4)/6\n",
    "            )(dt * f(t + dt  , y + dy3  ))\n",
    "            )(dt * f(t + dt/2, y + dy2/2))\n",
    "            )(dt * f(t + dt/2, y + dy1/2))\n",
    "            )(dt * f(t       , y        ))\n",
    " \n",
    "def f(x, y):\n",
    "    return x * sqrt(y)\n",
    " \n",
    "from math import sqrt\n",
    "dy = RK4(lambda t, y: f(t,y))\n",
    "\n",
    "t = 0\n",
    "y = 1\n",
    "n = 10\n",
    "dt = 0.1\n",
    "l = int(n*(1/dt) + 1)\n",
    "vx = [0] * l\n",
    "vy = [0] * l\n",
    "for i in range(1, l):\n",
    "    vy[i] = y = y + dy(t, y, dt)\n",
    "    vx[i] = t = t + dt\n",
    "for x, y in list(zip(vx, vy))[::10]:\n",
    "    print(\"%4.1f %10.5f %+12.4e\" % (x, y, y - (4 + x * x)**2 / 16))"
   ]
  },
  {
   "cell_type": "markdown",
   "metadata": {},
   "source": [
    "# Partials"
   ]
  },
  {
   "cell_type": "markdown",
   "metadata": {},
   "source": [
    "## What it does"
   ]
  },
  {
   "cell_type": "code",
   "execution_count": 67,
   "metadata": {
    "collapsed": true,
    "jupyter": {
     "outputs_hidden": true
    }
   },
   "outputs": [],
   "source": [
    "from functools import partial"
   ]
  },
  {
   "cell_type": "code",
   "execution_count": 69,
   "metadata": {
    "collapsed": true,
    "jupyter": {
     "outputs_hidden": true
    }
   },
   "outputs": [
    {
     "name": "stdout",
     "output_type": "stream",
     "text": [
      "5\n"
     ]
    }
   ],
   "source": [
    "add_numbers = lambda a,b: a+b\n",
    "print(add_numbers(2,3))"
   ]
  },
  {
   "cell_type": "code",
   "execution_count": 73,
   "metadata": {
    "collapsed": true,
    "jupyter": {
     "outputs_hidden": true
    }
   },
   "outputs": [
    {
     "name": "stdout",
     "output_type": "stream",
     "text": [
      "7\n"
     ]
    }
   ],
   "source": [
    "add_five = partial(add_numbers, 5)\n",
    "print(add_five(2))"
   ]
  },
  {
   "cell_type": "code",
   "execution_count": 74,
   "metadata": {
    "collapsed": true,
    "jupyter": {
     "outputs_hidden": true
    }
   },
   "outputs": [
    {
     "name": "stdout",
     "output_type": "stream",
     "text": [
      "8\n"
     ]
    }
   ],
   "source": [
    "add_twice = lambda a,b: a+2*b\n",
    "print(add_twice(2,3))"
   ]
  },
  {
   "cell_type": "code",
   "execution_count": 77,
   "metadata": {
    "collapsed": true,
    "jupyter": {
     "outputs_hidden": true
    }
   },
   "outputs": [
    {
     "name": "stdout",
     "output_type": "stream",
     "text": [
      "12\n"
     ]
    }
   ],
   "source": [
    "add_10 = partial(add_twice, b=5)\n",
    "print(add_10(2))"
   ]
  },
  {
   "cell_type": "markdown",
   "metadata": {},
   "source": [
    "## Why to use them"
   ]
  },
  {
   "cell_type": "markdown",
   "metadata": {},
   "source": [
    "- iteratively add settings to a function\n",
    "  - better to pass a dictionary of key-word arguments"
   ]
  },
  {
   "cell_type": "code",
   "execution_count": null,
   "metadata": {
    "collapsed": true,
    "jupyter": {
     "outputs_hidden": true
    }
   },
   "outputs": [],
   "source": []
  },
  {
   "cell_type": "markdown",
   "metadata": {},
   "source": [
    "# Filter"
   ]
  },
  {
   "cell_type": "code",
   "execution_count": 65,
   "metadata": {
    "collapsed": true,
    "jupyter": {
     "outputs_hidden": true
    }
   },
   "outputs": [
    {
     "name": "stdout",
     "output_type": "stream",
     "text": [
      "<filter object at 0x000001C77FA60C48>\n"
     ]
    }
   ],
   "source": [
    "even = lambda x: x%2 == 0\n",
    "print(filter(even, range(20)))"
   ]
  },
  {
   "cell_type": "code",
   "execution_count": 66,
   "metadata": {
    "collapsed": true,
    "jupyter": {
     "outputs_hidden": true
    }
   },
   "outputs": [
    {
     "name": "stdout",
     "output_type": "stream",
     "text": [
      "[0, 2, 4, 6, 8, 10, 12, 14, 16, 18]\n",
      "{0, 2, 4, 6, 8, 10, 12, 14, 16, 18}\n"
     ]
    }
   ],
   "source": [
    "print(list(filter(even, range(20))))\n",
    "print(set(filter(even, range(20))))"
   ]
  },
  {
   "cell_type": "markdown",
   "metadata": {},
   "source": [
    "# Map"
   ]
  },
  {
   "cell_type": "markdown",
   "metadata": {},
   "source": [
    "Stacking if-else statements:\n",
    "\n",
    "<img src=\"https://i.redd.it/6rbq35occu441.jpg\" width=300px>"
   ]
  },
  {
   "cell_type": "markdown",
   "metadata": {},
   "source": [
    "```python\n",
    "map(function, *iterables)\n",
    "```"
   ]
  },
  {
   "cell_type": "code",
   "execution_count": 2,
   "metadata": {
    "collapsed": true,
    "jupyter": {
     "outputs_hidden": true
    }
   },
   "outputs": [
    {
     "data": {
      "text/plain": [
       "<map at 0x2c21307db88>"
      ]
     },
     "execution_count": 2,
     "metadata": {},
     "output_type": "execute_result"
    }
   ],
   "source": [
    "def myfunc(n):\n",
    "    return len(n)\n",
    "\n",
    "map(myfunc, ('apple', 'banana', 'cherry')) "
   ]
  },
  {
   "cell_type": "code",
   "execution_count": 3,
   "metadata": {
    "collapsed": true,
    "jupyter": {
     "outputs_hidden": true
    }
   },
   "outputs": [
    {
     "data": {
      "text/plain": [
       "<map at 0x2c21305dc48>"
      ]
     },
     "execution_count": 3,
     "metadata": {},
     "output_type": "execute_result"
    }
   ],
   "source": [
    "def myfunc(a, b):\n",
    "    return a + b\n",
    "\n",
    "map(myfunc, ('apple', 'banana', 'cherry'), ('orange', 'lemon', 'pineapple')) "
   ]
  },
  {
   "cell_type": "code",
   "execution_count": 5,
   "metadata": {
    "collapsed": true,
    "jupyter": {
     "outputs_hidden": true
    }
   },
   "outputs": [
    {
     "name": "stdout",
     "output_type": "stream",
     "text": [
      "['appleorange', 'bananalemon', 'cherrypineapple']\n"
     ]
    }
   ],
   "source": [
    "print(list(map(myfunc, ('apple', 'banana', 'cherry'), ('orange', 'lemon', 'pineapple'))))"
   ]
  },
  {
   "cell_type": "code",
   "execution_count": null,
   "metadata": {
    "collapsed": true,
    "jupyter": {
     "outputs_hidden": true
    }
   },
   "outputs": [],
   "source": []
  },
  {
   "cell_type": "markdown",
   "metadata": {},
   "source": [
    "# Zip"
   ]
  },
  {
   "cell_type": "code",
   "execution_count": null,
   "metadata": {
    "collapsed": true,
    "jupyter": {
     "outputs_hidden": true
    }
   },
   "outputs": [],
   "source": []
  },
  {
   "cell_type": "markdown",
   "metadata": {},
   "source": [
    "# Generators"
   ]
  },
  {
   "cell_type": "code",
   "execution_count": null,
   "metadata": {
    "collapsed": true,
    "jupyter": {
     "outputs_hidden": true
    }
   },
   "outputs": [],
   "source": []
  },
  {
   "cell_type": "code",
   "execution_count": null,
   "metadata": {
    "collapsed": true,
    "jupyter": {
     "outputs_hidden": true
    }
   },
   "outputs": [],
   "source": []
  },
  {
   "cell_type": "markdown",
   "metadata": {},
   "source": [
    "## Assert"
   ]
  },
  {
   "cell_type": "markdown",
   "metadata": {},
   "source": [
    "<img src=\"https://external-preview.redd.it/kTk_lPVsZAhVglS0yFCzIO8KWNv2T4QOlljrmfiGGHY.jpg?width=640&crop=smart&auto=webp&s=805339290fd9c556e062fc525126b6f141494baf\" width=480>"
   ]
  },
  {
   "cell_type": "markdown",
   "metadata": {},
   "source": [
    "# String Formatting"
   ]
  },
  {
   "cell_type": "markdown",
   "metadata": {},
   "source": [
    "## Capitalizating"
   ]
  },
  {
   "cell_type": "code",
   "execution_count": 58,
   "metadata": {
    "collapsed": true,
    "jupyter": {
     "outputs_hidden": true
    }
   },
   "outputs": [
    {
     "name": "stdout",
     "output_type": "stream",
     "text": [
      "Hallo This Is The Title\n"
     ]
    }
   ],
   "source": [
    "print(\"hallo this is the title\".title())"
   ]
  },
  {
   "cell_type": "code",
   "execution_count": 60,
   "metadata": {
    "collapsed": true,
    "jupyter": {
     "outputs_hidden": true
    }
   },
   "outputs": [
    {
     "name": "stdout",
     "output_type": "stream",
     "text": [
      "Hallo this is the capitalized\n"
     ]
    }
   ],
   "source": [
    "print(\"hallo this is the capitalized\".capitalize())"
   ]
  },
  {
   "cell_type": "markdown",
   "metadata": {},
   "source": [
    "## Centering"
   ]
  },
  {
   "cell_type": "code",
   "execution_count": 61,
   "metadata": {
    "collapsed": true,
    "jupyter": {
     "outputs_hidden": true
    }
   },
   "outputs": [
    {
     "name": "stdout",
     "output_type": "stream",
     "text": [
      "             hallo this is the title              \n",
      ".hallo this is the title..\n"
     ]
    }
   ],
   "source": [
    "print(\"hallo this is the title\".center(50))\n",
    "print(\"hallo this is the title\".center(26, \".\"))"
   ]
  },
  {
   "cell_type": "markdown",
   "metadata": {},
   "source": [
    "## Formatting"
   ]
  },
  {
   "cell_type": "markdown",
   "metadata": {},
   "source": [
    "### Strings"
   ]
  },
  {
   "cell_type": "code",
   "execution_count": 153,
   "metadata": {
    "collapsed": true,
    "jupyter": {
     "outputs_hidden": true
    }
   },
   "outputs": [
    {
     "data": {
      "text/plain": [
       "{'perc_sample_string': 'percent: this is the sample string',\n",
       " 'format_sample_string': 'format: this is the sample string',\n",
       " 'f_form_sample_string': 'f-form: this is the sample string'}"
      ]
     },
     "execution_count": 153,
     "metadata": {},
     "output_type": "execute_result"
    }
   ],
   "source": [
    "sample_string = \"this is the sample string\"\n",
    "formatting = {\n",
    "    \"perc_sample_string\": \"percent: %s\" % sample_string,\n",
    "    \"format_sample_string\": \"format: {}\".format(sample_string),\n",
    "    \"f_form_sample_string\": f\"f-form: {sample_string}\"\n",
    "}\n",
    "formatting"
   ]
  },
  {
   "cell_type": "markdown",
   "metadata": {},
   "source": [
    "### Numbers"
   ]
  },
  {
   "cell_type": "code",
   "execution_count": 4,
   "metadata": {
    "collapsed": true,
    "jupyter": {
     "outputs_hidden": true
    }
   },
   "outputs": [
    {
     "name": "stdout",
     "output_type": "stream",
     "text": [
      "0.02\n",
      "0.02\n",
      "0.02\n"
     ]
    }
   ],
   "source": [
    "print(\"{:.1g}\".format(0.0200123))\n",
    "print(\"{:.2g}\".format(0.0200123))\n",
    "print(\"{:.3g}\".format(0.0200123))"
   ]
  },
  {
   "cell_type": "code",
   "execution_count": 5,
   "metadata": {
    "collapsed": true,
    "jupyter": {
     "outputs_hidden": true
    }
   },
   "outputs": [
    {
     "name": "stdout",
     "output_type": "stream",
     "text": [
      "0.0200\n"
     ]
    }
   ],
   "source": [
    "print(\"{:#.3g}\".format(0.0200123))"
   ]
  },
  {
   "cell_type": "code",
   "execution_count": 15,
   "metadata": {
    "collapsed": true,
    "jupyter": {
     "outputs_hidden": true
    }
   },
   "outputs": [
    {
     "name": "stdout",
     "output_type": "stream",
     "text": [
      "2.00%\n",
      "2.00%\n"
     ]
    }
   ],
   "source": [
    "print(\"{:.2%}\".format(0.0200123))\n",
    "print(\"{:#.2%}\".format(0.0200123))"
   ]
  },
  {
   "cell_type": "code",
   "execution_count": null,
   "metadata": {
    "collapsed": true,
    "jupyter": {
     "outputs_hidden": true
    }
   },
   "outputs": [],
   "source": []
  },
  {
   "cell_type": "markdown",
   "metadata": {},
   "source": [
    "# Regular Expressions (regex)"
   ]
  },
  {
   "cell_type": "code",
   "execution_count": null,
   "metadata": {
    "collapsed": true,
    "jupyter": {
     "outputs_hidden": true
    }
   },
   "outputs": [],
   "source": []
  },
  {
   "cell_type": "code",
   "execution_count": null,
   "metadata": {
    "collapsed": true,
    "jupyter": {
     "outputs_hidden": true
    }
   },
   "outputs": [],
   "source": []
  },
  {
   "cell_type": "markdown",
   "metadata": {},
   "source": [
    "# Limits of Comprehension"
   ]
  },
  {
   "cell_type": "markdown",
   "metadata": {},
   "source": [
    "List & Dict comprehensions are great and fast, however, require a lot of memory overhead"
   ]
  },
  {
   "cell_type": "code",
   "execution_count": 184,
   "metadata": {
    "collapsed": true,
    "jupyter": {
     "outputs_hidden": true
    }
   },
   "outputs": [],
   "source": [
    "n = 1000000"
   ]
  },
  {
   "cell_type": "code",
   "execution_count": 185,
   "metadata": {
    "collapsed": true,
    "jupyter": {
     "outputs_hidden": true
    }
   },
   "outputs": [
    {
     "name": "stdout",
     "output_type": "stream",
     "text": [
      "56.7 ms ± 2.18 ms per loop (mean ± std. dev. of 7 runs, 10 loops each)\n"
     ]
    }
   ],
   "source": [
    "%%timeit\n",
    "a = [i for i in range(n)]"
   ]
  },
  {
   "cell_type": "code",
   "execution_count": 160,
   "metadata": {
    "collapsed": true,
    "jupyter": {
     "outputs_hidden": true
    }
   },
   "outputs": [
    {
     "name": "stdout",
     "output_type": "stream",
     "text": [
      "9.13 ms ± 423 µs per loop (mean ± std. dev. of 7 runs, 100 loops each)\n"
     ]
    }
   ],
   "source": [
    "%%timeit\n",
    "a = []\n",
    "for i in range(n):\n",
    "    a.append(i)"
   ]
  },
  {
   "cell_type": "code",
   "execution_count": 161,
   "metadata": {
    "collapsed": true,
    "jupyter": {
     "outputs_hidden": true
    }
   },
   "outputs": [
    {
     "name": "stdout",
     "output_type": "stream",
     "text": [
      "8.6 ms ± 663 µs per loop (mean ± std. dev. of 7 runs, 100 loops each)\n"
     ]
    }
   ],
   "source": [
    "%%timeit\n",
    "a = np.empty(n)\n",
    "for i in range(n):\n",
    "    a[i] = i"
   ]
  },
  {
   "cell_type": "code",
   "execution_count": 163,
   "metadata": {
    "collapsed": true,
    "jupyter": {
     "outputs_hidden": true
    }
   },
   "outputs": [],
   "source": [
    "from numba import jit, prange"
   ]
  },
  {
   "cell_type": "code",
   "execution_count": null,
   "metadata": {
    "collapsed": true,
    "jupyter": {
     "outputs_hidden": true
    }
   },
   "outputs": [],
   "source": [
    "@jit\n",
    "def assign(a, n):\n",
    "    for i in range(n):\n",
    "        a[i] = i\n",
    "    return a\n",
    "a = assign(a, n)"
   ]
  },
  {
   "cell_type": "code",
   "execution_count": 178,
   "metadata": {
    "collapsed": true,
    "jupyter": {
     "outputs_hidden": true
    },
    "scrolled": true
   },
   "outputs": [
    {
     "name": "stdout",
     "output_type": "stream",
     "text": [
      "32.4 µs ± 724 ns per loop (mean ± std. dev. of 7 runs, 10000 loops each)\n"
     ]
    }
   ],
   "source": [
    "%%timeit\n",
    "a = np.empty(n)\n",
    "assign(a, n)"
   ]
  },
  {
   "cell_type": "code",
   "execution_count": 179,
   "metadata": {
    "collapsed": true,
    "jupyter": {
     "outputs_hidden": true
    }
   },
   "outputs": [],
   "source": [
    "@jit\n",
    "def assign(a, n):\n",
    "    for i in prange(n):\n",
    "        a[i] = i\n",
    "    return a\n",
    "a = assign(a, n)"
   ]
  },
  {
   "cell_type": "code",
   "execution_count": 180,
   "metadata": {
    "collapsed": true,
    "jupyter": {
     "outputs_hidden": true
    }
   },
   "outputs": [
    {
     "name": "stdout",
     "output_type": "stream",
     "text": [
      "32.3 µs ± 797 ns per loop (mean ± std. dev. of 7 runs, 10000 loops each)\n"
     ]
    }
   ],
   "source": [
    "%%timeit\n",
    "a = np.empty(n)\n",
    "assign(a, n)"
   ]
  },
  {
   "cell_type": "code",
   "execution_count": 181,
   "metadata": {
    "collapsed": true,
    "jupyter": {
     "outputs_hidden": true
    }
   },
   "outputs": [],
   "source": [
    "@jit\n",
    "def assign(n):\n",
    "    a = np.empty(n)\n",
    "    for i in prange(n):\n",
    "        a[i] = i\n",
    "    return a\n",
    "a = assign(n)"
   ]
  },
  {
   "cell_type": "code",
   "execution_count": 183,
   "metadata": {
    "collapsed": true,
    "jupyter": {
     "outputs_hidden": true
    }
   },
   "outputs": [
    {
     "name": "stdout",
     "output_type": "stream",
     "text": [
      "54.2 µs ± 7.75 µs per loop (mean ± std. dev. of 7 runs, 10000 loops each)\n"
     ]
    }
   ],
   "source": [
    "%%timeit\n",
    "assign(n)"
   ]
  },
  {
   "cell_type": "markdown",
   "metadata": {},
   "source": [
    "# Performance in Python"
   ]
  },
  {
   "cell_type": "markdown",
   "metadata": {},
   "source": [
    "<img src=\"https://miro.medium.com/max/1830/1*5ZLci3SuR0zM_QlZOADv8Q.jpeg\" width=640 />\n",
    "\n",
    "https://www.bigocheatsheet.com/"
   ]
  },
  {
   "cell_type": "markdown",
   "metadata": {},
   "source": [
    "$$ \\mathcal{O}(N) + \\mathcal{O}(\\log N)  =  \\mathcal{O}(N + \\log N)  =  \\mathcal{O}(N) $$"
   ]
  },
  {
   "cell_type": "markdown",
   "metadata": {},
   "source": [
    "## Intrinsic Object Types"
   ]
  },
  {
   "cell_type": "markdown",
   "metadata": {},
   "source": [
    "## Python Object Complexity\n",
    "https://wiki.python.org/moin/TimeComplexity\n",
    "\n",
    "https://www.ics.uci.edu/~pattis/ICS-33/lectures/complexitypython.txt"
   ]
  },
  {
   "cell_type": "markdown",
   "metadata": {},
   "source": [
    "### Lists"
   ]
  },
  {
   "cell_type": "markdown",
   "metadata": {},
   "source": [
    "| Operation        | Example      | Average Case | Amortized Worst Case | Note                       |\n",
    "|------------------|--------------|--------------|----------------------|----------------------------|\n",
    "| Copy             | l.copy()     | O(n)         | O(n)                 | Same as l[:] which is O(N) |\n",
    "| Append           | l.append(5)  | O(1)         | O(1)                 | |\n",
    "| Pop last         | l.pop()      | O(1)         | O(1)                 | same as l.pop(-1), popping at end |\n",
    "| Pop intermediate | l.pop(n-k)   | O(k)         | O(k)                 | |\n",
    "| Pop first        | l.pop(0)     | O(N)\t     |  O(N)\t            | |\n",
    "| Insert           |              | O(n)         | O(n)                 | |\n",
    "| Get Item         | l[i]         | O(1)         | O(1)                 | |\n",
    "| Set Item         | l[i] = 0     | O(1)         | O(1)                 | |\n",
    "| Delete Item      | del l[i]     | O(n)         | O(n)                 | |\n",
    "| Iteration        | for v in l:  | O(n)         | O(n)                 | |\n",
    "| Get Slice        |              | O(k)         | O(k)                 | |\n",
    "| Del Slice        |              | O(n)         | O(n)                 | |\n",
    "| Set Slice        |              | O(k+n)       | O(k+n)               | |\n",
    "| Slice            | l[a:b]       |              | O(b-a)               | l[1:5]:O(l)/l[:]:O(len(l)-0)=O(N) |\n",
    "| Extend           | l.extend(k)  | O(len(k))    | O(len(k))            | depends only on len of extension |\n",
    "| Sort  \t       | l.sort()     | O(n log n)   | O(n log n)           | key/reverse doesn't change this |\n",
    "| Multiply \t       | `k*l`        | O(nk)        | O(nk)                | `5*l is O(N): len(l)*l is O(N**2)` |\n",
    "| x in s           |              | O(n)         |                      | |\n",
    "| min(s), max(s)   | min(l)/max(l)| O(n)         |                      | |\n",
    "| Get Length       | len(l)       | O(1)         | O(1)                 | |\n",
    "| Reverse\t       | l.reverse()  | O(N)\t     | O(N)\t                | |\n",
    "| Containment      | x `in`/`not in` l |         | O(N)\t                | searches list |\n",
    "| Clear            | l.clear()    | O(1)\t     | similar to l = []    | Deferred garbage collection |\n",
    "| Construction     | list(...)    | O(len(...))  | depends on length of argument\n",
    "| check `==`, `!=` | l1 == l2     | O(N)         |\n",
    "| Insert           | l[a:b] = ... |              | O(N)\t     |\n",
    "| Remove           | l.remove(...)|              | O(N)\t     | "
   ]
  },
  {
   "cell_type": "markdown",
   "metadata": {},
   "source": []
  },
  {
   "cell_type": "markdown",
   "metadata": {},
   "source": [
    "### Sets"
   ]
  },
  {
   "cell_type": "markdown",
   "metadata": {},
   "source": [
    "| Operation                           | Example | Average case          | Worst Case         | notes                                      |\n",
    "|-------------------------------------|---------|-----------------------|--------------------|--------------------------------------------|\n",
    "| Containment                         | x in s  | O(1)                  | O(n)               | compare to list/tuple - O(n)               |\n",
    "| Length                              | len(s)       | | O(1)\t     |\n",
    "| Add           | s.add(5)     | O(1)\t     |\n",
    "| Remove        | s.remove(5)  | O(1)\t     | compare to list/tuple - O(N)\n",
    "| Discard       | s.discard(5) | O(1)\t     | \n",
    "| Pop           | s.pop()      | O(1)\t     | compare to list - O(N)\n",
    "| Clear         | s.clear()    | O(1)\t     | similar to s = set()\n",
    "\n",
    "| Construction  | set(...)     | len(...)      |\n",
    "| check ==, !=  | s != t       | O(min(len(s),lent(t))\n",
    "| <=/<          | s <= t       | O(len(s1))    | issubset\n",
    "| >=/>          | s >= t       | O(len(s2))    | issuperset s <= t == t >= s\n",
    "| Union                               | `s | t`|                        | O(len(s)+len(t))   |                                            |\n",
    "| Intersection                        | `s & t`| O(min(len(s), lent(t)) | O(len(s) * len(t)) | replace \"min\" with \"max\" if t is not a set |\n",
    "| Multiple intersection               | `s1&s2&..&sn` |                 | `(n-1)*O(l)` where l is max(len(s1),..,len(sn)) |               |\n",
    "\n",
    "| Difference    | s - t               |        | O(len(t))              |                    |                                            |\n",
    "| Symmetric Diff| s ^ t               |        | O(len(s))              |       x\n",
    "\n",
    "| Iteration     | for v in s:  | O(N)          |\n",
    "| Copy          | s.copy()     | O(N)\t     |\n",
    "\n",
    "| `s.difference_update(t)`            |         | O(len(t))             |                    |                                            |\n",
    "| `Symmetric Difference s^t`          |         | O(len(s))             | O(len(s) * len(t)) |                                            |\n",
    "| `s.symmetric_difference_update(t)`  |         | O(len(t))             | O(len(t) * len(s)) |                                            |\n",
    " "
   ]
  },
  {
   "cell_type": "markdown",
   "metadata": {},
   "source": [
    "Operation     | Example      | Class         | Notes\n",
    "--------------+--------------+---------------+-------------------------------\n"
   ]
  },
  {
   "cell_type": "markdown",
   "metadata": {},
   "source": [
    "### Dicts"
   ]
  },
  {
   "cell_type": "markdown",
   "metadata": {},
   "source": [
    "| Operation    | Average Case | Amortized Worst Case |\t \n",
    "| -------------|--------------|----------------------| \n",
    "| Copy         | O(n)         | O(n)                 |\n",
    "| Get Item     | O(1)         | O(n)                 |\n",
    "| Set Item     | O(1)         | O(n)                 |\n",
    "| Delete Item  | O(1)         | O(n)                 |\n",
    "| Iteration    | O(n)         | O(n)                 |\n"
   ]
  },
  {
   "cell_type": "markdown",
   "metadata": {},
   "source": [
    "Operation     | Example      | Class         | Notes\n",
    "--------------+--------------+---------------+-------------------------------\n",
    "Index         | d[k]         | O(1)\t     |\n",
    "Store         | d[k] = v     | O(1)\t     |\n",
    "Length        | len(d)       | O(1)\t     |\n",
    "Delete        | del d[k]     | O(1)\t     |\n",
    "get/setdefault| d.get(k)     | O(1)\t     |\n",
    "Pop           | d.pop(k)     | O(1)\t     | \n",
    "Pop item      | d.popitem()  | O(1)\t     | popped item \"randomly\" selected\n",
    "Clear         | d.clear()    | O(1)\t     | similar to s = {} or = dict()\n",
    "View          | d.keys()     | O(1)\t     | same for d.values()\n",
    "\n",
    "Construction  | dict(...)    | O(len(...))   | depends # (key,value) 2-tuples\n",
    "\n",
    "Iteration     | for k in d:  | O(N)          | all forms: keys, values, items\n",
    "\t      \t      \t       \t\t     | Worst: no return/break in loop"
   ]
  },
  {
   "cell_type": "code",
   "execution_count": null,
   "metadata": {
    "collapsed": true,
    "jupyter": {
     "outputs_hidden": true
    }
   },
   "outputs": [],
   "source": []
  },
  {
   "cell_type": "markdown",
   "metadata": {},
   "source": [
    "# Introduction to Parallel Programming in Python"
   ]
  },
  {
   "cell_type": "markdown",
   "metadata": {},
   "source": [
    "| Type            | Python Module      | Switch between | #Processes |\n",
    "|-----------------|--------------------|----------------|------------|\n",
    "| Multi-Threading |$\\texttt{threading}$| OS decides     | 1          |\n",
    "| Asynchronous    |$\\texttt{asyncio}  $| tasks decide   | 1          |\n",
    "| Multi-Processing|$\\texttt{multiprocessing}$| None (Parallel)| Many |\n",
    "| Multi-Nodes     |$\\texttt{dask}$     | None           | Many Nodes |"
   ]
  },
  {
   "cell_type": "markdown",
   "metadata": {},
   "source": [
    "# AsyncIO"
   ]
  },
  {
   "cell_type": "markdown",
   "metadata": {},
   "source": [
    "## How is asynchronous programming different?"
   ]
  },
  {
   "cell_type": "markdown",
   "metadata": {},
   "source": [
    "Synchronous programming:\n",
    "- Every event happens after the previos one: one at a time, one after the other\n",
    "\n",
    "Asynchronous programming:\n",
    "- Return immediately to do other things while waiting for the event to finish\n",
    "- Examples:\n",
    "  - Getting data:\n",
    "    - Steps:\n",
    "      1. formulate request\n",
    "      2. send request\n",
    "      3. wait for reply/data\n",
    "      4. get data\n",
    "    - In synchronous programming, until Step 4 happens, nothing else can be done\n",
    "    - In asynchronous programming, after Step 2, the resources (e.g. Kernel/Processor) can be used for other tasks until data comes\n",
    "      \n"
   ]
  },
  {
   "cell_type": "markdown",
   "metadata": {},
   "source": [
    "## Asynchronous programming in context"
   ]
  },
  {
   "cell_type": "markdown",
   "metadata": {},
   "source": [
    "### Questions to skip:\n",
    "\n",
    "- What is concurrency?\n",
    "- How does it differ from parallelism?"
   ]
  },
  {
   "cell_type": "markdown",
   "metadata": {},
   "source": [
    "Asynchronous programming falls under **concurrent** programming.\n",
    "\n",
    "**concurrency**: multiple operations **able to run** at the same time\n",
    "\n",
    "While variables are not yet assigned values, they are often called \\texttt{Futures}, since their value is assigned in the future. That is, the set of operations that is determining the value have not yet been fully processed."
   ]
  },
  {
   "cell_type": "markdown",
   "metadata": {},
   "source": [
    "Concurrency as the ability to separate into parallel operations, does not imply that they are in fact processed in parallel. That property is called parallelism. The distinction is important, since e.g. a matrix addition might have a high degree of concurrency (each addition could be doen in parallel), but doing all of these actually in parallel is a not efficient or even possible. \n",
    "\n",
    "This means: degree of parallelism $\\leq$ degree of concurrency.\n",
    "\n",
    "**parallelism**: multiple operations **running** at the same time\n"
   ]
  },
  {
   "cell_type": "markdown",
   "metadata": {},
   "source": [
    "### Questions to skip:\n",
    "\n",
    "- What is a thread?\n",
    "- How does it differ from a process?"
   ]
  },
  {
   "cell_type": "markdown",
   "metadata": {},
   "source": [
    "#### Thread\n",
    "\n",
    "thread: \"smallest sequence of programmed instructions that can be managed independently by a scheduler,\" typically as part of the operating system\n",
    "\n",
    "  - there can be multiple threads in a process\n",
    "  - each thread can be executed independently (and possibly in parallel) within the process\n",
    "  - In Python: threading module\n",
    "  - https://realpython.com/intro-to-python-threading/\n"
   ]
  },
  {
   "cell_type": "markdown",
   "metadata": {},
   "source": [
    "#### Process"
   ]
  },
  {
   "cell_type": "markdown",
   "metadata": {},
   "source": [
    "- multiprocessing:\n",
    "  - In Python multiprocessing module"
   ]
  },
  {
   "cell_type": "markdown",
   "metadata": {},
   "source": []
  },
  {
   "cell_type": "code",
   "execution_count": null,
   "metadata": {
    "collapsed": true,
    "jupyter": {
     "outputs_hidden": true
    }
   },
   "outputs": [],
   "source": []
  },
  {
   "cell_type": "code",
   "execution_count": 1,
   "metadata": {
    "collapsed": true,
    "jupyter": {
     "outputs_hidden": true
    }
   },
   "outputs": [],
   "source": [
    "import numpy as np\n",
    "import math"
   ]
  },
  {
   "cell_type": "code",
   "execution_count": 10,
   "metadata": {
    "collapsed": true,
    "jupyter": {
     "outputs_hidden": true
    }
   },
   "outputs": [],
   "source": [
    "def expensive_vec(array):\n",
    "    return np.log10(np.cumsum(np.sqrt(np.cumsum(np.exp2(np.log(np.sqrt(array)))+np.exp(np.log10(np.cbrt(array))))))/np.exp(np.log10(np.cbrt(array))))"
   ]
  },
  {
   "cell_type": "code",
   "execution_count": 3,
   "metadata": {
    "collapsed": true,
    "jupyter": {
     "outputs_hidden": true
    }
   },
   "outputs": [],
   "source": [
    "d1 = [np.random.random()*1000000 for _ in range(1000000)]"
   ]
  },
  {
   "cell_type": "code",
   "execution_count": 11,
   "metadata": {
    "collapsed": true,
    "jupyter": {
     "outputs_hidden": true
    }
   },
   "outputs": [
    {
     "name": "stdout",
     "output_type": "stream",
     "text": [
      "370 ms ± 9.44 ms per loop (mean ± std. dev. of 7 runs, 1 loop each)\n"
     ]
    }
   ],
   "source": [
    "%%timeit\n",
    "expensive_vec(d1)"
   ]
  },
  {
   "cell_type": "markdown",
   "metadata": {},
   "source": [
    "#### Numba"
   ]
  },
  {
   "cell_type": "code",
   "execution_count": 12,
   "metadata": {
    "collapsed": true,
    "jupyter": {
     "outputs_hidden": true
    }
   },
   "outputs": [],
   "source": [
    "from numba import jit"
   ]
  },
  {
   "cell_type": "code",
   "execution_count": 13,
   "metadata": {
    "collapsed": true,
    "jupyter": {
     "outputs_hidden": true
    }
   },
   "outputs": [
    {
     "name": "stderr",
     "output_type": "stream",
     "text": [
      "<ipython-input-13-2bfe3bca8ee5>:1: NumbaWarning: \u001b[1m\n",
      "Compilation is falling back to object mode WITH looplifting enabled because Function \"expensive_vec_nb\" failed type inference due to: \u001b[1m\u001b[1m\u001b[1mInvalid use of Function(<ufunc 'sqrt'>) with argument(s) of type(s): (reflected list(float64))\n",
      " * parameterized\n",
      "\u001b[1mIn definition 0:\u001b[0m\n",
      "\u001b[1m    TypingError: \u001b[1mcan't resolve ufunc sqrt for types (reflected list(float64),)\u001b[0m\u001b[0m\n",
      "    raised from C:\\Users\\rgrei\\Anaconda3\\lib\\site-packages\\numba\\typing\\npydecl.py:109\n",
      "\u001b[1mIn definition 1:\u001b[0m\n",
      "\u001b[1m    TypingError: \u001b[1mcan't resolve ufunc sqrt for types (reflected list(float64),)\u001b[0m\u001b[0m\n",
      "    raised from C:\\Users\\rgrei\\Anaconda3\\lib\\site-packages\\numba\\typing\\npydecl.py:109\n",
      "\u001b[1mThis error is usually caused by passing an argument of a type that is unsupported by the named function.\u001b[0m\u001b[0m\n",
      "\u001b[0m\u001b[1m[1] During: resolving callee type: Function(<ufunc 'sqrt'>)\u001b[0m\n",
      "\u001b[0m\u001b[1m[2] During: typing of call at <ipython-input-13-2bfe3bca8ee5> (3)\n",
      "\u001b[0m\n",
      "\u001b[1m\n",
      "File \"<ipython-input-13-2bfe3bca8ee5>\", line 3:\u001b[0m\n",
      "\u001b[1mdef expensive_vec_nb(array):\n",
      "\u001b[1m    return np.log10(np.cumsum(np.sqrt(np.cumsum(np.exp2(np.log(np.sqrt(array)))+np.exp(np.log10(np.cbrt(array))))))/np.exp(np.log10(np.cbrt(array))))\n",
      "\u001b[0m    \u001b[1m^\u001b[0m\u001b[0m\n",
      "\u001b[0m\n",
      "  @jit\n",
      "C:\\Users\\rgrei\\Anaconda3\\lib\\site-packages\\numba\\object_mode_passes.py:178: NumbaWarning: \u001b[1mFunction \"expensive_vec_nb\" was compiled in object mode without forceobj=True.\n",
      "\u001b[1m\n",
      "File \"<ipython-input-13-2bfe3bca8ee5>\", line 2:\u001b[0m\n",
      "\u001b[1m@jit\n",
      "\u001b[1mdef expensive_vec_nb(array):\n",
      "\u001b[0m\u001b[1m^\u001b[0m\u001b[0m\n",
      "\u001b[0m\n",
      "  state.func_ir.loc))\n",
      "C:\\Users\\rgrei\\Anaconda3\\lib\\site-packages\\numba\\object_mode_passes.py:187: NumbaDeprecationWarning: \u001b[1m\n",
      "Fall-back from the nopython compilation path to the object mode compilation path has been detected, this is deprecated behaviour.\n",
      "\n",
      "For more information visit http://numba.pydata.org/numba-doc/latest/reference/deprecation.html#deprecation-of-object-mode-fall-back-behaviour-when-using-jit\n",
      "\u001b[1m\n",
      "File \"<ipython-input-13-2bfe3bca8ee5>\", line 2:\u001b[0m\n",
      "\u001b[1m@jit\n",
      "\u001b[1mdef expensive_vec_nb(array):\n",
      "\u001b[0m\u001b[1m^\u001b[0m\u001b[0m\n",
      "\u001b[0m\n",
      "  warnings.warn(errors.NumbaDeprecationWarning(msg, state.func_ir.loc))\n"
     ]
    }
   ],
   "source": [
    "@jit\n",
    "def expensive_vec_nb(array):\n",
    "    return np.log10(np.cumsum(np.sqrt(np.cumsum(np.exp2(np.log(np.sqrt(array)))+np.exp(np.log10(np.cbrt(array))))))/np.exp(np.log10(np.cbrt(array))))\n",
    "_ = expensive_vec_nb(d1)"
   ]
  },
  {
   "cell_type": "code",
   "execution_count": null,
   "metadata": {
    "collapsed": true,
    "jupyter": {
     "outputs_hidden": true
    }
   },
   "outputs": [],
   "source": [
    "%%timeit\n",
    "expensive_compute_np(d1)"
   ]
  },
  {
   "cell_type": "markdown",
   "metadata": {},
   "source": [
    "#### Multi-Threading"
   ]
  },
  {
   "cell_type": "code",
   "execution_count": 1,
   "metadata": {
    "collapsed": true,
    "jupyter": {
     "outputs_hidden": true
    }
   },
   "outputs": [],
   "source": [
    "import threading"
   ]
  },
  {
   "cell_type": "markdown",
   "metadata": {},
   "source": [
    "#### Multi-Processing"
   ]
  },
  {
   "cell_type": "code",
   "execution_count": 15,
   "metadata": {
    "collapsed": true,
    "jupyter": {
     "outputs_hidden": true
    }
   },
   "outputs": [],
   "source": [
    "from multiprocessing import Pool"
   ]
  },
  {
   "cell_type": "code",
   "execution_count": null,
   "metadata": {
    "collapsed": true,
    "jupyter": {
     "outputs_hidden": true
    }
   },
   "outputs": [],
   "source": [
    "with Pool(5) as p:\n",
    "    _ = p.map(expensive_vec, d1)"
   ]
  },
  {
   "cell_type": "code",
   "execution_count": null,
   "metadata": {
    "collapsed": true,
    "jupyter": {
     "outputs_hidden": true
    }
   },
   "outputs": [],
   "source": []
  },
  {
   "cell_type": "markdown",
   "metadata": {},
   "source": [
    "#### Dask"
   ]
  },
  {
   "cell_type": "code",
   "execution_count": 3,
   "metadata": {
    "collapsed": true,
    "jupyter": {
     "outputs_hidden": true
    }
   },
   "outputs": [],
   "source": [
    "from dask import Client"
   ]
  },
  {
   "cell_type": "code",
   "execution_count": null,
   "metadata": {
    "collapsed": true,
    "jupyter": {
     "outputs_hidden": true
    }
   },
   "outputs": [],
   "source": [
    "from dask.distributed import Client"
   ]
  },
  {
   "cell_type": "markdown",
   "metadata": {},
   "source": [
    "##### All do the same"
   ]
  },
  {
   "cell_type": "code",
   "execution_count": null,
   "metadata": {
    "collapsed": true,
    "jupyter": {
     "outputs_hidden": true
    }
   },
   "outputs": [],
   "source": [
    "n_bootstraps = 11\n",
    "client = Client(processes=n_bootstraps,\n",
    "                threads_per_worker=4,\n",
    "                n_workers=n_bootstraps,\n",
    "                memory_limit='{}GB'.format(int(n_bootstraps*4)))"
   ]
  },
  {
   "cell_type": "code",
   "execution_count": null,
   "metadata": {
    "collapsed": true,
    "jupyter": {
     "outputs_hidden": true
    }
   },
   "outputs": [],
   "source": [
    "#with parallel_backend('dask'):\n",
    "def proc(i):\n",
    "    # Your normal scikit-learn code here\n",
    "    from astroML.correlation import two_point_angular\n",
    "    if i > 0:\n",
    "        sample = np.sort(np.random.randint(0, len(x_dat), len(x_dat)))\n",
    "    else:\n",
    "        sample = range(len(x_dat))\n",
    "    x_sample = x_dat[sample]\n",
    "    y_sample = y_dat[sample]\n",
    "    bins = 10 ** np.linspace(np.log10(1/50000.), np.log10(0.5), 300)\n",
    "    bin_centers = 0.5 * (bins[1:] + bins[:-1])\n",
    "    res = two_point_angular(x_sample, y_sample, bins=bins, method='landy-szalay')\n",
    "    return res"
   ]
  },
  {
   "cell_type": "code",
   "execution_count": null,
   "metadata": {
    "collapsed": true,
    "jupyter": {
     "outputs_hidden": true
    }
   },
   "outputs": [],
   "source": [
    "futures = client.map(proc, range(n_bootstraps))"
   ]
  },
  {
   "cell_type": "code",
   "execution_count": null,
   "metadata": {
    "collapsed": true,
    "jupyter": {
     "outputs_hidden": true
    }
   },
   "outputs": [],
   "source": [
    "bootstrap_results = np.array([fut.result() for fut in futures])"
   ]
  },
  {
   "cell_type": "code",
   "execution_count": null,
   "metadata": {
    "collapsed": true,
    "jupyter": {
     "outputs_hidden": true
    }
   },
   "outputs": [],
   "source": [
    "client.cancel(futures)\n",
    "client.close()"
   ]
  },
  {
   "cell_type": "markdown",
   "metadata": {},
   "source": [
    "##### Split workload across"
   ]
  },
  {
   "cell_type": "code",
   "execution_count": null,
   "metadata": {
    "collapsed": true,
    "jupyter": {
     "outputs_hidden": true
    }
   },
   "outputs": [],
   "source": []
  },
  {
   "cell_type": "code",
   "execution_count": null,
   "metadata": {},
   "outputs": [],
   "source": []
  },
  {
   "cell_type": "markdown",
   "metadata": {},
   "source": [
    "# Pointers in Python"
   ]
  },
  {
   "cell_type": "markdown",
   "metadata": {},
   "source": [
    "## Pass by Value vs Pass by Reference"
   ]
  },
  {
   "cell_type": "code",
   "execution_count": null,
   "metadata": {},
   "outputs": [],
   "source": [
    "DEFAULTS = {\"mode\": \"NUMPY\", \"step_size\": 1e-3, \"steps\": 1e4, \"grid_size\": 128, \"k0\": 0.15, \"N\": 3, \"nu\": 1e-6, \"c1\": 1, \"kappa\": 1, \"arakawa_coeff\": 1, \"out\": \"\", \"in\": \"\", \"snaps\": 1000, \"seed\": None}\n",
    "def get_params(in_path):\n",
    "    parameters = DEFAULTS\n",
    "    context = json.load(open(f\"{in_path}/src/context.json\", \"r\"))\n",
    "    for key, value in context.items():\n",
    "        parameters[key] = value\n",
    "    parameters['sim_number'] = int(in_path.split('_')[-1])\n",
    "    return parameters\n",
    "\n",
    "sim_directory = [get_params(f\"/ptmp/rccg/sim_{sim:06}\") for sim in sim_nums]\n",
    "print(len(np.unique(sim_nums)))\n",
    "print(len(np.unique([sim['sim_number'] for sim in sim_directory])))"
   ]
  },
  {
   "cell_type": "code",
   "execution_count": null,
   "metadata": {},
   "outputs": [],
   "source": [
    "DEFAULTS = {\"mode\": \"NUMPY\", \"step_size\": 1e-3, \"steps\": 1e4, \"grid_size\": 128, \"k0\": 0.15, \"N\": 3, \"nu\": 1e-6, \"c1\": 1, \"kappa\": 1, \"arakawa_coeff\": 1, \"out\": \"\", \"in\": \"\", \"snaps\": 1000, \"seed\": None}\n",
    "def get_params(in_path):\n",
    "    parameters = DEFAULTS.copy()\n",
    "    context = json.load(open(f\"{in_path}/src/context.json\", \"r\"))\n",
    "    for key, value in context.items():\n",
    "        parameters[key] = value\n",
    "    parameters['sim_number'] = int(in_path.split('_')[-1])\n",
    "    return parameters\n",
    "\n",
    "sim_directory = [get_params(f\"/ptmp/rccg/sim_{sim:06}\") for sim in sim_nums]\n",
    "print(len(np.unique(sim_nums)))\n",
    "print(len(np.unique([sim['sim_number'] for sim in sim_directory])))"
   ]
  },
  {
   "cell_type": "code",
   "execution_count": null,
   "metadata": {},
   "outputs": [],
   "source": []
  },
  {
   "cell_type": "code",
   "execution_count": null,
   "metadata": {},
   "outputs": [],
   "source": []
  },
  {
   "cell_type": "code",
   "execution_count": null,
   "metadata": {},
   "outputs": [],
   "source": []
  }
 ],
 "metadata": {
  "kernelspec": {
   "display_name": "Python 3",
   "language": "python",
   "name": "python3"
  },
  "language_info": {
   "codemirror_mode": {
    "name": "ipython",
    "version": 3
   },
   "file_extension": ".py",
   "mimetype": "text/x-python",
   "name": "python",
   "nbconvert_exporter": "python",
   "pygments_lexer": "ipython3",
   "version": "3.7.7"
  }
 },
 "nbformat": 4,
 "nbformat_minor": 4
}
